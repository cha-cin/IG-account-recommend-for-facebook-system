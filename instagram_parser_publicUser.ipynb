{
 "cells": [
  {
   "cell_type": "code",
   "execution_count": 2,
   "metadata": {},
   "outputs": [],
   "source": [
    "from selenium import webdriver\n",
    "from bs4 import BeautifulSoup as bs\n",
    "import time\n",
    "import requests\n",
    "import getpass\n",
    "import re\n",
    "from urllib.request import urlopen\n",
    "import json\n",
    "import pdb\n",
    "from pandas.io.json import json_normalize\n",
    "import pandas as pd, numpy as np"
   ]
  },
  {
   "cell_type": "code",
   "execution_count": null,
   "metadata": {},
   "outputs": [],
   "source": []
  },
  {
   "cell_type": "code",
   "execution_count": 10,
   "metadata": {},
   "outputs": [
    {
     "name": "stdout",
     "output_type": "stream",
     "text": [
      "https://www.instagram.com/qun.b_1225/\n"
     ]
    }
   ],
   "source": [
    "username = 'qun.b_1225'\n",
    "\n",
    "base_url = 'https://www.instagram.com'\n",
    "browser = webdriver.Chrome('chromedriver')\n",
    "browser.implicitly_wait(3)\n",
    "browser.get('https://www.instagram.com/'+username+'/?hl=en')\n",
    "body = browser.page_source\n",
    "data=bs(body, 'html.parser')\n",
    "user = base_url+data.find('a', class_=\"_9VEo1 T-jvg\").get('href')\n",
    "print(user)"
   ]
  },
  {
   "cell_type": "code",
   "execution_count": 11,
   "metadata": {},
   "outputs": [],
   "source": [
    "for i in range(1,20):\n",
    "    browser.execute_script('window.scrollTo(0,document.body.scrollHeight);')\n",
    "    time.sleep(1)\n",
    "soup = bs(browser.page_source, \"html.parser\")"
   ]
  },
  {
   "cell_type": "code",
   "execution_count": 17,
   "metadata": {},
   "outputs": [
    {
     "name": "stdout",
     "output_type": "stream",
     "text": [
      "https://www.instagram.com/p/mhKcpxzaB8/\n",
      "https://www.instagram.com/p/mYFE7LzaL8/\n",
      "https://www.instagram.com/p/mQInblTaI8/\n",
      "https://www.instagram.com/p/mJ9tgNzaM0/\n",
      "https://www.instagram.com/p/mFbZZmTaIY/\n",
      "https://www.instagram.com/p/l9VVVITaJX/\n",
      "https://www.instagram.com/p/lmmefQTaP5/\n",
      "https://www.instagram.com/p/lhgI25TaMo/\n",
      "https://www.instagram.com/p/lcQ8BFzaBD/\n",
      "https://www.instagram.com/p/lKq3svzaL5/\n",
      "https://www.instagram.com/p/k_AbqlTaId/\n",
      "https://www.instagram.com/p/k6hlzYzaMx/\n",
      "https://www.instagram.com/p/kZK5UNTaI9/\n",
      "https://www.instagram.com/p/kWAZc6zaKo/\n",
      "https://www.instagram.com/p/kCq8JzzaCZ/\n",
      "https://www.instagram.com/p/jRLSjxzaNq/\n",
      "https://www.instagram.com/p/i8KHBfzaO9/\n",
      "https://www.instagram.com/p/i3l47tzaAo/\n",
      "https://www.instagram.com/p/ioHoo9TaOh/\n",
      "https://www.instagram.com/p/ibdu-PTaE_/\n",
      "https://www.instagram.com/p/h3R_BLzaFo/\n",
      "https://www.instagram.com/p/hlnui2zaFX/\n",
      "https://www.instagram.com/p/hXaKZgTaCq/\n",
      "https://www.instagram.com/p/g8iKWBzaLi/\n",
      "https://www.instagram.com/p/gvnEdeTaBa/\n",
      "https://www.instagram.com/p/gC6HHezaGp/\n",
      "https://www.instagram.com/p/fpyKRvTaDy/\n",
      "https://www.instagram.com/p/fX_dFZTaMq/\n",
      "'NoneType' object has no attribute 'get'\n",
      "'NoneType' object has no attribute 'get'\n"
     ]
    }
   ],
   "source": [
    "index_url = []\n",
    "body = soup.find('body')\n",
    "type(body)\n",
    "artical_row = body.find_all('div', class_=\"Nnq7C weEfm\")\n",
    "for i in artical_row:\n",
    "    for j in i:\n",
    "        try:\n",
    "            print(\"https://www.instagram.com\"+j.find('a').get('href'))\n",
    "        except Exception as e: print(e)\n",
    "        "
   ]
  },
  {
   "cell_type": "code",
   "execution_count": null,
   "metadata": {},
   "outputs": [],
   "source": []
  }
 ],
 "metadata": {
  "kernelspec": {
   "display_name": "Python 3",
   "language": "python",
   "name": "python3"
  },
  "language_info": {
   "codemirror_mode": {
    "name": "ipython",
    "version": 3
   },
   "file_extension": ".py",
   "mimetype": "text/x-python",
   "name": "python",
   "nbconvert_exporter": "python",
   "pygments_lexer": "ipython3",
   "version": "3.7.4"
  }
 },
 "nbformat": 4,
 "nbformat_minor": 4
}
