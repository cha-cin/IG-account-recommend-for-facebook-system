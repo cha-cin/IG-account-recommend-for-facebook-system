{
 "cells": [
  {
   "cell_type": "code",
   "execution_count": null,
   "metadata": {},
   "outputs": [],
   "source": [
    "# import import_ipynb\n",
    "# import IG_account_recommend_for_facebook_system2\n",
    "import pandas as pd\n",
    "import numpy as np\n",
    "import glob\n",
    "import time"
   ]
  },
  {
   "cell_type": "code",
   "execution_count": null,
   "metadata": {},
   "outputs": [],
   "source": [
    "path = r'C:\\Users\\ylclab\\Documents\\畢業論文\\Code\\experiment data' # facebook data path\n",
    "ig_path = r'C:\\Users\\ylclab\\Documents\\畢業論文\\Code\\instagram account' #instagram data path\n",
    "all_files = glob.glob(path + \"/*.csv\")\n",
    "all_ig_files = glob.glob(ig_path + \"/*.csv\")\n",
    "\n",
    "li = {}\n",
    "# count = 0\n",
    "df = pd.DataFrame(columns=['fb_name', 'ig_account', 'all_score'])\n",
    "for filename in all_files:\n",
    "    for ig_filename in all_ig_files:\n",
    "        print(\"%s , %s\" % ((filename.split(\"\\\\\")[7]).split('.')[0],(ig_filename.split(\"\\\\\")[7]).split('.')[0]))\n",
    "        oringnal_df = pd.read_csv(filename, index_col=None, header=0, engine='python')\n",
    "        oringnal_ig_df = pd.read_csv(ig_filename, index_col=None, header=0,  engine='python')\n",
    "        %run IG_account_recommend_for_facebook_system.ipynb\n",
    "        time.sleep(5)\n",
    "        s_2 = pd.Series({'fb_name':(filename.split(\"\\\\\")[7]).split('.')[0], 'ig_account':(ig_filename.split(\"\\\\\")[7]).split('.')[0], 'all_score':all_score})\n",
    "        df = df.append(s_2, ignore_index=True)\n",
    "        print(\"------------------------------------------------------------------------------------------------\")\n",
    "        time.sleep(2)"
   ]
  },
  {
   "cell_type": "code",
   "execution_count": null,
   "metadata": {},
   "outputs": [],
   "source": [
    "df"
   ]
  },
  {
   "cell_type": "code",
   "execution_count": null,
   "metadata": {},
   "outputs": [],
   "source": [
    "#生成csv文件\n",
    "df.to_csv(r'./userRecommendation_score.csv',index=True,sep=',', encoding='utf_8_sig')"
   ]
  },
  {
   "cell_type": "code",
   "execution_count": null,
   "metadata": {},
   "outputs": [],
   "source": [
    " "
   ]
  },
  {
   "cell_type": "code",
   "execution_count": null,
   "metadata": {},
   "outputs": [],
   "source": []
  },
  {
   "cell_type": "code",
   "execution_count": null,
   "metadata": {},
   "outputs": [],
   "source": []
  }
 ],
 "metadata": {
  "kernelspec": {
   "display_name": "Python 3",
   "language": "python",
   "name": "python3"
  },
  "language_info": {
   "codemirror_mode": {
    "name": "ipython",
    "version": 3
   },
   "file_extension": ".py",
   "mimetype": "text/x-python",
   "name": "python",
   "nbconvert_exporter": "python",
   "pygments_lexer": "ipython3",
   "version": "3.7.4"
  }
 },
 "nbformat": 4,
 "nbformat_minor": 4
}
