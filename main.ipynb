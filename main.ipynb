{
 "cells": [
  {
   "cell_type": "code",
   "execution_count": null,
   "metadata": {},
   "outputs": [],
   "source": [
    "# import import_ipynb\n",
    "# import IG_account_recommend_for_facebook_system2\n",
    "import pandas as pd\n",
    "import numpy as np\n",
    "import glob\n",
    "import time"
   ]
  },
  {
   "cell_type": "code",
   "execution_count": 44,
   "metadata": {},
   "outputs": [
    {
     "name": "stdout",
     "output_type": "stream",
     "text": [
      "李昱慶 , 10_hana\n",
      "Prm :  0.8532\n",
      "Pop :  0.2333661161130925\n",
      "Act :  0.35774058577405854\n"
     ]
    },
    {
     "name": "stderr",
     "output_type": "stream",
     "text": [
      "IG_account_recommend_for_facebook_system.ipynb:8: SettingWithCopyWarning: \n",
      "A value is trying to be set on a copy of a slice from a DataFrame\n",
      "\n",
      "See the caveats in the documentation: http://pandas.pydata.org/pandas-docs/stable/user_guide/indexing.html#returning-a-view-versus-a-copy\n",
      "  ]\n"
     ]
    },
    {
     "name": "stdout",
     "output_type": "stream",
     "text": [
      "Pic :  0.0\n",
      "all_score  1.444306701887151\n",
      "------------------------------------------------------------------------------------------------\n",
      "李昱慶 , 11_hsin0126\n",
      "Prm :  0.7784\n",
      "Pop :  0.3987955415013022\n",
      "Act :  0.39254686785550985\n"
     ]
    },
    {
     "name": "stderr",
     "output_type": "stream",
     "text": [
      "IG_account_recommend_for_facebook_system.ipynb:8: SettingWithCopyWarning: \n",
      "A value is trying to be set on a copy of a slice from a DataFrame\n",
      "\n",
      "See the caveats in the documentation: http://pandas.pydata.org/pandas-docs/stable/user_guide/indexing.html#returning-a-view-versus-a-copy\n",
      "  ]\n"
     ]
    },
    {
     "name": "stdout",
     "output_type": "stream",
     "text": [
      "Pic :  0.0\n",
      "all_score  1.5697424093568122\n",
      "------------------------------------------------------------------------------------------------\n",
      "李昱慶 , 12_tsaigray2018\n",
      "Prm :  0.7544\n",
      "Pop :  0.20032858773586187\n",
      "Act :  0.25428963623884693\n"
     ]
    },
    {
     "name": "stderr",
     "output_type": "stream",
     "text": [
      "IG_account_recommend_for_facebook_system.ipynb:8: SettingWithCopyWarning: \n",
      "A value is trying to be set on a copy of a slice from a DataFrame\n",
      "\n",
      "See the caveats in the documentation: http://pandas.pydata.org/pandas-docs/stable/user_guide/indexing.html#returning-a-view-versus-a-copy\n",
      "  ]\n"
     ]
    },
    {
     "name": "stdout",
     "output_type": "stream",
     "text": [
      "Pic :  0.0\n",
      "all_score  1.2090182239747087\n",
      "------------------------------------------------------------------------------------------------\n",
      "李昱慶 , 13_snowzaicat\n",
      "Prm :  0.6982\n",
      "Pop :  0.2354613794645548\n",
      "Act :  0.4876543209876543\n"
     ]
    },
    {
     "name": "stderr",
     "output_type": "stream",
     "text": [
      "IG_account_recommend_for_facebook_system.ipynb:8: SettingWithCopyWarning: \n",
      "A value is trying to be set on a copy of a slice from a DataFrame\n",
      "\n",
      "See the caveats in the documentation: http://pandas.pydata.org/pandas-docs/stable/user_guide/indexing.html#returning-a-view-versus-a-copy\n",
      "  ]\n"
     ]
    },
    {
     "name": "stdout",
     "output_type": "stream",
     "text": [
      "Pic :  0.0\n",
      "all_score  1.4213157004522092\n",
      "------------------------------------------------------------------------------------------------\n",
      "李昱慶 , 14_jc\n",
      "Prm :  0.9323\n",
      "division by zero\n",
      "Pop :  0.2700230942670378\n",
      "Act :  0.36518046709129515\n"
     ]
    },
    {
     "name": "stderr",
     "output_type": "stream",
     "text": [
      "IG_account_recommend_for_facebook_system.ipynb:8: SettingWithCopyWarning: \n",
      "A value is trying to be set on a copy of a slice from a DataFrame\n",
      "\n",
      "See the caveats in the documentation: http://pandas.pydata.org/pandas-docs/stable/user_guide/indexing.html#returning-a-view-versus-a-copy\n",
      "  ]\n"
     ]
    },
    {
     "name": "stdout",
     "output_type": "stream",
     "text": [
      "Pic :  0.0\n",
      "all_score  1.567503561358333\n",
      "------------------------------------------------------------------------------------------------\n",
      "李昱慶 , 15_doctorkowj\n",
      "Prm :  0.7245\n",
      "Pop :  0.21237029089323012\n",
      "Act :  0.2558441558441558\n"
     ]
    },
    {
     "name": "stderr",
     "output_type": "stream",
     "text": [
      "IG_account_recommend_for_facebook_system.ipynb:8: SettingWithCopyWarning: \n",
      "A value is trying to be set on a copy of a slice from a DataFrame\n",
      "\n",
      "See the caveats in the documentation: http://pandas.pydata.org/pandas-docs/stable/user_guide/indexing.html#returning-a-view-versus-a-copy\n",
      "  ]\n"
     ]
    },
    {
     "name": "stdout",
     "output_type": "stream",
     "text": [
      "Pic :  0.0\n",
      "all_score  1.192714446737386\n",
      "------------------------------------------------------------------------------------------------\n",
      "李昱慶 , 16_jaychou\n"
     ]
    },
    {
     "ename": "KeyError",
     "evalue": "['post content']",
     "output_type": "error",
     "traceback": [
      "\u001b[1;31m---------------------------------------------------------------------------\u001b[0m",
      "\u001b[1;31mKeyError\u001b[0m                                  Traceback (most recent call last)",
      "\u001b[1;32m~\\Documents\\畢業論文\\Code\\IG_account_recommend_for_facebook_system.ipynb\u001b[0m in \u001b[0;36m<module>\u001b[1;34m\u001b[0m\n\u001b[0;32m      1\u001b[0m \u001b[1;31m#去除空值row\u001b[0m\u001b[1;33m\u001b[0m\u001b[1;33m\u001b[0m\u001b[1;33m\u001b[0m\u001b[0m\n\u001b[0;32m      2\u001b[0m \u001b[0moringnal_df\u001b[0m \u001b[1;33m=\u001b[0m \u001b[0moringnal_df\u001b[0m\u001b[1;33m.\u001b[0m\u001b[0mdropna\u001b[0m\u001b[1;33m(\u001b[0m\u001b[0msubset\u001b[0m\u001b[1;33m=\u001b[0m\u001b[1;33m[\u001b[0m\u001b[1;34m\"message\"\u001b[0m\u001b[1;33m]\u001b[0m\u001b[1;33m)\u001b[0m\u001b[1;33m\u001b[0m\u001b[1;33m\u001b[0m\u001b[0m\n\u001b[1;32m----> 3\u001b[1;33m \u001b[0moringnal_ig_df\u001b[0m \u001b[1;33m=\u001b[0m \u001b[0moringnal_ig_df\u001b[0m\u001b[1;33m.\u001b[0m\u001b[0mdropna\u001b[0m\u001b[1;33m(\u001b[0m\u001b[0msubset\u001b[0m\u001b[1;33m=\u001b[0m\u001b[1;33m[\u001b[0m\u001b[1;34m\"post content\"\u001b[0m\u001b[1;33m]\u001b[0m\u001b[1;33m)\u001b[0m\u001b[1;33m\u001b[0m\u001b[1;33m\u001b[0m\u001b[0m\n\u001b[0m\u001b[0;32m      4\u001b[0m \u001b[0moringnal_df\u001b[0m\u001b[1;33m[\u001b[0m\u001b[1;34m'new'\u001b[0m\u001b[1;33m]\u001b[0m \u001b[1;33m=\u001b[0m \u001b[1;34m\"NEW\"\u001b[0m\u001b[1;33m\u001b[0m\u001b[1;33m\u001b[0m\u001b[0m\n\u001b[0;32m      5\u001b[0m \u001b[0moringnal_ig_df\u001b[0m\u001b[1;33m[\u001b[0m\u001b[1;34m'new content'\u001b[0m\u001b[1;33m]\u001b[0m \u001b[1;33m=\u001b[0m \u001b[1;34m\"None\"\u001b[0m\u001b[1;33m\u001b[0m\u001b[1;33m\u001b[0m\u001b[0m\n",
      "\u001b[1;32m~\\Anaconda3\\lib\\site-packages\\pandas\\core\\frame.py\u001b[0m in \u001b[0;36mdropna\u001b[1;34m(self, axis, how, thresh, subset, inplace)\u001b[0m\n\u001b[0;32m   4842\u001b[0m                 \u001b[0mcheck\u001b[0m \u001b[1;33m=\u001b[0m \u001b[0mindices\u001b[0m \u001b[1;33m==\u001b[0m \u001b[1;33m-\u001b[0m\u001b[1;36m1\u001b[0m\u001b[1;33m\u001b[0m\u001b[1;33m\u001b[0m\u001b[0m\n\u001b[0;32m   4843\u001b[0m                 \u001b[1;32mif\u001b[0m \u001b[0mcheck\u001b[0m\u001b[1;33m.\u001b[0m\u001b[0many\u001b[0m\u001b[1;33m(\u001b[0m\u001b[1;33m)\u001b[0m\u001b[1;33m:\u001b[0m\u001b[1;33m\u001b[0m\u001b[1;33m\u001b[0m\u001b[0m\n\u001b[1;32m-> 4844\u001b[1;33m                     \u001b[1;32mraise\u001b[0m \u001b[0mKeyError\u001b[0m\u001b[1;33m(\u001b[0m\u001b[0mlist\u001b[0m\u001b[1;33m(\u001b[0m\u001b[0mnp\u001b[0m\u001b[1;33m.\u001b[0m\u001b[0mcompress\u001b[0m\u001b[1;33m(\u001b[0m\u001b[0mcheck\u001b[0m\u001b[1;33m,\u001b[0m \u001b[0msubset\u001b[0m\u001b[1;33m)\u001b[0m\u001b[1;33m)\u001b[0m\u001b[1;33m)\u001b[0m\u001b[1;33m\u001b[0m\u001b[1;33m\u001b[0m\u001b[0m\n\u001b[0m\u001b[0;32m   4845\u001b[0m                 \u001b[0magg_obj\u001b[0m \u001b[1;33m=\u001b[0m \u001b[0mself\u001b[0m\u001b[1;33m.\u001b[0m\u001b[0mtake\u001b[0m\u001b[1;33m(\u001b[0m\u001b[0mindices\u001b[0m\u001b[1;33m,\u001b[0m \u001b[0maxis\u001b[0m\u001b[1;33m=\u001b[0m\u001b[0magg_axis\u001b[0m\u001b[1;33m)\u001b[0m\u001b[1;33m\u001b[0m\u001b[1;33m\u001b[0m\u001b[0m\n\u001b[0;32m   4846\u001b[0m \u001b[1;33m\u001b[0m\u001b[0m\n",
      "\u001b[1;31mKeyError\u001b[0m: ['post content']"
     ]
    },
    {
     "name": "stdout",
     "output_type": "stream",
     "text": [
      "------------------------------------------------------------------------------------------------\n",
      "李昱慶 , 17_sunnygirl800424\n",
      "Prm :  0.7365\n",
      "Pop :  0.2070419734310779\n",
      "Act :  0.45338774597495524\n"
     ]
    },
    {
     "name": "stderr",
     "output_type": "stream",
     "text": [
      "IG_account_recommend_for_facebook_system.ipynb:8: SettingWithCopyWarning: \n",
      "A value is trying to be set on a copy of a slice from a DataFrame\n",
      "\n",
      "See the caveats in the documentation: http://pandas.pydata.org/pandas-docs/stable/user_guide/indexing.html#returning-a-view-versus-a-copy\n",
      "  ]\n"
     ]
    },
    {
     "name": "stdout",
     "output_type": "stream",
     "text": [
      "Pic :  0.04545454545454545\n",
      "all_score  1.4423842648605785\n",
      "------------------------------------------------------------------------------------------------\n",
      "李昱慶 , 18_poptour_mag\n",
      "Prm :  0.805\n",
      "Pop :  0.21511283393660324\n",
      "Act :  0.40826226012793176\n"
     ]
    },
    {
     "name": "stderr",
     "output_type": "stream",
     "text": [
      "IG_account_recommend_for_facebook_system.ipynb:8: SettingWithCopyWarning: \n",
      "A value is trying to be set on a copy of a slice from a DataFrame\n",
      "\n",
      "See the caveats in the documentation: http://pandas.pydata.org/pandas-docs/stable/user_guide/indexing.html#returning-a-view-versus-a-copy\n",
      "  ]\n"
     ]
    },
    {
     "name": "stdout",
     "output_type": "stream",
     "text": [
      "Pic :  0.0\n",
      "all_score  1.428375094064535\n",
      "------------------------------------------------------------------------------------------------\n",
      "李昱慶 , 19_bpintaiwan\n",
      "Prm :  0.6842\n",
      "division by zero\n",
      "division by zero\n",
      "division by zero\n",
      "division by zero\n",
      "Pop :  0.228100519271715\n",
      "Act :  0.40111490653762216\n"
     ]
    },
    {
     "name": "stderr",
     "output_type": "stream",
     "text": [
      "IG_account_recommend_for_facebook_system.ipynb:8: SettingWithCopyWarning: \n",
      "A value is trying to be set on a copy of a slice from a DataFrame\n",
      "\n",
      "See the caveats in the documentation: http://pandas.pydata.org/pandas-docs/stable/user_guide/indexing.html#returning-a-view-versus-a-copy\n",
      "  ]\n"
     ]
    },
    {
     "name": "stdout",
     "output_type": "stream",
     "text": [
      "Pic :  0.10139591560458278\n",
      "all_score  1.41481134141392\n",
      "------------------------------------------------------------------------------------------------\n",
      "李昱慶 , 1_arielsvlog_816\n",
      "Prm :  0.7749\n",
      "Pop :  0.2027554569209095\n",
      "Act :  0.2664835164835165\n"
     ]
    },
    {
     "name": "stderr",
     "output_type": "stream",
     "text": [
      "IG_account_recommend_for_facebook_system.ipynb:8: SettingWithCopyWarning: \n",
      "A value is trying to be set on a copy of a slice from a DataFrame\n",
      "\n",
      "See the caveats in the documentation: http://pandas.pydata.org/pandas-docs/stable/user_guide/indexing.html#returning-a-view-versus-a-copy\n",
      "  ]\n"
     ]
    },
    {
     "name": "stdout",
     "output_type": "stream",
     "text": [
      "Pic :  0.0\n",
      "all_score  1.244138973404426\n",
      "------------------------------------------------------------------------------------------------\n",
      "李昱慶 , 20_imma_pon\n",
      "Prm :  0.7437\n",
      "Pop :  0.21982652883368883\n",
      "Act :  0.5006860592755215\n"
     ]
    },
    {
     "name": "stderr",
     "output_type": "stream",
     "text": [
      "IG_account_recommend_for_facebook_system.ipynb:8: SettingWithCopyWarning: \n",
      "A value is trying to be set on a copy of a slice from a DataFrame\n",
      "\n",
      "See the caveats in the documentation: http://pandas.pydata.org/pandas-docs/stable/user_guide/indexing.html#returning-a-view-versus-a-copy\n",
      "  ]\n"
     ]
    },
    {
     "name": "stdout",
     "output_type": "stream",
     "text": [
      "Pic :  0.0\n",
      "all_score  1.4642125881092103\n",
      "------------------------------------------------------------------------------------------------\n",
      "李昱慶 , 2_dentist_easoncheng\n",
      "Prm :  0.8195\n",
      "division by zero\n",
      "division by zero\n",
      "division by zero\n",
      "Pop :  0.217701827441378\n",
      "Act :  0.35341974627688916\n"
     ]
    },
    {
     "name": "stderr",
     "output_type": "stream",
     "text": [
      "IG_account_recommend_for_facebook_system.ipynb:8: SettingWithCopyWarning: \n",
      "A value is trying to be set on a copy of a slice from a DataFrame\n",
      "\n",
      "See the caveats in the documentation: http://pandas.pydata.org/pandas-docs/stable/user_guide/indexing.html#returning-a-view-versus-a-copy\n",
      "  ]\n"
     ]
    },
    {
     "name": "stdout",
     "output_type": "stream",
     "text": [
      "Pic :  0.0\n",
      "all_score  1.3906215737182672\n",
      "------------------------------------------------------------------------------------------------\n",
      "李昱慶 , 3_yuniko0720\n",
      "Prm :  0.7592\n",
      "Pop :  0.20405162581281627\n",
      "Act :  0.2760683760683761\n"
     ]
    },
    {
     "name": "stderr",
     "output_type": "stream",
     "text": [
      "IG_account_recommend_for_facebook_system.ipynb:8: SettingWithCopyWarning: \n",
      "A value is trying to be set on a copy of a slice from a DataFrame\n",
      "\n",
      "See the caveats in the documentation: http://pandas.pydata.org/pandas-docs/stable/user_guide/indexing.html#returning-a-view-versus-a-copy\n",
      "  ]\n"
     ]
    },
    {
     "name": "stdout",
     "output_type": "stream",
     "text": [
      "Pic :  0.0\n",
      "all_score  1.2393200018811923\n",
      "------------------------------------------------------------------------------------------------\n",
      "李昱慶 , 4_rolling\n",
      "Prm :  0.8646\n",
      "division by zero\n",
      "division by zero\n",
      "division by zero\n",
      "division by zero\n",
      "division by zero\n",
      "division by zero\n",
      "division by zero\n",
      "division by zero\n",
      "division by zero\n",
      "division by zero\n",
      "Pop :  0.33524992807773984\n",
      "Act :  0.2527386541471049\n"
     ]
    },
    {
     "name": "stderr",
     "output_type": "stream",
     "text": [
      "IG_account_recommend_for_facebook_system.ipynb:8: SettingWithCopyWarning: \n",
      "A value is trying to be set on a copy of a slice from a DataFrame\n",
      "\n",
      "See the caveats in the documentation: http://pandas.pydata.org/pandas-docs/stable/user_guide/indexing.html#returning-a-view-versus-a-copy\n",
      "  ]\n"
     ]
    },
    {
     "name": "stdout",
     "output_type": "stream",
     "text": [
      "Pic :  0.0\n",
      "all_score  1.4525885822248448\n",
      "------------------------------------------------------------------------------------------------\n",
      "李昱慶 , 5_melissaxhiker\n",
      "Prm :  0.8677\n",
      "Pop :  0.21958078663220598\n",
      "Act :  0.402046783625731\n"
     ]
    },
    {
     "name": "stderr",
     "output_type": "stream",
     "text": [
      "IG_account_recommend_for_facebook_system.ipynb:8: SettingWithCopyWarning: \n",
      "A value is trying to be set on a copy of a slice from a DataFrame\n",
      "\n",
      "See the caveats in the documentation: http://pandas.pydata.org/pandas-docs/stable/user_guide/indexing.html#returning-a-view-versus-a-copy\n",
      "  ]\n"
     ]
    },
    {
     "name": "stdout",
     "output_type": "stream",
     "text": [
      "Pic :  0.04545454545454545\n",
      "all_score  1.5347821157124826\n",
      "------------------------------------------------------------------------------------------------\n",
      "李昱慶 , 6_cheers_tw\n",
      "Prm :  0.9238\n",
      "division by zero\n",
      "Pop :  0.21182990532931073\n",
      "Act :  0.25615474794841736\n"
     ]
    },
    {
     "name": "stderr",
     "output_type": "stream",
     "text": [
      "IG_account_recommend_for_facebook_system.ipynb:8: SettingWithCopyWarning: \n",
      "A value is trying to be set on a copy of a slice from a DataFrame\n",
      "\n",
      "See the caveats in the documentation: http://pandas.pydata.org/pandas-docs/stable/user_guide/indexing.html#returning-a-view-versus-a-copy\n",
      "  ]\n"
     ]
    },
    {
     "name": "stdout",
     "output_type": "stream",
     "text": [
      "Pic :  0.04545454545454545\n",
      "all_score  1.4372391987322735\n",
      "------------------------------------------------------------------------------------------------\n",
      "李昱慶 , 7_rocean___\n",
      "Prm :  0.9645\n",
      "division by zero\n",
      "division by zero\n",
      "division by zero\n",
      "Pop :  0.30053608411798\n",
      "Act :  0.37045169385194476\n"
     ]
    },
    {
     "name": "stderr",
     "output_type": "stream",
     "text": [
      "IG_account_recommend_for_facebook_system.ipynb:8: SettingWithCopyWarning: \n",
      "A value is trying to be set on a copy of a slice from a DataFrame\n",
      "\n",
      "See the caveats in the documentation: http://pandas.pydata.org/pandas-docs/stable/user_guide/indexing.html#returning-a-view-versus-a-copy\n",
      "  ]\n"
     ]
    },
    {
     "name": "stdout",
     "output_type": "stream",
     "text": [
      "Pic :  0.0\n",
      "all_score  1.6354877779699248\n",
      "------------------------------------------------------------------------------------------------\n",
      "李昱慶 , 8_cbx\n",
      "Prm :  0.7648\n",
      "division by zero\n",
      "division by zero\n",
      "division by zero\n",
      "Pop :  0.2094945102680669\n",
      "Act :  0.2962662337662338\n"
     ]
    },
    {
     "name": "stderr",
     "output_type": "stream",
     "text": [
      "IG_account_recommend_for_facebook_system.ipynb:8: SettingWithCopyWarning: \n",
      "A value is trying to be set on a copy of a slice from a DataFrame\n",
      "\n",
      "See the caveats in the documentation: http://pandas.pydata.org/pandas-docs/stable/user_guide/indexing.html#returning-a-view-versus-a-copy\n",
      "  ]\n"
     ]
    },
    {
     "name": "stdout",
     "output_type": "stream",
     "text": [
      "Pic :  0.04545454545454545\n",
      "all_score  1.3160152894888462\n",
      "------------------------------------------------------------------------------------------------\n",
      "李昱慶 , 9_populzzang_mag\n",
      "Prm :  0.8639\n",
      "division by zero\n",
      "Pop :  0.24033613509913967\n",
      "Act :  0.25190961171228515\n"
     ]
    },
    {
     "name": "stderr",
     "output_type": "stream",
     "text": [
      "IG_account_recommend_for_facebook_system.ipynb:8: SettingWithCopyWarning: \n",
      "A value is trying to be set on a copy of a slice from a DataFrame\n",
      "\n",
      "See the caveats in the documentation: http://pandas.pydata.org/pandas-docs/stable/user_guide/indexing.html#returning-a-view-versus-a-copy\n",
      "  ]\n"
     ]
    },
    {
     "name": "stdout",
     "output_type": "stream",
     "text": [
      "Pic :  0.0\n",
      "all_score  1.3561457468114249\n",
      "------------------------------------------------------------------------------------------------\n",
      "林可佳 , 10_hana\n",
      "Prm :  0.8156\n",
      "Pop :  0.23782072888134076\n",
      "Act :  0.35774058577405854\n"
     ]
    },
    {
     "name": "stderr",
     "output_type": "stream",
     "text": [
      "IG_account_recommend_for_facebook_system.ipynb:8: SettingWithCopyWarning: \n",
      "A value is trying to be set on a copy of a slice from a DataFrame\n",
      "\n",
      "See the caveats in the documentation: http://pandas.pydata.org/pandas-docs/stable/user_guide/indexing.html#returning-a-view-versus-a-copy\n",
      "  ]\n"
     ]
    },
    {
     "name": "stdout",
     "output_type": "stream",
     "text": [
      "Pic :  0.0\n",
      "all_score  1.4111613146553992\n",
      "------------------------------------------------------------------------------------------------\n",
      "林可佳 , 11_hsin0126\n",
      "Prm :  0.6443\n",
      "Pop :  0.4100353754121414\n",
      "Act :  0.39254686785550985\n"
     ]
    },
    {
     "name": "stderr",
     "output_type": "stream",
     "text": [
      "IG_account_recommend_for_facebook_system.ipynb:8: SettingWithCopyWarning: \n",
      "A value is trying to be set on a copy of a slice from a DataFrame\n",
      "\n",
      "See the caveats in the documentation: http://pandas.pydata.org/pandas-docs/stable/user_guide/indexing.html#returning-a-view-versus-a-copy\n",
      "  ]\n"
     ]
    },
    {
     "name": "stdout",
     "output_type": "stream",
     "text": [
      "Pic :  0.0\n",
      "all_score  1.4468822432676514\n",
      "------------------------------------------------------------------------------------------------\n",
      "林可佳 , 12_tsaigray2018\n",
      "Prm :  0.5902\n",
      "Pop :  0.20037133792787482\n",
      "Act :  0.25428963623884693\n"
     ]
    },
    {
     "name": "stderr",
     "output_type": "stream",
     "text": [
      "IG_account_recommend_for_facebook_system.ipynb:8: SettingWithCopyWarning: \n",
      "A value is trying to be set on a copy of a slice from a DataFrame\n",
      "\n",
      "See the caveats in the documentation: http://pandas.pydata.org/pandas-docs/stable/user_guide/indexing.html#returning-a-view-versus-a-copy\n",
      "  ]\n"
     ]
    },
    {
     "name": "stdout",
     "output_type": "stream",
     "text": [
      "Pic :  0.0\n",
      "all_score  1.0448609741667216\n",
      "------------------------------------------------------------------------------------------------\n",
      "林可佳 , 13_snowzaicat\n",
      "Prm :  0.5323\n",
      "Pop :  0.22682848695507282\n",
      "Act :  0.4876543209876543\n"
     ]
    },
    {
     "name": "stderr",
     "output_type": "stream",
     "text": [
      "IG_account_recommend_for_facebook_system.ipynb:8: SettingWithCopyWarning: \n",
      "A value is trying to be set on a copy of a slice from a DataFrame\n",
      "\n",
      "See the caveats in the documentation: http://pandas.pydata.org/pandas-docs/stable/user_guide/indexing.html#returning-a-view-versus-a-copy\n",
      "  ]\n"
     ]
    },
    {
     "name": "stdout",
     "output_type": "stream",
     "text": [
      "Pic :  0.0\n",
      "all_score  1.2467828079427272\n",
      "------------------------------------------------------------------------------------------------\n",
      "林可佳 , 14_jc\n",
      "Prm :  0.7614\n",
      "division by zero\n",
      "division by zero\n",
      "Pop :  0.29054843552423265\n",
      "Act :  0.36518046709129515\n"
     ]
    },
    {
     "name": "stderr",
     "output_type": "stream",
     "text": [
      "IG_account_recommend_for_facebook_system.ipynb:8: SettingWithCopyWarning: \n",
      "A value is trying to be set on a copy of a slice from a DataFrame\n",
      "\n",
      "See the caveats in the documentation: http://pandas.pydata.org/pandas-docs/stable/user_guide/indexing.html#returning-a-view-versus-a-copy\n",
      "  ]\n"
     ]
    },
    {
     "name": "stdout",
     "output_type": "stream",
     "text": [
      "Pic :  0.0\n",
      "all_score  1.4171289026155276\n",
      "------------------------------------------------------------------------------------------------\n",
      "林可佳 , 15_doctorkowj\n",
      "Prm :  0.5835\n",
      "Pop :  0.2129060955086605\n",
      "Act :  0.2558441558441558\n"
     ]
    },
    {
     "name": "stderr",
     "output_type": "stream",
     "text": [
      "IG_account_recommend_for_facebook_system.ipynb:8: SettingWithCopyWarning: \n",
      "A value is trying to be set on a copy of a slice from a DataFrame\n",
      "\n",
      "See the caveats in the documentation: http://pandas.pydata.org/pandas-docs/stable/user_guide/indexing.html#returning-a-view-versus-a-copy\n",
      "  ]\n"
     ]
    },
    {
     "name": "stdout",
     "output_type": "stream",
     "text": [
      "Pic :  0.0\n",
      "all_score  1.0522502513528162\n",
      "------------------------------------------------------------------------------------------------\n",
      "林可佳 , 16_jaychou\n"
     ]
    },
    {
     "ename": "KeyError",
     "evalue": "['post content']",
     "output_type": "error",
     "traceback": [
      "\u001b[1;31m---------------------------------------------------------------------------\u001b[0m",
      "\u001b[1;31mKeyError\u001b[0m                                  Traceback (most recent call last)",
      "\u001b[1;32m~\\Documents\\畢業論文\\Code\\IG_account_recommend_for_facebook_system.ipynb\u001b[0m in \u001b[0;36m<module>\u001b[1;34m\u001b[0m\n\u001b[0;32m      1\u001b[0m \u001b[1;31m#去除空值row\u001b[0m\u001b[1;33m\u001b[0m\u001b[1;33m\u001b[0m\u001b[1;33m\u001b[0m\u001b[0m\n\u001b[0;32m      2\u001b[0m \u001b[0moringnal_df\u001b[0m \u001b[1;33m=\u001b[0m \u001b[0moringnal_df\u001b[0m\u001b[1;33m.\u001b[0m\u001b[0mdropna\u001b[0m\u001b[1;33m(\u001b[0m\u001b[0msubset\u001b[0m\u001b[1;33m=\u001b[0m\u001b[1;33m[\u001b[0m\u001b[1;34m\"message\"\u001b[0m\u001b[1;33m]\u001b[0m\u001b[1;33m)\u001b[0m\u001b[1;33m\u001b[0m\u001b[1;33m\u001b[0m\u001b[0m\n\u001b[1;32m----> 3\u001b[1;33m \u001b[0moringnal_ig_df\u001b[0m \u001b[1;33m=\u001b[0m \u001b[0moringnal_ig_df\u001b[0m\u001b[1;33m.\u001b[0m\u001b[0mdropna\u001b[0m\u001b[1;33m(\u001b[0m\u001b[0msubset\u001b[0m\u001b[1;33m=\u001b[0m\u001b[1;33m[\u001b[0m\u001b[1;34m\"post content\"\u001b[0m\u001b[1;33m]\u001b[0m\u001b[1;33m)\u001b[0m\u001b[1;33m\u001b[0m\u001b[1;33m\u001b[0m\u001b[0m\n\u001b[0m\u001b[0;32m      4\u001b[0m \u001b[0moringnal_df\u001b[0m\u001b[1;33m[\u001b[0m\u001b[1;34m'new'\u001b[0m\u001b[1;33m]\u001b[0m \u001b[1;33m=\u001b[0m \u001b[1;34m\"NEW\"\u001b[0m\u001b[1;33m\u001b[0m\u001b[1;33m\u001b[0m\u001b[0m\n\u001b[0;32m      5\u001b[0m \u001b[0moringnal_ig_df\u001b[0m\u001b[1;33m[\u001b[0m\u001b[1;34m'new content'\u001b[0m\u001b[1;33m]\u001b[0m \u001b[1;33m=\u001b[0m \u001b[1;34m\"None\"\u001b[0m\u001b[1;33m\u001b[0m\u001b[1;33m\u001b[0m\u001b[0m\n",
      "\u001b[1;32m~\\Anaconda3\\lib\\site-packages\\pandas\\core\\frame.py\u001b[0m in \u001b[0;36mdropna\u001b[1;34m(self, axis, how, thresh, subset, inplace)\u001b[0m\n\u001b[0;32m   4842\u001b[0m                 \u001b[0mcheck\u001b[0m \u001b[1;33m=\u001b[0m \u001b[0mindices\u001b[0m \u001b[1;33m==\u001b[0m \u001b[1;33m-\u001b[0m\u001b[1;36m1\u001b[0m\u001b[1;33m\u001b[0m\u001b[1;33m\u001b[0m\u001b[0m\n\u001b[0;32m   4843\u001b[0m                 \u001b[1;32mif\u001b[0m \u001b[0mcheck\u001b[0m\u001b[1;33m.\u001b[0m\u001b[0many\u001b[0m\u001b[1;33m(\u001b[0m\u001b[1;33m)\u001b[0m\u001b[1;33m:\u001b[0m\u001b[1;33m\u001b[0m\u001b[1;33m\u001b[0m\u001b[0m\n\u001b[1;32m-> 4844\u001b[1;33m                     \u001b[1;32mraise\u001b[0m \u001b[0mKeyError\u001b[0m\u001b[1;33m(\u001b[0m\u001b[0mlist\u001b[0m\u001b[1;33m(\u001b[0m\u001b[0mnp\u001b[0m\u001b[1;33m.\u001b[0m\u001b[0mcompress\u001b[0m\u001b[1;33m(\u001b[0m\u001b[0mcheck\u001b[0m\u001b[1;33m,\u001b[0m \u001b[0msubset\u001b[0m\u001b[1;33m)\u001b[0m\u001b[1;33m)\u001b[0m\u001b[1;33m)\u001b[0m\u001b[1;33m\u001b[0m\u001b[1;33m\u001b[0m\u001b[0m\n\u001b[0m\u001b[0;32m   4845\u001b[0m                 \u001b[0magg_obj\u001b[0m \u001b[1;33m=\u001b[0m \u001b[0mself\u001b[0m\u001b[1;33m.\u001b[0m\u001b[0mtake\u001b[0m\u001b[1;33m(\u001b[0m\u001b[0mindices\u001b[0m\u001b[1;33m,\u001b[0m \u001b[0maxis\u001b[0m\u001b[1;33m=\u001b[0m\u001b[0magg_axis\u001b[0m\u001b[1;33m)\u001b[0m\u001b[1;33m\u001b[0m\u001b[1;33m\u001b[0m\u001b[0m\n\u001b[0;32m   4846\u001b[0m \u001b[1;33m\u001b[0m\u001b[0m\n",
      "\u001b[1;31mKeyError\u001b[0m: ['post content']"
     ]
    },
    {
     "name": "stdout",
     "output_type": "stream",
     "text": [
      "------------------------------------------------------------------------------------------------\n",
      "林可佳 , 17_sunnygirl800424\n",
      "Prm :  0.6174\n",
      "Pop :  0.2080247327628138\n",
      "Act :  0.45338774597495524\n"
     ]
    },
    {
     "name": "stderr",
     "output_type": "stream",
     "text": [
      "IG_account_recommend_for_facebook_system.ipynb:8: SettingWithCopyWarning: \n",
      "A value is trying to be set on a copy of a slice from a DataFrame\n",
      "\n",
      "See the caveats in the documentation: http://pandas.pydata.org/pandas-docs/stable/user_guide/indexing.html#returning-a-view-versus-a-copy\n",
      "  ]\n"
     ]
    },
    {
     "name": "stdout",
     "output_type": "stream",
     "text": [
      "Pic :  0.0\n",
      "all_score  1.2788124787377688\n",
      "------------------------------------------------------------------------------------------------\n",
      "林可佳 , 18_poptour_mag\n",
      "Prm :  0.8135\n",
      "division by zero\n",
      "Pop :  0.21333715576691406\n",
      "Act :  0.40826226012793176\n"
     ]
    },
    {
     "name": "stderr",
     "output_type": "stream",
     "text": [
      "IG_account_recommend_for_facebook_system.ipynb:8: SettingWithCopyWarning: \n",
      "A value is trying to be set on a copy of a slice from a DataFrame\n",
      "\n",
      "See the caveats in the documentation: http://pandas.pydata.org/pandas-docs/stable/user_guide/indexing.html#returning-a-view-versus-a-copy\n",
      "  ]\n"
     ]
    },
    {
     "name": "stdout",
     "output_type": "stream",
     "text": [
      "Pic :  0.0\n",
      "all_score  1.4350994158948458\n",
      "------------------------------------------------------------------------------------------------\n",
      "林可佳 , 19_bpintaiwan\n",
      "Prm :  0.6825\n",
      "division by zero\n",
      "division by zero\n",
      "division by zero\n",
      "division by zero\n",
      "division by zero\n",
      "division by zero\n",
      "division by zero\n",
      "division by zero\n",
      "division by zero\n",
      "division by zero\n",
      "division by zero\n",
      "division by zero\n",
      "division by zero\n",
      "division by zero\n",
      "division by zero\n",
      "division by zero\n",
      "division by zero\n",
      "division by zero\n",
      "division by zero\n",
      "division by zero\n",
      "division by zero\n",
      "division by zero\n",
      "division by zero\n",
      "division by zero\n",
      "division by zero\n",
      "division by zero\n",
      "division by zero\n",
      "division by zero\n",
      "Pop :  0.22623403188317157\n",
      "Act :  0.40111490653762216\n"
     ]
    },
    {
     "name": "stderr",
     "output_type": "stream",
     "text": [
      "IG_account_recommend_for_facebook_system.ipynb:8: SettingWithCopyWarning: \n",
      "A value is trying to be set on a copy of a slice from a DataFrame\n",
      "\n",
      "See the caveats in the documentation: http://pandas.pydata.org/pandas-docs/stable/user_guide/indexing.html#returning-a-view-versus-a-copy\n",
      "  ]\n"
     ]
    },
    {
     "name": "stdout",
     "output_type": "stream",
     "text": [
      "Pic :  0.0\n",
      "all_score  1.3098489384207936\n",
      "------------------------------------------------------------------------------------------------\n",
      "林可佳 , 1_arielsvlog_816\n",
      "Prm :  0.6471\n",
      "Pop :  0.20430916180601963\n",
      "Act :  0.2664835164835165\n"
     ]
    },
    {
     "name": "stderr",
     "output_type": "stream",
     "text": [
      "IG_account_recommend_for_facebook_system.ipynb:8: SettingWithCopyWarning: \n",
      "A value is trying to be set on a copy of a slice from a DataFrame\n",
      "\n",
      "See the caveats in the documentation: http://pandas.pydata.org/pandas-docs/stable/user_guide/indexing.html#returning-a-view-versus-a-copy\n",
      "  ]\n"
     ]
    },
    {
     "name": "stdout",
     "output_type": "stream",
     "text": [
      "Pic :  0.0\n",
      "all_score  1.1178926782895362\n",
      "------------------------------------------------------------------------------------------------\n",
      "林可佳 , 20_imma_pon\n",
      "Prm :  0.5725\n",
      "division by zero\n",
      "Pop :  0.22421824721884326\n",
      "Act :  0.5006860592755215\n"
     ]
    },
    {
     "name": "stderr",
     "output_type": "stream",
     "text": [
      "IG_account_recommend_for_facebook_system.ipynb:8: SettingWithCopyWarning: \n",
      "A value is trying to be set on a copy of a slice from a DataFrame\n",
      "\n",
      "See the caveats in the documentation: http://pandas.pydata.org/pandas-docs/stable/user_guide/indexing.html#returning-a-view-versus-a-copy\n",
      "  ]\n"
     ]
    },
    {
     "name": "stdout",
     "output_type": "stream",
     "text": [
      "Pic :  0.0\n",
      "all_score  1.2974043064943648\n",
      "------------------------------------------------------------------------------------------------\n",
      "林可佳 , 2_dentist_easoncheng\n",
      "Prm :  0.6405\n",
      "division by zero\n",
      "division by zero\n",
      "division by zero\n",
      "division by zero\n",
      "division by zero\n",
      "division by zero\n",
      "division by zero\n",
      "division by zero\n",
      "division by zero\n",
      "division by zero\n",
      "division by zero\n",
      "division by zero\n",
      "division by zero\n",
      "division by zero\n",
      "division by zero\n",
      "Pop :  0.2138748704661347\n",
      "Act :  0.35341974627688916\n"
     ]
    },
    {
     "name": "stderr",
     "output_type": "stream",
     "text": [
      "IG_account_recommend_for_facebook_system.ipynb:8: SettingWithCopyWarning: \n",
      "A value is trying to be set on a copy of a slice from a DataFrame\n",
      "\n",
      "See the caveats in the documentation: http://pandas.pydata.org/pandas-docs/stable/user_guide/indexing.html#returning-a-view-versus-a-copy\n",
      "  ]\n"
     ]
    },
    {
     "name": "stdout",
     "output_type": "stream",
     "text": [
      "Pic :  0.0\n",
      "all_score  1.2077946167430238\n",
      "------------------------------------------------------------------------------------------------\n",
      "林可佳 , 3_yuniko0720\n",
      "Prm :  0.5964\n",
      "Pop :  0.2048432429955162\n",
      "Act :  0.2760683760683761\n"
     ]
    },
    {
     "name": "stderr",
     "output_type": "stream",
     "text": [
      "IG_account_recommend_for_facebook_system.ipynb:8: SettingWithCopyWarning: \n",
      "A value is trying to be set on a copy of a slice from a DataFrame\n",
      "\n",
      "See the caveats in the documentation: http://pandas.pydata.org/pandas-docs/stable/user_guide/indexing.html#returning-a-view-versus-a-copy\n",
      "  ]\n"
     ]
    },
    {
     "name": "stdout",
     "output_type": "stream",
     "text": [
      "Pic :  0.0\n",
      "all_score  1.0773116190638925\n",
      "------------------------------------------------------------------------------------------------\n",
      "林可佳 , 4_rolling\n",
      "Prm :  0.7399\n",
      "division by zero\n",
      "division by zero\n",
      "division by zero\n",
      "division by zero\n",
      "division by zero\n",
      "division by zero\n",
      "division by zero\n",
      "division by zero\n",
      "division by zero\n",
      "division by zero\n",
      "division by zero\n",
      "division by zero\n",
      "division by zero\n",
      "division by zero\n",
      "division by zero\n",
      "division by zero\n",
      "division by zero\n",
      "division by zero\n",
      "division by zero\n",
      "division by zero\n",
      "division by zero\n",
      "division by zero\n",
      "division by zero\n",
      "division by zero\n",
      "division by zero\n",
      "division by zero\n",
      "division by zero\n",
      "division by zero\n",
      "division by zero\n",
      "division by zero\n",
      "division by zero\n",
      "division by zero\n",
      "division by zero\n",
      "division by zero\n",
      "division by zero\n",
      "division by zero\n",
      "division by zero\n",
      "division by zero\n",
      "division by zero\n",
      "division by zero\n",
      "division by zero\n",
      "division by zero\n",
      "division by zero\n",
      "division by zero\n",
      "division by zero\n",
      "division by zero\n",
      "division by zero\n",
      "division by zero\n",
      "Pop :  0.32393669469658715\n",
      "Act :  0.2527386541471049\n"
     ]
    },
    {
     "name": "stderr",
     "output_type": "stream",
     "text": [
      "IG_account_recommend_for_facebook_system.ipynb:8: SettingWithCopyWarning: \n",
      "A value is trying to be set on a copy of a slice from a DataFrame\n",
      "\n",
      "See the caveats in the documentation: http://pandas.pydata.org/pandas-docs/stable/user_guide/indexing.html#returning-a-view-versus-a-copy\n",
      "  ]\n"
     ]
    },
    {
     "name": "stdout",
     "output_type": "stream",
     "text": [
      "Pic :  0.0\n",
      "all_score  1.316575348843692\n",
      "------------------------------------------------------------------------------------------------\n",
      "林可佳 , 5_melissaxhiker\n",
      "Prm :  0.7004\n",
      "division by zero\n",
      "division by zero\n",
      "division by zero\n",
      "division by zero\n",
      "division by zero\n",
      "division by zero\n",
      "division by zero\n",
      "division by zero\n",
      "division by zero\n",
      "division by zero\n",
      "division by zero\n",
      "division by zero\n",
      "division by zero\n",
      "division by zero\n",
      "division by zero\n",
      "division by zero\n",
      "division by zero\n",
      "division by zero\n",
      "division by zero\n",
      "Pop :  0.20813183337050378\n",
      "Act :  0.402046783625731\n"
     ]
    },
    {
     "name": "stderr",
     "output_type": "stream",
     "text": [
      "IG_account_recommend_for_facebook_system.ipynb:8: SettingWithCopyWarning: \n",
      "A value is trying to be set on a copy of a slice from a DataFrame\n",
      "\n",
      "See the caveats in the documentation: http://pandas.pydata.org/pandas-docs/stable/user_guide/indexing.html#returning-a-view-versus-a-copy\n",
      "  ]\n"
     ]
    },
    {
     "name": "stdout",
     "output_type": "stream",
     "text": [
      "Pic :  0.0\n",
      "all_score  1.3105786169962348\n",
      "------------------------------------------------------------------------------------------------\n",
      "林可佳 , 6_cheers_tw\n",
      "Prm :  0.7145\n",
      "division by zero\n",
      "division by zero\n",
      "division by zero\n",
      "division by zero\n",
      "division by zero\n",
      "division by zero\n",
      "division by zero\n",
      "division by zero\n",
      "division by zero\n",
      "division by zero\n",
      "division by zero\n",
      "division by zero\n",
      "division by zero\n",
      "division by zero\n",
      "division by zero\n",
      "division by zero\n",
      "division by zero\n",
      "division by zero\n",
      "division by zero\n",
      "division by zero\n",
      "division by zero\n",
      "Pop :  0.21577408126122827\n",
      "Act :  0.25615474794841736\n"
     ]
    },
    {
     "name": "stderr",
     "output_type": "stream",
     "text": [
      "IG_account_recommend_for_facebook_system.ipynb:8: SettingWithCopyWarning: \n",
      "A value is trying to be set on a copy of a slice from a DataFrame\n",
      "\n",
      "See the caveats in the documentation: http://pandas.pydata.org/pandas-docs/stable/user_guide/indexing.html#returning-a-view-versus-a-copy\n",
      "  ]\n"
     ]
    },
    {
     "name": "stdout",
     "output_type": "stream",
     "text": [
      "Pic :  0.0\n",
      "all_score  1.1864288292096457\n",
      "------------------------------------------------------------------------------------------------\n",
      "林可佳 , 7_rocean___\n",
      "Prm :  0.6681\n",
      "division by zero\n",
      "division by zero\n",
      "division by zero\n",
      "division by zero\n",
      "division by zero\n",
      "division by zero\n",
      "division by zero\n",
      "division by zero\n",
      "Pop :  0.3270986506949915\n",
      "Act :  0.37045169385194476\n"
     ]
    },
    {
     "name": "stderr",
     "output_type": "stream",
     "text": [
      "IG_account_recommend_for_facebook_system.ipynb:8: SettingWithCopyWarning: \n",
      "A value is trying to be set on a copy of a slice from a DataFrame\n",
      "\n",
      "See the caveats in the documentation: http://pandas.pydata.org/pandas-docs/stable/user_guide/indexing.html#returning-a-view-versus-a-copy\n",
      "  ]\n"
     ]
    },
    {
     "name": "stdout",
     "output_type": "stream",
     "text": [
      "Pic :  0.0\n",
      "all_score  1.3656503445469363\n",
      "------------------------------------------------------------------------------------------------\n",
      "林可佳 , 8_cbx\n",
      "Prm :  0.6749\n",
      "division by zero\n",
      "division by zero\n",
      "division by zero\n",
      "division by zero\n",
      "division by zero\n",
      "division by zero\n",
      "division by zero\n",
      "division by zero\n",
      "division by zero\n",
      "division by zero\n",
      "division by zero\n",
      "Pop :  0.21001846001771307\n",
      "Act :  0.2962662337662338\n"
     ]
    },
    {
     "name": "stderr",
     "output_type": "stream",
     "text": [
      "IG_account_recommend_for_facebook_system.ipynb:8: SettingWithCopyWarning: \n",
      "A value is trying to be set on a copy of a slice from a DataFrame\n",
      "\n",
      "See the caveats in the documentation: http://pandas.pydata.org/pandas-docs/stable/user_guide/indexing.html#returning-a-view-versus-a-copy\n",
      "  ]\n"
     ]
    },
    {
     "name": "stdout",
     "output_type": "stream",
     "text": [
      "Pic :  0.0\n",
      "all_score  1.181184693783947\n",
      "------------------------------------------------------------------------------------------------\n",
      "林可佳 , 9_populzzang_mag\n",
      "Prm :  0.7011\n",
      "division by zero\n",
      "Pop :  0.2313699816554155\n",
      "Act :  0.25190961171228515\n"
     ]
    },
    {
     "name": "stderr",
     "output_type": "stream",
     "text": [
      "IG_account_recommend_for_facebook_system.ipynb:8: SettingWithCopyWarning: \n",
      "A value is trying to be set on a copy of a slice from a DataFrame\n",
      "\n",
      "See the caveats in the documentation: http://pandas.pydata.org/pandas-docs/stable/user_guide/indexing.html#returning-a-view-versus-a-copy\n",
      "  ]\n"
     ]
    },
    {
     "name": "stdout",
     "output_type": "stream",
     "text": [
      "Pic :  0.0\n",
      "all_score  1.1843795933677006\n",
      "------------------------------------------------------------------------------------------------\n",
      "楊尚儒 , 10_hana\n",
      "Prm :  0.7487\n",
      "Pop :  0.23782072888134076\n",
      "Act :  0.35774058577405854\n"
     ]
    },
    {
     "name": "stderr",
     "output_type": "stream",
     "text": [
      "IG_account_recommend_for_facebook_system.ipynb:8: SettingWithCopyWarning: \n",
      "A value is trying to be set on a copy of a slice from a DataFrame\n",
      "\n",
      "See the caveats in the documentation: http://pandas.pydata.org/pandas-docs/stable/user_guide/indexing.html#returning-a-view-versus-a-copy\n",
      "  ]\n"
     ]
    },
    {
     "name": "stdout",
     "output_type": "stream",
     "text": [
      "Pic :  0.0\n",
      "all_score  1.3442613146553994\n",
      "------------------------------------------------------------------------------------------------\n",
      "楊尚儒 , 11_hsin0126\n",
      "Prm :  0.659\n",
      "Pop :  0.4100353754121414\n",
      "Act : "
     ]
    },
    {
     "name": "stderr",
     "output_type": "stream",
     "text": [
      "IG_account_recommend_for_facebook_system.ipynb:8: SettingWithCopyWarning: \n",
      "A value is trying to be set on a copy of a slice from a DataFrame\n",
      "\n",
      "See the caveats in the documentation: http://pandas.pydata.org/pandas-docs/stable/user_guide/indexing.html#returning-a-view-versus-a-copy\n",
      "  ]\n"
     ]
    },
    {
     "name": "stdout",
     "output_type": "stream",
     "text": [
      " 0.39254686785550985\n",
      "Pic :  0.0\n",
      "all_score  1.4615822432676513\n",
      "------------------------------------------------------------------------------------------------\n",
      "楊尚儒 , 12_tsaigray2018\n",
      "Prm :  0.6258\n",
      "Pop :  0.20037133792787482\n",
      "Act :  0.25428963623884693\n"
     ]
    },
    {
     "name": "stderr",
     "output_type": "stream",
     "text": [
      "IG_account_recommend_for_facebook_system.ipynb:8: SettingWithCopyWarning: \n",
      "A value is trying to be set on a copy of a slice from a DataFrame\n",
      "\n",
      "See the caveats in the documentation: http://pandas.pydata.org/pandas-docs/stable/user_guide/indexing.html#returning-a-view-versus-a-copy\n",
      "  ]\n"
     ]
    },
    {
     "name": "stdout",
     "output_type": "stream",
     "text": [
      "Pic :  0.0\n",
      "all_score  1.0804609741667217\n",
      "------------------------------------------------------------------------------------------------\n",
      "楊尚儒 , 13_snowzaicat\n",
      "Prm :  0.5594\n",
      "Pop :  0.22682848695507282\n",
      "Act :  0.4876543209876543\n"
     ]
    },
    {
     "name": "stderr",
     "output_type": "stream",
     "text": [
      "IG_account_recommend_for_facebook_system.ipynb:8: SettingWithCopyWarning: \n",
      "A value is trying to be set on a copy of a slice from a DataFrame\n",
      "\n",
      "See the caveats in the documentation: http://pandas.pydata.org/pandas-docs/stable/user_guide/indexing.html#returning-a-view-versus-a-copy\n",
      "  ]\n"
     ]
    },
    {
     "name": "stdout",
     "output_type": "stream",
     "text": [
      "Pic :  0.0\n",
      "all_score  1.2738828079427271\n",
      "------------------------------------------------------------------------------------------------\n",
      "楊尚儒 , 14_jc\n",
      "Prm :  0.7402\n",
      "division by zero\n",
      "division by zero\n",
      "Pop :  0.29054843552423265\n",
      "Act :  0.36518046709129515\n"
     ]
    },
    {
     "name": "stderr",
     "output_type": "stream",
     "text": [
      "IG_account_recommend_for_facebook_system.ipynb:8: SettingWithCopyWarning: \n",
      "A value is trying to be set on a copy of a slice from a DataFrame\n",
      "\n",
      "See the caveats in the documentation: http://pandas.pydata.org/pandas-docs/stable/user_guide/indexing.html#returning-a-view-versus-a-copy\n",
      "  ]\n"
     ]
    },
    {
     "name": "stdout",
     "output_type": "stream",
     "text": [
      "Pic :  0.0\n",
      "all_score  1.3959289026155277\n",
      "------------------------------------------------------------------------------------------------\n",
      "楊尚儒 , 15_doctorkowj\n",
      "Prm :  0.6301\n",
      "Pop :  0.2129060955086605\n",
      "Act :  0.2558441558441558\n"
     ]
    },
    {
     "name": "stderr",
     "output_type": "stream",
     "text": [
      "IG_account_recommend_for_facebook_system.ipynb:8: SettingWithCopyWarning: \n",
      "A value is trying to be set on a copy of a slice from a DataFrame\n",
      "\n",
      "See the caveats in the documentation: http://pandas.pydata.org/pandas-docs/stable/user_guide/indexing.html#returning-a-view-versus-a-copy\n",
      "  ]\n"
     ]
    },
    {
     "name": "stdout",
     "output_type": "stream",
     "text": [
      "Pic :  0.0\n",
      "all_score  1.0988502513528162\n",
      "------------------------------------------------------------------------------------------------\n",
      "楊尚儒 , 16_jaychou\n"
     ]
    },
    {
     "ename": "KeyError",
     "evalue": "['post content']",
     "output_type": "error",
     "traceback": [
      "\u001b[1;31m---------------------------------------------------------------------------\u001b[0m",
      "\u001b[1;31mKeyError\u001b[0m                                  Traceback (most recent call last)",
      "\u001b[1;32m~\\Documents\\畢業論文\\Code\\IG_account_recommend_for_facebook_system.ipynb\u001b[0m in \u001b[0;36m<module>\u001b[1;34m\u001b[0m\n\u001b[0;32m      1\u001b[0m \u001b[1;31m#去除空值row\u001b[0m\u001b[1;33m\u001b[0m\u001b[1;33m\u001b[0m\u001b[1;33m\u001b[0m\u001b[0m\n\u001b[0;32m      2\u001b[0m \u001b[0moringnal_df\u001b[0m \u001b[1;33m=\u001b[0m \u001b[0moringnal_df\u001b[0m\u001b[1;33m.\u001b[0m\u001b[0mdropna\u001b[0m\u001b[1;33m(\u001b[0m\u001b[0msubset\u001b[0m\u001b[1;33m=\u001b[0m\u001b[1;33m[\u001b[0m\u001b[1;34m\"message\"\u001b[0m\u001b[1;33m]\u001b[0m\u001b[1;33m)\u001b[0m\u001b[1;33m\u001b[0m\u001b[1;33m\u001b[0m\u001b[0m\n\u001b[1;32m----> 3\u001b[1;33m \u001b[0moringnal_ig_df\u001b[0m \u001b[1;33m=\u001b[0m \u001b[0moringnal_ig_df\u001b[0m\u001b[1;33m.\u001b[0m\u001b[0mdropna\u001b[0m\u001b[1;33m(\u001b[0m\u001b[0msubset\u001b[0m\u001b[1;33m=\u001b[0m\u001b[1;33m[\u001b[0m\u001b[1;34m\"post content\"\u001b[0m\u001b[1;33m]\u001b[0m\u001b[1;33m)\u001b[0m\u001b[1;33m\u001b[0m\u001b[1;33m\u001b[0m\u001b[0m\n\u001b[0m\u001b[0;32m      4\u001b[0m \u001b[0moringnal_df\u001b[0m\u001b[1;33m[\u001b[0m\u001b[1;34m'new'\u001b[0m\u001b[1;33m]\u001b[0m \u001b[1;33m=\u001b[0m \u001b[1;34m\"NEW\"\u001b[0m\u001b[1;33m\u001b[0m\u001b[1;33m\u001b[0m\u001b[0m\n\u001b[0;32m      5\u001b[0m \u001b[0moringnal_ig_df\u001b[0m\u001b[1;33m[\u001b[0m\u001b[1;34m'new content'\u001b[0m\u001b[1;33m]\u001b[0m \u001b[1;33m=\u001b[0m \u001b[1;34m\"None\"\u001b[0m\u001b[1;33m\u001b[0m\u001b[1;33m\u001b[0m\u001b[0m\n",
      "\u001b[1;32m~\\Anaconda3\\lib\\site-packages\\pandas\\core\\frame.py\u001b[0m in \u001b[0;36mdropna\u001b[1;34m(self, axis, how, thresh, subset, inplace)\u001b[0m\n\u001b[0;32m   4842\u001b[0m                 \u001b[0mcheck\u001b[0m \u001b[1;33m=\u001b[0m \u001b[0mindices\u001b[0m \u001b[1;33m==\u001b[0m \u001b[1;33m-\u001b[0m\u001b[1;36m1\u001b[0m\u001b[1;33m\u001b[0m\u001b[1;33m\u001b[0m\u001b[0m\n\u001b[0;32m   4843\u001b[0m                 \u001b[1;32mif\u001b[0m \u001b[0mcheck\u001b[0m\u001b[1;33m.\u001b[0m\u001b[0many\u001b[0m\u001b[1;33m(\u001b[0m\u001b[1;33m)\u001b[0m\u001b[1;33m:\u001b[0m\u001b[1;33m\u001b[0m\u001b[1;33m\u001b[0m\u001b[0m\n\u001b[1;32m-> 4844\u001b[1;33m                     \u001b[1;32mraise\u001b[0m \u001b[0mKeyError\u001b[0m\u001b[1;33m(\u001b[0m\u001b[0mlist\u001b[0m\u001b[1;33m(\u001b[0m\u001b[0mnp\u001b[0m\u001b[1;33m.\u001b[0m\u001b[0mcompress\u001b[0m\u001b[1;33m(\u001b[0m\u001b[0mcheck\u001b[0m\u001b[1;33m,\u001b[0m \u001b[0msubset\u001b[0m\u001b[1;33m)\u001b[0m\u001b[1;33m)\u001b[0m\u001b[1;33m)\u001b[0m\u001b[1;33m\u001b[0m\u001b[1;33m\u001b[0m\u001b[0m\n\u001b[0m\u001b[0;32m   4845\u001b[0m                 \u001b[0magg_obj\u001b[0m \u001b[1;33m=\u001b[0m \u001b[0mself\u001b[0m\u001b[1;33m.\u001b[0m\u001b[0mtake\u001b[0m\u001b[1;33m(\u001b[0m\u001b[0mindices\u001b[0m\u001b[1;33m,\u001b[0m \u001b[0maxis\u001b[0m\u001b[1;33m=\u001b[0m\u001b[0magg_axis\u001b[0m\u001b[1;33m)\u001b[0m\u001b[1;33m\u001b[0m\u001b[1;33m\u001b[0m\u001b[0m\n\u001b[0;32m   4846\u001b[0m \u001b[1;33m\u001b[0m\u001b[0m\n",
      "\u001b[1;31mKeyError\u001b[0m: ['post content']"
     ]
    },
    {
     "name": "stdout",
     "output_type": "stream",
     "text": [
      "------------------------------------------------------------------------------------------------\n",
      "楊尚儒 , 17_sunnygirl800424\n",
      "Prm :  0.6407\n",
      "Pop :  0.2080247327628138\n",
      "Act :  0.45338774597495524\n"
     ]
    },
    {
     "name": "stderr",
     "output_type": "stream",
     "text": [
      "IG_account_recommend_for_facebook_system.ipynb:8: SettingWithCopyWarning: \n",
      "A value is trying to be set on a copy of a slice from a DataFrame\n",
      "\n",
      "See the caveats in the documentation: http://pandas.pydata.org/pandas-docs/stable/user_guide/indexing.html#returning-a-view-versus-a-copy\n",
      "  ]\n"
     ]
    },
    {
     "name": "stdout",
     "output_type": "stream",
     "text": [
      "Pic :  0.0\n",
      "all_score  1.3021124787377691\n",
      "------------------------------------------------------------------------------------------------\n",
      "楊尚儒 , 18_poptour_mag\n",
      "Prm :  0.8167\n",
      "division by zero\n",
      "Pop :  0.21333715576691406\n",
      "Act :  0.40826226012793176\n"
     ]
    },
    {
     "name": "stderr",
     "output_type": "stream",
     "text": [
      "IG_account_recommend_for_facebook_system.ipynb:8: SettingWithCopyWarning: \n",
      "A value is trying to be set on a copy of a slice from a DataFrame\n",
      "\n",
      "See the caveats in the documentation: http://pandas.pydata.org/pandas-docs/stable/user_guide/indexing.html#returning-a-view-versus-a-copy\n",
      "  ]\n"
     ]
    },
    {
     "name": "stdout",
     "output_type": "stream",
     "text": [
      "Pic :  0.011363636363636362\n",
      "all_score  1.4496630522584821\n",
      "------------------------------------------------------------------------------------------------\n",
      "楊尚儒 , 19_bpintaiwan\n",
      "Prm :  0.7504\n",
      "division by zero\n",
      "division by zero\n",
      "division by zero\n",
      "division by zero\n",
      "division by zero\n",
      "division by zero\n",
      "division by zero\n",
      "division by zero\n",
      "division by zero\n",
      "division by zero\n",
      "division by zero\n",
      "division by zero\n",
      "division by zero\n",
      "division by zero\n",
      "division by zero\n",
      "division by zero\n",
      "division by zero\n",
      "division by zero\n",
      "division by zero\n",
      "division by zero\n",
      "division by zero\n",
      "division by zero\n",
      "division by zero\n",
      "division by zero\n",
      "division by zero\n",
      "division by zero\n",
      "division by zero\n",
      "division by zero\n",
      "Pop :  0.22623403188317157\n",
      "Act :  0.40111490653762216\n"
     ]
    },
    {
     "name": "stderr",
     "output_type": "stream",
     "text": [
      "IG_account_recommend_for_facebook_system.ipynb:8: SettingWithCopyWarning: \n",
      "A value is trying to be set on a copy of a slice from a DataFrame\n",
      "\n",
      "See the caveats in the documentation: http://pandas.pydata.org/pandas-docs/stable/user_guide/indexing.html#returning-a-view-versus-a-copy\n",
      "  ]\n"
     ]
    },
    {
     "name": "stdout",
     "output_type": "stream",
     "text": [
      "Pic :  0.0\n",
      "all_score  1.3777489384207937\n",
      "------------------------------------------------------------------------------------------------\n",
      "楊尚儒 , 1_arielsvlog_816\n",
      "Prm :  0.7282\n",
      "Pop :  0.20430916180601963\n",
      "Act :  0.2664835164835165\n"
     ]
    },
    {
     "name": "stderr",
     "output_type": "stream",
     "text": [
      "IG_account_recommend_for_facebook_system.ipynb:8: SettingWithCopyWarning: \n",
      "A value is trying to be set on a copy of a slice from a DataFrame\n",
      "\n",
      "See the caveats in the documentation: http://pandas.pydata.org/pandas-docs/stable/user_guide/indexing.html#returning-a-view-versus-a-copy\n",
      "  ]\n"
     ]
    },
    {
     "name": "stdout",
     "output_type": "stream",
     "text": [
      "Pic :  0.0\n",
      "all_score  1.1989926782895362\n",
      "------------------------------------------------------------------------------------------------\n",
      "楊尚儒 , 20_imma_pon\n",
      "Prm :  0.6076\n",
      "division by zero\n",
      "Pop :  0.22421824721884326\n",
      "Act :  0.5006860592755215\n"
     ]
    },
    {
     "name": "stderr",
     "output_type": "stream",
     "text": [
      "IG_account_recommend_for_facebook_system.ipynb:8: SettingWithCopyWarning: \n",
      "A value is trying to be set on a copy of a slice from a DataFrame\n",
      "\n",
      "See the caveats in the documentation: http://pandas.pydata.org/pandas-docs/stable/user_guide/indexing.html#returning-a-view-versus-a-copy\n",
      "  ]\n"
     ]
    },
    {
     "name": "stdout",
     "output_type": "stream",
     "text": [
      "Pic :  0.006410256410256409\n",
      "all_score  1.338914562904621\n",
      "------------------------------------------------------------------------------------------------\n",
      "楊尚儒 , 2_dentist_easoncheng\n",
      "Prm :  0.695\n",
      "division by zero\n",
      "division by zero\n",
      "division by zero\n",
      "division by zero\n",
      "division by zero\n",
      "division by zero\n",
      "division by zero\n",
      "division by zero\n",
      "division by zero\n",
      "division by zero\n",
      "division by zero\n",
      "division by zero\n",
      "division by zero\n",
      "division by zero\n",
      "division by zero\n",
      "Pop :  0.2138748704661347\n",
      "Act :  0.35341974627688916\n"
     ]
    },
    {
     "name": "stderr",
     "output_type": "stream",
     "text": [
      "IG_account_recommend_for_facebook_system.ipynb:8: SettingWithCopyWarning: \n",
      "A value is trying to be set on a copy of a slice from a DataFrame\n",
      "\n",
      "See the caveats in the documentation: http://pandas.pydata.org/pandas-docs/stable/user_guide/indexing.html#returning-a-view-versus-a-copy\n",
      "  ]\n"
     ]
    },
    {
     "name": "stdout",
     "output_type": "stream",
     "text": [
      "Pic :  0.0\n",
      "all_score  1.2622946167430238\n",
      "------------------------------------------------------------------------------------------------\n",
      "楊尚儒 , 3_yuniko0720\n",
      "Prm :  0.6487\n",
      "Pop :  0.2048432429955162\n",
      "Act :  0.2760683760683761\n"
     ]
    },
    {
     "name": "stderr",
     "output_type": "stream",
     "text": [
      "IG_account_recommend_for_facebook_system.ipynb:8: SettingWithCopyWarning: \n",
      "A value is trying to be set on a copy of a slice from a DataFrame\n",
      "\n",
      "See the caveats in the documentation: http://pandas.pydata.org/pandas-docs/stable/user_guide/indexing.html#returning-a-view-versus-a-copy\n",
      "  ]\n"
     ]
    },
    {
     "name": "stdout",
     "output_type": "stream",
     "text": [
      "Pic :  0.0\n",
      "all_score  1.1296116190638923\n",
      "------------------------------------------------------------------------------------------------\n",
      "楊尚儒 , 4_rolling\n",
      "Prm :  0.7514\n",
      "division by zero\n",
      "division by zero\n",
      "division by zero\n",
      "division by zero\n",
      "division by zero\n",
      "division by zero\n",
      "division by zero\n",
      "division by zero\n",
      "division by zero\n",
      "division by zero\n",
      "division by zero\n",
      "division by zero\n",
      "division by zero\n",
      "division by zero\n",
      "division by zero\n",
      "division by zero\n",
      "division by zero\n",
      "division by zero\n",
      "division by zero\n",
      "division by zero\n",
      "division by zero\n",
      "division by zero\n",
      "division by zero\n",
      "division by zero\n",
      "division by zero\n",
      "division by zero\n",
      "division by zero\n",
      "division by zero\n",
      "division by zero\n",
      "division by zero\n",
      "division by zero\n",
      "division by zero\n",
      "division by zero\n",
      "division by zero\n",
      "division by zero\n",
      "division by zero\n",
      "division by zero\n",
      "division by zero\n",
      "division by zero\n",
      "division by zero\n",
      "division by zero\n",
      "division by zero\n",
      "division by zero\n",
      "division by zero\n",
      "division by zero\n",
      "division by zero\n",
      "division by zero\n",
      "division by zero\n",
      "Pop :  0.32393669469658715\n",
      "Act :  0.2527386541471049\n"
     ]
    },
    {
     "name": "stderr",
     "output_type": "stream",
     "text": [
      "IG_account_recommend_for_facebook_system.ipynb:8: SettingWithCopyWarning: \n",
      "A value is trying to be set on a copy of a slice from a DataFrame\n",
      "\n",
      "See the caveats in the documentation: http://pandas.pydata.org/pandas-docs/stable/user_guide/indexing.html#returning-a-view-versus-a-copy\n",
      "  ]\n"
     ]
    },
    {
     "name": "stdout",
     "output_type": "stream",
     "text": [
      "Pic :  0.013094570021973102\n",
      "all_score  1.3411699188656652\n",
      "------------------------------------------------------------------------------------------------\n",
      "楊尚儒 , 5_melissaxhiker\n",
      "Prm :  0.7397\n",
      "division by zero\n",
      "division by zero\n",
      "division by zero\n",
      "division by zero\n",
      "division by zero\n",
      "division by zero\n",
      "division by zero\n",
      "division by zero\n",
      "division by zero\n",
      "division by zero\n",
      "division by zero\n",
      "division by zero\n",
      "division by zero\n",
      "division by zero\n",
      "division by zero\n",
      "division by zero\n",
      "division by zero\n",
      "division by zero\n",
      "division by zero\n",
      "Pop :  0.20813183337050378\n",
      "Act :  0.402046783625731\n"
     ]
    },
    {
     "name": "stderr",
     "output_type": "stream",
     "text": [
      "IG_account_recommend_for_facebook_system.ipynb:8: SettingWithCopyWarning: \n",
      "A value is trying to be set on a copy of a slice from a DataFrame\n",
      "\n",
      "See the caveats in the documentation: http://pandas.pydata.org/pandas-docs/stable/user_guide/indexing.html#returning-a-view-versus-a-copy\n",
      "  ]\n"
     ]
    },
    {
     "name": "stdout",
     "output_type": "stream",
     "text": [
      "Pic :  0.009464758511305342\n",
      "all_score  1.3593433755075401\n",
      "------------------------------------------------------------------------------------------------\n",
      "楊尚儒 , 6_cheers_tw\n",
      "Prm :  0.7618\n",
      "division by zero\n",
      "division by zero\n",
      "division by zero\n",
      "division by zero\n",
      "division by zero\n",
      "division by zero\n",
      "division by zero\n",
      "division by zero\n",
      "division by zero\n",
      "division by zero\n",
      "division by zero\n",
      "division by zero\n",
      "division by zero\n",
      "division by zero\n",
      "division by zero\n",
      "division by zero\n",
      "division by zero\n",
      "division by zero\n",
      "division by zero\n",
      "division by zero\n",
      "division by zero\n",
      "Pop :  0.21577408126122827\n",
      "Act :  0.25615474794841736\n"
     ]
    },
    {
     "name": "stderr",
     "output_type": "stream",
     "text": [
      "IG_account_recommend_for_facebook_system.ipynb:8: SettingWithCopyWarning: \n",
      "A value is trying to be set on a copy of a slice from a DataFrame\n",
      "\n",
      "See the caveats in the documentation: http://pandas.pydata.org/pandas-docs/stable/user_guide/indexing.html#returning-a-view-versus-a-copy\n",
      "  ]\n"
     ]
    },
    {
     "name": "stdout",
     "output_type": "stream",
     "text": [
      "Pic :  0.021484974453861484\n",
      "all_score  1.2552138036635072\n",
      "------------------------------------------------------------------------------------------------\n",
      "楊尚儒 , 7_rocean___\n",
      "Prm :  0.6894\n",
      "division by zero\n",
      "division by zero\n",
      "division by zero\n",
      "division by zero\n",
      "division by zero\n",
      "division by zero\n",
      "division by zero\n",
      "division by zero\n",
      "Pop :  0.3270986506949915\n"
     ]
    },
    {
     "name": "stderr",
     "output_type": "stream",
     "text": [
      "IG_account_recommend_for_facebook_system.ipynb:8: SettingWithCopyWarning: \n",
      "A value is trying to be set on a copy of a slice from a DataFrame\n",
      "\n",
      "See the caveats in the documentation: http://pandas.pydata.org/pandas-docs/stable/user_guide/indexing.html#returning-a-view-versus-a-copy\n",
      "  ]\n"
     ]
    },
    {
     "name": "stdout",
     "output_type": "stream",
     "text": [
      "Act :  0.37045169385194476\n",
      "Pic :  0.0\n",
      "all_score  1.3869503445469364\n",
      "------------------------------------------------------------------------------------------------\n",
      "楊尚儒 , 8_cbx\n",
      "Prm :  0.7293\n",
      "division by zero\n",
      "division by zero\n",
      "division by zero\n",
      "division by zero\n",
      "division by zero\n",
      "division by zero\n",
      "division by zero\n",
      "division by zero\n",
      "division by zero\n",
      "division by zero\n",
      "division by zero\n",
      "Pop :  0.21001846001771307\n",
      "Act :  0.2962662337662338\n"
     ]
    },
    {
     "name": "stderr",
     "output_type": "stream",
     "text": [
      "IG_account_recommend_for_facebook_system.ipynb:8: SettingWithCopyWarning: \n",
      "A value is trying to be set on a copy of a slice from a DataFrame\n",
      "\n",
      "See the caveats in the documentation: http://pandas.pydata.org/pandas-docs/stable/user_guide/indexing.html#returning-a-view-versus-a-copy\n",
      "  ]\n"
     ]
    },
    {
     "name": "stdout",
     "output_type": "stream",
     "text": [
      "Pic :  0.021337095310058528\n",
      "all_score  1.2569217890940054\n",
      "------------------------------------------------------------------------------------------------\n",
      "楊尚儒 , 9_populzzang_mag\n",
      "Prm :  0.7156\n",
      "division by zero\n",
      "Pop :  0.2313699816554155\n",
      "Act :  0.25190961171228515\n"
     ]
    },
    {
     "name": "stderr",
     "output_type": "stream",
     "text": [
      "IG_account_recommend_for_facebook_system.ipynb:8: SettingWithCopyWarning: \n",
      "A value is trying to be set on a copy of a slice from a DataFrame\n",
      "\n",
      "See the caveats in the documentation: http://pandas.pydata.org/pandas-docs/stable/user_guide/indexing.html#returning-a-view-versus-a-copy\n",
      "  ]\n"
     ]
    },
    {
     "name": "stdout",
     "output_type": "stream",
     "text": [
      "Pic :  0.0\n",
      "all_score  1.1988795933677008\n",
      "------------------------------------------------------------------------------------------------\n",
      "楊雅如 , 10_hana\n",
      "Prm :  0.9647\n",
      "Pop :  0.23782072888134076\n",
      "Act :  0.35774058577405854\n"
     ]
    },
    {
     "name": "stderr",
     "output_type": "stream",
     "text": [
      "IG_account_recommend_for_facebook_system.ipynb:8: SettingWithCopyWarning: \n",
      "A value is trying to be set on a copy of a slice from a DataFrame\n",
      "\n",
      "See the caveats in the documentation: http://pandas.pydata.org/pandas-docs/stable/user_guide/indexing.html#returning-a-view-versus-a-copy\n",
      "  ]\n"
     ]
    },
    {
     "name": "stdout",
     "output_type": "stream",
     "text": [
      "Pic :  0.01515151515151515\n",
      "all_score  1.5754128298069145\n",
      "------------------------------------------------------------------------------------------------\n",
      "楊雅如 , 11_hsin0126\n",
      "Prm :  0.8425\n",
      "Pop :  0.4100353754121414\n",
      "Act :  0.39254686785550985\n"
     ]
    },
    {
     "name": "stderr",
     "output_type": "stream",
     "text": [
      "IG_account_recommend_for_facebook_system.ipynb:8: SettingWithCopyWarning: \n",
      "A value is trying to be set on a copy of a slice from a DataFrame\n",
      "\n",
      "See the caveats in the documentation: http://pandas.pydata.org/pandas-docs/stable/user_guide/indexing.html#returning-a-view-versus-a-copy\n",
      "  ]\n"
     ]
    },
    {
     "name": "stdout",
     "output_type": "stream",
     "text": [
      "Pic :  0.06451612903225806\n",
      "all_score  1.7095983722999093\n",
      "------------------------------------------------------------------------------------------------\n",
      "楊雅如 , 12_tsaigray2018\n",
      "Prm :  0.8474\n",
      "Pop :  0.20037133792787482\n",
      "Act :  0.25428963623884693\n"
     ]
    },
    {
     "name": "stderr",
     "output_type": "stream",
     "text": [
      "IG_account_recommend_for_facebook_system.ipynb:8: SettingWithCopyWarning: \n",
      "A value is trying to be set on a copy of a slice from a DataFrame\n",
      "\n",
      "See the caveats in the documentation: http://pandas.pydata.org/pandas-docs/stable/user_guide/indexing.html#returning-a-view-versus-a-copy\n",
      "  ]\n"
     ]
    },
    {
     "name": "stdout",
     "output_type": "stream",
     "text": [
      "Pic :  0.0\n",
      "all_score  1.3020609741667217\n",
      "------------------------------------------------------------------------------------------------\n",
      "楊雅如 , 13_snowzaicat\n",
      "Prm :  0.7459\n",
      "Pop :  0.22682848695507282\n",
      "Act :  0.4876543209876543\n"
     ]
    },
    {
     "name": "stderr",
     "output_type": "stream",
     "text": [
      "IG_account_recommend_for_facebook_system.ipynb:8: SettingWithCopyWarning: \n",
      "A value is trying to be set on a copy of a slice from a DataFrame\n",
      "\n",
      "See the caveats in the documentation: http://pandas.pydata.org/pandas-docs/stable/user_guide/indexing.html#returning-a-view-versus-a-copy\n",
      "  ]\n"
     ]
    },
    {
     "name": "stdout",
     "output_type": "stream",
     "text": [
      "Pic :  0.0\n",
      "all_score  1.4603828079427272\n",
      "------------------------------------------------------------------------------------------------\n",
      "楊雅如 , 14_jc\n",
      "Prm :  0.9555\n",
      "division by zero\n",
      "division by zero\n",
      "Pop :  0.29054843552423265\n",
      "Act :  0.36518046709129515\n"
     ]
    },
    {
     "name": "stderr",
     "output_type": "stream",
     "text": [
      "IG_account_recommend_for_facebook_system.ipynb:8: SettingWithCopyWarning: \n",
      "A value is trying to be set on a copy of a slice from a DataFrame\n",
      "\n",
      "See the caveats in the documentation: http://pandas.pydata.org/pandas-docs/stable/user_guide/indexing.html#returning-a-view-versus-a-copy\n",
      "  ]\n"
     ]
    },
    {
     "name": "stdout",
     "output_type": "stream",
     "text": [
      "Pic :  0.0\n",
      "all_score  1.6112289026155278\n",
      "------------------------------------------------------------------------------------------------\n",
      "楊雅如 , 15_doctorkowj\n",
      "Prm :  0.7676\n",
      "Pop :  0.2129060955086605\n",
      "Act :  0.2558441558441558\n"
     ]
    },
    {
     "name": "stderr",
     "output_type": "stream",
     "text": [
      "IG_account_recommend_for_facebook_system.ipynb:8: SettingWithCopyWarning: \n",
      "A value is trying to be set on a copy of a slice from a DataFrame\n",
      "\n",
      "See the caveats in the documentation: http://pandas.pydata.org/pandas-docs/stable/user_guide/indexing.html#returning-a-view-versus-a-copy\n",
      "  ]\n"
     ]
    },
    {
     "name": "stdout",
     "output_type": "stream",
     "text": [
      "Pic :  0.044304794656773804\n",
      "all_score  1.28065504600959\n",
      "------------------------------------------------------------------------------------------------\n",
      "楊雅如 , 16_jaychou\n"
     ]
    },
    {
     "ename": "KeyError",
     "evalue": "['post content']",
     "output_type": "error",
     "traceback": [
      "\u001b[1;31m---------------------------------------------------------------------------\u001b[0m",
      "\u001b[1;31mKeyError\u001b[0m                                  Traceback (most recent call last)",
      "\u001b[1;32m~\\Documents\\畢業論文\\Code\\IG_account_recommend_for_facebook_system.ipynb\u001b[0m in \u001b[0;36m<module>\u001b[1;34m\u001b[0m\n\u001b[0;32m      1\u001b[0m \u001b[1;31m#去除空值row\u001b[0m\u001b[1;33m\u001b[0m\u001b[1;33m\u001b[0m\u001b[1;33m\u001b[0m\u001b[0m\n\u001b[0;32m      2\u001b[0m \u001b[0moringnal_df\u001b[0m \u001b[1;33m=\u001b[0m \u001b[0moringnal_df\u001b[0m\u001b[1;33m.\u001b[0m\u001b[0mdropna\u001b[0m\u001b[1;33m(\u001b[0m\u001b[0msubset\u001b[0m\u001b[1;33m=\u001b[0m\u001b[1;33m[\u001b[0m\u001b[1;34m\"message\"\u001b[0m\u001b[1;33m]\u001b[0m\u001b[1;33m)\u001b[0m\u001b[1;33m\u001b[0m\u001b[1;33m\u001b[0m\u001b[0m\n\u001b[1;32m----> 3\u001b[1;33m \u001b[0moringnal_ig_df\u001b[0m \u001b[1;33m=\u001b[0m \u001b[0moringnal_ig_df\u001b[0m\u001b[1;33m.\u001b[0m\u001b[0mdropna\u001b[0m\u001b[1;33m(\u001b[0m\u001b[0msubset\u001b[0m\u001b[1;33m=\u001b[0m\u001b[1;33m[\u001b[0m\u001b[1;34m\"post content\"\u001b[0m\u001b[1;33m]\u001b[0m\u001b[1;33m)\u001b[0m\u001b[1;33m\u001b[0m\u001b[1;33m\u001b[0m\u001b[0m\n\u001b[0m\u001b[0;32m      4\u001b[0m \u001b[0moringnal_df\u001b[0m\u001b[1;33m[\u001b[0m\u001b[1;34m'new'\u001b[0m\u001b[1;33m]\u001b[0m \u001b[1;33m=\u001b[0m \u001b[1;34m\"NEW\"\u001b[0m\u001b[1;33m\u001b[0m\u001b[1;33m\u001b[0m\u001b[0m\n\u001b[0;32m      5\u001b[0m \u001b[0moringnal_ig_df\u001b[0m\u001b[1;33m[\u001b[0m\u001b[1;34m'new content'\u001b[0m\u001b[1;33m]\u001b[0m \u001b[1;33m=\u001b[0m \u001b[1;34m\"None\"\u001b[0m\u001b[1;33m\u001b[0m\u001b[1;33m\u001b[0m\u001b[0m\n",
      "\u001b[1;32m~\\Anaconda3\\lib\\site-packages\\pandas\\core\\frame.py\u001b[0m in \u001b[0;36mdropna\u001b[1;34m(self, axis, how, thresh, subset, inplace)\u001b[0m\n\u001b[0;32m   4842\u001b[0m                 \u001b[0mcheck\u001b[0m \u001b[1;33m=\u001b[0m \u001b[0mindices\u001b[0m \u001b[1;33m==\u001b[0m \u001b[1;33m-\u001b[0m\u001b[1;36m1\u001b[0m\u001b[1;33m\u001b[0m\u001b[1;33m\u001b[0m\u001b[0m\n\u001b[0;32m   4843\u001b[0m                 \u001b[1;32mif\u001b[0m \u001b[0mcheck\u001b[0m\u001b[1;33m.\u001b[0m\u001b[0many\u001b[0m\u001b[1;33m(\u001b[0m\u001b[1;33m)\u001b[0m\u001b[1;33m:\u001b[0m\u001b[1;33m\u001b[0m\u001b[1;33m\u001b[0m\u001b[0m\n\u001b[1;32m-> 4844\u001b[1;33m                     \u001b[1;32mraise\u001b[0m \u001b[0mKeyError\u001b[0m\u001b[1;33m(\u001b[0m\u001b[0mlist\u001b[0m\u001b[1;33m(\u001b[0m\u001b[0mnp\u001b[0m\u001b[1;33m.\u001b[0m\u001b[0mcompress\u001b[0m\u001b[1;33m(\u001b[0m\u001b[0mcheck\u001b[0m\u001b[1;33m,\u001b[0m \u001b[0msubset\u001b[0m\u001b[1;33m)\u001b[0m\u001b[1;33m)\u001b[0m\u001b[1;33m)\u001b[0m\u001b[1;33m\u001b[0m\u001b[1;33m\u001b[0m\u001b[0m\n\u001b[0m\u001b[0;32m   4845\u001b[0m                 \u001b[0magg_obj\u001b[0m \u001b[1;33m=\u001b[0m \u001b[0mself\u001b[0m\u001b[1;33m.\u001b[0m\u001b[0mtake\u001b[0m\u001b[1;33m(\u001b[0m\u001b[0mindices\u001b[0m\u001b[1;33m,\u001b[0m \u001b[0maxis\u001b[0m\u001b[1;33m=\u001b[0m\u001b[0magg_axis\u001b[0m\u001b[1;33m)\u001b[0m\u001b[1;33m\u001b[0m\u001b[1;33m\u001b[0m\u001b[0m\n\u001b[0;32m   4846\u001b[0m \u001b[1;33m\u001b[0m\u001b[0m\n",
      "\u001b[1;31mKeyError\u001b[0m: ['post content']"
     ]
    },
    {
     "name": "stdout",
     "output_type": "stream",
     "text": [
      "------------------------------------------------------------------------------------------------\n",
      "楊雅如 , 17_sunnygirl800424\n",
      "Prm :  0.7623\n",
      "Pop :  0.2080247327628138\n",
      "Act :  0.45338774597495524\n"
     ]
    },
    {
     "name": "stderr",
     "output_type": "stream",
     "text": [
      "IG_account_recommend_for_facebook_system.ipynb:8: SettingWithCopyWarning: \n",
      "A value is trying to be set on a copy of a slice from a DataFrame\n",
      "\n",
      "See the caveats in the documentation: http://pandas.pydata.org/pandas-docs/stable/user_guide/indexing.html#returning-a-view-versus-a-copy\n",
      "  ]\n"
     ]
    },
    {
     "name": "stdout",
     "output_type": "stream",
     "text": [
      "Pic :  0.018867924528301886\n",
      "all_score  1.4425804032660707\n",
      "------------------------------------------------------------------------------------------------\n",
      "楊雅如 , 18_poptour_mag\n",
      "Prm :  0.8191\n",
      "division by zero\n",
      "Pop :  0.21333715576691406\n",
      "Act :  0.40826226012793176\n"
     ]
    },
    {
     "name": "stderr",
     "output_type": "stream",
     "text": [
      "IG_account_recommend_for_facebook_system.ipynb:8: SettingWithCopyWarning: \n",
      "A value is trying to be set on a copy of a slice from a DataFrame\n",
      "\n",
      "See the caveats in the documentation: http://pandas.pydata.org/pandas-docs/stable/user_guide/indexing.html#returning-a-view-versus-a-copy\n",
      "  ]\n"
     ]
    },
    {
     "name": "stdout",
     "output_type": "stream",
     "text": [
      "Pic :  0.04545454545454545\n",
      "all_score  1.4861539613493913\n",
      "------------------------------------------------------------------------------------------------\n",
      "楊雅如 , 19_bpintaiwan\n",
      "Prm :  0.8629\n",
      "division by zero\n",
      "division by zero\n",
      "division by zero\n",
      "division by zero\n",
      "division by zero\n",
      "division by zero\n",
      "division by zero\n",
      "division by zero\n",
      "division by zero\n",
      "division by zero\n",
      "division by zero\n",
      "division by zero\n",
      "division by zero\n",
      "division by zero\n",
      "division by zero\n",
      "division by zero\n",
      "division by zero\n",
      "division by zero\n",
      "division by zero\n",
      "division by zero\n",
      "division by zero\n",
      "division by zero\n",
      "division by zero\n",
      "division by zero\n",
      "division by zero\n",
      "division by zero\n",
      "division by zero\n",
      "division by zero\n",
      "Pop :  0.22623403188317157\n",
      "Act :  0.40111490653762216\n"
     ]
    },
    {
     "name": "stderr",
     "output_type": "stream",
     "text": [
      "IG_account_recommend_for_facebook_system.ipynb:8: SettingWithCopyWarning: \n",
      "A value is trying to be set on a copy of a slice from a DataFrame\n",
      "\n",
      "See the caveats in the documentation: http://pandas.pydata.org/pandas-docs/stable/user_guide/indexing.html#returning-a-view-versus-a-copy\n",
      "  ]\n"
     ]
    },
    {
     "name": "stdout",
     "output_type": "stream",
     "text": [
      "Pic :  0.04635070604680013\n",
      "all_score  1.5365996444675938\n",
      "------------------------------------------------------------------------------------------------\n",
      "楊雅如 , 1_arielsvlog_816\n",
      "Prm :  0.7976\n",
      "Pop :  0.20430916180601963\n",
      "Act :  0.2664835164835165\n"
     ]
    },
    {
     "name": "stderr",
     "output_type": "stream",
     "text": [
      "IG_account_recommend_for_facebook_system.ipynb:8: SettingWithCopyWarning: \n",
      "A value is trying to be set on a copy of a slice from a DataFrame\n",
      "\n",
      "See the caveats in the documentation: http://pandas.pydata.org/pandas-docs/stable/user_guide/indexing.html#returning-a-view-versus-a-copy\n",
      "  ]\n"
     ]
    },
    {
     "name": "stdout",
     "output_type": "stream",
     "text": [
      "Pic :  0.017857142857142856\n",
      "all_score  1.2862498211466789\n",
      "------------------------------------------------------------------------------------------------\n",
      "楊雅如 , 20_imma_pon\n",
      "Prm :  0.7071\n",
      "division by zero\n",
      "Pop :  0.22421824721884326\n",
      "Act :  0.5006860592755215\n"
     ]
    },
    {
     "name": "stderr",
     "output_type": "stream",
     "text": [
      "IG_account_recommend_for_facebook_system.ipynb:8: SettingWithCopyWarning: \n",
      "A value is trying to be set on a copy of a slice from a DataFrame\n",
      "\n",
      "See the caveats in the documentation: http://pandas.pydata.org/pandas-docs/stable/user_guide/indexing.html#returning-a-view-versus-a-copy\n",
      "  ]\n"
     ]
    },
    {
     "name": "stdout",
     "output_type": "stream",
     "text": [
      "Pic :  0.055814787058888114\n",
      "all_score  1.4878190935532527\n",
      "------------------------------------------------------------------------------------------------\n",
      "楊雅如 , 2_dentist_easoncheng\n",
      "Prm :  0.7884\n",
      "division by zero\n",
      "division by zero\n",
      "division by zero\n",
      "division by zero\n",
      "division by zero\n",
      "division by zero\n",
      "division by zero\n",
      "division by zero\n",
      "division by zero\n",
      "division by zero\n",
      "division by zero\n",
      "division by zero\n",
      "division by zero\n",
      "division by zero\n",
      "division by zero\n",
      "Pop :  0.2138748704661347\n",
      "Act :  0.35341974627688916\n"
     ]
    },
    {
     "name": "stderr",
     "output_type": "stream",
     "text": [
      "IG_account_recommend_for_facebook_system.ipynb:8: SettingWithCopyWarning: \n",
      "A value is trying to be set on a copy of a slice from a DataFrame\n",
      "\n",
      "See the caveats in the documentation: http://pandas.pydata.org/pandas-docs/stable/user_guide/indexing.html#returning-a-view-versus-a-copy\n",
      "  ]\n"
     ]
    },
    {
     "name": "stdout",
     "output_type": "stream",
     "text": [
      "Pic :  0.0\n",
      "all_score  1.3556946167430237\n",
      "------------------------------------------------------------------------------------------------\n",
      "楊雅如 , 3_yuniko0720\n",
      "Prm :  0.7617\n",
      "Pop :  0.2048432429955162\n",
      "Act :  0.2760683760683761\n"
     ]
    },
    {
     "name": "stderr",
     "output_type": "stream",
     "text": [
      "IG_account_recommend_for_facebook_system.ipynb:8: SettingWithCopyWarning: \n",
      "A value is trying to be set on a copy of a slice from a DataFrame\n",
      "\n",
      "See the caveats in the documentation: http://pandas.pydata.org/pandas-docs/stable/user_guide/indexing.html#returning-a-view-versus-a-copy\n",
      "  ]\n"
     ]
    },
    {
     "name": "stdout",
     "output_type": "stream",
     "text": [
      "Pic :  0.0\n",
      "all_score  1.2426116190638923\n",
      "------------------------------------------------------------------------------------------------\n",
      "楊雅如 , 4_rolling\n",
      "Prm :  0.8188\n",
      "division by zero\n",
      "division by zero\n",
      "division by zero\n",
      "division by zero\n",
      "division by zero\n",
      "division by zero\n",
      "division by zero\n",
      "division by zero\n",
      "division by zero\n",
      "division by zero\n",
      "division by zero\n",
      "division by zero\n",
      "division by zero\n",
      "division by zero\n",
      "division by zero\n",
      "division by zero\n",
      "division by zero\n",
      "division by zero\n",
      "division by zero\n",
      "division by zero\n",
      "division by zero\n",
      "division by zero\n",
      "division by zero\n",
      "division by zero\n",
      "division by zero\n",
      "division by zero\n",
      "division by zero\n",
      "division by zero\n",
      "division by zero\n",
      "division by zero\n",
      "division by zero\n",
      "division by zero\n",
      "division by zero\n",
      "division by zero\n",
      "division by zero\n",
      "division by zero\n",
      "division by zero\n",
      "division by zero\n",
      "division by zero\n",
      "division by zero\n",
      "division by zero\n",
      "division by zero\n",
      "division by zero\n",
      "division by zero\n",
      "division by zero\n",
      "division by zero\n",
      "division by zero\n",
      "division by zero\n",
      "Pop :  0.32393669469658715\n",
      "Act :  0.2527386541471049\n"
     ]
    },
    {
     "name": "stderr",
     "output_type": "stream",
     "text": [
      "IG_account_recommend_for_facebook_system.ipynb:8: SettingWithCopyWarning: \n",
      "A value is trying to be set on a copy of a slice from a DataFrame\n",
      "\n",
      "See the caveats in the documentation: http://pandas.pydata.org/pandas-docs/stable/user_guide/indexing.html#returning-a-view-versus-a-copy\n",
      "  ]\n"
     ]
    },
    {
     "name": "stdout",
     "output_type": "stream",
     "text": [
      "Pic :  0.04459719056414561\n",
      "all_score  1.4400725394078375\n",
      "------------------------------------------------------------------------------------------------\n",
      "楊雅如 , 5_melissaxhiker\n",
      "Prm :  0.7885\n",
      "division by zero\n",
      "division by zero\n",
      "division by zero\n",
      "division by zero\n",
      "division by zero\n",
      "division by zero\n",
      "division by zero\n",
      "division by zero\n",
      "division by zero\n",
      "division by zero\n",
      "division by zero\n",
      "division by zero\n",
      "division by zero\n",
      "division by zero\n",
      "division by zero\n",
      "division by zero\n",
      "division by zero\n",
      "division by zero\n",
      "division by zero\n",
      "Pop :  0.20813183337050378\n",
      "Act :  0.402046783625731\n"
     ]
    },
    {
     "name": "stderr",
     "output_type": "stream",
     "text": [
      "IG_account_recommend_for_facebook_system.ipynb:8: SettingWithCopyWarning: \n",
      "A value is trying to be set on a copy of a slice from a DataFrame\n",
      "\n",
      "See the caveats in the documentation: http://pandas.pydata.org/pandas-docs/stable/user_guide/indexing.html#returning-a-view-versus-a-copy\n",
      "  ]\n"
     ]
    },
    {
     "name": "stdout",
     "output_type": "stream",
     "text": [
      "Pic :  0.05587292279448955\n",
      "all_score  1.454551539790724\n",
      "------------------------------------------------------------------------------------------------\n",
      "楊雅如 , 6_cheers_tw\n",
      "Prm :  0.7895\n",
      "division by zero\n",
      "division by zero\n",
      "division by zero\n",
      "division by zero\n",
      "division by zero\n",
      "division by zero\n",
      "division by zero\n",
      "division by zero\n",
      "division by zero\n",
      "division by zero\n",
      "division by zero\n",
      "division by zero\n",
      "division by zero\n",
      "division by zero\n",
      "division by zero\n",
      "division by zero\n",
      "division by zero\n",
      "division by zero\n",
      "division by zero\n",
      "division by zero\n",
      "division by zero\n",
      "Pop :  0.21577408126122827\n",
      "Act :  0.25615474794841736\n"
     ]
    },
    {
     "name": "stderr",
     "output_type": "stream",
     "text": [
      "IG_account_recommend_for_facebook_system.ipynb:8: SettingWithCopyWarning: \n",
      "A value is trying to be set on a copy of a slice from a DataFrame\n",
      "\n",
      "See the caveats in the documentation: http://pandas.pydata.org/pandas-docs/stable/user_guide/indexing.html#returning-a-view-versus-a-copy\n",
      "  ]\n"
     ]
    },
    {
     "name": "stdout",
     "output_type": "stream",
     "text": [
      "Pic :  0.05409917921371211\n",
      "all_score  1.3155280084233578\n",
      "------------------------------------------------------------------------------------------------\n",
      "楊雅如 , 7_rocean___\n",
      "Prm :  0.8499\n",
      "division by zero\n",
      "division by zero\n",
      "division by zero\n",
      "division by zero\n",
      "division by zero\n",
      "division by zero\n",
      "division by zero\n",
      "division by zero\n",
      "Pop :  0.3270986506949915\n",
      "Act :  0.37045169385194476\n"
     ]
    },
    {
     "name": "stderr",
     "output_type": "stream",
     "text": [
      "IG_account_recommend_for_facebook_system.ipynb:8: SettingWithCopyWarning: \n",
      "A value is trying to be set on a copy of a slice from a DataFrame\n",
      "\n",
      "See the caveats in the documentation: http://pandas.pydata.org/pandas-docs/stable/user_guide/indexing.html#returning-a-view-versus-a-copy\n",
      "  ]\n"
     ]
    },
    {
     "name": "stdout",
     "output_type": "stream",
     "text": [
      "Pic :  0.0\n",
      "all_score  1.5474503445469363\n",
      "------------------------------------------------------------------------------------------------\n",
      "楊雅如 , 8_cbx\n",
      "Prm :  0.7899\n",
      "division by zero\n",
      "division by zero\n",
      "division by zero\n",
      "division by zero\n",
      "division by zero\n",
      "division by zero\n",
      "division by zero\n",
      "division by zero\n",
      "division by zero\n",
      "division by zero\n",
      "division by zero\n",
      "Pop :  0.21001846001771307\n",
      "Act :  0.2962662337662338\n"
     ]
    },
    {
     "name": "stderr",
     "output_type": "stream",
     "text": [
      "IG_account_recommend_for_facebook_system.ipynb:8: SettingWithCopyWarning: \n",
      "A value is trying to be set on a copy of a slice from a DataFrame\n",
      "\n",
      "See the caveats in the documentation: http://pandas.pydata.org/pandas-docs/stable/user_guide/indexing.html#returning-a-view-versus-a-copy\n",
      "  ]\n"
     ]
    },
    {
     "name": "stdout",
     "output_type": "stream",
     "text": [
      "Pic :  0.0303030303030303\n",
      "all_score  1.3264877240869772\n",
      "------------------------------------------------------------------------------------------------\n",
      "楊雅如 , 9_populzzang_mag\n",
      "Prm :  0.7924\n",
      "division by zero\n",
      "Pop :  0.2313699816554155\n",
      "Act :  0.25190961171228515\n"
     ]
    },
    {
     "name": "stderr",
     "output_type": "stream",
     "text": [
      "IG_account_recommend_for_facebook_system.ipynb:8: SettingWithCopyWarning: \n",
      "A value is trying to be set on a copy of a slice from a DataFrame\n",
      "\n",
      "See the caveats in the documentation: http://pandas.pydata.org/pandas-docs/stable/user_guide/indexing.html#returning-a-view-versus-a-copy\n",
      "  ]\n"
     ]
    },
    {
     "name": "stdout",
     "output_type": "stream",
     "text": [
      "Pic :  0.053126908148283095\n",
      "all_score  1.3288065015159838\n",
      "------------------------------------------------------------------------------------------------\n",
      "王美淋 , 10_hana\n",
      "Prm :  0.9304\n",
      "Pop :  0.23782072888134076\n",
      "Act :  0.35774058577405854\n"
     ]
    },
    {
     "name": "stderr",
     "output_type": "stream",
     "text": [
      "IG_account_recommend_for_facebook_system.ipynb:8: SettingWithCopyWarning: \n",
      "A value is trying to be set on a copy of a slice from a DataFrame\n",
      "\n",
      "See the caveats in the documentation: http://pandas.pydata.org/pandas-docs/stable/user_guide/indexing.html#returning-a-view-versus-a-copy\n",
      "  ]\n"
     ]
    },
    {
     "name": "stdout",
     "output_type": "stream",
     "text": [
      "Pic :  0.01515151515151515\n",
      "all_score  1.5411128298069146\n",
      "------------------------------------------------------------------------------------------------\n",
      "王美淋 , 11_hsin0126\n",
      "Prm :  0.814\n",
      "Pop :  0.4100353754121414\n",
      "Act :  0.39254686785550985\n"
     ]
    },
    {
     "name": "stderr",
     "output_type": "stream",
     "text": [
      "IG_account_recommend_for_facebook_system.ipynb:8: SettingWithCopyWarning: \n",
      "A value is trying to be set on a copy of a slice from a DataFrame\n",
      "\n",
      "See the caveats in the documentation: http://pandas.pydata.org/pandas-docs/stable/user_guide/indexing.html#returning-a-view-versus-a-copy\n",
      "  ]\n"
     ]
    },
    {
     "name": "stdout",
     "output_type": "stream",
     "text": [
      "Pic :  0.06451612903225806\n",
      "all_score  1.6810983722999095\n",
      "------------------------------------------------------------------------------------------------\n",
      "王美淋 , 12_tsaigray2018\n",
      "Prm :  0.7371\n",
      "Pop :  0.20037133792787482\n",
      "Act :  0.25428963623884693\n"
     ]
    },
    {
     "name": "stderr",
     "output_type": "stream",
     "text": [
      "IG_account_recommend_for_facebook_system.ipynb:8: SettingWithCopyWarning: \n",
      "A value is trying to be set on a copy of a slice from a DataFrame\n",
      "\n",
      "See the caveats in the documentation: http://pandas.pydata.org/pandas-docs/stable/user_guide/indexing.html#returning-a-view-versus-a-copy\n",
      "  ]\n"
     ]
    },
    {
     "name": "stdout",
     "output_type": "stream",
     "text": [
      "Pic :  0.010467904883688796\n",
      "all_score  1.2022288790504105\n",
      "------------------------------------------------------------------------------------------------\n",
      "王美淋 , 13_snowzaicat\n",
      "Prm :  0.7511\n",
      "Pop :  0.22682848695507282\n",
      "Act :  0.4876543209876543\n"
     ]
    },
    {
     "name": "stderr",
     "output_type": "stream",
     "text": [
      "IG_account_recommend_for_facebook_system.ipynb:8: SettingWithCopyWarning: \n",
      "A value is trying to be set on a copy of a slice from a DataFrame\n",
      "\n",
      "See the caveats in the documentation: http://pandas.pydata.org/pandas-docs/stable/user_guide/indexing.html#returning-a-view-versus-a-copy\n",
      "  ]\n"
     ]
    },
    {
     "name": "stdout",
     "output_type": "stream",
     "text": [
      "Pic :  0.0\n",
      "all_score  1.465582807942727\n",
      "------------------------------------------------------------------------------------------------\n",
      "王美淋 , 14_jc\n",
      "Prm :  0.795\n",
      "division by zero\n",
      "division by zero\n",
      "Pop :  0.29054843552423265\n",
      "Act :  0.36518046709129515\n"
     ]
    },
    {
     "name": "stderr",
     "output_type": "stream",
     "text": [
      "IG_account_recommend_for_facebook_system.ipynb:8: SettingWithCopyWarning: \n",
      "A value is trying to be set on a copy of a slice from a DataFrame\n",
      "\n",
      "See the caveats in the documentation: http://pandas.pydata.org/pandas-docs/stable/user_guide/indexing.html#returning-a-view-versus-a-copy\n",
      "  ]\n"
     ]
    },
    {
     "name": "stdout",
     "output_type": "stream",
     "text": [
      "Pic :  0.0\n",
      "all_score  1.450728902615528\n",
      "------------------------------------------------------------------------------------------------\n",
      "王美淋 , 15_doctorkowj\n",
      "Prm :  0.7548\n",
      "Pop :  0.2129060955086605\n",
      "Act :  0.2558441558441558\n"
     ]
    },
    {
     "name": "stderr",
     "output_type": "stream",
     "text": [
      "IG_account_recommend_for_facebook_system.ipynb:8: SettingWithCopyWarning: \n",
      "A value is trying to be set on a copy of a slice from a DataFrame\n",
      "\n",
      "See the caveats in the documentation: http://pandas.pydata.org/pandas-docs/stable/user_guide/indexing.html#returning-a-view-versus-a-copy\n",
      "  ]\n"
     ]
    },
    {
     "name": "stdout",
     "output_type": "stream",
     "text": [
      "Pic :  0.012195121951219511\n",
      "all_score  1.2357453733040358\n",
      "------------------------------------------------------------------------------------------------\n",
      "王美淋 , 16_jaychou\n"
     ]
    },
    {
     "ename": "KeyError",
     "evalue": "['post content']",
     "output_type": "error",
     "traceback": [
      "\u001b[1;31m---------------------------------------------------------------------------\u001b[0m",
      "\u001b[1;31mKeyError\u001b[0m                                  Traceback (most recent call last)",
      "\u001b[1;32m~\\Documents\\畢業論文\\Code\\IG_account_recommend_for_facebook_system.ipynb\u001b[0m in \u001b[0;36m<module>\u001b[1;34m\u001b[0m\n\u001b[0;32m      1\u001b[0m \u001b[1;31m#去除空值row\u001b[0m\u001b[1;33m\u001b[0m\u001b[1;33m\u001b[0m\u001b[1;33m\u001b[0m\u001b[0m\n\u001b[0;32m      2\u001b[0m \u001b[0moringnal_df\u001b[0m \u001b[1;33m=\u001b[0m \u001b[0moringnal_df\u001b[0m\u001b[1;33m.\u001b[0m\u001b[0mdropna\u001b[0m\u001b[1;33m(\u001b[0m\u001b[0msubset\u001b[0m\u001b[1;33m=\u001b[0m\u001b[1;33m[\u001b[0m\u001b[1;34m\"message\"\u001b[0m\u001b[1;33m]\u001b[0m\u001b[1;33m)\u001b[0m\u001b[1;33m\u001b[0m\u001b[1;33m\u001b[0m\u001b[0m\n\u001b[1;32m----> 3\u001b[1;33m \u001b[0moringnal_ig_df\u001b[0m \u001b[1;33m=\u001b[0m \u001b[0moringnal_ig_df\u001b[0m\u001b[1;33m.\u001b[0m\u001b[0mdropna\u001b[0m\u001b[1;33m(\u001b[0m\u001b[0msubset\u001b[0m\u001b[1;33m=\u001b[0m\u001b[1;33m[\u001b[0m\u001b[1;34m\"post content\"\u001b[0m\u001b[1;33m]\u001b[0m\u001b[1;33m)\u001b[0m\u001b[1;33m\u001b[0m\u001b[1;33m\u001b[0m\u001b[0m\n\u001b[0m\u001b[0;32m      4\u001b[0m \u001b[0moringnal_df\u001b[0m\u001b[1;33m[\u001b[0m\u001b[1;34m'new'\u001b[0m\u001b[1;33m]\u001b[0m \u001b[1;33m=\u001b[0m \u001b[1;34m\"NEW\"\u001b[0m\u001b[1;33m\u001b[0m\u001b[1;33m\u001b[0m\u001b[0m\n\u001b[0;32m      5\u001b[0m \u001b[0moringnal_ig_df\u001b[0m\u001b[1;33m[\u001b[0m\u001b[1;34m'new content'\u001b[0m\u001b[1;33m]\u001b[0m \u001b[1;33m=\u001b[0m \u001b[1;34m\"None\"\u001b[0m\u001b[1;33m\u001b[0m\u001b[1;33m\u001b[0m\u001b[0m\n",
      "\u001b[1;32m~\\Anaconda3\\lib\\site-packages\\pandas\\core\\frame.py\u001b[0m in \u001b[0;36mdropna\u001b[1;34m(self, axis, how, thresh, subset, inplace)\u001b[0m\n\u001b[0;32m   4842\u001b[0m                 \u001b[0mcheck\u001b[0m \u001b[1;33m=\u001b[0m \u001b[0mindices\u001b[0m \u001b[1;33m==\u001b[0m \u001b[1;33m-\u001b[0m\u001b[1;36m1\u001b[0m\u001b[1;33m\u001b[0m\u001b[1;33m\u001b[0m\u001b[0m\n\u001b[0;32m   4843\u001b[0m                 \u001b[1;32mif\u001b[0m \u001b[0mcheck\u001b[0m\u001b[1;33m.\u001b[0m\u001b[0many\u001b[0m\u001b[1;33m(\u001b[0m\u001b[1;33m)\u001b[0m\u001b[1;33m:\u001b[0m\u001b[1;33m\u001b[0m\u001b[1;33m\u001b[0m\u001b[0m\n\u001b[1;32m-> 4844\u001b[1;33m                     \u001b[1;32mraise\u001b[0m \u001b[0mKeyError\u001b[0m\u001b[1;33m(\u001b[0m\u001b[0mlist\u001b[0m\u001b[1;33m(\u001b[0m\u001b[0mnp\u001b[0m\u001b[1;33m.\u001b[0m\u001b[0mcompress\u001b[0m\u001b[1;33m(\u001b[0m\u001b[0mcheck\u001b[0m\u001b[1;33m,\u001b[0m \u001b[0msubset\u001b[0m\u001b[1;33m)\u001b[0m\u001b[1;33m)\u001b[0m\u001b[1;33m)\u001b[0m\u001b[1;33m\u001b[0m\u001b[1;33m\u001b[0m\u001b[0m\n\u001b[0m\u001b[0;32m   4845\u001b[0m                 \u001b[0magg_obj\u001b[0m \u001b[1;33m=\u001b[0m \u001b[0mself\u001b[0m\u001b[1;33m.\u001b[0m\u001b[0mtake\u001b[0m\u001b[1;33m(\u001b[0m\u001b[0mindices\u001b[0m\u001b[1;33m,\u001b[0m \u001b[0maxis\u001b[0m\u001b[1;33m=\u001b[0m\u001b[0magg_axis\u001b[0m\u001b[1;33m)\u001b[0m\u001b[1;33m\u001b[0m\u001b[1;33m\u001b[0m\u001b[0m\n\u001b[0;32m   4846\u001b[0m \u001b[1;33m\u001b[0m\u001b[0m\n",
      "\u001b[1;31mKeyError\u001b[0m: ['post content']"
     ]
    },
    {
     "name": "stdout",
     "output_type": "stream",
     "text": [
      "------------------------------------------------------------------------------------------------\n",
      "王美淋 , 17_sunnygirl800424\n",
      "Prm :  0.7856\n",
      "Pop :  0.2080247327628138\n",
      "Act :  0.45338774597495524\n"
     ]
    },
    {
     "name": "stderr",
     "output_type": "stream",
     "text": [
      "IG_account_recommend_for_facebook_system.ipynb:8: SettingWithCopyWarning: \n",
      "A value is trying to be set on a copy of a slice from a DataFrame\n",
      "\n",
      "See the caveats in the documentation: http://pandas.pydata.org/pandas-docs/stable/user_guide/indexing.html#returning-a-view-versus-a-copy\n",
      "  ]\n"
     ]
    },
    {
     "name": "stdout",
     "output_type": "stream",
     "text": [
      "Pic :  0.009433962264150943\n",
      "all_score  1.45644644100192\n",
      "------------------------------------------------------------------------------------------------\n",
      "王美淋 , 18_poptour_mag\n",
      "Prm :  1.0107\n",
      "division by zero\n",
      "Pop :  0.21333715576691406\n",
      "Act :  0.40826226012793176\n"
     ]
    },
    {
     "name": "stderr",
     "output_type": "stream",
     "text": [
      "IG_account_recommend_for_facebook_system.ipynb:8: SettingWithCopyWarning: \n",
      "A value is trying to be set on a copy of a slice from a DataFrame\n",
      "\n",
      "See the caveats in the documentation: http://pandas.pydata.org/pandas-docs/stable/user_guide/indexing.html#returning-a-view-versus-a-copy\n",
      "  ]\n"
     ]
    },
    {
     "name": "stdout",
     "output_type": "stream",
     "text": [
      "Pic :  0.008035304331665312\n",
      "all_score  1.640334720226511\n",
      "------------------------------------------------------------------------------------------------\n",
      "王美淋 , 19_bpintaiwan\n",
      "Prm :  0.818\n",
      "division by zero\n",
      "division by zero\n",
      "division by zero\n",
      "division by zero\n",
      "division by zero\n",
      "division by zero\n",
      "division by zero\n",
      "division by zero\n",
      "division by zero\n",
      "division by zero\n",
      "division by zero\n",
      "division by zero\n",
      "division by zero\n",
      "division by zero\n",
      "division by zero\n",
      "division by zero\n",
      "division by zero\n",
      "Pop :  0.22715152449923282\n",
      "Act :  0.40111490653762216\n"
     ]
    },
    {
     "name": "stderr",
     "output_type": "stream",
     "text": [
      "IG_account_recommend_for_facebook_system.ipynb:8: SettingWithCopyWarning: \n",
      "A value is trying to be set on a copy of a slice from a DataFrame\n",
      "\n",
      "See the caveats in the documentation: http://pandas.pydata.org/pandas-docs/stable/user_guide/indexing.html#returning-a-view-versus-a-copy\n",
      "  ]\n"
     ]
    },
    {
     "name": "stdout",
     "output_type": "stream",
     "text": [
      "Pic :  0.025604514372070234\n",
      "all_score  1.471870945408925\n",
      "------------------------------------------------------------------------------------------------\n",
      "王美淋 , 1_arielsvlog_816\n",
      "Prm :  0.8368\n",
      "Pop :  0.20430916180601963\n",
      "Act :  0.2664835164835165\n"
     ]
    },
    {
     "name": "stderr",
     "output_type": "stream",
     "text": [
      "IG_account_recommend_for_facebook_system.ipynb:8: SettingWithCopyWarning: \n",
      "A value is trying to be set on a copy of a slice from a DataFrame\n",
      "\n",
      "See the caveats in the documentation: http://pandas.pydata.org/pandas-docs/stable/user_guide/indexing.html#returning-a-view-versus-a-copy\n",
      "  ]\n"
     ]
    },
    {
     "name": "stdout",
     "output_type": "stream",
     "text": [
      "Pic :  0.05441440578979549\n",
      "all_score  1.3620070840793315\n",
      "------------------------------------------------------------------------------------------------\n",
      "王美淋 , 20_imma_pon\n",
      "Prm :  0.7432\n",
      "division by zero\n",
      "Pop :  0.22365579308616046\n",
      "Act :  0.5006860592755215\n"
     ]
    },
    {
     "name": "stderr",
     "output_type": "stream",
     "text": [
      "IG_account_recommend_for_facebook_system.ipynb:8: SettingWithCopyWarning: \n",
      "A value is trying to be set on a copy of a slice from a DataFrame\n",
      "\n",
      "See the caveats in the documentation: http://pandas.pydata.org/pandas-docs/stable/user_guide/indexing.html#returning-a-view-versus-a-copy\n",
      "  ]\n"
     ]
    },
    {
     "name": "stdout",
     "output_type": "stream",
     "text": [
      "Pic :  0.034695423462979325\n",
      "all_score  1.5022372758246614\n",
      "------------------------------------------------------------------------------------------------\n",
      "王美淋 , 2_dentist_easoncheng\n",
      "Prm :  0.7642\n",
      "division by zero\n",
      "division by zero\n",
      "division by zero\n",
      "division by zero\n",
      "division by zero\n",
      "division by zero\n",
      "division by zero\n",
      "division by zero\n",
      "division by zero\n",
      "division by zero\n",
      "division by zero\n",
      "division by zero\n",
      "division by zero\n",
      "Pop :  0.21425252566510636\n",
      "Act :  0.35341974627688916\n"
     ]
    },
    {
     "name": "stderr",
     "output_type": "stream",
     "text": [
      "IG_account_recommend_for_facebook_system.ipynb:8: SettingWithCopyWarning: \n",
      "A value is trying to be set on a copy of a slice from a DataFrame\n",
      "\n",
      "See the caveats in the documentation: http://pandas.pydata.org/pandas-docs/stable/user_guide/indexing.html#returning-a-view-versus-a-copy\n",
      "  ]\n"
     ]
    },
    {
     "name": "stdout",
     "output_type": "stream",
     "text": [
      "Pic :  0.00909090909090909\n",
      "all_score  1.3409631810329046\n",
      "------------------------------------------------------------------------------------------------\n",
      "王美淋 , 3_yuniko0720\n",
      "Prm :  0.7521\n",
      "Pop :  0.2048432429955162\n",
      "Act :  0.2760683760683761\n"
     ]
    },
    {
     "name": "stderr",
     "output_type": "stream",
     "text": [
      "IG_account_recommend_for_facebook_system.ipynb:8: SettingWithCopyWarning: \n",
      "A value is trying to be set on a copy of a slice from a DataFrame\n",
      "\n",
      "See the caveats in the documentation: http://pandas.pydata.org/pandas-docs/stable/user_guide/indexing.html#returning-a-view-versus-a-copy\n",
      "  ]\n"
     ]
    },
    {
     "name": "stdout",
     "output_type": "stream",
     "text": [
      "Pic :  0.017246506858208475\n",
      "all_score  1.2502581259221008\n",
      "------------------------------------------------------------------------------------------------\n",
      "王美淋 , 4_rolling\n",
      "Prm :  0.861\n",
      "division by zero\n",
      "division by zero\n",
      "division by zero\n",
      "division by zero\n",
      "division by zero\n",
      "division by zero\n",
      "division by zero\n",
      "division by zero\n",
      "division by zero\n",
      "division by zero\n",
      "division by zero\n",
      "division by zero\n",
      "division by zero\n",
      "division by zero\n",
      "division by zero\n",
      "division by zero\n",
      "division by zero\n",
      "division by zero\n",
      "division by zero\n",
      "division by zero\n",
      "division by zero\n",
      "division by zero\n",
      "division by zero\n",
      "division by zero\n",
      "division by zero\n",
      "division by zero\n",
      "division by zero\n",
      "division by zero\n",
      "division by zero\n",
      "division by zero\n",
      "division by zero\n",
      "division by zero\n",
      "division by zero\n",
      "division by zero\n",
      "division by zero\n",
      "division by zero\n",
      "division by zero\n",
      "division by zero\n",
      "division by zero\n",
      "division by zero\n",
      "division by zero\n",
      "division by zero\n",
      "division by zero\n",
      "division by zero\n",
      "division by zero\n",
      "division by zero\n",
      "division by zero\n",
      "division by zero\n",
      "Pop :  0.32393669469658715\n",
      "Act :  0.2527386541471049\n"
     ]
    },
    {
     "name": "stderr",
     "output_type": "stream",
     "text": [
      "IG_account_recommend_for_facebook_system.ipynb:8: SettingWithCopyWarning: \n",
      "A value is trying to be set on a copy of a slice from a DataFrame\n",
      "\n",
      "See the caveats in the documentation: http://pandas.pydata.org/pandas-docs/stable/user_guide/indexing.html#returning-a-view-versus-a-copy\n",
      "  ]\n"
     ]
    },
    {
     "name": "stdout",
     "output_type": "stream",
     "text": [
      "Pic :  0.02235382928123236\n",
      "all_score  1.4600291781249242\n",
      "------------------------------------------------------------------------------------------------\n",
      "王美淋 , 5_melissaxhiker\n",
      "Prm :  0.7844\n",
      "division by zero\n",
      "division by zero\n",
      "division by zero\n",
      "division by zero\n",
      "division by zero\n",
      "division by zero\n",
      "division by zero\n",
      "division by zero\n",
      "division by zero\n",
      "division by zero\n",
      "division by zero\n",
      "division by zero\n",
      "division by zero\n",
      "division by zero\n",
      "division by zero\n",
      "division by zero\n",
      "division by zero\n",
      "Pop :  0.20877907458941442\n",
      "Act :  0.402046783625731\n"
     ]
    },
    {
     "name": "stderr",
     "output_type": "stream",
     "text": [
      "IG_account_recommend_for_facebook_system.ipynb:8: SettingWithCopyWarning: \n",
      "A value is trying to be set on a copy of a slice from a DataFrame\n",
      "\n",
      "See the caveats in the documentation: http://pandas.pydata.org/pandas-docs/stable/user_guide/indexing.html#returning-a-view-versus-a-copy\n",
      "  ]\n"
     ]
    },
    {
     "name": "stdout",
     "output_type": "stream",
     "text": [
      "Pic :  0.02194739602157359\n",
      "all_score  1.4171732542367188\n",
      "------------------------------------------------------------------------------------------------\n",
      "王美淋 , 6_cheers_tw\n",
      "Prm :  0.8986\n",
      "division by zero\n",
      "division by zero\n",
      "division by zero\n",
      "division by zero\n",
      "division by zero\n",
      "division by zero\n",
      "division by zero\n",
      "division by zero\n",
      "division by zero\n",
      "division by zero\n",
      "division by zero\n",
      "division by zero\n",
      "division by zero\n",
      "division by zero\n",
      "division by zero\n",
      "division by zero\n",
      "division by zero\n",
      "Pop :  0.21561835445234295\n",
      "Act :  0.25615474794841736\n"
     ]
    },
    {
     "name": "stderr",
     "output_type": "stream",
     "text": [
      "IG_account_recommend_for_facebook_system.ipynb:8: SettingWithCopyWarning: \n",
      "A value is trying to be set on a copy of a slice from a DataFrame\n",
      "\n",
      "See the caveats in the documentation: http://pandas.pydata.org/pandas-docs/stable/user_guide/indexing.html#returning-a-view-versus-a-copy\n",
      "  ]\n"
     ]
    },
    {
     "name": "stdout",
     "output_type": "stream",
     "text": [
      "Pic :  0.01818181818181818\n",
      "all_score  1.3885549205825785\n",
      "------------------------------------------------------------------------------------------------\n",
      "王美淋 , 7_rocean___\n",
      "Prm :  0.7753\n",
      "division by zero\n",
      "division by zero\n",
      "division by zero\n",
      "division by zero\n",
      "division by zero\n",
      "division by zero\n",
      "division by zero\n",
      "division by zero\n",
      "Pop :  0.3270986506949915\n",
      "Act :  0.37045169385194476\n"
     ]
    },
    {
     "name": "stderr",
     "output_type": "stream",
     "text": [
      "IG_account_recommend_for_facebook_system.ipynb:8: SettingWithCopyWarning: \n",
      "A value is trying to be set on a copy of a slice from a DataFrame\n",
      "\n",
      "See the caveats in the documentation: http://pandas.pydata.org/pandas-docs/stable/user_guide/indexing.html#returning-a-view-versus-a-copy\n",
      "  ]\n"
     ]
    },
    {
     "name": "stdout",
     "output_type": "stream",
     "text": [
      "Pic :  0.0\n",
      "all_score  1.472850344546936\n",
      "------------------------------------------------------------------------------------------------\n",
      "王美淋 , 8_cbx\n",
      "Prm :  0.8221\n",
      "division by zero\n",
      "division by zero\n",
      "division by zero\n",
      "division by zero\n",
      "division by zero\n",
      "division by zero\n",
      "division by zero\n",
      "division by zero\n",
      "division by zero\n",
      "division by zero\n",
      "Pop :  0.21082453685803318\n",
      "Act :  0.2962662337662338\n"
     ]
    },
    {
     "name": "stderr",
     "output_type": "stream",
     "text": [
      "IG_account_recommend_for_facebook_system.ipynb:8: SettingWithCopyWarning: \n",
      "A value is trying to be set on a copy of a slice from a DataFrame\n",
      "\n",
      "See the caveats in the documentation: http://pandas.pydata.org/pandas-docs/stable/user_guide/indexing.html#returning-a-view-versus-a-copy\n",
      "  ]\n"
     ]
    },
    {
     "name": "stdout",
     "output_type": "stream",
     "text": [
      "Pic :  0.056963512033735494\n",
      "all_score  1.3861542826580027\n",
      "------------------------------------------------------------------------------------------------\n",
      "王美淋 , 9_populzzang_mag\n",
      "Prm :  0.7771\n",
      "division by zero\n",
      "Pop :  0.2313702329254214\n",
      "Act :  0.25190961171228515\n"
     ]
    },
    {
     "name": "stderr",
     "output_type": "stream",
     "text": [
      "IG_account_recommend_for_facebook_system.ipynb:8: SettingWithCopyWarning: \n",
      "A value is trying to be set on a copy of a slice from a DataFrame\n",
      "\n",
      "See the caveats in the documentation: http://pandas.pydata.org/pandas-docs/stable/user_guide/indexing.html#returning-a-view-versus-a-copy\n",
      "  ]\n"
     ]
    },
    {
     "name": "stdout",
     "output_type": "stream",
     "text": [
      "Pic :  0.011627906976744184\n",
      "all_score  1.2720077516144508\n",
      "------------------------------------------------------------------------------------------------\n",
      "蕭郁璋 , 10_hana\n",
      "Prm :  0.769\n",
      "Pop :  0.23588466688519372\n",
      "Act :  0.35774058577405854\n"
     ]
    },
    {
     "name": "stderr",
     "output_type": "stream",
     "text": [
      "IG_account_recommend_for_facebook_system.ipynb:8: SettingWithCopyWarning: \n",
      "A value is trying to be set on a copy of a slice from a DataFrame\n",
      "\n",
      "See the caveats in the documentation: http://pandas.pydata.org/pandas-docs/stable/user_guide/indexing.html#returning-a-view-versus-a-copy\n",
      "  ]\n"
     ]
    },
    {
     "name": "stdout",
     "output_type": "stream",
     "text": [
      "Pic :  0.0\n",
      "all_score  1.3626252526592524\n",
      "------------------------------------------------------------------------------------------------\n",
      "蕭郁璋 , 11_hsin0126\n",
      "Prm :  0.739\n",
      "Pop :  0.40906633921539626\n",
      "Act :  0.39254686785550985\n"
     ]
    },
    {
     "name": "stderr",
     "output_type": "stream",
     "text": [
      "IG_account_recommend_for_facebook_system.ipynb:8: SettingWithCopyWarning: \n",
      "A value is trying to be set on a copy of a slice from a DataFrame\n",
      "\n",
      "See the caveats in the documentation: http://pandas.pydata.org/pandas-docs/stable/user_guide/indexing.html#returning-a-view-versus-a-copy\n",
      "  ]\n"
     ]
    },
    {
     "name": "stdout",
     "output_type": "stream",
     "text": [
      "Pic :  0.09374999999999999\n",
      "all_score  1.6343632070709062\n",
      "------------------------------------------------------------------------------------------------\n",
      "蕭郁璋 , 12_tsaigray2018\n",
      "Prm :  0.7219\n",
      "Pop :  0.20035583773007176\n",
      "Act :  0.25428963623884693\n"
     ]
    },
    {
     "name": "stderr",
     "output_type": "stream",
     "text": [
      "IG_account_recommend_for_facebook_system.ipynb:8: SettingWithCopyWarning: \n",
      "A value is trying to be set on a copy of a slice from a DataFrame\n",
      "\n",
      "See the caveats in the documentation: http://pandas.pydata.org/pandas-docs/stable/user_guide/indexing.html#returning-a-view-versus-a-copy\n",
      "  ]\n"
     ]
    },
    {
     "name": "stdout",
     "output_type": "stream",
     "text": [
      "Pic :  0.0\n",
      "all_score  1.1765454739689187\n",
      "------------------------------------------------------------------------------------------------\n",
      "蕭郁璋 , 13_snowzaicat\n",
      "Prm :  0.6263\n",
      "Pop :  0.23514062892950166\n",
      "Act :  0.4876543209876543\n"
     ]
    },
    {
     "name": "stderr",
     "output_type": "stream",
     "text": [
      "IG_account_recommend_for_facebook_system.ipynb:8: SettingWithCopyWarning: \n",
      "A value is trying to be set on a copy of a slice from a DataFrame\n",
      "\n",
      "See the caveats in the documentation: http://pandas.pydata.org/pandas-docs/stable/user_guide/indexing.html#returning-a-view-versus-a-copy\n",
      "  ]\n"
     ]
    },
    {
     "name": "stdout",
     "output_type": "stream",
     "text": [
      "Pic :  0.0\n",
      "all_score  1.3490949499171558\n",
      "------------------------------------------------------------------------------------------------\n",
      "蕭郁璋 , 14_jc\n",
      "Prm :  0.7968\n",
      "division by zero\n",
      "division by zero\n",
      "Pop :  0.2760575362263935\n",
      "Act :  0.36518046709129515\n"
     ]
    },
    {
     "name": "stderr",
     "output_type": "stream",
     "text": [
      "IG_account_recommend_for_facebook_system.ipynb:8: SettingWithCopyWarning: \n",
      "A value is trying to be set on a copy of a slice from a DataFrame\n",
      "\n",
      "See the caveats in the documentation: http://pandas.pydata.org/pandas-docs/stable/user_guide/indexing.html#returning-a-view-versus-a-copy\n",
      "  ]\n"
     ]
    },
    {
     "name": "stdout",
     "output_type": "stream",
     "text": [
      "Pic :  0.0\n",
      "all_score  1.4380380033176885\n",
      "------------------------------------------------------------------------------------------------\n",
      "蕭郁璋 , 15_doctorkowj\n",
      "Prm :  0.7027\n",
      "Pop :  0.21230195784775252\n",
      "Act :  0.2558441558441558\n"
     ]
    },
    {
     "name": "stderr",
     "output_type": "stream",
     "text": [
      "IG_account_recommend_for_facebook_system.ipynb:8: SettingWithCopyWarning: \n",
      "A value is trying to be set on a copy of a slice from a DataFrame\n",
      "\n",
      "See the caveats in the documentation: http://pandas.pydata.org/pandas-docs/stable/user_guide/indexing.html#returning-a-view-versus-a-copy\n",
      "  ]\n"
     ]
    },
    {
     "name": "stdout",
     "output_type": "stream",
     "text": [
      "Pic :  0.0\n",
      "all_score  1.1708461136919084\n",
      "------------------------------------------------------------------------------------------------\n",
      "蕭郁璋 , 16_jaychou\n"
     ]
    },
    {
     "ename": "KeyError",
     "evalue": "['post content']",
     "output_type": "error",
     "traceback": [
      "\u001b[1;31m---------------------------------------------------------------------------\u001b[0m",
      "\u001b[1;31mKeyError\u001b[0m                                  Traceback (most recent call last)",
      "\u001b[1;32m~\\Documents\\畢業論文\\Code\\IG_account_recommend_for_facebook_system.ipynb\u001b[0m in \u001b[0;36m<module>\u001b[1;34m\u001b[0m\n\u001b[0;32m      1\u001b[0m \u001b[1;31m#去除空值row\u001b[0m\u001b[1;33m\u001b[0m\u001b[1;33m\u001b[0m\u001b[1;33m\u001b[0m\u001b[0m\n\u001b[0;32m      2\u001b[0m \u001b[0moringnal_df\u001b[0m \u001b[1;33m=\u001b[0m \u001b[0moringnal_df\u001b[0m\u001b[1;33m.\u001b[0m\u001b[0mdropna\u001b[0m\u001b[1;33m(\u001b[0m\u001b[0msubset\u001b[0m\u001b[1;33m=\u001b[0m\u001b[1;33m[\u001b[0m\u001b[1;34m\"message\"\u001b[0m\u001b[1;33m]\u001b[0m\u001b[1;33m)\u001b[0m\u001b[1;33m\u001b[0m\u001b[1;33m\u001b[0m\u001b[0m\n\u001b[1;32m----> 3\u001b[1;33m \u001b[0moringnal_ig_df\u001b[0m \u001b[1;33m=\u001b[0m \u001b[0moringnal_ig_df\u001b[0m\u001b[1;33m.\u001b[0m\u001b[0mdropna\u001b[0m\u001b[1;33m(\u001b[0m\u001b[0msubset\u001b[0m\u001b[1;33m=\u001b[0m\u001b[1;33m[\u001b[0m\u001b[1;34m\"post content\"\u001b[0m\u001b[1;33m]\u001b[0m\u001b[1;33m)\u001b[0m\u001b[1;33m\u001b[0m\u001b[1;33m\u001b[0m\u001b[0m\n\u001b[0m\u001b[0;32m      4\u001b[0m \u001b[0moringnal_df\u001b[0m\u001b[1;33m[\u001b[0m\u001b[1;34m'new'\u001b[0m\u001b[1;33m]\u001b[0m \u001b[1;33m=\u001b[0m \u001b[1;34m\"NEW\"\u001b[0m\u001b[1;33m\u001b[0m\u001b[1;33m\u001b[0m\u001b[0m\n\u001b[0;32m      5\u001b[0m \u001b[0moringnal_ig_df\u001b[0m\u001b[1;33m[\u001b[0m\u001b[1;34m'new content'\u001b[0m\u001b[1;33m]\u001b[0m \u001b[1;33m=\u001b[0m \u001b[1;34m\"None\"\u001b[0m\u001b[1;33m\u001b[0m\u001b[1;33m\u001b[0m\u001b[0m\n",
      "\u001b[1;32m~\\Anaconda3\\lib\\site-packages\\pandas\\core\\frame.py\u001b[0m in \u001b[0;36mdropna\u001b[1;34m(self, axis, how, thresh, subset, inplace)\u001b[0m\n\u001b[0;32m   4842\u001b[0m                 \u001b[0mcheck\u001b[0m \u001b[1;33m=\u001b[0m \u001b[0mindices\u001b[0m \u001b[1;33m==\u001b[0m \u001b[1;33m-\u001b[0m\u001b[1;36m1\u001b[0m\u001b[1;33m\u001b[0m\u001b[1;33m\u001b[0m\u001b[0m\n\u001b[0;32m   4843\u001b[0m                 \u001b[1;32mif\u001b[0m \u001b[0mcheck\u001b[0m\u001b[1;33m.\u001b[0m\u001b[0many\u001b[0m\u001b[1;33m(\u001b[0m\u001b[1;33m)\u001b[0m\u001b[1;33m:\u001b[0m\u001b[1;33m\u001b[0m\u001b[1;33m\u001b[0m\u001b[0m\n\u001b[1;32m-> 4844\u001b[1;33m                     \u001b[1;32mraise\u001b[0m \u001b[0mKeyError\u001b[0m\u001b[1;33m(\u001b[0m\u001b[0mlist\u001b[0m\u001b[1;33m(\u001b[0m\u001b[0mnp\u001b[0m\u001b[1;33m.\u001b[0m\u001b[0mcompress\u001b[0m\u001b[1;33m(\u001b[0m\u001b[0mcheck\u001b[0m\u001b[1;33m,\u001b[0m \u001b[0msubset\u001b[0m\u001b[1;33m)\u001b[0m\u001b[1;33m)\u001b[0m\u001b[1;33m)\u001b[0m\u001b[1;33m\u001b[0m\u001b[1;33m\u001b[0m\u001b[0m\n\u001b[0m\u001b[0;32m   4845\u001b[0m                 \u001b[0magg_obj\u001b[0m \u001b[1;33m=\u001b[0m \u001b[0mself\u001b[0m\u001b[1;33m.\u001b[0m\u001b[0mtake\u001b[0m\u001b[1;33m(\u001b[0m\u001b[0mindices\u001b[0m\u001b[1;33m,\u001b[0m \u001b[0maxis\u001b[0m\u001b[1;33m=\u001b[0m\u001b[0magg_axis\u001b[0m\u001b[1;33m)\u001b[0m\u001b[1;33m\u001b[0m\u001b[1;33m\u001b[0m\u001b[0m\n\u001b[0;32m   4846\u001b[0m \u001b[1;33m\u001b[0m\u001b[0m\n",
      "\u001b[1;31mKeyError\u001b[0m: ['post content']"
     ]
    },
    {
     "name": "stdout",
     "output_type": "stream",
     "text": [
      "------------------------------------------------------------------------------------------------\n",
      "蕭郁璋 , 17_sunnygirl800424\n",
      "Prm :  0.71\n",
      "Pop :  0.20755598383221444\n",
      "Act :  0.45338774597495524\n"
     ]
    },
    {
     "name": "stderr",
     "output_type": "stream",
     "text": [
      "IG_account_recommend_for_facebook_system.ipynb:8: SettingWithCopyWarning: \n",
      "A value is trying to be set on a copy of a slice from a DataFrame\n",
      "\n",
      "See the caveats in the documentation: http://pandas.pydata.org/pandas-docs/stable/user_guide/indexing.html#returning-a-view-versus-a-copy\n",
      "  ]\n"
     ]
    },
    {
     "name": "stdout",
     "output_type": "stream",
     "text": [
      "Pic :  0.044194173824159216\n",
      "all_score  1.415137903631329\n",
      "------------------------------------------------------------------------------------------------\n",
      "蕭郁璋 , 18_poptour_mag\n",
      "Prm :  0.8133\n",
      "Pop :  0.214382622410564\n",
      "Act :  0.40826226012793176\n"
     ]
    },
    {
     "name": "stderr",
     "output_type": "stream",
     "text": [
      "IG_account_recommend_for_facebook_system.ipynb:8: SettingWithCopyWarning: \n",
      "A value is trying to be set on a copy of a slice from a DataFrame\n",
      "\n",
      "See the caveats in the documentation: http://pandas.pydata.org/pandas-docs/stable/user_guide/indexing.html#returning-a-view-versus-a-copy\n",
      "  ]\n"
     ]
    },
    {
     "name": "stdout",
     "output_type": "stream",
     "text": [
      "Pic :  0.0\n",
      "all_score  1.4359448825384957\n",
      "------------------------------------------------------------------------------------------------\n",
      "蕭郁璋 , 19_bpintaiwan\n",
      "Prm :  0.5244\n",
      "division by zero\n",
      "division by zero\n",
      "division by zero\n",
      "division by zero\n",
      "division by zero\n",
      "Pop :  0.22769852030946272\n",
      "Act :  0.40111490653762216\n"
     ]
    },
    {
     "name": "stderr",
     "output_type": "stream",
     "text": [
      "IG_account_recommend_for_facebook_system.ipynb:8: SettingWithCopyWarning: \n",
      "A value is trying to be set on a copy of a slice from a DataFrame\n",
      "\n",
      "See the caveats in the documentation: http://pandas.pydata.org/pandas-docs/stable/user_guide/indexing.html#returning-a-view-versus-a-copy\n",
      "  ]\n"
     ]
    },
    {
     "name": "stdout",
     "output_type": "stream",
     "text": [
      "Pic :  0.0\n",
      "all_score  1.1532134268470848\n",
      "------------------------------------------------------------------------------------------------\n",
      "蕭郁璋 , 1_arielsvlog_816\n",
      "Prm :  0.7661\n",
      "Pop :  0.2033188937317559\n",
      "Act :  0.2664835164835165\n"
     ]
    },
    {
     "name": "stderr",
     "output_type": "stream",
     "text": [
      "IG_account_recommend_for_facebook_system.ipynb:8: SettingWithCopyWarning: \n",
      "A value is trying to be set on a copy of a slice from a DataFrame\n",
      "\n",
      "See the caveats in the documentation: http://pandas.pydata.org/pandas-docs/stable/user_guide/indexing.html#returning-a-view-versus-a-copy\n",
      "  ]\n"
     ]
    },
    {
     "name": "stdout",
     "output_type": "stream",
     "text": [
      "Pic :  0.031249999999999997\n",
      "all_score  1.2671524102152723\n",
      "------------------------------------------------------------------------------------------------\n",
      "蕭郁璋 , 20_imma_pon\n",
      "Prm :  0.652\n",
      "Pop :  0.21957816860961396\n",
      "Act :  0.5006860592755215\n"
     ]
    },
    {
     "name": "stderr",
     "output_type": "stream",
     "text": [
      "IG_account_recommend_for_facebook_system.ipynb:8: SettingWithCopyWarning: \n",
      "A value is trying to be set on a copy of a slice from a DataFrame\n",
      "\n",
      "See the caveats in the documentation: http://pandas.pydata.org/pandas-docs/stable/user_guide/indexing.html#returning-a-view-versus-a-copy\n",
      "  ]\n"
     ]
    },
    {
     "name": "stdout",
     "output_type": "stream",
     "text": [
      "Pic :  0.0\n",
      "all_score  1.3722642278851356\n",
      "------------------------------------------------------------------------------------------------\n",
      "蕭郁璋 , 2_dentist_easoncheng\n",
      "Prm :  0.752\n",
      "division by zero\n",
      "division by zero\n",
      "division by zero\n",
      "Pop :  0.21623125258180828\n",
      "Act :  0.35341974627688916\n"
     ]
    },
    {
     "name": "stderr",
     "output_type": "stream",
     "text": [
      "IG_account_recommend_for_facebook_system.ipynb:8: SettingWithCopyWarning: \n",
      "A value is trying to be set on a copy of a slice from a DataFrame\n",
      "\n",
      "See the caveats in the documentation: http://pandas.pydata.org/pandas-docs/stable/user_guide/indexing.html#returning-a-view-versus-a-copy\n",
      "  ]\n"
     ]
    },
    {
     "name": "stdout",
     "output_type": "stream",
     "text": [
      "Pic :  0.0\n",
      "all_score  1.3216509988586975\n",
      "------------------------------------------------------------------------------------------------\n",
      "蕭郁璋 , 3_yuniko0720\n",
      "Prm :  0.6899\n",
      "Pop :  0.20436523305785528\n",
      "Act :  0.2760683760683761\n"
     ]
    },
    {
     "name": "stderr",
     "output_type": "stream",
     "text": [
      "IG_account_recommend_for_facebook_system.ipynb:8: SettingWithCopyWarning: \n",
      "A value is trying to be set on a copy of a slice from a DataFrame\n",
      "\n",
      "See the caveats in the documentation: http://pandas.pydata.org/pandas-docs/stable/user_guide/indexing.html#returning-a-view-versus-a-copy\n",
      "  ]\n"
     ]
    },
    {
     "name": "stdout",
     "output_type": "stream",
     "text": [
      "Pic :  0.0\n",
      "all_score  1.1703336091262313\n",
      "------------------------------------------------------------------------------------------------\n",
      "蕭郁璋 , 4_rolling\n",
      "Prm :  0.7551\n",
      "division by zero\n",
      "division by zero\n",
      "division by zero\n",
      "division by zero\n",
      "division by zero\n",
      "division by zero\n",
      "division by zero\n",
      "division by zero\n",
      "division by zero\n",
      "division by zero\n",
      "division by zero\n",
      "division by zero\n",
      "division by zero\n",
      "division by zero\n",
      "division by zero\n",
      "Pop :  0.33417216729476484\n",
      "Act :  0.2527386541471049\n"
     ]
    },
    {
     "name": "stderr",
     "output_type": "stream",
     "text": [
      "IG_account_recommend_for_facebook_system.ipynb:8: SettingWithCopyWarning: \n",
      "A value is trying to be set on a copy of a slice from a DataFrame\n",
      "\n",
      "See the caveats in the documentation: http://pandas.pydata.org/pandas-docs/stable/user_guide/indexing.html#returning-a-view-versus-a-copy\n",
      "  ]\n"
     ]
    },
    {
     "name": "stdout",
     "output_type": "stream",
     "text": [
      "Pic :  0.0\n",
      "all_score  1.3420108214418698\n",
      "------------------------------------------------------------------------------------------------\n",
      "蕭郁璋 , 5_melissaxhiker\n",
      "Prm :  0.832\n",
      "Pop :  0.2189406861243092\n",
      "Act :  0.402046783625731\n"
     ]
    },
    {
     "name": "stderr",
     "output_type": "stream",
     "text": [
      "IG_account_recommend_for_facebook_system.ipynb:8: SettingWithCopyWarning: \n",
      "A value is trying to be set on a copy of a slice from a DataFrame\n",
      "\n",
      "See the caveats in the documentation: http://pandas.pydata.org/pandas-docs/stable/user_guide/indexing.html#returning-a-view-versus-a-copy\n",
      "  ]\n"
     ]
    },
    {
     "name": "stdout",
     "output_type": "stream",
     "text": [
      "Pic :  0.031249999999999997\n",
      "all_score  1.48423746975004\n",
      "------------------------------------------------------------------------------------------------\n",
      "蕭郁璋 , 6_cheers_tw\n",
      "Prm :  0.7935\n",
      "division by zero\n",
      "Pop :  0.2125334808166283\n",
      "Act :  0.25615474794841736\n"
     ]
    },
    {
     "name": "stderr",
     "output_type": "stream",
     "text": [
      "IG_account_recommend_for_facebook_system.ipynb:8: SettingWithCopyWarning: \n",
      "A value is trying to be set on a copy of a slice from a DataFrame\n",
      "\n",
      "See the caveats in the documentation: http://pandas.pydata.org/pandas-docs/stable/user_guide/indexing.html#returning-a-view-versus-a-copy\n",
      "  ]\n"
     ]
    },
    {
     "name": "stdout",
     "output_type": "stream",
     "text": [
      "Pic :  0.0\n",
      "all_score  1.2621882287650457\n",
      "------------------------------------------------------------------------------------------------\n",
      "蕭郁璋 , 7_rocean___\n",
      "Prm :  0.7796\n",
      "division by zero\n",
      "division by zero\n",
      "division by zero\n",
      "Pop :  0.3069741547963113\n",
      "Act :  0.37045169385194476\n"
     ]
    },
    {
     "name": "stderr",
     "output_type": "stream",
     "text": [
      "IG_account_recommend_for_facebook_system.ipynb:8: SettingWithCopyWarning: \n",
      "A value is trying to be set on a copy of a slice from a DataFrame\n",
      "\n",
      "See the caveats in the documentation: http://pandas.pydata.org/pandas-docs/stable/user_guide/indexing.html#returning-a-view-versus-a-copy\n",
      "  ]\n"
     ]
    },
    {
     "name": "stdout",
     "output_type": "stream",
     "text": [
      "Pic :  0.0\n",
      "all_score  1.457025848648256\n",
      "------------------------------------------------------------------------------------------------\n",
      "蕭郁璋 , 8_cbx\n",
      "Prm :  0.7129\n",
      "division by zero\n",
      "division by zero\n",
      "division by zero\n",
      "Pop :  0.21381075175377165\n",
      "Act :  0.2962662337662338\n"
     ]
    },
    {
     "name": "stderr",
     "output_type": "stream",
     "text": [
      "IG_account_recommend_for_facebook_system.ipynb:8: SettingWithCopyWarning: \n",
      "A value is trying to be set on a copy of a slice from a DataFrame\n",
      "\n",
      "See the caveats in the documentation: http://pandas.pydata.org/pandas-docs/stable/user_guide/indexing.html#returning-a-view-versus-a-copy\n",
      "  ]\n"
     ]
    },
    {
     "name": "stdout",
     "output_type": "stream",
     "text": [
      "Pic :  0.0\n",
      "all_score  1.2229769855200054\n",
      "------------------------------------------------------------------------------------------------\n",
      "蕭郁璋 , 9_populzzang_mag\n",
      "Prm :  0.7997\n",
      "division by zero\n",
      "Pop :  0.23327163826149602\n",
      "Act :  0.25190961171228515\n"
     ]
    },
    {
     "name": "stderr",
     "output_type": "stream",
     "text": [
      "IG_account_recommend_for_facebook_system.ipynb:8: SettingWithCopyWarning: \n",
      "A value is trying to be set on a copy of a slice from a DataFrame\n",
      "\n",
      "See the caveats in the documentation: http://pandas.pydata.org/pandas-docs/stable/user_guide/indexing.html#returning-a-view-versus-a-copy\n",
      "  ]\n"
     ]
    },
    {
     "name": "stdout",
     "output_type": "stream",
     "text": [
      "Pic :  0.0\n",
      "all_score  1.2848812499737812\n",
      "------------------------------------------------------------------------------------------------\n",
      "賴怡璇 , 10_hana\n",
      "Prm :  0.8837\n",
      "Pop :  0.23782072888134076\n",
      "Act :  0.35774058577405854\n"
     ]
    },
    {
     "name": "stderr",
     "output_type": "stream",
     "text": [
      "IG_account_recommend_for_facebook_system.ipynb:8: SettingWithCopyWarning: \n",
      "A value is trying to be set on a copy of a slice from a DataFrame\n",
      "\n",
      "See the caveats in the documentation: http://pandas.pydata.org/pandas-docs/stable/user_guide/indexing.html#returning-a-view-versus-a-copy\n",
      "  ]\n"
     ]
    },
    {
     "name": "stdout",
     "output_type": "stream",
     "text": [
      "Pic :  0.0606060606060606\n",
      "all_score  1.53986737526146\n",
      "------------------------------------------------------------------------------------------------\n",
      "賴怡璇 , 11_hsin0126\n",
      "Prm :  0.8106\n",
      "Pop :  0.4100353754121414\n",
      "Act :  0.39254686785550985\n"
     ]
    },
    {
     "name": "stderr",
     "output_type": "stream",
     "text": [
      "IG_account_recommend_for_facebook_system.ipynb:8: SettingWithCopyWarning: \n",
      "A value is trying to be set on a copy of a slice from a DataFrame\n",
      "\n",
      "See the caveats in the documentation: http://pandas.pydata.org/pandas-docs/stable/user_guide/indexing.html#returning-a-view-versus-a-copy\n",
      "  ]\n"
     ]
    },
    {
     "name": "stdout",
     "output_type": "stream",
     "text": [
      "Pic :  0.14516129032258063\n",
      "all_score  1.758343533590232\n",
      "------------------------------------------------------------------------------------------------\n",
      "賴怡璇 , 12_tsaigray2018\n",
      "Prm :  0.7949\n",
      "Pop :  0.20037133792787482\n",
      "Act :  0.25428963623884693\n"
     ]
    },
    {
     "name": "stderr",
     "output_type": "stream",
     "text": [
      "IG_account_recommend_for_facebook_system.ipynb:8: SettingWithCopyWarning: \n",
      "A value is trying to be set on a copy of a slice from a DataFrame\n",
      "\n",
      "See the caveats in the documentation: http://pandas.pydata.org/pandas-docs/stable/user_guide/indexing.html#returning-a-view-versus-a-copy\n",
      "  ]\n"
     ]
    },
    {
     "name": "stdout",
     "output_type": "stream",
     "text": [
      "Pic :  0.010467904883688796\n",
      "all_score  1.2600288790504106\n",
      "------------------------------------------------------------------------------------------------\n",
      "賴怡璇 , 13_snowzaicat\n",
      "Prm :  0.7904\n",
      "Pop :  0.22682848695507282\n",
      "Act :  0.4876543209876543\n"
     ]
    },
    {
     "name": "stderr",
     "output_type": "stream",
     "text": [
      "IG_account_recommend_for_facebook_system.ipynb:8: SettingWithCopyWarning: \n",
      "A value is trying to be set on a copy of a slice from a DataFrame\n",
      "\n",
      "See the caveats in the documentation: http://pandas.pydata.org/pandas-docs/stable/user_guide/indexing.html#returning-a-view-versus-a-copy\n",
      "  ]\n"
     ]
    },
    {
     "name": "stdout",
     "output_type": "stream",
     "text": [
      "Pic :  0.0\n",
      "all_score  1.504882807942727\n",
      "------------------------------------------------------------------------------------------------\n",
      "賴怡璇 , 14_jc\n",
      "Prm :  0.9188\n",
      "division by zero\n",
      "division by zero\n",
      "Pop :  0.29054843552423265\n",
      "Act :  0.36518046709129515\n"
     ]
    },
    {
     "name": "stderr",
     "output_type": "stream",
     "text": [
      "IG_account_recommend_for_facebook_system.ipynb:8: SettingWithCopyWarning: \n",
      "A value is trying to be set on a copy of a slice from a DataFrame\n",
      "\n",
      "See the caveats in the documentation: http://pandas.pydata.org/pandas-docs/stable/user_guide/indexing.html#returning-a-view-versus-a-copy\n",
      "  ]\n"
     ]
    },
    {
     "name": "stdout",
     "output_type": "stream",
     "text": [
      "Pic :  0.0\n",
      "all_score  1.5745289026155276\n",
      "------------------------------------------------------------------------------------------------\n",
      "賴怡璇 , 15_doctorkowj\n",
      "Prm :  0.8197\n",
      "Pop :  0.2129060955086605\n",
      "Act :  0.2558441558441558\n"
     ]
    },
    {
     "name": "stderr",
     "output_type": "stream",
     "text": [
      "IG_account_recommend_for_facebook_system.ipynb:8: SettingWithCopyWarning: \n",
      "A value is trying to be set on a copy of a slice from a DataFrame\n",
      "\n",
      "See the caveats in the documentation: http://pandas.pydata.org/pandas-docs/stable/user_guide/indexing.html#returning-a-view-versus-a-copy\n",
      "  ]\n"
     ]
    },
    {
     "name": "stdout",
     "output_type": "stream",
     "text": [
      "Pic :  0.049356179563762766\n",
      "all_score  1.3378064309165791\n",
      "------------------------------------------------------------------------------------------------\n",
      "賴怡璇 , 16_jaychou\n"
     ]
    },
    {
     "ename": "KeyError",
     "evalue": "['post content']",
     "output_type": "error",
     "traceback": [
      "\u001b[1;31m---------------------------------------------------------------------------\u001b[0m",
      "\u001b[1;31mKeyError\u001b[0m                                  Traceback (most recent call last)",
      "\u001b[1;32m~\\Documents\\畢業論文\\Code\\IG_account_recommend_for_facebook_system.ipynb\u001b[0m in \u001b[0;36m<module>\u001b[1;34m\u001b[0m\n\u001b[0;32m      1\u001b[0m \u001b[1;31m#去除空值row\u001b[0m\u001b[1;33m\u001b[0m\u001b[1;33m\u001b[0m\u001b[1;33m\u001b[0m\u001b[0m\n\u001b[0;32m      2\u001b[0m \u001b[0moringnal_df\u001b[0m \u001b[1;33m=\u001b[0m \u001b[0moringnal_df\u001b[0m\u001b[1;33m.\u001b[0m\u001b[0mdropna\u001b[0m\u001b[1;33m(\u001b[0m\u001b[0msubset\u001b[0m\u001b[1;33m=\u001b[0m\u001b[1;33m[\u001b[0m\u001b[1;34m\"message\"\u001b[0m\u001b[1;33m]\u001b[0m\u001b[1;33m)\u001b[0m\u001b[1;33m\u001b[0m\u001b[1;33m\u001b[0m\u001b[0m\n\u001b[1;32m----> 3\u001b[1;33m \u001b[0moringnal_ig_df\u001b[0m \u001b[1;33m=\u001b[0m \u001b[0moringnal_ig_df\u001b[0m\u001b[1;33m.\u001b[0m\u001b[0mdropna\u001b[0m\u001b[1;33m(\u001b[0m\u001b[0msubset\u001b[0m\u001b[1;33m=\u001b[0m\u001b[1;33m[\u001b[0m\u001b[1;34m\"post content\"\u001b[0m\u001b[1;33m]\u001b[0m\u001b[1;33m)\u001b[0m\u001b[1;33m\u001b[0m\u001b[1;33m\u001b[0m\u001b[0m\n\u001b[0m\u001b[0;32m      4\u001b[0m \u001b[0moringnal_df\u001b[0m\u001b[1;33m[\u001b[0m\u001b[1;34m'new'\u001b[0m\u001b[1;33m]\u001b[0m \u001b[1;33m=\u001b[0m \u001b[1;34m\"NEW\"\u001b[0m\u001b[1;33m\u001b[0m\u001b[1;33m\u001b[0m\u001b[0m\n\u001b[0;32m      5\u001b[0m \u001b[0moringnal_ig_df\u001b[0m\u001b[1;33m[\u001b[0m\u001b[1;34m'new content'\u001b[0m\u001b[1;33m]\u001b[0m \u001b[1;33m=\u001b[0m \u001b[1;34m\"None\"\u001b[0m\u001b[1;33m\u001b[0m\u001b[1;33m\u001b[0m\u001b[0m\n",
      "\u001b[1;32m~\\Anaconda3\\lib\\site-packages\\pandas\\core\\frame.py\u001b[0m in \u001b[0;36mdropna\u001b[1;34m(self, axis, how, thresh, subset, inplace)\u001b[0m\n\u001b[0;32m   4842\u001b[0m                 \u001b[0mcheck\u001b[0m \u001b[1;33m=\u001b[0m \u001b[0mindices\u001b[0m \u001b[1;33m==\u001b[0m \u001b[1;33m-\u001b[0m\u001b[1;36m1\u001b[0m\u001b[1;33m\u001b[0m\u001b[1;33m\u001b[0m\u001b[0m\n\u001b[0;32m   4843\u001b[0m                 \u001b[1;32mif\u001b[0m \u001b[0mcheck\u001b[0m\u001b[1;33m.\u001b[0m\u001b[0many\u001b[0m\u001b[1;33m(\u001b[0m\u001b[1;33m)\u001b[0m\u001b[1;33m:\u001b[0m\u001b[1;33m\u001b[0m\u001b[1;33m\u001b[0m\u001b[0m\n\u001b[1;32m-> 4844\u001b[1;33m                     \u001b[1;32mraise\u001b[0m \u001b[0mKeyError\u001b[0m\u001b[1;33m(\u001b[0m\u001b[0mlist\u001b[0m\u001b[1;33m(\u001b[0m\u001b[0mnp\u001b[0m\u001b[1;33m.\u001b[0m\u001b[0mcompress\u001b[0m\u001b[1;33m(\u001b[0m\u001b[0mcheck\u001b[0m\u001b[1;33m,\u001b[0m \u001b[0msubset\u001b[0m\u001b[1;33m)\u001b[0m\u001b[1;33m)\u001b[0m\u001b[1;33m)\u001b[0m\u001b[1;33m\u001b[0m\u001b[1;33m\u001b[0m\u001b[0m\n\u001b[0m\u001b[0;32m   4845\u001b[0m                 \u001b[0magg_obj\u001b[0m \u001b[1;33m=\u001b[0m \u001b[0mself\u001b[0m\u001b[1;33m.\u001b[0m\u001b[0mtake\u001b[0m\u001b[1;33m(\u001b[0m\u001b[0mindices\u001b[0m\u001b[1;33m,\u001b[0m \u001b[0maxis\u001b[0m\u001b[1;33m=\u001b[0m\u001b[0magg_axis\u001b[0m\u001b[1;33m)\u001b[0m\u001b[1;33m\u001b[0m\u001b[1;33m\u001b[0m\u001b[0m\n\u001b[0;32m   4846\u001b[0m \u001b[1;33m\u001b[0m\u001b[0m\n",
      "\u001b[1;31mKeyError\u001b[0m: ['post content']"
     ]
    },
    {
     "name": "stdout",
     "output_type": "stream",
     "text": [
      "------------------------------------------------------------------------------------------------\n",
      "賴怡璇 , 17_sunnygirl800424\n",
      "Prm :  0.8094\n",
      "Pop :  0.2080247327628138\n",
      "Act :  0.45338774597495524\n"
     ]
    },
    {
     "name": "stderr",
     "output_type": "stream",
     "text": [
      "IG_account_recommend_for_facebook_system.ipynb:8: SettingWithCopyWarning: \n",
      "A value is trying to be set on a copy of a slice from a DataFrame\n",
      "\n",
      "See the caveats in the documentation: http://pandas.pydata.org/pandas-docs/stable/user_guide/indexing.html#returning-a-view-versus-a-copy\n",
      "  ]\n"
     ]
    },
    {
     "name": "stdout",
     "output_type": "stream",
     "text": [
      "Pic :  0.02657072246158232\n",
      "all_score  1.4973832011993515\n",
      "------------------------------------------------------------------------------------------------\n",
      "賴怡璇 , 18_poptour_mag\n",
      "Prm :  0.8269\n",
      "division by zero\n",
      "Pop :  0.21333715576691406\n",
      "Act :  0.40826226012793176\n"
     ]
    },
    {
     "name": "stderr",
     "output_type": "stream",
     "text": [
      "IG_account_recommend_for_facebook_system.ipynb:8: SettingWithCopyWarning: \n",
      "A value is trying to be set on a copy of a slice from a DataFrame\n",
      "\n",
      "See the caveats in the documentation: http://pandas.pydata.org/pandas-docs/stable/user_guide/indexing.html#returning-a-view-versus-a-copy\n",
      "  ]\n"
     ]
    },
    {
     "name": "stdout",
     "output_type": "stream",
     "text": [
      "Pic :  0.02064200660145143\n",
      "all_score  1.4691414224962973\n",
      "------------------------------------------------------------------------------------------------\n",
      "賴怡璇 , 19_bpintaiwan\n",
      "Prm :  0.9055\n",
      "division by zero\n",
      "division by zero\n",
      "division by zero\n",
      "division by zero\n",
      "division by zero\n",
      "division by zero\n",
      "division by zero\n",
      "division by zero\n",
      "division by zero\n",
      "division by zero\n",
      "division by zero\n",
      "division by zero\n",
      "division by zero\n",
      "division by zero\n",
      "division by zero\n",
      "division by zero\n",
      "division by zero\n",
      "division by zero\n",
      "division by zero\n",
      "division by zero\n",
      "division by zero\n",
      "division by zero\n",
      "division by zero\n",
      "division by zero\n",
      "division by zero\n",
      "division by zero\n",
      "division by zero\n",
      "division by zero\n",
      "Pop :  0.22623403188317157\n",
      "Act :  0.40111490653762216\n"
     ]
    },
    {
     "name": "stderr",
     "output_type": "stream",
     "text": [
      "IG_account_recommend_for_facebook_system.ipynb:8: SettingWithCopyWarning: \n",
      "A value is trying to be set on a copy of a slice from a DataFrame\n",
      "\n",
      "See the caveats in the documentation: http://pandas.pydata.org/pandas-docs/stable/user_guide/indexing.html#returning-a-view-versus-a-copy\n",
      "  ]\n"
     ]
    },
    {
     "name": "stdout",
     "output_type": "stream",
     "text": [
      "Pic :  0.02977515195944818\n",
      "all_score  1.562624090380242\n",
      "------------------------------------------------------------------------------------------------\n",
      "賴怡璇 , 1_arielsvlog_816\n",
      "Prm :  0.8865\n",
      "Pop :  0.20430916180601963\n",
      "Act :  0.2664835164835165\n"
     ]
    },
    {
     "name": "stderr",
     "output_type": "stream",
     "text": [
      "IG_account_recommend_for_facebook_system.ipynb:8: SettingWithCopyWarning: \n",
      "A value is trying to be set on a copy of a slice from a DataFrame\n",
      "\n",
      "See the caveats in the documentation: http://pandas.pydata.org/pandas-docs/stable/user_guide/indexing.html#returning-a-view-versus-a-copy\n",
      "  ]\n"
     ]
    },
    {
     "name": "stdout",
     "output_type": "stream",
     "text": [
      "Pic :  0.03243743894513796\n",
      "all_score  1.3897301172346739\n",
      "------------------------------------------------------------------------------------------------\n",
      "賴怡璇 , 20_imma_pon\n",
      "Prm :  0.7446\n",
      "division by zero\n",
      "Pop :  0.22421824721884326\n",
      "Act :  0.5006860592755215\n"
     ]
    },
    {
     "name": "stderr",
     "output_type": "stream",
     "text": [
      "IG_account_recommend_for_facebook_system.ipynb:8: SettingWithCopyWarning: \n",
      "A value is trying to be set on a copy of a slice from a DataFrame\n",
      "\n",
      "See the caveats in the documentation: http://pandas.pydata.org/pandas-docs/stable/user_guide/indexing.html#returning-a-view-versus-a-copy\n",
      "  ]\n"
     ]
    },
    {
     "name": "stdout",
     "output_type": "stream",
     "text": [
      "Pic :  0.05276096245705654\n",
      "all_score  1.5222652689514211\n",
      "------------------------------------------------------------------------------------------------\n",
      "賴怡璇 , 2_dentist_easoncheng\n",
      "Prm :  0.7483\n",
      "division by zero\n",
      "division by zero\n",
      "division by zero\n",
      "division by zero\n",
      "division by zero\n",
      "division by zero\n",
      "division by zero\n",
      "division by zero\n",
      "division by zero\n",
      "division by zero\n",
      "division by zero\n",
      "division by zero\n",
      "division by zero\n",
      "division by zero\n",
      "division by zero\n",
      "Pop :  0.2138748704661347\n",
      "Act :  0.35341974627688916\n"
     ]
    },
    {
     "name": "stderr",
     "output_type": "stream",
     "text": [
      "IG_account_recommend_for_facebook_system.ipynb:8: SettingWithCopyWarning: \n",
      "A value is trying to be set on a copy of a slice from a DataFrame\n",
      "\n",
      "See the caveats in the documentation: http://pandas.pydata.org/pandas-docs/stable/user_guide/indexing.html#returning-a-view-versus-a-copy\n",
      "  ]\n"
     ]
    },
    {
     "name": "stdout",
     "output_type": "stream",
     "text": [
      "Pic :  0.0\n",
      "all_score  1.315594616743024\n",
      "------------------------------------------------------------------------------------------------\n",
      "賴怡璇 , 3_yuniko0720\n",
      "Prm :  0.8026\n",
      "Pop :  0.2048432429955162\n",
      "Act :  0.2760683760683761\n"
     ]
    },
    {
     "name": "stderr",
     "output_type": "stream",
     "text": [
      "IG_account_recommend_for_facebook_system.ipynb:8: SettingWithCopyWarning: \n",
      "A value is trying to be set on a copy of a slice from a DataFrame\n",
      "\n",
      "See the caveats in the documentation: http://pandas.pydata.org/pandas-docs/stable/user_guide/indexing.html#returning-a-view-versus-a-copy\n",
      "  ]\n"
     ]
    },
    {
     "name": "stdout",
     "output_type": "stream",
     "text": [
      "Pic :  0.0\n",
      "all_score  1.2835116190638924\n",
      "------------------------------------------------------------------------------------------------\n",
      "賴怡璇 , 4_rolling\n",
      "Prm :  0.9123\n",
      "division by zero\n",
      "division by zero\n",
      "division by zero\n",
      "division by zero\n",
      "division by zero\n",
      "division by zero\n",
      "division by zero\n",
      "division by zero\n",
      "division by zero\n",
      "division by zero\n",
      "division by zero\n",
      "division by zero\n",
      "division by zero\n",
      "division by zero\n",
      "division by zero\n",
      "division by zero\n",
      "division by zero\n",
      "division by zero\n",
      "division by zero\n",
      "division by zero\n",
      "division by zero\n",
      "division by zero\n",
      "division by zero\n",
      "division by zero\n",
      "division by zero\n",
      "division by zero\n",
      "division by zero\n",
      "division by zero\n",
      "division by zero\n",
      "division by zero\n",
      "division by zero\n",
      "division by zero\n",
      "division by zero\n",
      "division by zero\n",
      "division by zero\n",
      "division by zero\n",
      "division by zero\n",
      "division by zero\n",
      "division by zero\n",
      "division by zero\n",
      "division by zero\n",
      "division by zero\n",
      "division by zero\n",
      "division by zero\n",
      "division by zero\n",
      "division by zero\n",
      "division by zero\n",
      "division by zero\n",
      "Pop :  0.32393669469658715\n",
      "Act :  0.2527386541471049\n"
     ]
    },
    {
     "name": "stderr",
     "output_type": "stream",
     "text": [
      "IG_account_recommend_for_facebook_system.ipynb:8: SettingWithCopyWarning: \n",
      "A value is trying to be set on a copy of a slice from a DataFrame\n",
      "\n",
      "See the caveats in the documentation: http://pandas.pydata.org/pandas-docs/stable/user_guide/indexing.html#returning-a-view-versus-a-copy\n",
      "  ]\n"
     ]
    },
    {
     "name": "stdout",
     "output_type": "stream",
     "text": [
      "Pic :  0.009259259259259259\n",
      "all_score  1.4982346081029512\n",
      "------------------------------------------------------------------------------------------------\n",
      "賴怡璇 , 5_melissaxhiker\n",
      "Prm :  0.8251\n",
      "division by zero\n",
      "division by zero\n",
      "division by zero\n",
      "division by zero\n",
      "division by zero\n",
      "division by zero\n",
      "division by zero\n",
      "division by zero\n",
      "division by zero\n",
      "division by zero\n",
      "division by zero\n",
      "division by zero\n",
      "division by zero\n",
      "division by zero\n",
      "division by zero\n",
      "division by zero\n",
      "division by zero\n",
      "division by zero\n",
      "division by zero\n",
      "Pop :  0.20813183337050378\n",
      "Act :  0.402046783625731\n"
     ]
    },
    {
     "name": "stderr",
     "output_type": "stream",
     "text": [
      "IG_account_recommend_for_facebook_system.ipynb:8: SettingWithCopyWarning: \n",
      "A value is trying to be set on a copy of a slice from a DataFrame\n",
      "\n",
      "See the caveats in the documentation: http://pandas.pydata.org/pandas-docs/stable/user_guide/indexing.html#returning-a-view-versus-a-copy\n",
      "  ]\n"
     ]
    },
    {
     "name": "stdout",
     "output_type": "stream",
     "text": [
      "Pic :  0.032786885245901634\n",
      "all_score  1.4680655022421365\n",
      "------------------------------------------------------------------------------------------------\n",
      "賴怡璇 , 6_cheers_tw\n",
      "Prm :  0.7795\n",
      "division by zero\n",
      "division by zero\n",
      "division by zero\n",
      "division by zero\n",
      "division by zero\n",
      "division by zero\n",
      "division by zero\n",
      "division by zero\n",
      "division by zero\n",
      "division by zero\n",
      "division by zero\n",
      "division by zero\n",
      "division by zero\n",
      "division by zero\n",
      "division by zero\n",
      "division by zero\n",
      "division by zero\n",
      "division by zero\n",
      "division by zero\n",
      "division by zero\n",
      "division by zero\n",
      "Pop :  0.21577408126122827\n",
      "Act :  0.25615474794841736\n"
     ]
    },
    {
     "name": "stderr",
     "output_type": "stream",
     "text": [
      "IG_account_recommend_for_facebook_system.ipynb:8: SettingWithCopyWarning: \n",
      "A value is trying to be set on a copy of a slice from a DataFrame\n",
      "\n",
      "See the caveats in the documentation: http://pandas.pydata.org/pandas-docs/stable/user_guide/indexing.html#returning-a-view-versus-a-copy\n",
      "  ]\n"
     ]
    },
    {
     "name": "stdout",
     "output_type": "stream",
     "text": [
      "Pic :  0.07777479558772354\n",
      "all_score  1.3292036247973693\n",
      "------------------------------------------------------------------------------------------------\n",
      "賴怡璇 , 7_rocean___\n",
      "Prm :  0.7848\n",
      "division by zero\n",
      "division by zero\n",
      "division by zero\n",
      "division by zero\n",
      "division by zero\n",
      "division by zero\n",
      "division by zero\n",
      "division by zero\n",
      "Pop :  0.3270986506949915\n",
      "Act :  0.37045169385194476\n"
     ]
    },
    {
     "name": "stderr",
     "output_type": "stream",
     "text": [
      "IG_account_recommend_for_facebook_system.ipynb:8: SettingWithCopyWarning: \n",
      "A value is trying to be set on a copy of a slice from a DataFrame\n",
      "\n",
      "See the caveats in the documentation: http://pandas.pydata.org/pandas-docs/stable/user_guide/indexing.html#returning-a-view-versus-a-copy\n",
      "  ]\n"
     ]
    },
    {
     "name": "stdout",
     "output_type": "stream",
     "text": [
      "Pic :  0.0\n",
      "all_score  1.4823503445469361\n",
      "------------------------------------------------------------------------------------------------\n",
      "賴怡璇 , 8_cbx\n",
      "Prm :  0.8067\n",
      "division by zero\n",
      "division by zero\n",
      "division by zero\n",
      "division by zero\n",
      "division by zero\n",
      "division by zero\n",
      "division by zero\n",
      "division by zero\n",
      "division by zero\n",
      "division by zero\n",
      "division by zero\n",
      "Pop :  0.21001846001771307\n",
      "Act :  0.2962662337662338\n"
     ]
    },
    {
     "name": "stderr",
     "output_type": "stream",
     "text": [
      "IG_account_recommend_for_facebook_system.ipynb:8: SettingWithCopyWarning: \n",
      "A value is trying to be set on a copy of a slice from a DataFrame\n",
      "\n",
      "See the caveats in the documentation: http://pandas.pydata.org/pandas-docs/stable/user_guide/indexing.html#returning-a-view-versus-a-copy\n",
      "  ]\n"
     ]
    },
    {
     "name": "stdout",
     "output_type": "stream",
     "text": [
      "Pic :  0.03787878787878787\n",
      "all_score  1.3508634816627347\n",
      "------------------------------------------------------------------------------------------------\n",
      "賴怡璇 , 9_populzzang_mag\n",
      "Prm :  0.8764\n",
      "division by zero\n",
      "Pop :  0.2313699816554155\n",
      "Act :  0.25190961171228515\n"
     ]
    },
    {
     "name": "stderr",
     "output_type": "stream",
     "text": [
      "IG_account_recommend_for_facebook_system.ipynb:8: SettingWithCopyWarning: \n",
      "A value is trying to be set on a copy of a slice from a DataFrame\n",
      "\n",
      "See the caveats in the documentation: http://pandas.pydata.org/pandas-docs/stable/user_guide/indexing.html#returning-a-view-versus-a-copy\n",
      "  ]\n"
     ]
    },
    {
     "name": "stdout",
     "output_type": "stream",
     "text": [
      "Pic :  0.018988292579714558\n",
      "all_score  1.3786678859474153\n",
      "------------------------------------------------------------------------------------------------\n",
      "邱鈺婷 , 10_hana\n",
      "Prm :  0.9959\n",
      "Pop :  0.23782072888134076\n",
      "Act :  0.35774058577405854\n"
     ]
    },
    {
     "name": "stderr",
     "output_type": "stream",
     "text": [
      "IG_account_recommend_for_facebook_system.ipynb:8: SettingWithCopyWarning: \n",
      "A value is trying to be set on a copy of a slice from a DataFrame\n",
      "\n",
      "See the caveats in the documentation: http://pandas.pydata.org/pandas-docs/stable/user_guide/indexing.html#returning-a-view-versus-a-copy\n",
      "  ]\n"
     ]
    },
    {
     "name": "stdout",
     "output_type": "stream",
     "text": [
      "Pic :  0.07575757575757575\n",
      "all_score  1.667218890412975\n",
      "------------------------------------------------------------------------------------------------\n",
      "邱鈺婷 , 11_hsin0126\n",
      "Prm :  0.8905\n",
      "Pop :  0.4100353754121414\n",
      "Act :  0.39254686785550985\n"
     ]
    },
    {
     "name": "stderr",
     "output_type": "stream",
     "text": [
      "IG_account_recommend_for_facebook_system.ipynb:8: SettingWithCopyWarning: \n",
      "A value is trying to be set on a copy of a slice from a DataFrame\n",
      "\n",
      "See the caveats in the documentation: http://pandas.pydata.org/pandas-docs/stable/user_guide/indexing.html#returning-a-view-versus-a-copy\n",
      "  ]\n"
     ]
    },
    {
     "name": "stdout",
     "output_type": "stream",
     "text": [
      "Pic :  0.07175729214453873\n",
      "all_score  1.76483953541219\n",
      "------------------------------------------------------------------------------------------------\n",
      "邱鈺婷 , 12_tsaigray2018\n",
      "Prm :  0.8605\n",
      "Pop :  0.20037133792787482\n",
      "Act :  0.25428963623884693\n"
     ]
    },
    {
     "name": "stderr",
     "output_type": "stream",
     "text": [
      "IG_account_recommend_for_facebook_system.ipynb:8: SettingWithCopyWarning: \n",
      "A value is trying to be set on a copy of a slice from a DataFrame\n",
      "\n",
      "See the caveats in the documentation: http://pandas.pydata.org/pandas-docs/stable/user_guide/indexing.html#returning-a-view-versus-a-copy\n",
      "  ]\n"
     ]
    },
    {
     "name": "stdout",
     "output_type": "stream",
     "text": [
      "Pic :  0.03140371465106638\n",
      "all_score  1.3465646888177882\n",
      "------------------------------------------------------------------------------------------------\n",
      "邱鈺婷 , 13_snowzaicat\n",
      "Prm :  0.7325\n",
      "Pop :  0.22682848695507282\n",
      "Act :  0.4876543209876543\n"
     ]
    },
    {
     "name": "stderr",
     "output_type": "stream",
     "text": [
      "IG_account_recommend_for_facebook_system.ipynb:8: SettingWithCopyWarning: \n",
      "A value is trying to be set on a copy of a slice from a DataFrame\n",
      "\n",
      "See the caveats in the documentation: http://pandas.pydata.org/pandas-docs/stable/user_guide/indexing.html#returning-a-view-versus-a-copy\n",
      "  ]\n"
     ]
    },
    {
     "name": "stdout",
     "output_type": "stream",
     "text": [
      "Pic :  0.0\n",
      "all_score  1.4469828079427272\n",
      "------------------------------------------------------------------------------------------------\n",
      "邱鈺婷 , 14_jc\n",
      "Prm :  0.8072\n",
      "division by zero\n",
      "division by zero\n",
      "Pop :  0.29054843552423265\n",
      "Act :  0.36518046709129515\n"
     ]
    },
    {
     "name": "stderr",
     "output_type": "stream",
     "text": [
      "IG_account_recommend_for_facebook_system.ipynb:8: SettingWithCopyWarning: \n",
      "A value is trying to be set on a copy of a slice from a DataFrame\n",
      "\n",
      "See the caveats in the documentation: http://pandas.pydata.org/pandas-docs/stable/user_guide/indexing.html#returning-a-view-versus-a-copy\n",
      "  ]\n"
     ]
    },
    {
     "name": "stdout",
     "output_type": "stream",
     "text": [
      "Pic :  0.0\n",
      "all_score  1.4629289026155279\n",
      "------------------------------------------------------------------------------------------------\n",
      "邱鈺婷 , 15_doctorkowj\n",
      "Prm :  0.7649\n",
      "Pop :  0.2129060955086605\n",
      "Act :  0.2558441558441558\n"
     ]
    },
    {
     "name": "stderr",
     "output_type": "stream",
     "text": [
      "IG_account_recommend_for_facebook_system.ipynb:8: SettingWithCopyWarning: \n",
      "A value is trying to be set on a copy of a slice from a DataFrame\n",
      "\n",
      "See the caveats in the documentation: http://pandas.pydata.org/pandas-docs/stable/user_guide/indexing.html#returning-a-view-versus-a-copy\n",
      "  ]\n"
     ]
    },
    {
     "name": "stdout",
     "output_type": "stream",
     "text": [
      "Pic :  0.022152397328386902\n",
      "all_score  1.2558026486812033\n",
      "------------------------------------------------------------------------------------------------\n",
      "邱鈺婷 , 16_jaychou\n"
     ]
    },
    {
     "ename": "KeyError",
     "evalue": "['post content']",
     "output_type": "error",
     "traceback": [
      "\u001b[1;31m---------------------------------------------------------------------------\u001b[0m",
      "\u001b[1;31mKeyError\u001b[0m                                  Traceback (most recent call last)",
      "\u001b[1;32m~\\Documents\\畢業論文\\Code\\IG_account_recommend_for_facebook_system.ipynb\u001b[0m in \u001b[0;36m<module>\u001b[1;34m\u001b[0m\n\u001b[0;32m      1\u001b[0m \u001b[1;31m#去除空值row\u001b[0m\u001b[1;33m\u001b[0m\u001b[1;33m\u001b[0m\u001b[1;33m\u001b[0m\u001b[0m\n\u001b[0;32m      2\u001b[0m \u001b[0moringnal_df\u001b[0m \u001b[1;33m=\u001b[0m \u001b[0moringnal_df\u001b[0m\u001b[1;33m.\u001b[0m\u001b[0mdropna\u001b[0m\u001b[1;33m(\u001b[0m\u001b[0msubset\u001b[0m\u001b[1;33m=\u001b[0m\u001b[1;33m[\u001b[0m\u001b[1;34m\"message\"\u001b[0m\u001b[1;33m]\u001b[0m\u001b[1;33m)\u001b[0m\u001b[1;33m\u001b[0m\u001b[1;33m\u001b[0m\u001b[0m\n\u001b[1;32m----> 3\u001b[1;33m \u001b[0moringnal_ig_df\u001b[0m \u001b[1;33m=\u001b[0m \u001b[0moringnal_ig_df\u001b[0m\u001b[1;33m.\u001b[0m\u001b[0mdropna\u001b[0m\u001b[1;33m(\u001b[0m\u001b[0msubset\u001b[0m\u001b[1;33m=\u001b[0m\u001b[1;33m[\u001b[0m\u001b[1;34m\"post content\"\u001b[0m\u001b[1;33m]\u001b[0m\u001b[1;33m)\u001b[0m\u001b[1;33m\u001b[0m\u001b[1;33m\u001b[0m\u001b[0m\n\u001b[0m\u001b[0;32m      4\u001b[0m \u001b[0moringnal_df\u001b[0m\u001b[1;33m[\u001b[0m\u001b[1;34m'new'\u001b[0m\u001b[1;33m]\u001b[0m \u001b[1;33m=\u001b[0m \u001b[1;34m\"NEW\"\u001b[0m\u001b[1;33m\u001b[0m\u001b[1;33m\u001b[0m\u001b[0m\n\u001b[0;32m      5\u001b[0m \u001b[0moringnal_ig_df\u001b[0m\u001b[1;33m[\u001b[0m\u001b[1;34m'new content'\u001b[0m\u001b[1;33m]\u001b[0m \u001b[1;33m=\u001b[0m \u001b[1;34m\"None\"\u001b[0m\u001b[1;33m\u001b[0m\u001b[1;33m\u001b[0m\u001b[0m\n",
      "\u001b[1;32m~\\Anaconda3\\lib\\site-packages\\pandas\\core\\frame.py\u001b[0m in \u001b[0;36mdropna\u001b[1;34m(self, axis, how, thresh, subset, inplace)\u001b[0m\n\u001b[0;32m   4842\u001b[0m                 \u001b[0mcheck\u001b[0m \u001b[1;33m=\u001b[0m \u001b[0mindices\u001b[0m \u001b[1;33m==\u001b[0m \u001b[1;33m-\u001b[0m\u001b[1;36m1\u001b[0m\u001b[1;33m\u001b[0m\u001b[1;33m\u001b[0m\u001b[0m\n\u001b[0;32m   4843\u001b[0m                 \u001b[1;32mif\u001b[0m \u001b[0mcheck\u001b[0m\u001b[1;33m.\u001b[0m\u001b[0many\u001b[0m\u001b[1;33m(\u001b[0m\u001b[1;33m)\u001b[0m\u001b[1;33m:\u001b[0m\u001b[1;33m\u001b[0m\u001b[1;33m\u001b[0m\u001b[0m\n\u001b[1;32m-> 4844\u001b[1;33m                     \u001b[1;32mraise\u001b[0m \u001b[0mKeyError\u001b[0m\u001b[1;33m(\u001b[0m\u001b[0mlist\u001b[0m\u001b[1;33m(\u001b[0m\u001b[0mnp\u001b[0m\u001b[1;33m.\u001b[0m\u001b[0mcompress\u001b[0m\u001b[1;33m(\u001b[0m\u001b[0mcheck\u001b[0m\u001b[1;33m,\u001b[0m \u001b[0msubset\u001b[0m\u001b[1;33m)\u001b[0m\u001b[1;33m)\u001b[0m\u001b[1;33m)\u001b[0m\u001b[1;33m\u001b[0m\u001b[1;33m\u001b[0m\u001b[0m\n\u001b[0m\u001b[0;32m   4845\u001b[0m                 \u001b[0magg_obj\u001b[0m \u001b[1;33m=\u001b[0m \u001b[0mself\u001b[0m\u001b[1;33m.\u001b[0m\u001b[0mtake\u001b[0m\u001b[1;33m(\u001b[0m\u001b[0mindices\u001b[0m\u001b[1;33m,\u001b[0m \u001b[0maxis\u001b[0m\u001b[1;33m=\u001b[0m\u001b[0magg_axis\u001b[0m\u001b[1;33m)\u001b[0m\u001b[1;33m\u001b[0m\u001b[1;33m\u001b[0m\u001b[0m\n\u001b[0;32m   4846\u001b[0m \u001b[1;33m\u001b[0m\u001b[0m\n",
      "\u001b[1;31mKeyError\u001b[0m: ['post content']"
     ]
    },
    {
     "name": "stdout",
     "output_type": "stream",
     "text": [
      "------------------------------------------------------------------------------------------------\n",
      "邱鈺婷 , 17_sunnygirl800424\n",
      "Prm :  0.7595\n",
      "Pop :  0.2080247327628138\n",
      "Act :  0.45338774597495524\n"
     ]
    },
    {
     "name": "stderr",
     "output_type": "stream",
     "text": [
      "IG_account_recommend_for_facebook_system.ipynb:8: SettingWithCopyWarning: \n",
      "A value is trying to be set on a copy of a slice from a DataFrame\n",
      "\n",
      "See the caveats in the documentation: http://pandas.pydata.org/pandas-docs/stable/user_guide/indexing.html#returning-a-view-versus-a-copy\n",
      "  ]\n"
     ]
    },
    {
     "name": "stdout",
     "output_type": "stream",
     "text": [
      "Pic :  0.04934632210661152\n",
      "all_score  1.4702588008443804\n",
      "------------------------------------------------------------------------------------------------\n",
      "邱鈺婷 , 18_poptour_mag\n",
      "Prm :  0.8014\n",
      "division by zero\n",
      "Pop :  0.21333715576691406\n",
      "Act :  0.40826226012793176\n"
     ]
    },
    {
     "name": "stderr",
     "output_type": "stream",
     "text": [
      "IG_account_recommend_for_facebook_system.ipynb:8: SettingWithCopyWarning: \n",
      "A value is trying to be set on a copy of a slice from a DataFrame\n",
      "\n",
      "See the caveats in the documentation: http://pandas.pydata.org/pandas-docs/stable/user_guide/indexing.html#returning-a-view-versus-a-copy\n",
      "  ]\n"
     ]
    },
    {
     "name": "stdout",
     "output_type": "stream",
     "text": [
      "Pic :  0.022727272727272724\n",
      "all_score  1.4457266886221185\n",
      "------------------------------------------------------------------------------------------------\n",
      "邱鈺婷 , 19_bpintaiwan\n",
      "Prm :  0.8766\n",
      "division by zero\n",
      "division by zero\n",
      "division by zero\n",
      "division by zero\n",
      "division by zero\n",
      "division by zero\n",
      "division by zero\n",
      "division by zero\n",
      "division by zero\n",
      "division by zero\n",
      "division by zero\n",
      "division by zero\n",
      "division by zero\n",
      "division by zero\n",
      "division by zero\n",
      "division by zero\n",
      "division by zero\n",
      "division by zero\n",
      "division by zero\n",
      "division by zero\n",
      "division by zero\n",
      "division by zero\n",
      "division by zero\n",
      "division by zero\n",
      "division by zero\n",
      "division by zero\n",
      "division by zero\n",
      "division by zero\n",
      "Pop :  0.22623403188317157\n",
      "Act :  0.40111490653762216\n"
     ]
    },
    {
     "name": "stderr",
     "output_type": "stream",
     "text": [
      "IG_account_recommend_for_facebook_system.ipynb:8: SettingWithCopyWarning: \n",
      "A value is trying to be set on a copy of a slice from a DataFrame\n",
      "\n",
      "See the caveats in the documentation: http://pandas.pydata.org/pandas-docs/stable/user_guide/indexing.html#returning-a-view-versus-a-copy\n",
      "  ]\n"
     ]
    },
    {
     "name": "stdout",
     "output_type": "stream",
     "text": [
      "Pic :  0.04329688144496856\n",
      "all_score  1.5472458198657622\n",
      "------------------------------------------------------------------------------------------------\n",
      "邱鈺婷 , 1_arielsvlog_816\n",
      "Prm :  0.8099\n",
      "Pop :  0.20430916180601963\n",
      "Act :  0.2664835164835165\n"
     ]
    },
    {
     "name": "stderr",
     "output_type": "stream",
     "text": [
      "IG_account_recommend_for_facebook_system.ipynb:8: SettingWithCopyWarning: \n",
      "A value is trying to be set on a copy of a slice from a DataFrame\n",
      "\n",
      "See the caveats in the documentation: http://pandas.pydata.org/pandas-docs/stable/user_guide/indexing.html#returning-a-view-versus-a-copy\n",
      "  ]\n"
     ]
    },
    {
     "name": "stdout",
     "output_type": "stream",
     "text": [
      "Pic :  0.06815172465942368\n",
      "all_score  1.3488444029489597\n",
      "------------------------------------------------------------------------------------------------\n",
      "邱鈺婷 , 20_imma_pon\n",
      "Prm :  0.7438\n",
      "division by zero\n",
      "Pop :  0.22421824721884326\n",
      "Act :  0.5006860592755215\n"
     ]
    },
    {
     "name": "stderr",
     "output_type": "stream",
     "text": [
      "IG_account_recommend_for_facebook_system.ipynb:8: SettingWithCopyWarning: \n",
      "A value is trying to be set on a copy of a slice from a DataFrame\n",
      "\n",
      "See the caveats in the documentation: http://pandas.pydata.org/pandas-docs/stable/user_guide/indexing.html#returning-a-view-versus-a-copy\n",
      "  ]\n"
     ]
    },
    {
     "name": "stdout",
     "output_type": "stream",
     "text": [
      "Pic :  0.03205128205128205\n",
      "all_score  1.5007555885456467\n",
      "------------------------------------------------------------------------------------------------\n",
      "邱鈺婷 , 2_dentist_easoncheng\n",
      "Prm :  0.783\n",
      "division by zero\n",
      "division by zero\n",
      "division by zero\n",
      "division by zero\n",
      "division by zero\n",
      "division by zero\n",
      "division by zero\n",
      "division by zero\n",
      "division by zero\n",
      "division by zero\n",
      "division by zero\n",
      "division by zero\n",
      "division by zero\n",
      "division by zero\n",
      "division by zero\n",
      "Pop :  0.2138748704661347\n",
      "Act :  0.35341974627688916\n"
     ]
    },
    {
     "name": "stderr",
     "output_type": "stream",
     "text": [
      "IG_account_recommend_for_facebook_system.ipynb:8: SettingWithCopyWarning: \n",
      "A value is trying to be set on a copy of a slice from a DataFrame\n",
      "\n",
      "See the caveats in the documentation: http://pandas.pydata.org/pandas-docs/stable/user_guide/indexing.html#returning-a-view-versus-a-copy\n",
      "  ]\n"
     ]
    },
    {
     "name": "stdout",
     "output_type": "stream",
     "text": [
      "Pic :  0.015624999999999998\n",
      "all_score  1.3659196167430239\n",
      "------------------------------------------------------------------------------------------------\n",
      "邱鈺婷 , 3_yuniko0720\n",
      "Prm :  0.7991\n",
      "Pop :  0.2048432429955162\n",
      "Act :  0.2760683760683761\n"
     ]
    },
    {
     "name": "stderr",
     "output_type": "stream",
     "text": [
      "IG_account_recommend_for_facebook_system.ipynb:8: SettingWithCopyWarning: \n",
      "A value is trying to be set on a copy of a slice from a DataFrame\n",
      "\n",
      "See the caveats in the documentation: http://pandas.pydata.org/pandas-docs/stable/user_guide/indexing.html#returning-a-view-versus-a-copy\n",
      "  ]\n"
     ]
    },
    {
     "name": "stdout",
     "output_type": "stream",
     "text": [
      "Pic :  0.009957275377167391\n",
      "all_score  1.2899688944410599\n",
      "------------------------------------------------------------------------------------------------\n",
      "邱鈺婷 , 4_rolling\n",
      "Prm :  0.9147\n",
      "division by zero\n",
      "division by zero\n",
      "division by zero\n",
      "division by zero\n",
      "division by zero\n",
      "division by zero\n",
      "division by zero\n",
      "division by zero\n",
      "division by zero\n",
      "division by zero\n",
      "division by zero\n",
      "division by zero\n",
      "division by zero\n",
      "division by zero\n",
      "division by zero\n",
      "division by zero\n",
      "division by zero\n",
      "division by zero\n",
      "division by zero\n",
      "division by zero\n",
      "division by zero\n",
      "division by zero\n",
      "division by zero\n",
      "division by zero\n",
      "division by zero\n",
      "division by zero\n",
      "division by zero\n",
      "division by zero\n",
      "division by zero\n",
      "division by zero\n",
      "division by zero\n",
      "division by zero\n",
      "division by zero\n",
      "division by zero\n",
      "division by zero\n",
      "division by zero\n",
      "division by zero\n",
      "division by zero\n",
      "division by zero\n",
      "division by zero\n",
      "division by zero\n",
      "division by zero\n",
      "division by zero\n",
      "division by zero\n",
      "division by zero\n",
      "division by zero\n",
      "division by zero\n",
      "division by zero\n",
      "Pop :  0.32393669469658715\n",
      "Act :  0.2527386541471049\n"
     ]
    },
    {
     "name": "stderr",
     "output_type": "stream",
     "text": [
      "IG_account_recommend_for_facebook_system.ipynb:8: SettingWithCopyWarning: \n",
      "A value is trying to be set on a copy of a slice from a DataFrame\n",
      "\n",
      "See the caveats in the documentation: http://pandas.pydata.org/pandas-docs/stable/user_guide/indexing.html#returning-a-view-versus-a-copy\n",
      "  ]\n"
     ]
    },
    {
     "name": "stdout",
     "output_type": "stream",
     "text": [
      "Pic :  0.018518518518518517\n",
      "all_score  1.5098938673622104\n",
      "------------------------------------------------------------------------------------------------\n",
      "邱鈺婷 , 5_melissaxhiker\n",
      "Prm :  0.8094\n",
      "division by zero\n",
      "division by zero\n",
      "division by zero\n",
      "division by zero\n",
      "division by zero\n",
      "division by zero\n",
      "division by zero\n",
      "division by zero\n",
      "division by zero\n",
      "division by zero\n",
      "division by zero\n",
      "division by zero\n",
      "division by zero\n",
      "division by zero\n",
      "division by zero\n",
      "division by zero\n",
      "division by zero\n",
      "division by zero\n",
      "division by zero\n",
      "Pop :  0.20813183337050378\n",
      "Act :  0.402046783625731\n"
     ]
    },
    {
     "name": "stderr",
     "output_type": "stream",
     "text": [
      "IG_account_recommend_for_facebook_system.ipynb:8: SettingWithCopyWarning: \n",
      "A value is trying to be set on a copy of a slice from a DataFrame\n",
      "\n",
      "See the caveats in the documentation: http://pandas.pydata.org/pandas-docs/stable/user_guide/indexing.html#returning-a-view-versus-a-copy\n",
      "  ]\n"
     ]
    },
    {
     "name": "stdout",
     "output_type": "stream",
     "text": [
      "Pic :  0.014889316237112506\n",
      "all_score  1.4344679332333472\n",
      "------------------------------------------------------------------------------------------------\n",
      "邱鈺婷 , 6_cheers_tw\n",
      "Prm :  0.8832\n",
      "division by zero\n",
      "division by zero\n",
      "division by zero\n",
      "division by zero\n",
      "division by zero\n",
      "division by zero\n",
      "division by zero\n",
      "division by zero\n",
      "division by zero\n",
      "division by zero\n",
      "division by zero\n",
      "division by zero\n",
      "division by zero\n",
      "division by zero\n",
      "division by zero\n",
      "division by zero\n",
      "division by zero\n",
      "division by zero\n",
      "division by zero\n",
      "division by zero\n",
      "division by zero\n",
      "Pop :  0.21577408126122827\n",
      "Act :  0.25615474794841736\n"
     ]
    },
    {
     "name": "stderr",
     "output_type": "stream",
     "text": [
      "IG_account_recommend_for_facebook_system.ipynb:8: SettingWithCopyWarning: \n",
      "A value is trying to be set on a copy of a slice from a DataFrame\n",
      "\n",
      "See the caveats in the documentation: http://pandas.pydata.org/pandas-docs/stable/user_guide/indexing.html#returning-a-view-versus-a-copy\n",
      "  ]\n"
     ]
    },
    {
     "name": "stdout",
     "output_type": "stream",
     "text": [
      "Pic :  0.04616267127720417\n",
      "all_score  1.4012915004868498\n",
      "------------------------------------------------------------------------------------------------\n",
      "邱鈺婷 , 7_rocean___\n",
      "Prm :  0.8545\n",
      "division by zero\n",
      "division by zero\n",
      "division by zero\n",
      "division by zero\n",
      "division by zero\n",
      "division by zero\n",
      "division by zero\n",
      "division by zero\n",
      "Pop :  0.3270986506949915\n",
      "Act :  0.37045169385194476\n"
     ]
    },
    {
     "name": "stderr",
     "output_type": "stream",
     "text": [
      "IG_account_recommend_for_facebook_system.ipynb:8: SettingWithCopyWarning: \n",
      "A value is trying to be set on a copy of a slice from a DataFrame\n",
      "\n",
      "See the caveats in the documentation: http://pandas.pydata.org/pandas-docs/stable/user_guide/indexing.html#returning-a-view-versus-a-copy\n",
      "  ]\n"
     ]
    },
    {
     "name": "stdout",
     "output_type": "stream",
     "text": [
      "Pic :  0.0\n",
      "all_score  1.5520503445469362\n",
      "------------------------------------------------------------------------------------------------\n",
      "邱鈺婷 , 8_cbx\n",
      "Prm :  0.8206\n",
      "division by zero\n",
      "division by zero\n",
      "division by zero\n",
      "division by zero\n",
      "division by zero\n",
      "division by zero\n",
      "division by zero\n",
      "division by zero\n",
      "division by zero\n",
      "division by zero\n",
      "division by zero\n",
      "Pop :  0.21001846001771307\n",
      "Act :  0.2962662337662338\n"
     ]
    },
    {
     "name": "stderr",
     "output_type": "stream",
     "text": [
      "IG_account_recommend_for_facebook_system.ipynb:8: SettingWithCopyWarning: \n",
      "A value is trying to be set on a copy of a slice from a DataFrame\n",
      "\n",
      "See the caveats in the documentation: http://pandas.pydata.org/pandas-docs/stable/user_guide/indexing.html#returning-a-view-versus-a-copy\n",
      "  ]\n"
     ]
    },
    {
     "name": "stdout",
     "output_type": "stream",
     "text": [
      "Pic :  0.07214851031904752\n",
      "all_score  1.3990332041029945\n",
      "------------------------------------------------------------------------------------------------\n",
      "邱鈺婷 , 9_populzzang_mag\n",
      "Prm :  0.8529\n",
      "division by zero\n",
      "Pop :  0.2313699816554155\n",
      "Act :  0.25190961171228515\n"
     ]
    },
    {
     "name": "stderr",
     "output_type": "stream",
     "text": [
      "IG_account_recommend_for_facebook_system.ipynb:8: SettingWithCopyWarning: \n",
      "A value is trying to be set on a copy of a slice from a DataFrame\n",
      "\n",
      "See the caveats in the documentation: http://pandas.pydata.org/pandas-docs/stable/user_guide/indexing.html#returning-a-view-versus-a-copy\n",
      "  ]\n"
     ]
    },
    {
     "name": "stdout",
     "output_type": "stream",
     "text": [
      "Pic :  0.02164892232053255\n",
      "all_score  1.3578285156882333\n",
      "------------------------------------------------------------------------------------------------\n",
      "陳怡瑄 , 10_hana\n",
      "Prm :  0.8531\n",
      "Pop :  0.23782072888134076\n",
      "Act :  0.35774058577405854\n"
     ]
    },
    {
     "name": "stderr",
     "output_type": "stream",
     "text": [
      "IG_account_recommend_for_facebook_system.ipynb:8: SettingWithCopyWarning: \n",
      "A value is trying to be set on a copy of a slice from a DataFrame\n",
      "\n",
      "See the caveats in the documentation: http://pandas.pydata.org/pandas-docs/stable/user_guide/indexing.html#returning-a-view-versus-a-copy\n",
      "  ]\n"
     ]
    },
    {
     "name": "stdout",
     "output_type": "stream",
     "text": [
      "Pic :  0.0606060606060606\n",
      "all_score  1.5092673752614598\n",
      "------------------------------------------------------------------------------------------------\n",
      "陳怡瑄 , 11_hsin0126\n",
      "Prm :  0.7543\n",
      "Pop :  0.4100353754121414\n",
      "Act :  0.39254686785550985\n"
     ]
    },
    {
     "name": "stderr",
     "output_type": "stream",
     "text": [
      "IG_account_recommend_for_facebook_system.ipynb:8: SettingWithCopyWarning: \n",
      "A value is trying to be set on a copy of a slice from a DataFrame\n",
      "\n",
      "See the caveats in the documentation: http://pandas.pydata.org/pandas-docs/stable/user_guide/indexing.html#returning-a-view-versus-a-copy\n",
      "  ]\n"
     ]
    },
    {
     "name": "stdout",
     "output_type": "stream",
     "text": [
      "Pic :  0.09381446098270525\n",
      "all_score  1.6506967042503566\n",
      "------------------------------------------------------------------------------------------------\n",
      "陳怡瑄 , 12_tsaigray2018\n",
      "Prm :  0.7193\n",
      "Pop :  0.20037133792787482\n",
      "Act :  0.25428963623884693\n"
     ]
    },
    {
     "name": "stderr",
     "output_type": "stream",
     "text": [
      "IG_account_recommend_for_facebook_system.ipynb:8: SettingWithCopyWarning: \n",
      "A value is trying to be set on a copy of a slice from a DataFrame\n",
      "\n",
      "See the caveats in the documentation: http://pandas.pydata.org/pandas-docs/stable/user_guide/indexing.html#returning-a-view-versus-a-copy\n",
      "  ]\n"
     ]
    },
    {
     "name": "stdout",
     "output_type": "stream",
     "text": [
      "Pic :  0.0\n",
      "all_score  1.1739609741667218\n",
      "------------------------------------------------------------------------------------------------\n",
      "陳怡瑄 , 13_snowzaicat\n",
      "Prm :  0.6616\n",
      "Pop :  0.22682848695507282\n",
      "Act :  0.4876543209876543\n"
     ]
    },
    {
     "name": "stderr",
     "output_type": "stream",
     "text": [
      "IG_account_recommend_for_facebook_system.ipynb:8: SettingWithCopyWarning: \n",
      "A value is trying to be set on a copy of a slice from a DataFrame\n",
      "\n",
      "See the caveats in the documentation: http://pandas.pydata.org/pandas-docs/stable/user_guide/indexing.html#returning-a-view-versus-a-copy\n",
      "  ]\n"
     ]
    },
    {
     "name": "stdout",
     "output_type": "stream",
     "text": [
      "Pic :  0.0\n",
      "all_score  1.3760828079427272\n",
      "------------------------------------------------------------------------------------------------\n",
      "陳怡瑄 , 14_jc\n",
      "Prm :  0.7803\n",
      "division by zero\n",
      "division by zero\n",
      "Pop :  0.29054843552423265\n",
      "Act :  0.36518046709129515\n"
     ]
    },
    {
     "name": "stderr",
     "output_type": "stream",
     "text": [
      "IG_account_recommend_for_facebook_system.ipynb:8: SettingWithCopyWarning: \n",
      "A value is trying to be set on a copy of a slice from a DataFrame\n",
      "\n",
      "See the caveats in the documentation: http://pandas.pydata.org/pandas-docs/stable/user_guide/indexing.html#returning-a-view-versus-a-copy\n",
      "  ]\n"
     ]
    },
    {
     "name": "stdout",
     "output_type": "stream",
     "text": [
      "Pic :  0.0\n",
      "all_score  1.436028902615528\n",
      "------------------------------------------------------------------------------------------------\n",
      "陳怡瑄 , 15_doctorkowj\n",
      "Prm :  0.7261\n",
      "Pop :  0.2129060955086605\n",
      "Act :  0.2558441558441558\n"
     ]
    },
    {
     "name": "stderr",
     "output_type": "stream",
     "text": [
      "IG_account_recommend_for_facebook_system.ipynb:8: SettingWithCopyWarning: \n",
      "A value is trying to be set on a copy of a slice from a DataFrame\n",
      "\n",
      "See the caveats in the documentation: http://pandas.pydata.org/pandas-docs/stable/user_guide/indexing.html#returning-a-view-versus-a-copy\n",
      "  ]\n"
     ]
    },
    {
     "name": "stdout",
     "output_type": "stream",
     "text": [
      "Pic :  0.009957275377167391\n",
      "all_score  1.2048075267299836\n",
      "------------------------------------------------------------------------------------------------\n",
      "陳怡瑄 , 16_jaychou\n"
     ]
    },
    {
     "ename": "KeyError",
     "evalue": "['post content']",
     "output_type": "error",
     "traceback": [
      "\u001b[1;31m---------------------------------------------------------------------------\u001b[0m",
      "\u001b[1;31mKeyError\u001b[0m                                  Traceback (most recent call last)",
      "\u001b[1;32m~\\Documents\\畢業論文\\Code\\IG_account_recommend_for_facebook_system.ipynb\u001b[0m in \u001b[0;36m<module>\u001b[1;34m\u001b[0m\n\u001b[0;32m      1\u001b[0m \u001b[1;31m#去除空值row\u001b[0m\u001b[1;33m\u001b[0m\u001b[1;33m\u001b[0m\u001b[1;33m\u001b[0m\u001b[0m\n\u001b[0;32m      2\u001b[0m \u001b[0moringnal_df\u001b[0m \u001b[1;33m=\u001b[0m \u001b[0moringnal_df\u001b[0m\u001b[1;33m.\u001b[0m\u001b[0mdropna\u001b[0m\u001b[1;33m(\u001b[0m\u001b[0msubset\u001b[0m\u001b[1;33m=\u001b[0m\u001b[1;33m[\u001b[0m\u001b[1;34m\"message\"\u001b[0m\u001b[1;33m]\u001b[0m\u001b[1;33m)\u001b[0m\u001b[1;33m\u001b[0m\u001b[1;33m\u001b[0m\u001b[0m\n\u001b[1;32m----> 3\u001b[1;33m \u001b[0moringnal_ig_df\u001b[0m \u001b[1;33m=\u001b[0m \u001b[0moringnal_ig_df\u001b[0m\u001b[1;33m.\u001b[0m\u001b[0mdropna\u001b[0m\u001b[1;33m(\u001b[0m\u001b[0msubset\u001b[0m\u001b[1;33m=\u001b[0m\u001b[1;33m[\u001b[0m\u001b[1;34m\"post content\"\u001b[0m\u001b[1;33m]\u001b[0m\u001b[1;33m)\u001b[0m\u001b[1;33m\u001b[0m\u001b[1;33m\u001b[0m\u001b[0m\n\u001b[0m\u001b[0;32m      4\u001b[0m \u001b[0moringnal_df\u001b[0m\u001b[1;33m[\u001b[0m\u001b[1;34m'new'\u001b[0m\u001b[1;33m]\u001b[0m \u001b[1;33m=\u001b[0m \u001b[1;34m\"NEW\"\u001b[0m\u001b[1;33m\u001b[0m\u001b[1;33m\u001b[0m\u001b[0m\n\u001b[0;32m      5\u001b[0m \u001b[0moringnal_ig_df\u001b[0m\u001b[1;33m[\u001b[0m\u001b[1;34m'new content'\u001b[0m\u001b[1;33m]\u001b[0m \u001b[1;33m=\u001b[0m \u001b[1;34m\"None\"\u001b[0m\u001b[1;33m\u001b[0m\u001b[1;33m\u001b[0m\u001b[0m\n",
      "\u001b[1;32m~\\Anaconda3\\lib\\site-packages\\pandas\\core\\frame.py\u001b[0m in \u001b[0;36mdropna\u001b[1;34m(self, axis, how, thresh, subset, inplace)\u001b[0m\n\u001b[0;32m   4842\u001b[0m                 \u001b[0mcheck\u001b[0m \u001b[1;33m=\u001b[0m \u001b[0mindices\u001b[0m \u001b[1;33m==\u001b[0m \u001b[1;33m-\u001b[0m\u001b[1;36m1\u001b[0m\u001b[1;33m\u001b[0m\u001b[1;33m\u001b[0m\u001b[0m\n\u001b[0;32m   4843\u001b[0m                 \u001b[1;32mif\u001b[0m \u001b[0mcheck\u001b[0m\u001b[1;33m.\u001b[0m\u001b[0many\u001b[0m\u001b[1;33m(\u001b[0m\u001b[1;33m)\u001b[0m\u001b[1;33m:\u001b[0m\u001b[1;33m\u001b[0m\u001b[1;33m\u001b[0m\u001b[0m\n\u001b[1;32m-> 4844\u001b[1;33m                     \u001b[1;32mraise\u001b[0m \u001b[0mKeyError\u001b[0m\u001b[1;33m(\u001b[0m\u001b[0mlist\u001b[0m\u001b[1;33m(\u001b[0m\u001b[0mnp\u001b[0m\u001b[1;33m.\u001b[0m\u001b[0mcompress\u001b[0m\u001b[1;33m(\u001b[0m\u001b[0mcheck\u001b[0m\u001b[1;33m,\u001b[0m \u001b[0msubset\u001b[0m\u001b[1;33m)\u001b[0m\u001b[1;33m)\u001b[0m\u001b[1;33m)\u001b[0m\u001b[1;33m\u001b[0m\u001b[1;33m\u001b[0m\u001b[0m\n\u001b[0m\u001b[0;32m   4845\u001b[0m                 \u001b[0magg_obj\u001b[0m \u001b[1;33m=\u001b[0m \u001b[0mself\u001b[0m\u001b[1;33m.\u001b[0m\u001b[0mtake\u001b[0m\u001b[1;33m(\u001b[0m\u001b[0mindices\u001b[0m\u001b[1;33m,\u001b[0m \u001b[0maxis\u001b[0m\u001b[1;33m=\u001b[0m\u001b[0magg_axis\u001b[0m\u001b[1;33m)\u001b[0m\u001b[1;33m\u001b[0m\u001b[1;33m\u001b[0m\u001b[0m\n\u001b[0;32m   4846\u001b[0m \u001b[1;33m\u001b[0m\u001b[0m\n",
      "\u001b[1;31mKeyError\u001b[0m: ['post content']"
     ]
    },
    {
     "name": "stdout",
     "output_type": "stream",
     "text": [
      "------------------------------------------------------------------------------------------------\n",
      "陳怡瑄 , 17_sunnygirl800424\n",
      "Prm :  0.7302\n",
      "Pop :  0.2080247327628138\n",
      "Act :  0.45338774597495524\n"
     ]
    },
    {
     "name": "stderr",
     "output_type": "stream",
     "text": [
      "IG_account_recommend_for_facebook_system.ipynb:8: SettingWithCopyWarning: \n",
      "A value is trying to be set on a copy of a slice from a DataFrame\n",
      "\n",
      "See the caveats in the documentation: http://pandas.pydata.org/pandas-docs/stable/user_guide/indexing.html#returning-a-view-versus-a-copy\n",
      "  ]\n"
     ]
    },
    {
     "name": "stdout",
     "output_type": "stream",
     "text": [
      "Pic :  0.009433962264150943\n",
      "all_score  1.4010464410019199\n",
      "------------------------------------------------------------------------------------------------\n",
      "陳怡瑄 , 18_poptour_mag\n",
      "Prm :  0.8131\n",
      "division by zero\n",
      "Pop :  0.21333715576691406\n",
      "Act :  0.40826226012793176\n"
     ]
    },
    {
     "name": "stderr",
     "output_type": "stream",
     "text": [
      "IG_account_recommend_for_facebook_system.ipynb:8: SettingWithCopyWarning: \n",
      "A value is trying to be set on a copy of a slice from a DataFrame\n",
      "\n",
      "See the caveats in the documentation: http://pandas.pydata.org/pandas-docs/stable/user_guide/indexing.html#returning-a-view-versus-a-copy\n",
      "  ]\n"
     ]
    },
    {
     "name": "stdout",
     "output_type": "stream",
     "text": [
      "Pic :  0.05681818181818181\n",
      "all_score  1.4915175977130277\n",
      "------------------------------------------------------------------------------------------------\n",
      "陳怡瑄 , 19_bpintaiwan\n",
      "Prm :  0.8007\n",
      "division by zero\n",
      "division by zero\n",
      "division by zero\n",
      "division by zero\n",
      "division by zero\n",
      "division by zero\n",
      "division by zero\n",
      "division by zero\n",
      "division by zero\n",
      "division by zero\n",
      "division by zero\n",
      "division by zero\n",
      "division by zero\n",
      "division by zero\n",
      "division by zero\n",
      "division by zero\n",
      "division by zero\n",
      "division by zero\n",
      "division by zero\n",
      "division by zero\n",
      "division by zero\n",
      "division by zero\n",
      "division by zero\n",
      "division by zero\n",
      "division by zero\n",
      "division by zero\n",
      "division by zero\n",
      "division by zero\n",
      "Pop :  0.22623403188317157\n",
      "Act :  0.40111490653762216\n"
     ]
    },
    {
     "name": "stderr",
     "output_type": "stream",
     "text": [
      "IG_account_recommend_for_facebook_system.ipynb:8: SettingWithCopyWarning: \n",
      "A value is trying to be set on a copy of a slice from a DataFrame\n",
      "\n",
      "See the caveats in the documentation: http://pandas.pydata.org/pandas-docs/stable/user_guide/indexing.html#returning-a-view-versus-a-copy\n",
      "  ]\n"
     ]
    },
    {
     "name": "stdout",
     "output_type": "stream",
     "text": [
      "Pic :  0.03353019322628731\n",
      "all_score  1.4615791316470808\n",
      "------------------------------------------------------------------------------------------------\n",
      "陳怡瑄 , 1_arielsvlog_816\n",
      "Prm :  0.7542\n",
      "Pop :  0.20430916180601963\n",
      "Act :  0.2664835164835165\n"
     ]
    },
    {
     "name": "stderr",
     "output_type": "stream",
     "text": [
      "IG_account_recommend_for_facebook_system.ipynb:8: SettingWithCopyWarning: \n",
      "A value is trying to be set on a copy of a slice from a DataFrame\n",
      "\n",
      "See the caveats in the documentation: http://pandas.pydata.org/pandas-docs/stable/user_guide/indexing.html#returning-a-view-versus-a-copy\n",
      "  ]\n"
     ]
    },
    {
     "name": "stdout",
     "output_type": "stream",
     "text": [
      "Pic :  0.03571428571428571\n",
      "all_score  1.2607069640038218\n",
      "------------------------------------------------------------------------------------------------\n",
      "陳怡瑄 , 20_imma_pon\n",
      "Prm :  0.6779\n",
      "division by zero\n",
      "Pop :  0.22421824721884326\n",
      "Act :  0.5006860592755215\n"
     ]
    },
    {
     "name": "stderr",
     "output_type": "stream",
     "text": [
      "IG_account_recommend_for_facebook_system.ipynb:8: SettingWithCopyWarning: \n",
      "A value is trying to be set on a copy of a slice from a DataFrame\n",
      "\n",
      "See the caveats in the documentation: http://pandas.pydata.org/pandas-docs/stable/user_guide/indexing.html#returning-a-view-versus-a-copy\n",
      "  ]\n"
     ]
    },
    {
     "name": "stdout",
     "output_type": "stream",
     "text": [
      "Pic :  0.024464721672613626\n",
      "all_score  1.4272690281669784\n",
      "------------------------------------------------------------------------------------------------\n",
      "陳怡瑄 , 2_dentist_easoncheng\n",
      "Prm :  0.7514\n",
      "division by zero\n",
      "division by zero\n",
      "division by zero\n",
      "division by zero\n",
      "division by zero\n",
      "division by zero\n",
      "division by zero\n",
      "division by zero\n",
      "division by zero\n",
      "division by zero\n",
      "division by zero\n",
      "division by zero\n",
      "division by zero\n",
      "division by zero\n",
      "division by zero\n",
      "Pop :  0.2138748704661347\n",
      "Act :  0.35341974627688916\n"
     ]
    },
    {
     "name": "stderr",
     "output_type": "stream",
     "text": [
      "IG_account_recommend_for_facebook_system.ipynb:8: SettingWithCopyWarning: \n",
      "A value is trying to be set on a copy of a slice from a DataFrame\n",
      "\n",
      "See the caveats in the documentation: http://pandas.pydata.org/pandas-docs/stable/user_guide/indexing.html#returning-a-view-versus-a-copy\n",
      "  ]\n"
     ]
    },
    {
     "name": "stdout",
     "output_type": "stream",
     "text": [
      "Pic :  0.018861043456039804\n",
      "all_score  1.3375556601990637\n",
      "------------------------------------------------------------------------------------------------\n",
      "陳怡瑄 , 3_yuniko0720\n",
      "Prm :  0.7104\n",
      "Pop :  0.2048432429955162\n",
      "Act :  0.2760683760683761\n"
     ]
    },
    {
     "name": "stderr",
     "output_type": "stream",
     "text": [
      "IG_account_recommend_for_facebook_system.ipynb:8: SettingWithCopyWarning: \n",
      "A value is trying to be set on a copy of a slice from a DataFrame\n",
      "\n",
      "See the caveats in the documentation: http://pandas.pydata.org/pandas-docs/stable/user_guide/indexing.html#returning-a-view-versus-a-copy\n",
      "  ]\n"
     ]
    },
    {
     "name": "stdout",
     "output_type": "stream",
     "text": [
      "Pic :  0.008623253429104237\n",
      "all_score  1.1999348724929964\n",
      "------------------------------------------------------------------------------------------------\n",
      "陳怡瑄 , 4_rolling\n",
      "Prm :  0.9384\n",
      "division by zero\n",
      "division by zero\n",
      "division by zero\n",
      "division by zero\n",
      "division by zero\n",
      "division by zero\n",
      "division by zero\n",
      "division by zero\n",
      "division by zero\n",
      "division by zero\n",
      "division by zero\n",
      "division by zero\n",
      "division by zero\n",
      "division by zero\n",
      "division by zero\n",
      "division by zero\n",
      "division by zero\n",
      "division by zero\n",
      "division by zero\n",
      "division by zero\n",
      "division by zero\n",
      "division by zero\n",
      "division by zero\n",
      "division by zero\n",
      "division by zero\n",
      "division by zero\n",
      "division by zero\n",
      "division by zero\n",
      "division by zero\n",
      "division by zero\n",
      "division by zero\n",
      "division by zero\n",
      "division by zero\n",
      "division by zero\n",
      "division by zero\n",
      "division by zero\n",
      "division by zero\n",
      "division by zero\n",
      "division by zero\n",
      "division by zero\n",
      "division by zero\n",
      "division by zero\n",
      "division by zero\n",
      "division by zero\n",
      "division by zero\n",
      "division by zero\n",
      "division by zero\n",
      "division by zero\n",
      "Pop :  0.32393669469658715\n",
      "Act :  0.2527386541471049\n"
     ]
    },
    {
     "name": "stderr",
     "output_type": "stream",
     "text": [
      "IG_account_recommend_for_facebook_system.ipynb:8: SettingWithCopyWarning: \n",
      "A value is trying to be set on a copy of a slice from a DataFrame\n",
      "\n",
      "See the caveats in the documentation: http://pandas.pydata.org/pandas-docs/stable/user_guide/indexing.html#returning-a-view-versus-a-copy\n",
      "  ]\n"
     ]
    },
    {
     "name": "stdout",
     "output_type": "stream",
     "text": [
      "Pic :  0.04119897909984424\n",
      "all_score  1.5562743279435363\n",
      "------------------------------------------------------------------------------------------------\n",
      "陳怡瑄 , 5_melissaxhiker\n",
      "Prm :  0.8825\n",
      "division by zero\n",
      "division by zero\n",
      "division by zero\n",
      "division by zero\n",
      "division by zero\n",
      "division by zero\n",
      "division by zero\n",
      "division by zero\n",
      "division by zero\n",
      "division by zero\n",
      "division by zero\n",
      "division by zero\n",
      "division by zero\n",
      "division by zero\n",
      "division by zero\n",
      "division by zero\n",
      "division by zero\n",
      "division by zero\n",
      "division by zero\n",
      "Pop :  0.20813183337050378\n",
      "Act :  0.402046783625731\n"
     ]
    },
    {
     "name": "stderr",
     "output_type": "stream",
     "text": [
      "IG_account_recommend_for_facebook_system.ipynb:8: SettingWithCopyWarning: \n",
      "A value is trying to be set on a copy of a slice from a DataFrame\n",
      "\n",
      "See the caveats in the documentation: http://pandas.pydata.org/pandas-docs/stable/user_guide/indexing.html#returning-a-view-versus-a-copy\n",
      "  ]\n"
     ]
    },
    {
     "name": "stdout",
     "output_type": "stream",
     "text": [
      "Pic :  0.027985357068631925\n",
      "all_score  1.5206639740648664\n",
      "------------------------------------------------------------------------------------------------\n",
      "陳怡瑄 , 6_cheers_tw\n",
      "Prm :  0.9462\n",
      "division by zero\n",
      "division by zero\n",
      "division by zero\n",
      "division by zero\n",
      "division by zero\n",
      "division by zero\n",
      "division by zero\n",
      "division by zero\n",
      "division by zero\n",
      "division by zero\n",
      "division by zero\n",
      "division by zero\n",
      "division by zero\n",
      "division by zero\n",
      "division by zero\n",
      "division by zero\n",
      "division by zero\n",
      "division by zero\n",
      "division by zero\n",
      "division by zero\n",
      "division by zero\n",
      "Pop :  0.21577408126122827\n",
      "Act :  0.25615474794841736\n"
     ]
    },
    {
     "name": "stderr",
     "output_type": "stream",
     "text": [
      "IG_account_recommend_for_facebook_system.ipynb:8: SettingWithCopyWarning: \n",
      "A value is trying to be set on a copy of a slice from a DataFrame\n",
      "\n",
      "See the caveats in the documentation: http://pandas.pydata.org/pandas-docs/stable/user_guide/indexing.html#returning-a-view-versus-a-copy\n",
      "  ]\n"
     ]
    },
    {
     "name": "stdout",
     "output_type": "stream",
     "text": [
      "Pic :  0.019160425098199166\n",
      "all_score  1.4372892543078448\n",
      "------------------------------------------------------------------------------------------------\n",
      "陳怡瑄 , 7_rocean___\n",
      "Prm :  0.7493\n",
      "division by zero\n",
      "division by zero\n",
      "division by zero\n",
      "division by zero\n",
      "division by zero\n",
      "division by zero\n",
      "division by zero\n",
      "division by zero\n",
      "Pop :  0.3270986506949915\n",
      "Act :  0.37045169385194476\n"
     ]
    },
    {
     "name": "stderr",
     "output_type": "stream",
     "text": [
      "IG_account_recommend_for_facebook_system.ipynb:8: SettingWithCopyWarning: \n",
      "A value is trying to be set on a copy of a slice from a DataFrame\n",
      "\n",
      "See the caveats in the documentation: http://pandas.pydata.org/pandas-docs/stable/user_guide/indexing.html#returning-a-view-versus-a-copy\n",
      "  ]\n"
     ]
    },
    {
     "name": "stdout",
     "output_type": "stream",
     "text": [
      "Pic :  0.0\n",
      "all_score  1.4468503445469363\n",
      "------------------------------------------------------------------------------------------------\n",
      "陳怡瑄 , 8_cbx\n",
      "Prm :  0.7684\n",
      "division by zero\n",
      "division by zero\n",
      "division by zero\n",
      "division by zero\n",
      "division by zero\n",
      "division by zero\n",
      "division by zero\n",
      "division by zero\n",
      "division by zero\n",
      "division by zero\n",
      "division by zero\n",
      "Pop :  0.21001846001771307\n",
      "Act :  0.2962662337662338\n"
     ]
    },
    {
     "name": "stderr",
     "output_type": "stream",
     "text": [
      "IG_account_recommend_for_facebook_system.ipynb:8: SettingWithCopyWarning: \n",
      "A value is trying to be set on a copy of a slice from a DataFrame\n",
      "\n",
      "See the caveats in the documentation: http://pandas.pydata.org/pandas-docs/stable/user_guide/indexing.html#returning-a-view-versus-a-copy\n",
      "  ]\n"
     ]
    },
    {
     "name": "stdout",
     "output_type": "stream",
     "text": [
      "Pic :  0.023084899425973845\n",
      "all_score  1.2977695932099207\n",
      "------------------------------------------------------------------------------------------------\n",
      "陳怡瑄 , 9_populzzang_mag\n",
      "Prm :  0.8083\n",
      "division by zero\n",
      "Pop :  0.2313699816554155\n",
      "Act :  0.25190961171228515\n"
     ]
    },
    {
     "name": "stderr",
     "output_type": "stream",
     "text": [
      "IG_account_recommend_for_facebook_system.ipynb:8: SettingWithCopyWarning: \n",
      "A value is trying to be set on a copy of a slice from a DataFrame\n",
      "\n",
      "See the caveats in the documentation: http://pandas.pydata.org/pandas-docs/stable/user_guide/indexing.html#returning-a-view-versus-a-copy\n",
      "  ]\n"
     ]
    },
    {
     "name": "stdout",
     "output_type": "stream",
     "text": [
      "Pic :  0.011627906976744184\n",
      "all_score  1.303207500344445\n",
      "------------------------------------------------------------------------------------------------\n"
     ]
    }
   ],
   "source": [
    "path = r'C:\\Users\\ylclab\\Documents\\畢業論文\\Code\\experiment data' # facebook data path\n",
    "ig_path = r'C:\\Users\\ylclab\\Documents\\畢業論文\\Code\\instagram account' #instagram data path\n",
    "all_files = glob.glob(path + \"/*.csv\")\n",
    "all_ig_files = glob.glob(ig_path + \"/*.csv\")\n",
    "\n",
    "li = {}\n",
    "# count = 0\n",
    "df = pd.DataFrame(columns=['fb_name', 'ig_account', 'all_score'])\n",
    "for filename in all_files:\n",
    "    for ig_filename in all_ig_files:\n",
    "        print(\"%s , %s\" % ((filename.split(\"\\\\\")[7]).split('.')[0],(ig_filename.split(\"\\\\\")[7]).split('.')[0]))\n",
    "        oringnal_df = pd.read_csv(filename, index_col=None, header=0, engine='python')\n",
    "        oringnal_ig_df = pd.read_csv(ig_filename, index_col=None, header=0,  engine='python')\n",
    "        %run IG_account_recommend_for_facebook_system.ipynb\n",
    "        time.sleep(5)\n",
    "        s_2 = pd.Series({'fb_name':(filename.split(\"\\\\\")[7]).split('.')[0], 'ig_account':(ig_filename.split(\"\\\\\")[7]).split('.')[0], 'all_score':all_score})\n",
    "        df = df.append(s_2, ignore_index=True)\n",
    "        print(\"------------------------------------------------------------------------------------------------\")\n",
    "        time.sleep(2)"
   ]
  },
  {
   "cell_type": "code",
   "execution_count": 45,
   "metadata": {},
   "outputs": [
    {
     "data": {
      "text/html": [
       "<div>\n",
       "<style scoped>\n",
       "    .dataframe tbody tr th:only-of-type {\n",
       "        vertical-align: middle;\n",
       "    }\n",
       "\n",
       "    .dataframe tbody tr th {\n",
       "        vertical-align: top;\n",
       "    }\n",
       "\n",
       "    .dataframe thead th {\n",
       "        text-align: right;\n",
       "    }\n",
       "</style>\n",
       "<table border=\"1\" class=\"dataframe\">\n",
       "  <thead>\n",
       "    <tr style=\"text-align: right;\">\n",
       "      <th></th>\n",
       "      <th>fb_name</th>\n",
       "      <th>ig_account</th>\n",
       "      <th>all_score</th>\n",
       "    </tr>\n",
       "  </thead>\n",
       "  <tbody>\n",
       "    <tr>\n",
       "      <td>0</td>\n",
       "      <td>李昱慶</td>\n",
       "      <td>10_hana</td>\n",
       "      <td>1.444307</td>\n",
       "    </tr>\n",
       "    <tr>\n",
       "      <td>1</td>\n",
       "      <td>李昱慶</td>\n",
       "      <td>11_hsin0126</td>\n",
       "      <td>1.569742</td>\n",
       "    </tr>\n",
       "    <tr>\n",
       "      <td>2</td>\n",
       "      <td>李昱慶</td>\n",
       "      <td>12_tsaigray2018</td>\n",
       "      <td>1.209018</td>\n",
       "    </tr>\n",
       "    <tr>\n",
       "      <td>3</td>\n",
       "      <td>李昱慶</td>\n",
       "      <td>13_snowzaicat</td>\n",
       "      <td>1.421316</td>\n",
       "    </tr>\n",
       "    <tr>\n",
       "      <td>4</td>\n",
       "      <td>李昱慶</td>\n",
       "      <td>14_jc</td>\n",
       "      <td>1.567504</td>\n",
       "    </tr>\n",
       "    <tr>\n",
       "      <td>...</td>\n",
       "      <td>...</td>\n",
       "      <td>...</td>\n",
       "      <td>...</td>\n",
       "    </tr>\n",
       "    <tr>\n",
       "      <td>175</td>\n",
       "      <td>陳怡瑄</td>\n",
       "      <td>5_melissaxhiker</td>\n",
       "      <td>1.520664</td>\n",
       "    </tr>\n",
       "    <tr>\n",
       "      <td>176</td>\n",
       "      <td>陳怡瑄</td>\n",
       "      <td>6_cheers_tw</td>\n",
       "      <td>1.437289</td>\n",
       "    </tr>\n",
       "    <tr>\n",
       "      <td>177</td>\n",
       "      <td>陳怡瑄</td>\n",
       "      <td>7_rocean___</td>\n",
       "      <td>1.446850</td>\n",
       "    </tr>\n",
       "    <tr>\n",
       "      <td>178</td>\n",
       "      <td>陳怡瑄</td>\n",
       "      <td>8_cbx</td>\n",
       "      <td>1.297770</td>\n",
       "    </tr>\n",
       "    <tr>\n",
       "      <td>179</td>\n",
       "      <td>陳怡瑄</td>\n",
       "      <td>9_populzzang_mag</td>\n",
       "      <td>1.303208</td>\n",
       "    </tr>\n",
       "  </tbody>\n",
       "</table>\n",
       "<p>180 rows × 3 columns</p>\n",
       "</div>"
      ],
      "text/plain": [
       "    fb_name        ig_account  all_score\n",
       "0       李昱慶           10_hana   1.444307\n",
       "1       李昱慶       11_hsin0126   1.569742\n",
       "2       李昱慶   12_tsaigray2018   1.209018\n",
       "3       李昱慶     13_snowzaicat   1.421316\n",
       "4       李昱慶             14_jc   1.567504\n",
       "..      ...               ...        ...\n",
       "175     陳怡瑄   5_melissaxhiker   1.520664\n",
       "176     陳怡瑄       6_cheers_tw   1.437289\n",
       "177     陳怡瑄       7_rocean___   1.446850\n",
       "178     陳怡瑄             8_cbx   1.297770\n",
       "179     陳怡瑄  9_populzzang_mag   1.303208\n",
       "\n",
       "[180 rows x 3 columns]"
      ]
     },
     "execution_count": 45,
     "metadata": {},
     "output_type": "execute_result"
    }
   ],
   "source": [
    "df"
   ]
  },
  {
   "cell_type": "code",
   "execution_count": 46,
   "metadata": {},
   "outputs": [],
   "source": [
    "#生成csv文件\n",
    "df.to_csv(r'./userRecommendation_score.csv',index=True,sep=',', encoding='utf_8_sig')"
   ]
  },
  {
   "cell_type": "code",
   "execution_count": 49,
   "metadata": {},
   "outputs": [
    {
     "name": "stdout",
     "output_type": "stream",
     "text": [
      "{'李昱慶': 0.7593346224571159, '林可佳': 0.5972329853399861, '楊尚儒': 0.4264071024226599, '楊雅如': 0.6103194114963251, '王美淋': 0.7449788961704761, '蕭郁璋': 0.6073401219724119, '賴怡璇': 0.03641269790150244, '邱鈺婷': 0.2854098042938564, '陳怡瑄': 0.3291776540062497}\n"
     ]
    }
   ],
   "source": [
    "time.sleep(20)\n",
    "%run pearsonr_calculate.ipynb"
   ]
  },
  {
   "cell_type": "code",
   "execution_count": null,
   "metadata": {},
   "outputs": [],
   "source": []
  },
  {
   "cell_type": "code",
   "execution_count": null,
   "metadata": {},
   "outputs": [],
   "source": []
  }
 ],
 "metadata": {
  "kernelspec": {
   "display_name": "Python 3",
   "language": "python",
   "name": "python3"
  },
  "language_info": {
   "codemirror_mode": {
    "name": "ipython",
    "version": 3
   },
   "file_extension": ".py",
   "mimetype": "text/x-python",
   "name": "python",
   "nbconvert_exporter": "python",
   "pygments_lexer": "ipython3",
   "version": "3.7.4"
  }
 },
 "nbformat": 4,
 "nbformat_minor": 4
}
