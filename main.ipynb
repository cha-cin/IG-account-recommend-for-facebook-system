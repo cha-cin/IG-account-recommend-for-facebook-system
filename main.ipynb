{
 "cells": [
  {
   "cell_type": "code",
   "execution_count": null,
   "metadata": {},
   "outputs": [],
   "source": [
    "# import import_ipynb\n",
    "# import IG_account_recommend_for_facebook_system2\n",
    "import pandas as pd\n",
    "import numpy as np\n",
    "import glob\n",
    "import time"
   ]
  },
  {
   "cell_type": "code",
   "execution_count": null,
   "metadata": {},
   "outputs": [],
   "source": [
    "#全域變數\n",
    "model_choice = 0   # 0預設四個模組全部採用"
   ]
  },
  {
   "cell_type": "code",
   "execution_count": 96,
   "metadata": {},
   "outputs": [
    {
     "name": "stdout",
     "output_type": "stream",
     "text": [
      "李昱慶 , 10_hana\n",
      "Prm :  0.8275\n",
      "Pop :  0.23337251471700057\n",
      "Act :  0.35774058577405854\n"
     ]
    },
    {
     "name": "stderr",
     "output_type": "stream",
     "text": [
      "IG_account_recommend_for_facebook_system.ipynb:8: SettingWithCopyWarning: \n",
      "A value is trying to be set on a copy of a slice from a DataFrame\n",
      "\n",
      "See the caveats in the documentation: http://pandas.pydata.org/pandas-docs/stable/user_guide/indexing.html#returning-a-view-versus-a-copy\n",
      "  ]\n",
      "IG_account_recommend_for_facebook_system.ipynb:5: DeprecationWarning: Call to deprecated `__getitem__` (Method will be removed in 4.0.0, use self.wv.__getitem__() instead).\n",
      "  \"metadata\": {},\n",
      "IG_account_recommend_for_facebook_system.ipynb:6: DeprecationWarning: Call to deprecated `__getitem__` (Method will be removed in 4.0.0, use self.wv.__getitem__() instead).\n",
      "  \"source\": [\n"
     ]
    },
    {
     "name": "stdout",
     "output_type": "stream",
     "text": [
      "Pic :  0.1902804340828549\n",
      "------------------------------------------------------------------------------------------------\n",
      "李昱慶 , 11_hsin0126\n",
      "Prm :  0.8011\n",
      "Pop :  0.39879510439676513\n",
      "Act :  0.39254686785550985\n"
     ]
    },
    {
     "name": "stderr",
     "output_type": "stream",
     "text": [
      "IG_account_recommend_for_facebook_system.ipynb:8: SettingWithCopyWarning: \n",
      "A value is trying to be set on a copy of a slice from a DataFrame\n",
      "\n",
      "See the caveats in the documentation: http://pandas.pydata.org/pandas-docs/stable/user_guide/indexing.html#returning-a-view-versus-a-copy\n",
      "  ]\n",
      "IG_account_recommend_for_facebook_system.ipynb:5: DeprecationWarning: Call to deprecated `__getitem__` (Method will be removed in 4.0.0, use self.wv.__getitem__() instead).\n",
      "  \"metadata\": {},\n",
      "IG_account_recommend_for_facebook_system.ipynb:6: DeprecationWarning: Call to deprecated `__getitem__` (Method will be removed in 4.0.0, use self.wv.__getitem__() instead).\n",
      "  \"source\": [\n"
     ]
    },
    {
     "name": "stdout",
     "output_type": "stream",
     "text": [
      "Pic :  0.26856342635371466\n",
      "------------------------------------------------------------------------------------------------\n",
      "李昱慶 , 12_tsaigray2018\n",
      "Prm :  0.7365\n",
      "Pop :  0.20032907349248238\n",
      "Act :  0.25428963623884693\n"
     ]
    },
    {
     "name": "stderr",
     "output_type": "stream",
     "text": [
      "IG_account_recommend_for_facebook_system.ipynb:8: SettingWithCopyWarning: \n",
      "A value is trying to be set on a copy of a slice from a DataFrame\n",
      "\n",
      "See the caveats in the documentation: http://pandas.pydata.org/pandas-docs/stable/user_guide/indexing.html#returning-a-view-versus-a-copy\n",
      "  ]\n",
      "IG_account_recommend_for_facebook_system.ipynb:5: DeprecationWarning: Call to deprecated `__getitem__` (Method will be removed in 4.0.0, use self.wv.__getitem__() instead).\n",
      "  \"metadata\": {},\n",
      "IG_account_recommend_for_facebook_system.ipynb:6: DeprecationWarning: Call to deprecated `__getitem__` (Method will be removed in 4.0.0, use self.wv.__getitem__() instead).\n",
      "  \"source\": [\n"
     ]
    },
    {
     "name": "stdout",
     "output_type": "stream",
     "text": [
      "Pic :  0.19303161583163522\n",
      "------------------------------------------------------------------------------------------------\n",
      "李昱慶 , 13_snowzaicat\n",
      "Prm :  0.7175\n",
      "Pop :  0.23542138161535356\n",
      "Act :  0.4876543209876543\n"
     ]
    },
    {
     "name": "stderr",
     "output_type": "stream",
     "text": [
      "IG_account_recommend_for_facebook_system.ipynb:8: SettingWithCopyWarning: \n",
      "A value is trying to be set on a copy of a slice from a DataFrame\n",
      "\n",
      "See the caveats in the documentation: http://pandas.pydata.org/pandas-docs/stable/user_guide/indexing.html#returning-a-view-versus-a-copy\n",
      "  ]\n"
     ]
    },
    {
     "name": "stdout",
     "output_type": "stream",
     "text": [
      "Pic :  0.0\n",
      "------------------------------------------------------------------------------------------------\n",
      "李昱慶 , 14_jc\n",
      "Prm :  0.9319\n",
      "Pop :  0.27002416553176917\n",
      "Act :  0.36518046709129515\n"
     ]
    },
    {
     "name": "stderr",
     "output_type": "stream",
     "text": [
      "IG_account_recommend_for_facebook_system.ipynb:8: SettingWithCopyWarning: \n",
      "A value is trying to be set on a copy of a slice from a DataFrame\n",
      "\n",
      "See the caveats in the documentation: http://pandas.pydata.org/pandas-docs/stable/user_guide/indexing.html#returning-a-view-versus-a-copy\n",
      "  ]\n",
      "IG_account_recommend_for_facebook_system.ipynb:5: DeprecationWarning: Call to deprecated `__getitem__` (Method will be removed in 4.0.0, use self.wv.__getitem__() instead).\n",
      "  \"metadata\": {},\n",
      "IG_account_recommend_for_facebook_system.ipynb:6: DeprecationWarning: Call to deprecated `__getitem__` (Method will be removed in 4.0.0, use self.wv.__getitem__() instead).\n",
      "  \"source\": [\n"
     ]
    },
    {
     "name": "stdout",
     "output_type": "stream",
     "text": [
      "Pic :  0.1450262896039269\n",
      "------------------------------------------------------------------------------------------------\n",
      "李昱慶 , 15_doctorkowj\n",
      "Prm :  0.7512\n",
      "Pop :  0.21236952626786026\n",
      "Act :  0.2558441558441558\n"
     ]
    },
    {
     "name": "stderr",
     "output_type": "stream",
     "text": [
      "IG_account_recommend_for_facebook_system.ipynb:8: SettingWithCopyWarning: \n",
      "A value is trying to be set on a copy of a slice from a DataFrame\n",
      "\n",
      "See the caveats in the documentation: http://pandas.pydata.org/pandas-docs/stable/user_guide/indexing.html#returning-a-view-versus-a-copy\n",
      "  ]\n",
      "IG_account_recommend_for_facebook_system.ipynb:5: DeprecationWarning: Call to deprecated `__getitem__` (Method will be removed in 4.0.0, use self.wv.__getitem__() instead).\n",
      "  \"metadata\": {},\n",
      "IG_account_recommend_for_facebook_system.ipynb:6: DeprecationWarning: Call to deprecated `__getitem__` (Method will be removed in 4.0.0, use self.wv.__getitem__() instead).\n",
      "  \"source\": [\n"
     ]
    },
    {
     "name": "stdout",
     "output_type": "stream",
     "text": [
      "Pic :  0.14183822511271996\n",
      "------------------------------------------------------------------------------------------------\n",
      "李昱慶 , 16_jaychou\n",
      "Prm :  0.7163\n",
      "Pop :  0.20068965361449348\n",
      "Act :  0.3858267716535433\n"
     ]
    },
    {
     "name": "stderr",
     "output_type": "stream",
     "text": [
      "IG_account_recommend_for_facebook_system.ipynb:8: SettingWithCopyWarning: \n",
      "A value is trying to be set on a copy of a slice from a DataFrame\n",
      "\n",
      "See the caveats in the documentation: http://pandas.pydata.org/pandas-docs/stable/user_guide/indexing.html#returning-a-view-versus-a-copy\n",
      "  ]\n",
      "IG_account_recommend_for_facebook_system.ipynb:5: DeprecationWarning: Call to deprecated `__getitem__` (Method will be removed in 4.0.0, use self.wv.__getitem__() instead).\n",
      "  \"metadata\": {},\n",
      "IG_account_recommend_for_facebook_system.ipynb:6: DeprecationWarning: Call to deprecated `__getitem__` (Method will be removed in 4.0.0, use self.wv.__getitem__() instead).\n",
      "  \"source\": [\n"
     ]
    },
    {
     "name": "stdout",
     "output_type": "stream",
     "text": [
      "Pic :  0.028326801278374412\n",
      "------------------------------------------------------------------------------------------------\n",
      "李昱慶 , 17_sunnygirl800424\n",
      "Prm :  0.7478\n",
      "Pop :  0.20703754591513351\n",
      "Act :  0.32838774597495524\n"
     ]
    },
    {
     "name": "stderr",
     "output_type": "stream",
     "text": [
      "IG_account_recommend_for_facebook_system.ipynb:8: SettingWithCopyWarning: \n",
      "A value is trying to be set on a copy of a slice from a DataFrame\n",
      "\n",
      "See the caveats in the documentation: http://pandas.pydata.org/pandas-docs/stable/user_guide/indexing.html#returning-a-view-versus-a-copy\n",
      "  ]\n",
      "IG_account_recommend_for_facebook_system.ipynb:5: DeprecationWarning: Call to deprecated `__getitem__` (Method will be removed in 4.0.0, use self.wv.__getitem__() instead).\n",
      "  \"metadata\": {},\n",
      "IG_account_recommend_for_facebook_system.ipynb:6: DeprecationWarning: Call to deprecated `__getitem__` (Method will be removed in 4.0.0, use self.wv.__getitem__() instead).\n",
      "  \"source\": [\n"
     ]
    },
    {
     "name": "stdout",
     "output_type": "stream",
     "text": [
      "Pic :  0.17014713991772046\n",
      "------------------------------------------------------------------------------------------------\n",
      "李昱慶 , 18_poptour_mag\n",
      "Prm :  0.902\n",
      "Pop :  0.2150337204494545\n",
      "Act :  0.28326226012793176\n"
     ]
    },
    {
     "name": "stderr",
     "output_type": "stream",
     "text": [
      "IG_account_recommend_for_facebook_system.ipynb:8: SettingWithCopyWarning: \n",
      "A value is trying to be set on a copy of a slice from a DataFrame\n",
      "\n",
      "See the caveats in the documentation: http://pandas.pydata.org/pandas-docs/stable/user_guide/indexing.html#returning-a-view-versus-a-copy\n",
      "  ]\n",
      "IG_account_recommend_for_facebook_system.ipynb:5: DeprecationWarning: Call to deprecated `__getitem__` (Method will be removed in 4.0.0, use self.wv.__getitem__() instead).\n",
      "  \"metadata\": {},\n",
      "IG_account_recommend_for_facebook_system.ipynb:6: DeprecationWarning: Call to deprecated `__getitem__` (Method will be removed in 4.0.0, use self.wv.__getitem__() instead).\n",
      "  \"source\": [\n"
     ]
    },
    {
     "name": "stdout",
     "output_type": "stream",
     "text": [
      "Pic :  0.1500134671276266\n",
      "------------------------------------------------------------------------------------------------\n",
      "李昱慶 , 19_bpintaiwan\n",
      "Prm :  0.6777\n",
      "Pop :  0.22808477286817067\n",
      "Act :  0.27611490653762216\n"
     ]
    },
    {
     "name": "stderr",
     "output_type": "stream",
     "text": [
      "IG_account_recommend_for_facebook_system.ipynb:8: SettingWithCopyWarning: \n",
      "A value is trying to be set on a copy of a slice from a DataFrame\n",
      "\n",
      "See the caveats in the documentation: http://pandas.pydata.org/pandas-docs/stable/user_guide/indexing.html#returning-a-view-versus-a-copy\n",
      "  ]\n",
      "IG_account_recommend_for_facebook_system.ipynb:5: DeprecationWarning: Call to deprecated `__getitem__` (Method will be removed in 4.0.0, use self.wv.__getitem__() instead).\n",
      "  \"metadata\": {},\n",
      "IG_account_recommend_for_facebook_system.ipynb:6: DeprecationWarning: Call to deprecated `__getitem__` (Method will be removed in 4.0.0, use self.wv.__getitem__() instead).\n",
      "  \"source\": [\n"
     ]
    },
    {
     "name": "stdout",
     "output_type": "stream",
     "text": [
      "Pic :  0.15137690847570245\n",
      "------------------------------------------------------------------------------------------------\n",
      "李昱慶 , 1_arielsvlog_816\n",
      "Prm :  0.81\n",
      "Pop :  0.2027509305963457\n",
      "Act :  0.2664835164835165\n"
     ]
    },
    {
     "name": "stderr",
     "output_type": "stream",
     "text": [
      "IG_account_recommend_for_facebook_system.ipynb:8: SettingWithCopyWarning: \n",
      "A value is trying to be set on a copy of a slice from a DataFrame\n",
      "\n",
      "See the caveats in the documentation: http://pandas.pydata.org/pandas-docs/stable/user_guide/indexing.html#returning-a-view-versus-a-copy\n",
      "  ]\n",
      "IG_account_recommend_for_facebook_system.ipynb:5: DeprecationWarning: Call to deprecated `__getitem__` (Method will be removed in 4.0.0, use self.wv.__getitem__() instead).\n",
      "  \"metadata\": {},\n",
      "IG_account_recommend_for_facebook_system.ipynb:6: DeprecationWarning: Call to deprecated `__getitem__` (Method will be removed in 4.0.0, use self.wv.__getitem__() instead).\n",
      "  \"source\": [\n"
     ]
    },
    {
     "name": "stdout",
     "output_type": "stream",
     "text": [
      "Pic :  0.2662022669206966\n",
      "------------------------------------------------------------------------------------------------\n",
      "李昱慶 , 20_imma_pon\n",
      "Prm :  0.7459\n",
      "Pop :  0.2198264373385416\n",
      "Act :  0.37568605927552146\n"
     ]
    },
    {
     "name": "stderr",
     "output_type": "stream",
     "text": [
      "IG_account_recommend_for_facebook_system.ipynb:8: SettingWithCopyWarning: \n",
      "A value is trying to be set on a copy of a slice from a DataFrame\n",
      "\n",
      "See the caveats in the documentation: http://pandas.pydata.org/pandas-docs/stable/user_guide/indexing.html#returning-a-view-versus-a-copy\n",
      "  ]\n",
      "IG_account_recommend_for_facebook_system.ipynb:5: DeprecationWarning: Call to deprecated `__getitem__` (Method will be removed in 4.0.0, use self.wv.__getitem__() instead).\n",
      "  \"metadata\": {},\n",
      "IG_account_recommend_for_facebook_system.ipynb:6: DeprecationWarning: Call to deprecated `__getitem__` (Method will be removed in 4.0.0, use self.wv.__getitem__() instead).\n",
      "  \"source\": [\n"
     ]
    },
    {
     "name": "stdout",
     "output_type": "stream",
     "text": [
      "Pic :  0.2240182621912523\n",
      "------------------------------------------------------------------------------------------------\n",
      "李昱慶 , 2_dentist_easoncheng\n",
      "Prm :  0.7854\n",
      "Pop :  0.21766962686306082\n",
      "Act :  0.35341974627688916\n"
     ]
    },
    {
     "name": "stderr",
     "output_type": "stream",
     "text": [
      "IG_account_recommend_for_facebook_system.ipynb:8: SettingWithCopyWarning: \n",
      "A value is trying to be set on a copy of a slice from a DataFrame\n",
      "\n",
      "See the caveats in the documentation: http://pandas.pydata.org/pandas-docs/stable/user_guide/indexing.html#returning-a-view-versus-a-copy\n",
      "  ]\n",
      "IG_account_recommend_for_facebook_system.ipynb:5: DeprecationWarning: Call to deprecated `__getitem__` (Method will be removed in 4.0.0, use self.wv.__getitem__() instead).\n",
      "  \"metadata\": {},\n",
      "IG_account_recommend_for_facebook_system.ipynb:6: DeprecationWarning: Call to deprecated `__getitem__` (Method will be removed in 4.0.0, use self.wv.__getitem__() instead).\n",
      "  \"source\": [\n"
     ]
    },
    {
     "name": "stdout",
     "output_type": "stream",
     "text": [
      "Pic :  0.056071672927249565\n",
      "------------------------------------------------------------------------------------------------\n",
      "李昱慶 , 3_yuniko0720\n",
      "Prm :  0.7464\n",
      "Pop :  0.20404974878879453\n",
      "Act :  0.2760683760683761\n"
     ]
    },
    {
     "name": "stderr",
     "output_type": "stream",
     "text": [
      "IG_account_recommend_for_facebook_system.ipynb:8: SettingWithCopyWarning: \n",
      "A value is trying to be set on a copy of a slice from a DataFrame\n",
      "\n",
      "See the caveats in the documentation: http://pandas.pydata.org/pandas-docs/stable/user_guide/indexing.html#returning-a-view-versus-a-copy\n",
      "  ]\n",
      "IG_account_recommend_for_facebook_system.ipynb:5: DeprecationWarning: Call to deprecated `__getitem__` (Method will be removed in 4.0.0, use self.wv.__getitem__() instead).\n",
      "  \"metadata\": {},\n",
      "IG_account_recommend_for_facebook_system.ipynb:6: DeprecationWarning: Call to deprecated `__getitem__` (Method will be removed in 4.0.0, use self.wv.__getitem__() instead).\n",
      "  \"source\": [\n"
     ]
    },
    {
     "name": "stdout",
     "output_type": "stream",
     "text": [
      "Pic :  0.041225461797280746\n",
      "------------------------------------------------------------------------------------------------\n",
      "李昱慶 , 4_rolling\n",
      "Prm :  0.785\n",
      "Pop :  0.3353037181584724\n",
      "Act :  0.2527386541471049\n"
     ]
    },
    {
     "name": "stderr",
     "output_type": "stream",
     "text": [
      "IG_account_recommend_for_facebook_system.ipynb:8: SettingWithCopyWarning: \n",
      "A value is trying to be set on a copy of a slice from a DataFrame\n",
      "\n",
      "See the caveats in the documentation: http://pandas.pydata.org/pandas-docs/stable/user_guide/indexing.html#returning-a-view-versus-a-copy\n",
      "  ]\n",
      "IG_account_recommend_for_facebook_system.ipynb:5: DeprecationWarning: Call to deprecated `__getitem__` (Method will be removed in 4.0.0, use self.wv.__getitem__() instead).\n",
      "  \"metadata\": {},\n",
      "IG_account_recommend_for_facebook_system.ipynb:6: DeprecationWarning: Call to deprecated `__getitem__` (Method will be removed in 4.0.0, use self.wv.__getitem__() instead).\n",
      "  \"source\": [\n"
     ]
    },
    {
     "name": "stdout",
     "output_type": "stream",
     "text": [
      "Pic :  0.04802349497648803\n",
      "------------------------------------------------------------------------------------------------\n",
      "李昱慶 , 5_melissaxhiker\n",
      "Prm :  0.8096\n",
      "Pop :  0.21958060120506548\n",
      "Act :  0.402046783625731\n"
     ]
    },
    {
     "name": "stderr",
     "output_type": "stream",
     "text": [
      "IG_account_recommend_for_facebook_system.ipynb:8: SettingWithCopyWarning: \n",
      "A value is trying to be set on a copy of a slice from a DataFrame\n",
      "\n",
      "See the caveats in the documentation: http://pandas.pydata.org/pandas-docs/stable/user_guide/indexing.html#returning-a-view-versus-a-copy\n",
      "  ]\n",
      "IG_account_recommend_for_facebook_system.ipynb:5: DeprecationWarning: Call to deprecated `__getitem__` (Method will be removed in 4.0.0, use self.wv.__getitem__() instead).\n",
      "  \"metadata\": {},\n",
      "IG_account_recommend_for_facebook_system.ipynb:6: DeprecationWarning: Call to deprecated `__getitem__` (Method will be removed in 4.0.0, use self.wv.__getitem__() instead).\n",
      "  \"source\": [\n"
     ]
    },
    {
     "name": "stdout",
     "output_type": "stream",
     "text": [
      "Pic :  0.21710152924060822\n",
      "------------------------------------------------------------------------------------------------\n",
      "李昱慶 , 6_cheers_tw\n",
      "Prm :  1.019\n",
      "Pop :  0.21181961147891526\n",
      "Act :  0.25615474794841736\n"
     ]
    },
    {
     "name": "stderr",
     "output_type": "stream",
     "text": [
      "IG_account_recommend_for_facebook_system.ipynb:8: SettingWithCopyWarning: \n",
      "A value is trying to be set on a copy of a slice from a DataFrame\n",
      "\n",
      "See the caveats in the documentation: http://pandas.pydata.org/pandas-docs/stable/user_guide/indexing.html#returning-a-view-versus-a-copy\n",
      "  ]\n",
      "IG_account_recommend_for_facebook_system.ipynb:5: DeprecationWarning: Call to deprecated `__getitem__` (Method will be removed in 4.0.0, use self.wv.__getitem__() instead).\n",
      "  \"metadata\": {},\n",
      "IG_account_recommend_for_facebook_system.ipynb:6: DeprecationWarning: Call to deprecated `__getitem__` (Method will be removed in 4.0.0, use self.wv.__getitem__() instead).\n",
      "  \"source\": [\n"
     ]
    },
    {
     "name": "stdout",
     "output_type": "stream",
     "text": [
      "Pic :  0.25958984006534924\n",
      "------------------------------------------------------------------------------------------------\n",
      "李昱慶 , 7_rocean___\n",
      "Prm :  0.9562\n",
      "Pop :  0.3005624619518958\n",
      "Act :  0.37045169385194476\n"
     ]
    },
    {
     "name": "stderr",
     "output_type": "stream",
     "text": [
      "IG_account_recommend_for_facebook_system.ipynb:8: SettingWithCopyWarning: \n",
      "A value is trying to be set on a copy of a slice from a DataFrame\n",
      "\n",
      "See the caveats in the documentation: http://pandas.pydata.org/pandas-docs/stable/user_guide/indexing.html#returning-a-view-versus-a-copy\n",
      "  ]\n",
      "IG_account_recommend_for_facebook_system.ipynb:5: DeprecationWarning: Call to deprecated `__getitem__` (Method will be removed in 4.0.0, use self.wv.__getitem__() instead).\n",
      "  \"metadata\": {},\n",
      "IG_account_recommend_for_facebook_system.ipynb:6: DeprecationWarning: Call to deprecated `__getitem__` (Method will be removed in 4.0.0, use self.wv.__getitem__() instead).\n",
      "  \"source\": [\n"
     ]
    },
    {
     "name": "stdout",
     "output_type": "stream",
     "text": [
      "Pic :  0.029294276059689848\n",
      "------------------------------------------------------------------------------------------------\n",
      "李昱慶 , 8_cbx\n",
      "Prm :  0.7396\n",
      "Pop :  0.2094708619478959\n",
      "Act :  0.2962662337662338\n"
     ]
    },
    {
     "name": "stderr",
     "output_type": "stream",
     "text": [
      "IG_account_recommend_for_facebook_system.ipynb:8: SettingWithCopyWarning: \n",
      "A value is trying to be set on a copy of a slice from a DataFrame\n",
      "\n",
      "See the caveats in the documentation: http://pandas.pydata.org/pandas-docs/stable/user_guide/indexing.html#returning-a-view-versus-a-copy\n",
      "  ]\n",
      "IG_account_recommend_for_facebook_system.ipynb:5: DeprecationWarning: Call to deprecated `__getitem__` (Method will be removed in 4.0.0, use self.wv.__getitem__() instead).\n",
      "  \"metadata\": {},\n",
      "IG_account_recommend_for_facebook_system.ipynb:6: DeprecationWarning: Call to deprecated `__getitem__` (Method will be removed in 4.0.0, use self.wv.__getitem__() instead).\n",
      "  \"source\": [\n"
     ]
    },
    {
     "name": "stdout",
     "output_type": "stream",
     "text": [
      "Pic :  0.25839426842602814\n",
      "------------------------------------------------------------------------------------------------\n",
      "李昱慶 , 9_populzzang_mag\n",
      "Prm :  0.806\n",
      "Pop :  0.2403220698293881\n",
      "Act :  0.25190961171228515\n"
     ]
    },
    {
     "name": "stderr",
     "output_type": "stream",
     "text": [
      "IG_account_recommend_for_facebook_system.ipynb:8: SettingWithCopyWarning: \n",
      "A value is trying to be set on a copy of a slice from a DataFrame\n",
      "\n",
      "See the caveats in the documentation: http://pandas.pydata.org/pandas-docs/stable/user_guide/indexing.html#returning-a-view-versus-a-copy\n",
      "  ]\n",
      "IG_account_recommend_for_facebook_system.ipynb:5: DeprecationWarning: Call to deprecated `__getitem__` (Method will be removed in 4.0.0, use self.wv.__getitem__() instead).\n",
      "  \"metadata\": {},\n",
      "IG_account_recommend_for_facebook_system.ipynb:6: DeprecationWarning: Call to deprecated `__getitem__` (Method will be removed in 4.0.0, use self.wv.__getitem__() instead).\n",
      "  \"source\": [\n"
     ]
    },
    {
     "name": "stdout",
     "output_type": "stream",
     "text": [
      "Pic :  0.28945349901914597\n",
      "------------------------------------------------------------------------------------------------\n",
      "楊尚儒 , 10_hana\n",
      "Prm :  0.8453\n",
      "Pop :  0.2378314973800221\n",
      "Act :  0.35774058577405854\n"
     ]
    },
    {
     "name": "stderr",
     "output_type": "stream",
     "text": [
      "IG_account_recommend_for_facebook_system.ipynb:8: SettingWithCopyWarning: \n",
      "A value is trying to be set on a copy of a slice from a DataFrame\n",
      "\n",
      "See the caveats in the documentation: http://pandas.pydata.org/pandas-docs/stable/user_guide/indexing.html#returning-a-view-versus-a-copy\n",
      "  ]\n",
      "IG_account_recommend_for_facebook_system.ipynb:5: DeprecationWarning: Call to deprecated `__getitem__` (Method will be removed in 4.0.0, use self.wv.__getitem__() instead).\n",
      "  \"metadata\": {},\n",
      "IG_account_recommend_for_facebook_system.ipynb:6: DeprecationWarning: Call to deprecated `__getitem__` (Method will be removed in 4.0.0, use self.wv.__getitem__() instead).\n",
      "  \"source\": [\n"
     ]
    },
    {
     "name": "stdout",
     "output_type": "stream",
     "text": [
      "Pic :  0.0194872391946388\n",
      "------------------------------------------------------------------------------------------------\n",
      "楊尚儒 , 11_hsin0126\n",
      "Prm :  0.6798\n",
      "Pop :  0.41003219179580813\n",
      "Act :  0.39254686785550985\n"
     ]
    },
    {
     "name": "stderr",
     "output_type": "stream",
     "text": [
      "IG_account_recommend_for_facebook_system.ipynb:8: SettingWithCopyWarning: \n",
      "A value is trying to be set on a copy of a slice from a DataFrame\n",
      "\n",
      "See the caveats in the documentation: http://pandas.pydata.org/pandas-docs/stable/user_guide/indexing.html#returning-a-view-versus-a-copy\n",
      "  ]\n",
      "IG_account_recommend_for_facebook_system.ipynb:5: DeprecationWarning: Call to deprecated `__getitem__` (Method will be removed in 4.0.0, use self.wv.__getitem__() instead).\n",
      "  \"metadata\": {},\n",
      "IG_account_recommend_for_facebook_system.ipynb:6: DeprecationWarning: Call to deprecated `__getitem__` (Method will be removed in 4.0.0, use self.wv.__getitem__() instead).\n",
      "  \"source\": [\n"
     ]
    },
    {
     "name": "stdout",
     "output_type": "stream",
     "text": [
      "Pic :  0.02134854370547879\n",
      "------------------------------------------------------------------------------------------------\n",
      "楊尚儒 , 12_tsaigray2018\n",
      "Prm :  0.6263\n",
      "Pop :  0.20037185441170066\n",
      "Act :  0.25428963623884693\n"
     ]
    },
    {
     "name": "stderr",
     "output_type": "stream",
     "text": [
      "IG_account_recommend_for_facebook_system.ipynb:8: SettingWithCopyWarning: \n",
      "A value is trying to be set on a copy of a slice from a DataFrame\n",
      "\n",
      "See the caveats in the documentation: http://pandas.pydata.org/pandas-docs/stable/user_guide/indexing.html#returning-a-view-versus-a-copy\n",
      "  ]\n",
      "IG_account_recommend_for_facebook_system.ipynb:5: DeprecationWarning: Call to deprecated `__getitem__` (Method will be removed in 4.0.0, use self.wv.__getitem__() instead).\n",
      "  \"metadata\": {},\n",
      "IG_account_recommend_for_facebook_system.ipynb:6: DeprecationWarning: Call to deprecated `__getitem__` (Method will be removed in 4.0.0, use self.wv.__getitem__() instead).\n",
      "  \"source\": [\n"
     ]
    },
    {
     "name": "stdout",
     "output_type": "stream",
     "text": [
      "Pic :  0.010939051707585653\n",
      "------------------------------------------------------------------------------------------------\n",
      "楊尚儒 , 13_snowzaicat\n",
      "Prm :  0.5687\n",
      "Pop :  0.22680615382595995\n",
      "Act :  0.4876543209876543\n"
     ]
    },
    {
     "name": "stderr",
     "output_type": "stream",
     "text": [
      "IG_account_recommend_for_facebook_system.ipynb:8: SettingWithCopyWarning: \n",
      "A value is trying to be set on a copy of a slice from a DataFrame\n",
      "\n",
      "See the caveats in the documentation: http://pandas.pydata.org/pandas-docs/stable/user_guide/indexing.html#returning-a-view-versus-a-copy\n",
      "  ]\n"
     ]
    },
    {
     "name": "stdout",
     "output_type": "stream",
     "text": [
      "Pic :  0.0\n",
      "------------------------------------------------------------------------------------------------\n",
      "楊尚儒 , 14_jc\n",
      "Prm :  0.7748\n",
      "Pop :  0.2905425077475063\n",
      "Act :  0.36518046709129515\n"
     ]
    },
    {
     "name": "stderr",
     "output_type": "stream",
     "text": [
      "IG_account_recommend_for_facebook_system.ipynb:8: SettingWithCopyWarning: \n",
      "A value is trying to be set on a copy of a slice from a DataFrame\n",
      "\n",
      "See the caveats in the documentation: http://pandas.pydata.org/pandas-docs/stable/user_guide/indexing.html#returning-a-view-versus-a-copy\n",
      "  ]\n",
      "IG_account_recommend_for_facebook_system.ipynb:5: DeprecationWarning: Call to deprecated `__getitem__` (Method will be removed in 4.0.0, use self.wv.__getitem__() instead).\n",
      "  \"metadata\": {},\n",
      "IG_account_recommend_for_facebook_system.ipynb:6: DeprecationWarning: Call to deprecated `__getitem__` (Method will be removed in 4.0.0, use self.wv.__getitem__() instead).\n",
      "  \"source\": [\n"
     ]
    },
    {
     "name": "stdout",
     "output_type": "stream",
     "text": [
      "Pic :  0.01596083953267052\n",
      "------------------------------------------------------------------------------------------------\n",
      "楊尚儒 , 15_doctorkowj\n",
      "Prm :  0.6292\n",
      "Pop :  0.21290620585234848\n",
      "Act :  0.2558441558441558\n"
     ]
    },
    {
     "name": "stderr",
     "output_type": "stream",
     "text": [
      "IG_account_recommend_for_facebook_system.ipynb:8: SettingWithCopyWarning: \n",
      "A value is trying to be set on a copy of a slice from a DataFrame\n",
      "\n",
      "See the caveats in the documentation: http://pandas.pydata.org/pandas-docs/stable/user_guide/indexing.html#returning-a-view-versus-a-copy\n",
      "  ]\n",
      "IG_account_recommend_for_facebook_system.ipynb:5: DeprecationWarning: Call to deprecated `__getitem__` (Method will be removed in 4.0.0, use self.wv.__getitem__() instead).\n",
      "  \"metadata\": {},\n",
      "IG_account_recommend_for_facebook_system.ipynb:6: DeprecationWarning: Call to deprecated `__getitem__` (Method will be removed in 4.0.0, use self.wv.__getitem__() instead).\n",
      "  \"source\": [\n"
     ]
    },
    {
     "name": "stdout",
     "output_type": "stream",
     "text": [
      "Pic :  0.008548819982424015\n",
      "------------------------------------------------------------------------------------------------\n",
      "楊尚儒 , 16_jaychou\n",
      "Prm :  0.5215\n",
      "Pop :  0.2008238251223365\n",
      "Act :  0.3858267716535433\n"
     ]
    },
    {
     "name": "stderr",
     "output_type": "stream",
     "text": [
      "IG_account_recommend_for_facebook_system.ipynb:8: SettingWithCopyWarning: \n",
      "A value is trying to be set on a copy of a slice from a DataFrame\n",
      "\n",
      "See the caveats in the documentation: http://pandas.pydata.org/pandas-docs/stable/user_guide/indexing.html#returning-a-view-versus-a-copy\n",
      "  ]\n",
      "IG_account_recommend_for_facebook_system.ipynb:5: DeprecationWarning: Call to deprecated `__getitem__` (Method will be removed in 4.0.0, use self.wv.__getitem__() instead).\n",
      "  \"metadata\": {},\n",
      "IG_account_recommend_for_facebook_system.ipynb:6: DeprecationWarning: Call to deprecated `__getitem__` (Method will be removed in 4.0.0, use self.wv.__getitem__() instead).\n",
      "  \"source\": [\n"
     ]
    },
    {
     "name": "stdout",
     "output_type": "stream",
     "text": [
      "Pic :  0.007983021127680937\n",
      "------------------------------------------------------------------------------------------------\n",
      "楊尚儒 , 17_sunnygirl800424\n",
      "Prm :  0.6456\n",
      "Pop :  0.2080223626447253\n",
      "Act :  0.32838774597495524\n"
     ]
    },
    {
     "name": "stderr",
     "output_type": "stream",
     "text": [
      "IG_account_recommend_for_facebook_system.ipynb:8: SettingWithCopyWarning: \n",
      "A value is trying to be set on a copy of a slice from a DataFrame\n",
      "\n",
      "See the caveats in the documentation: http://pandas.pydata.org/pandas-docs/stable/user_guide/indexing.html#returning-a-view-versus-a-copy\n",
      "  ]\n",
      "IG_account_recommend_for_facebook_system.ipynb:5: DeprecationWarning: Call to deprecated `__getitem__` (Method will be removed in 4.0.0, use self.wv.__getitem__() instead).\n",
      "  \"metadata\": {},\n",
      "IG_account_recommend_for_facebook_system.ipynb:6: DeprecationWarning: Call to deprecated `__getitem__` (Method will be removed in 4.0.0, use self.wv.__getitem__() instead).\n",
      "  \"source\": [\n"
     ]
    },
    {
     "name": "stdout",
     "output_type": "stream",
     "text": [
      "Pic :  0.014223335627114997\n",
      "------------------------------------------------------------------------------------------------\n",
      "楊尚儒 , 18_poptour_mag\n",
      "Prm :  0.7565\n",
      "Pop :  0.21332077095353816\n",
      "Act :  0.28326226012793176\n"
     ]
    },
    {
     "name": "stderr",
     "output_type": "stream",
     "text": [
      "IG_account_recommend_for_facebook_system.ipynb:8: SettingWithCopyWarning: \n",
      "A value is trying to be set on a copy of a slice from a DataFrame\n",
      "\n",
      "See the caveats in the documentation: http://pandas.pydata.org/pandas-docs/stable/user_guide/indexing.html#returning-a-view-versus-a-copy\n",
      "  ]\n",
      "IG_account_recommend_for_facebook_system.ipynb:5: DeprecationWarning: Call to deprecated `__getitem__` (Method will be removed in 4.0.0, use self.wv.__getitem__() instead).\n",
      "  \"metadata\": {},\n",
      "IG_account_recommend_for_facebook_system.ipynb:6: DeprecationWarning: Call to deprecated `__getitem__` (Method will be removed in 4.0.0, use self.wv.__getitem__() instead).\n",
      "  \"source\": [\n"
     ]
    },
    {
     "name": "stdout",
     "output_type": "stream",
     "text": [
      "Pic :  0.024881219999356705\n",
      "------------------------------------------------------------------------------------------------\n",
      "楊尚儒 , 19_bpintaiwan\n",
      "Prm :  0.7552\n",
      "Pop :  0.2261851220552164\n",
      "Act :  0.27611490653762216\n"
     ]
    },
    {
     "name": "stderr",
     "output_type": "stream",
     "text": [
      "IG_account_recommend_for_facebook_system.ipynb:8: SettingWithCopyWarning: \n",
      "A value is trying to be set on a copy of a slice from a DataFrame\n",
      "\n",
      "See the caveats in the documentation: http://pandas.pydata.org/pandas-docs/stable/user_guide/indexing.html#returning-a-view-versus-a-copy\n",
      "  ]\n",
      "IG_account_recommend_for_facebook_system.ipynb:5: DeprecationWarning: Call to deprecated `__getitem__` (Method will be removed in 4.0.0, use self.wv.__getitem__() instead).\n",
      "  \"metadata\": {},\n",
      "IG_account_recommend_for_facebook_system.ipynb:6: DeprecationWarning: Call to deprecated `__getitem__` (Method will be removed in 4.0.0, use self.wv.__getitem__() instead).\n",
      "  \"source\": [\n"
     ]
    },
    {
     "name": "stdout",
     "output_type": "stream",
     "text": [
      "Pic :  0.04469179725035643\n",
      "------------------------------------------------------------------------------------------------\n",
      "楊尚儒 , 1_arielsvlog_816\n",
      "Prm :  0.6806\n",
      "Pop :  0.20430586991693556\n",
      "Act :  0.2664835164835165\n"
     ]
    },
    {
     "name": "stderr",
     "output_type": "stream",
     "text": [
      "IG_account_recommend_for_facebook_system.ipynb:8: SettingWithCopyWarning: \n",
      "A value is trying to be set on a copy of a slice from a DataFrame\n",
      "\n",
      "See the caveats in the documentation: http://pandas.pydata.org/pandas-docs/stable/user_guide/indexing.html#returning-a-view-versus-a-copy\n",
      "  ]\n",
      "IG_account_recommend_for_facebook_system.ipynb:5: DeprecationWarning: Call to deprecated `__getitem__` (Method will be removed in 4.0.0, use self.wv.__getitem__() instead).\n",
      "  \"metadata\": {},\n",
      "IG_account_recommend_for_facebook_system.ipynb:6: DeprecationWarning: Call to deprecated `__getitem__` (Method will be removed in 4.0.0, use self.wv.__getitem__() instead).\n",
      "  \"source\": [\n"
     ]
    },
    {
     "name": "stdout",
     "output_type": "stream",
     "text": [
      "Pic :  0.010533054758395468\n",
      "------------------------------------------------------------------------------------------------\n",
      "楊尚儒 , 20_imma_pon\n",
      "Prm :  0.6006\n",
      "Pop :  0.224218460283874\n",
      "Act :  0.37568605927552146\n"
     ]
    },
    {
     "name": "stderr",
     "output_type": "stream",
     "text": [
      "IG_account_recommend_for_facebook_system.ipynb:8: SettingWithCopyWarning: \n",
      "A value is trying to be set on a copy of a slice from a DataFrame\n",
      "\n",
      "See the caveats in the documentation: http://pandas.pydata.org/pandas-docs/stable/user_guide/indexing.html#returning-a-view-versus-a-copy\n",
      "  ]\n",
      "IG_account_recommend_for_facebook_system.ipynb:5: DeprecationWarning: Call to deprecated `__getitem__` (Method will be removed in 4.0.0, use self.wv.__getitem__() instead).\n",
      "  \"metadata\": {},\n",
      "IG_account_recommend_for_facebook_system.ipynb:6: DeprecationWarning: Call to deprecated `__getitem__` (Method will be removed in 4.0.0, use self.wv.__getitem__() instead).\n",
      "  \"source\": [\n"
     ]
    },
    {
     "name": "stdout",
     "output_type": "stream",
     "text": [
      "Pic :  0.02968307641836313\n",
      "------------------------------------------------------------------------------------------------\n",
      "楊尚儒 , 2_dentist_easoncheng\n",
      "Prm :  0.6843\n",
      "Pop :  0.21384992660039398\n",
      "Act :  0.35341974627688916\n"
     ]
    },
    {
     "name": "stderr",
     "output_type": "stream",
     "text": [
      "IG_account_recommend_for_facebook_system.ipynb:8: SettingWithCopyWarning: \n",
      "A value is trying to be set on a copy of a slice from a DataFrame\n",
      "\n",
      "See the caveats in the documentation: http://pandas.pydata.org/pandas-docs/stable/user_guide/indexing.html#returning-a-view-versus-a-copy\n",
      "  ]\n",
      "IG_account_recommend_for_facebook_system.ipynb:5: DeprecationWarning: Call to deprecated `__getitem__` (Method will be removed in 4.0.0, use self.wv.__getitem__() instead).\n",
      "  \"metadata\": {},\n",
      "IG_account_recommend_for_facebook_system.ipynb:6: DeprecationWarning: Call to deprecated `__getitem__` (Method will be removed in 4.0.0, use self.wv.__getitem__() instead).\n",
      "  \"source\": [\n"
     ]
    },
    {
     "name": "stdout",
     "output_type": "stream",
     "text": [
      "Pic :  0.022559698089025915\n",
      "------------------------------------------------------------------------------------------------\n",
      "楊尚儒 , 3_yuniko0720\n",
      "Prm :  0.6368\n",
      "Pop :  0.20484361226794484\n",
      "Act :  0.2760683760683761\n"
     ]
    },
    {
     "name": "stderr",
     "output_type": "stream",
     "text": [
      "IG_account_recommend_for_facebook_system.ipynb:8: SettingWithCopyWarning: \n",
      "A value is trying to be set on a copy of a slice from a DataFrame\n",
      "\n",
      "See the caveats in the documentation: http://pandas.pydata.org/pandas-docs/stable/user_guide/indexing.html#returning-a-view-versus-a-copy\n",
      "  ]\n",
      "IG_account_recommend_for_facebook_system.ipynb:5: DeprecationWarning: Call to deprecated `__getitem__` (Method will be removed in 4.0.0, use self.wv.__getitem__() instead).\n",
      "  \"metadata\": {},\n",
      "IG_account_recommend_for_facebook_system.ipynb:6: DeprecationWarning: Call to deprecated `__getitem__` (Method will be removed in 4.0.0, use self.wv.__getitem__() instead).\n",
      "  \"source\": [\n"
     ]
    },
    {
     "name": "stdout",
     "output_type": "stream",
     "text": [
      "Pic :  0.012201769141162314\n",
      "------------------------------------------------------------------------------------------------\n",
      "楊尚儒 , 4_rolling\n",
      "Prm :  0.8241\n",
      "Pop :  0.3239729214973595\n",
      "Act :  0.2527386541471049\n"
     ]
    },
    {
     "name": "stderr",
     "output_type": "stream",
     "text": [
      "IG_account_recommend_for_facebook_system.ipynb:8: SettingWithCopyWarning: \n",
      "A value is trying to be set on a copy of a slice from a DataFrame\n",
      "\n",
      "See the caveats in the documentation: http://pandas.pydata.org/pandas-docs/stable/user_guide/indexing.html#returning-a-view-versus-a-copy\n",
      "  ]\n",
      "IG_account_recommend_for_facebook_system.ipynb:5: DeprecationWarning: Call to deprecated `__getitem__` (Method will be removed in 4.0.0, use self.wv.__getitem__() instead).\n",
      "  \"metadata\": {},\n",
      "IG_account_recommend_for_facebook_system.ipynb:6: DeprecationWarning: Call to deprecated `__getitem__` (Method will be removed in 4.0.0, use self.wv.__getitem__() instead).\n",
      "  \"source\": [\n"
     ]
    },
    {
     "name": "stdout",
     "output_type": "stream",
     "text": [
      "Pic :  0.026077688016273356\n",
      "------------------------------------------------------------------------------------------------\n",
      "楊尚儒 , 5_melissaxhiker\n",
      "Prm :  0.7316\n",
      "Pop :  0.2081297592136236\n",
      "Act :  0.402046783625731\n"
     ]
    },
    {
     "name": "stderr",
     "output_type": "stream",
     "text": [
      "IG_account_recommend_for_facebook_system.ipynb:8: SettingWithCopyWarning: \n",
      "A value is trying to be set on a copy of a slice from a DataFrame\n",
      "\n",
      "See the caveats in the documentation: http://pandas.pydata.org/pandas-docs/stable/user_guide/indexing.html#returning-a-view-versus-a-copy\n",
      "  ]\n",
      "IG_account_recommend_for_facebook_system.ipynb:5: DeprecationWarning: Call to deprecated `__getitem__` (Method will be removed in 4.0.0, use self.wv.__getitem__() instead).\n",
      "  \"metadata\": {},\n",
      "IG_account_recommend_for_facebook_system.ipynb:6: DeprecationWarning: Call to deprecated `__getitem__` (Method will be removed in 4.0.0, use self.wv.__getitem__() instead).\n",
      "  \"source\": [\n"
     ]
    },
    {
     "name": "stdout",
     "output_type": "stream",
     "text": [
      "Pic :  0.030361411268593836\n",
      "------------------------------------------------------------------------------------------------\n",
      "楊尚儒 , 6_cheers_tw\n",
      "Prm :  0.7388\n",
      "Pop :  0.21575989017257302\n",
      "Act :  0.25615474794841736\n"
     ]
    },
    {
     "name": "stderr",
     "output_type": "stream",
     "text": [
      "IG_account_recommend_for_facebook_system.ipynb:8: SettingWithCopyWarning: \n",
      "A value is trying to be set on a copy of a slice from a DataFrame\n",
      "\n",
      "See the caveats in the documentation: http://pandas.pydata.org/pandas-docs/stable/user_guide/indexing.html#returning-a-view-versus-a-copy\n",
      "  ]\n",
      "IG_account_recommend_for_facebook_system.ipynb:5: DeprecationWarning: Call to deprecated `__getitem__` (Method will be removed in 4.0.0, use self.wv.__getitem__() instead).\n",
      "  \"metadata\": {},\n",
      "IG_account_recommend_for_facebook_system.ipynb:6: DeprecationWarning: Call to deprecated `__getitem__` (Method will be removed in 4.0.0, use self.wv.__getitem__() instead).\n",
      "  \"source\": [\n"
     ]
    },
    {
     "name": "stdout",
     "output_type": "stream",
     "text": [
      "Pic :  0.0584429396050317\n",
      "------------------------------------------------------------------------------------------------\n",
      "楊尚儒 , 7_rocean___\n",
      "Prm :  0.68\n",
      "Pop :  0.32710547474882423\n",
      "Act :  0.37045169385194476\n"
     ]
    },
    {
     "name": "stderr",
     "output_type": "stream",
     "text": [
      "IG_account_recommend_for_facebook_system.ipynb:8: SettingWithCopyWarning: \n",
      "A value is trying to be set on a copy of a slice from a DataFrame\n",
      "\n",
      "See the caveats in the documentation: http://pandas.pydata.org/pandas-docs/stable/user_guide/indexing.html#returning-a-view-versus-a-copy\n",
      "  ]\n",
      "IG_account_recommend_for_facebook_system.ipynb:5: DeprecationWarning: Call to deprecated `__getitem__` (Method will be removed in 4.0.0, use self.wv.__getitem__() instead).\n",
      "  \"metadata\": {},\n",
      "IG_account_recommend_for_facebook_system.ipynb:6: DeprecationWarning: Call to deprecated `__getitem__` (Method will be removed in 4.0.0, use self.wv.__getitem__() instead).\n",
      "  \"source\": [\n"
     ]
    },
    {
     "name": "stdout",
     "output_type": "stream",
     "text": [
      "Pic :  0.008098337054252624\n",
      "------------------------------------------------------------------------------------------------\n",
      "楊尚儒 , 8_cbx\n",
      "Prm :  0.6974\n",
      "Pop :  0.21001130143114377\n",
      "Act :  0.2962662337662338\n"
     ]
    },
    {
     "name": "stderr",
     "output_type": "stream",
     "text": [
      "IG_account_recommend_for_facebook_system.ipynb:8: SettingWithCopyWarning: \n",
      "A value is trying to be set on a copy of a slice from a DataFrame\n",
      "\n",
      "See the caveats in the documentation: http://pandas.pydata.org/pandas-docs/stable/user_guide/indexing.html#returning-a-view-versus-a-copy\n",
      "  ]\n",
      "IG_account_recommend_for_facebook_system.ipynb:5: DeprecationWarning: Call to deprecated `__getitem__` (Method will be removed in 4.0.0, use self.wv.__getitem__() instead).\n",
      "  \"metadata\": {},\n",
      "IG_account_recommend_for_facebook_system.ipynb:6: DeprecationWarning: Call to deprecated `__getitem__` (Method will be removed in 4.0.0, use self.wv.__getitem__() instead).\n",
      "  \"source\": [\n"
     ]
    },
    {
     "name": "stdout",
     "output_type": "stream",
     "text": [
      "Pic :  0.030486952513456345\n",
      "------------------------------------------------------------------------------------------------\n",
      "楊尚儒 , 9_populzzang_mag\n",
      "Prm :  0.7783\n",
      "Pop :  0.23137131126308982\n",
      "Act :  0.25190961171228515\n"
     ]
    },
    {
     "name": "stderr",
     "output_type": "stream",
     "text": [
      "IG_account_recommend_for_facebook_system.ipynb:8: SettingWithCopyWarning: \n",
      "A value is trying to be set on a copy of a slice from a DataFrame\n",
      "\n",
      "See the caveats in the documentation: http://pandas.pydata.org/pandas-docs/stable/user_guide/indexing.html#returning-a-view-versus-a-copy\n",
      "  ]\n",
      "IG_account_recommend_for_facebook_system.ipynb:5: DeprecationWarning: Call to deprecated `__getitem__` (Method will be removed in 4.0.0, use self.wv.__getitem__() instead).\n",
      "  \"metadata\": {},\n",
      "IG_account_recommend_for_facebook_system.ipynb:6: DeprecationWarning: Call to deprecated `__getitem__` (Method will be removed in 4.0.0, use self.wv.__getitem__() instead).\n",
      "  \"source\": [\n"
     ]
    },
    {
     "name": "stdout",
     "output_type": "stream",
     "text": [
      "Pic :  0.023563781103422474\n",
      "------------------------------------------------------------------------------------------------\n",
      "楊雅如 , 10_hana\n",
      "Prm :  0.8881\n",
      "Pop :  0.2378314973800221\n",
      "Act :  0.35774058577405854\n"
     ]
    },
    {
     "name": "stderr",
     "output_type": "stream",
     "text": [
      "IG_account_recommend_for_facebook_system.ipynb:8: SettingWithCopyWarning: \n",
      "A value is trying to be set on a copy of a slice from a DataFrame\n",
      "\n",
      "See the caveats in the documentation: http://pandas.pydata.org/pandas-docs/stable/user_guide/indexing.html#returning-a-view-versus-a-copy\n",
      "  ]\n",
      "IG_account_recommend_for_facebook_system.ipynb:5: DeprecationWarning: Call to deprecated `__getitem__` (Method will be removed in 4.0.0, use self.wv.__getitem__() instead).\n",
      "  \"metadata\": {},\n",
      "IG_account_recommend_for_facebook_system.ipynb:6: DeprecationWarning: Call to deprecated `__getitem__` (Method will be removed in 4.0.0, use self.wv.__getitem__() instead).\n",
      "  \"source\": [\n"
     ]
    },
    {
     "name": "stdout",
     "output_type": "stream",
     "text": [
      "Pic :  0.12592678381638092\n",
      "------------------------------------------------------------------------------------------------\n",
      "楊雅如 , 11_hsin0126\n",
      "Prm :  0.7779\n",
      "Pop :  0.41003219179580813\n",
      "Act :  0.39254686785550985\n"
     ]
    },
    {
     "name": "stderr",
     "output_type": "stream",
     "text": [
      "IG_account_recommend_for_facebook_system.ipynb:8: SettingWithCopyWarning: \n",
      "A value is trying to be set on a copy of a slice from a DataFrame\n",
      "\n",
      "See the caveats in the documentation: http://pandas.pydata.org/pandas-docs/stable/user_guide/indexing.html#returning-a-view-versus-a-copy\n",
      "  ]\n",
      "IG_account_recommend_for_facebook_system.ipynb:5: DeprecationWarning: Call to deprecated `__getitem__` (Method will be removed in 4.0.0, use self.wv.__getitem__() instead).\n",
      "  \"metadata\": {},\n",
      "IG_account_recommend_for_facebook_system.ipynb:6: DeprecationWarning: Call to deprecated `__getitem__` (Method will be removed in 4.0.0, use self.wv.__getitem__() instead).\n",
      "  \"source\": [\n"
     ]
    },
    {
     "name": "stdout",
     "output_type": "stream",
     "text": [
      "Pic :  0.21885313766617928\n",
      "------------------------------------------------------------------------------------------------\n",
      "楊雅如 , 12_tsaigray2018\n",
      "Prm :  0.7685\n",
      "Pop :  0.20037185441170066\n",
      "Act :  0.25428963623884693\n"
     ]
    },
    {
     "name": "stderr",
     "output_type": "stream",
     "text": [
      "IG_account_recommend_for_facebook_system.ipynb:8: SettingWithCopyWarning: \n",
      "A value is trying to be set on a copy of a slice from a DataFrame\n",
      "\n",
      "See the caveats in the documentation: http://pandas.pydata.org/pandas-docs/stable/user_guide/indexing.html#returning-a-view-versus-a-copy\n",
      "  ]\n",
      "IG_account_recommend_for_facebook_system.ipynb:5: DeprecationWarning: Call to deprecated `__getitem__` (Method will be removed in 4.0.0, use self.wv.__getitem__() instead).\n",
      "  \"metadata\": {},\n",
      "IG_account_recommend_for_facebook_system.ipynb:6: DeprecationWarning: Call to deprecated `__getitem__` (Method will be removed in 4.0.0, use self.wv.__getitem__() instead).\n",
      "  \"source\": [\n"
     ]
    },
    {
     "name": "stdout",
     "output_type": "stream",
     "text": [
      "Pic :  0.08841186133810343\n",
      "------------------------------------------------------------------------------------------------\n",
      "楊雅如 , 13_snowzaicat\n",
      "Prm :  0.7056\n",
      "Pop :  0.22680615382595995\n",
      "Act :  0.4876543209876543\n"
     ]
    },
    {
     "name": "stderr",
     "output_type": "stream",
     "text": [
      "IG_account_recommend_for_facebook_system.ipynb:8: SettingWithCopyWarning: \n",
      "A value is trying to be set on a copy of a slice from a DataFrame\n",
      "\n",
      "See the caveats in the documentation: http://pandas.pydata.org/pandas-docs/stable/user_guide/indexing.html#returning-a-view-versus-a-copy\n",
      "  ]\n"
     ]
    },
    {
     "name": "stdout",
     "output_type": "stream",
     "text": [
      "Pic :  0.0\n",
      "------------------------------------------------------------------------------------------------\n",
      "楊雅如 , 14_jc\n",
      "Prm :  0.8506\n",
      "Pop :  0.2905425077475063\n",
      "Act :  0.36518046709129515\n"
     ]
    },
    {
     "name": "stderr",
     "output_type": "stream",
     "text": [
      "IG_account_recommend_for_facebook_system.ipynb:8: SettingWithCopyWarning: \n",
      "A value is trying to be set on a copy of a slice from a DataFrame\n",
      "\n",
      "See the caveats in the documentation: http://pandas.pydata.org/pandas-docs/stable/user_guide/indexing.html#returning-a-view-versus-a-copy\n",
      "  ]\n",
      "IG_account_recommend_for_facebook_system.ipynb:5: DeprecationWarning: Call to deprecated `__getitem__` (Method will be removed in 4.0.0, use self.wv.__getitem__() instead).\n",
      "  \"metadata\": {},\n",
      "IG_account_recommend_for_facebook_system.ipynb:6: DeprecationWarning: Call to deprecated `__getitem__` (Method will be removed in 4.0.0, use self.wv.__getitem__() instead).\n",
      "  \"source\": [\n"
     ]
    },
    {
     "name": "stdout",
     "output_type": "stream",
     "text": [
      "Pic :  0.0866073996626905\n",
      "------------------------------------------------------------------------------------------------\n",
      "楊雅如 , 15_doctorkowj\n",
      "Prm :  0.7596\n",
      "Pop :  0.21290620585234848\n",
      "Act :  0.2558441558441558\n"
     ]
    },
    {
     "name": "stderr",
     "output_type": "stream",
     "text": [
      "IG_account_recommend_for_facebook_system.ipynb:8: SettingWithCopyWarning: \n",
      "A value is trying to be set on a copy of a slice from a DataFrame\n",
      "\n",
      "See the caveats in the documentation: http://pandas.pydata.org/pandas-docs/stable/user_guide/indexing.html#returning-a-view-versus-a-copy\n",
      "  ]\n",
      "IG_account_recommend_for_facebook_system.ipynb:5: DeprecationWarning: Call to deprecated `__getitem__` (Method will be removed in 4.0.0, use self.wv.__getitem__() instead).\n",
      "  \"metadata\": {},\n",
      "IG_account_recommend_for_facebook_system.ipynb:6: DeprecationWarning: Call to deprecated `__getitem__` (Method will be removed in 4.0.0, use self.wv.__getitem__() instead).\n",
      "  \"source\": [\n"
     ]
    },
    {
     "name": "stdout",
     "output_type": "stream",
     "text": [
      "Pic :  0.13256491386763206\n",
      "------------------------------------------------------------------------------------------------\n",
      "楊雅如 , 16_jaychou\n",
      "Prm :  0.7054\n",
      "Pop :  0.2008238251223365\n",
      "Act :  0.3858267716535433\n"
     ]
    },
    {
     "name": "stderr",
     "output_type": "stream",
     "text": [
      "IG_account_recommend_for_facebook_system.ipynb:8: SettingWithCopyWarning: \n",
      "A value is trying to be set on a copy of a slice from a DataFrame\n",
      "\n",
      "See the caveats in the documentation: http://pandas.pydata.org/pandas-docs/stable/user_guide/indexing.html#returning-a-view-versus-a-copy\n",
      "  ]\n",
      "IG_account_recommend_for_facebook_system.ipynb:5: DeprecationWarning: Call to deprecated `__getitem__` (Method will be removed in 4.0.0, use self.wv.__getitem__() instead).\n",
      "  \"metadata\": {},\n",
      "IG_account_recommend_for_facebook_system.ipynb:6: DeprecationWarning: Call to deprecated `__getitem__` (Method will be removed in 4.0.0, use self.wv.__getitem__() instead).\n",
      "  \"source\": [\n"
     ]
    },
    {
     "name": "stdout",
     "output_type": "stream",
     "text": [
      "Pic :  0.03343659406527877\n",
      "------------------------------------------------------------------------------------------------\n",
      "楊雅如 , 17_sunnygirl800424\n",
      "Prm :  0.7745\n",
      "Pop :  0.2080223626447253\n",
      "Act :  0.32838774597495524\n"
     ]
    },
    {
     "name": "stderr",
     "output_type": "stream",
     "text": [
      "IG_account_recommend_for_facebook_system.ipynb:8: SettingWithCopyWarning: \n",
      "A value is trying to be set on a copy of a slice from a DataFrame\n",
      "\n",
      "See the caveats in the documentation: http://pandas.pydata.org/pandas-docs/stable/user_guide/indexing.html#returning-a-view-versus-a-copy\n",
      "  ]\n",
      "IG_account_recommend_for_facebook_system.ipynb:5: DeprecationWarning: Call to deprecated `__getitem__` (Method will be removed in 4.0.0, use self.wv.__getitem__() instead).\n",
      "  \"metadata\": {},\n",
      "IG_account_recommend_for_facebook_system.ipynb:6: DeprecationWarning: Call to deprecated `__getitem__` (Method will be removed in 4.0.0, use self.wv.__getitem__() instead).\n",
      "  \"source\": [\n"
     ]
    },
    {
     "name": "stdout",
     "output_type": "stream",
     "text": [
      "Pic :  0.1121058074652024\n",
      "------------------------------------------------------------------------------------------------\n",
      "楊雅如 , 18_poptour_mag\n",
      "Prm :  0.9083\n",
      "Pop :  0.21332077095353816\n",
      "Act :  0.28326226012793176\n"
     ]
    },
    {
     "name": "stderr",
     "output_type": "stream",
     "text": [
      "IG_account_recommend_for_facebook_system.ipynb:8: SettingWithCopyWarning: \n",
      "A value is trying to be set on a copy of a slice from a DataFrame\n",
      "\n",
      "See the caveats in the documentation: http://pandas.pydata.org/pandas-docs/stable/user_guide/indexing.html#returning-a-view-versus-a-copy\n",
      "  ]\n",
      "IG_account_recommend_for_facebook_system.ipynb:5: DeprecationWarning: Call to deprecated `__getitem__` (Method will be removed in 4.0.0, use self.wv.__getitem__() instead).\n",
      "  \"metadata\": {},\n",
      "IG_account_recommend_for_facebook_system.ipynb:6: DeprecationWarning: Call to deprecated `__getitem__` (Method will be removed in 4.0.0, use self.wv.__getitem__() instead).\n",
      "  \"source\": [\n"
     ]
    },
    {
     "name": "stdout",
     "output_type": "stream",
     "text": [
      "Pic :  0.13071105849336495\n",
      "------------------------------------------------------------------------------------------------\n",
      "楊雅如 , 19_bpintaiwan\n",
      "Prm :  0.7881\n",
      "Pop :  0.2261851220552164\n",
      "Act :  0.27611490653762216\n"
     ]
    },
    {
     "name": "stderr",
     "output_type": "stream",
     "text": [
      "IG_account_recommend_for_facebook_system.ipynb:8: SettingWithCopyWarning: \n",
      "A value is trying to be set on a copy of a slice from a DataFrame\n",
      "\n",
      "See the caveats in the documentation: http://pandas.pydata.org/pandas-docs/stable/user_guide/indexing.html#returning-a-view-versus-a-copy\n",
      "  ]\n",
      "IG_account_recommend_for_facebook_system.ipynb:5: DeprecationWarning: Call to deprecated `__getitem__` (Method will be removed in 4.0.0, use self.wv.__getitem__() instead).\n",
      "  \"metadata\": {},\n",
      "IG_account_recommend_for_facebook_system.ipynb:6: DeprecationWarning: Call to deprecated `__getitem__` (Method will be removed in 4.0.0, use self.wv.__getitem__() instead).\n",
      "  \"source\": [\n"
     ]
    },
    {
     "name": "stdout",
     "output_type": "stream",
     "text": [
      "Pic :  0.18335266726521346\n",
      "------------------------------------------------------------------------------------------------\n",
      "楊雅如 , 1_arielsvlog_816\n",
      "Prm :  0.8057\n",
      "Pop :  0.20430586991693556\n",
      "Act :  0.2664835164835165\n"
     ]
    },
    {
     "name": "stderr",
     "output_type": "stream",
     "text": [
      "IG_account_recommend_for_facebook_system.ipynb:8: SettingWithCopyWarning: \n",
      "A value is trying to be set on a copy of a slice from a DataFrame\n",
      "\n",
      "See the caveats in the documentation: http://pandas.pydata.org/pandas-docs/stable/user_guide/indexing.html#returning-a-view-versus-a-copy\n",
      "  ]\n",
      "IG_account_recommend_for_facebook_system.ipynb:5: DeprecationWarning: Call to deprecated `__getitem__` (Method will be removed in 4.0.0, use self.wv.__getitem__() instead).\n",
      "  \"metadata\": {},\n",
      "IG_account_recommend_for_facebook_system.ipynb:6: DeprecationWarning: Call to deprecated `__getitem__` (Method will be removed in 4.0.0, use self.wv.__getitem__() instead).\n",
      "  \"source\": [\n"
     ]
    },
    {
     "name": "stdout",
     "output_type": "stream",
     "text": [
      "Pic :  0.17819701760475123\n",
      "------------------------------------------------------------------------------------------------\n",
      "楊雅如 , 20_imma_pon\n",
      "Prm :  0.7298\n",
      "Pop :  0.224218460283874\n",
      "Act :  0.37568605927552146\n"
     ]
    },
    {
     "name": "stderr",
     "output_type": "stream",
     "text": [
      "IG_account_recommend_for_facebook_system.ipynb:8: SettingWithCopyWarning: \n",
      "A value is trying to be set on a copy of a slice from a DataFrame\n",
      "\n",
      "See the caveats in the documentation: http://pandas.pydata.org/pandas-docs/stable/user_guide/indexing.html#returning-a-view-versus-a-copy\n",
      "  ]\n",
      "IG_account_recommend_for_facebook_system.ipynb:5: DeprecationWarning: Call to deprecated `__getitem__` (Method will be removed in 4.0.0, use self.wv.__getitem__() instead).\n",
      "  \"metadata\": {},\n",
      "IG_account_recommend_for_facebook_system.ipynb:6: DeprecationWarning: Call to deprecated `__getitem__` (Method will be removed in 4.0.0, use self.wv.__getitem__() instead).\n",
      "  \"source\": [\n"
     ]
    },
    {
     "name": "stdout",
     "output_type": "stream",
     "text": [
      "Pic :  0.1550635679338414\n",
      "------------------------------------------------------------------------------------------------\n",
      "楊雅如 , 2_dentist_easoncheng\n",
      "Prm :  0.7999\n",
      "Pop :  0.21384992660039398\n",
      "Act :  0.35341974627688916\n"
     ]
    },
    {
     "name": "stderr",
     "output_type": "stream",
     "text": [
      "IG_account_recommend_for_facebook_system.ipynb:8: SettingWithCopyWarning: \n",
      "A value is trying to be set on a copy of a slice from a DataFrame\n",
      "\n",
      "See the caveats in the documentation: http://pandas.pydata.org/pandas-docs/stable/user_guide/indexing.html#returning-a-view-versus-a-copy\n",
      "  ]\n",
      "IG_account_recommend_for_facebook_system.ipynb:5: DeprecationWarning: Call to deprecated `__getitem__` (Method will be removed in 4.0.0, use self.wv.__getitem__() instead).\n",
      "  \"metadata\": {},\n",
      "IG_account_recommend_for_facebook_system.ipynb:6: DeprecationWarning: Call to deprecated `__getitem__` (Method will be removed in 4.0.0, use self.wv.__getitem__() instead).\n",
      "  \"source\": [\n"
     ]
    },
    {
     "name": "stdout",
     "output_type": "stream",
     "text": [
      "Pic :  0.07330458762589842\n",
      "------------------------------------------------------------------------------------------------\n",
      "楊雅如 , 3_yuniko0720\n",
      "Prm :  0.7457\n",
      "Pop :  0.20484361226794484\n",
      "Act :  0.2760683760683761\n"
     ]
    },
    {
     "name": "stderr",
     "output_type": "stream",
     "text": [
      "IG_account_recommend_for_facebook_system.ipynb:8: SettingWithCopyWarning: \n",
      "A value is trying to be set on a copy of a slice from a DataFrame\n",
      "\n",
      "See the caveats in the documentation: http://pandas.pydata.org/pandas-docs/stable/user_guide/indexing.html#returning-a-view-versus-a-copy\n",
      "  ]\n",
      "IG_account_recommend_for_facebook_system.ipynb:5: DeprecationWarning: Call to deprecated `__getitem__` (Method will be removed in 4.0.0, use self.wv.__getitem__() instead).\n",
      "  \"metadata\": {},\n",
      "IG_account_recommend_for_facebook_system.ipynb:6: DeprecationWarning: Call to deprecated `__getitem__` (Method will be removed in 4.0.0, use self.wv.__getitem__() instead).\n",
      "  \"source\": [\n"
     ]
    },
    {
     "name": "stdout",
     "output_type": "stream",
     "text": [
      "Pic :  0.03142863811879623\n",
      "------------------------------------------------------------------------------------------------\n",
      "楊雅如 , 4_rolling\n",
      "Prm :  0.9586\n",
      "Pop :  0.3239729214973595\n",
      "Act :  0.2527386541471049\n"
     ]
    },
    {
     "name": "stderr",
     "output_type": "stream",
     "text": [
      "IG_account_recommend_for_facebook_system.ipynb:8: SettingWithCopyWarning: \n",
      "A value is trying to be set on a copy of a slice from a DataFrame\n",
      "\n",
      "See the caveats in the documentation: http://pandas.pydata.org/pandas-docs/stable/user_guide/indexing.html#returning-a-view-versus-a-copy\n",
      "  ]\n",
      "IG_account_recommend_for_facebook_system.ipynb:5: DeprecationWarning: Call to deprecated `__getitem__` (Method will be removed in 4.0.0, use self.wv.__getitem__() instead).\n",
      "  \"metadata\": {},\n",
      "IG_account_recommend_for_facebook_system.ipynb:6: DeprecationWarning: Call to deprecated `__getitem__` (Method will be removed in 4.0.0, use self.wv.__getitem__() instead).\n",
      "  \"source\": [\n"
     ]
    },
    {
     "name": "stdout",
     "output_type": "stream",
     "text": [
      "Pic :  0.10752896681703904\n",
      "------------------------------------------------------------------------------------------------\n",
      "楊雅如 , 5_melissaxhiker\n",
      "Prm :  0.7781\n",
      "Pop :  0.2081297592136236\n",
      "Act :  0.402046783625731\n"
     ]
    },
    {
     "name": "stderr",
     "output_type": "stream",
     "text": [
      "IG_account_recommend_for_facebook_system.ipynb:8: SettingWithCopyWarning: \n",
      "A value is trying to be set on a copy of a slice from a DataFrame\n",
      "\n",
      "See the caveats in the documentation: http://pandas.pydata.org/pandas-docs/stable/user_guide/indexing.html#returning-a-view-versus-a-copy\n",
      "  ]\n",
      "IG_account_recommend_for_facebook_system.ipynb:5: DeprecationWarning: Call to deprecated `__getitem__` (Method will be removed in 4.0.0, use self.wv.__getitem__() instead).\n",
      "  \"metadata\": {},\n",
      "IG_account_recommend_for_facebook_system.ipynb:6: DeprecationWarning: Call to deprecated `__getitem__` (Method will be removed in 4.0.0, use self.wv.__getitem__() instead).\n",
      "  \"source\": [\n"
     ]
    },
    {
     "name": "stdout",
     "output_type": "stream",
     "text": [
      "Pic :  0.20205477089239438\n",
      "------------------------------------------------------------------------------------------------\n",
      "楊雅如 , 6_cheers_tw\n",
      "Prm :  0.8248\n",
      "Pop :  0.21575989017257302\n",
      "Act :  0.25615474794841736\n"
     ]
    },
    {
     "name": "stderr",
     "output_type": "stream",
     "text": [
      "IG_account_recommend_for_facebook_system.ipynb:8: SettingWithCopyWarning: \n",
      "A value is trying to be set on a copy of a slice from a DataFrame\n",
      "\n",
      "See the caveats in the documentation: http://pandas.pydata.org/pandas-docs/stable/user_guide/indexing.html#returning-a-view-versus-a-copy\n",
      "  ]\n",
      "IG_account_recommend_for_facebook_system.ipynb:5: DeprecationWarning: Call to deprecated `__getitem__` (Method will be removed in 4.0.0, use self.wv.__getitem__() instead).\n",
      "  \"metadata\": {},\n",
      "IG_account_recommend_for_facebook_system.ipynb:6: DeprecationWarning: Call to deprecated `__getitem__` (Method will be removed in 4.0.0, use self.wv.__getitem__() instead).\n",
      "  \"source\": [\n"
     ]
    },
    {
     "name": "stdout",
     "output_type": "stream",
     "text": [
      "Pic :  0.21561751479194277\n",
      "------------------------------------------------------------------------------------------------\n",
      "楊雅如 , 7_rocean___\n",
      "Prm :  0.7865\n",
      "Pop :  0.32710547474882423\n",
      "Act :  0.37045169385194476\n"
     ]
    },
    {
     "name": "stderr",
     "output_type": "stream",
     "text": [
      "IG_account_recommend_for_facebook_system.ipynb:8: SettingWithCopyWarning: \n",
      "A value is trying to be set on a copy of a slice from a DataFrame\n",
      "\n",
      "See the caveats in the documentation: http://pandas.pydata.org/pandas-docs/stable/user_guide/indexing.html#returning-a-view-versus-a-copy\n",
      "  ]\n",
      "IG_account_recommend_for_facebook_system.ipynb:5: DeprecationWarning: Call to deprecated `__getitem__` (Method will be removed in 4.0.0, use self.wv.__getitem__() instead).\n",
      "  \"metadata\": {},\n",
      "IG_account_recommend_for_facebook_system.ipynb:6: DeprecationWarning: Call to deprecated `__getitem__` (Method will be removed in 4.0.0, use self.wv.__getitem__() instead).\n",
      "  \"source\": [\n"
     ]
    },
    {
     "name": "stdout",
     "output_type": "stream",
     "text": [
      "Pic :  0.03928280264139175\n",
      "------------------------------------------------------------------------------------------------\n",
      "楊雅如 , 8_cbx\n",
      "Prm :  0.8133\n",
      "Pop :  0.21001130143114377\n",
      "Act :  0.2962662337662338\n"
     ]
    },
    {
     "name": "stderr",
     "output_type": "stream",
     "text": [
      "IG_account_recommend_for_facebook_system.ipynb:8: SettingWithCopyWarning: \n",
      "A value is trying to be set on a copy of a slice from a DataFrame\n",
      "\n",
      "See the caveats in the documentation: http://pandas.pydata.org/pandas-docs/stable/user_guide/indexing.html#returning-a-view-versus-a-copy\n",
      "  ]\n",
      "IG_account_recommend_for_facebook_system.ipynb:5: DeprecationWarning: Call to deprecated `__getitem__` (Method will be removed in 4.0.0, use self.wv.__getitem__() instead).\n",
      "  \"metadata\": {},\n",
      "IG_account_recommend_for_facebook_system.ipynb:6: DeprecationWarning: Call to deprecated `__getitem__` (Method will be removed in 4.0.0, use self.wv.__getitem__() instead).\n",
      "  \"source\": [\n"
     ]
    },
    {
     "name": "stdout",
     "output_type": "stream",
     "text": [
      "Pic :  0.1876368045693997\n",
      "------------------------------------------------------------------------------------------------\n",
      "楊雅如 , 9_populzzang_mag\n",
      "Prm :  0.8124\n",
      "Pop :  0.23137131126308982\n",
      "Act :  0.25190961171228515\n"
     ]
    },
    {
     "name": "stderr",
     "output_type": "stream",
     "text": [
      "IG_account_recommend_for_facebook_system.ipynb:8: SettingWithCopyWarning: \n",
      "A value is trying to be set on a copy of a slice from a DataFrame\n",
      "\n",
      "See the caveats in the documentation: http://pandas.pydata.org/pandas-docs/stable/user_guide/indexing.html#returning-a-view-versus-a-copy\n",
      "  ]\n",
      "IG_account_recommend_for_facebook_system.ipynb:5: DeprecationWarning: Call to deprecated `__getitem__` (Method will be removed in 4.0.0, use self.wv.__getitem__() instead).\n",
      "  \"metadata\": {},\n",
      "IG_account_recommend_for_facebook_system.ipynb:6: DeprecationWarning: Call to deprecated `__getitem__` (Method will be removed in 4.0.0, use self.wv.__getitem__() instead).\n",
      "  \"source\": [\n"
     ]
    },
    {
     "name": "stdout",
     "output_type": "stream",
     "text": [
      "Pic :  0.1670215446068797\n",
      "------------------------------------------------------------------------------------------------\n",
      "王美淋 , 10_hana\n",
      "Prm :  0.9048\n",
      "Pop :  0.2378314973800221\n",
      "Act :  0.35774058577405854\n"
     ]
    },
    {
     "name": "stderr",
     "output_type": "stream",
     "text": [
      "IG_account_recommend_for_facebook_system.ipynb:8: SettingWithCopyWarning: \n",
      "A value is trying to be set on a copy of a slice from a DataFrame\n",
      "\n",
      "See the caveats in the documentation: http://pandas.pydata.org/pandas-docs/stable/user_guide/indexing.html#returning-a-view-versus-a-copy\n",
      "  ]\n",
      "IG_account_recommend_for_facebook_system.ipynb:5: DeprecationWarning: Call to deprecated `__getitem__` (Method will be removed in 4.0.0, use self.wv.__getitem__() instead).\n",
      "  \"metadata\": {},\n",
      "IG_account_recommend_for_facebook_system.ipynb:6: DeprecationWarning: Call to deprecated `__getitem__` (Method will be removed in 4.0.0, use self.wv.__getitem__() instead).\n",
      "  \"source\": [\n"
     ]
    },
    {
     "name": "stdout",
     "output_type": "stream",
     "text": [
      "Pic :  0.19127224340583338\n",
      "------------------------------------------------------------------------------------------------\n",
      "王美淋 , 11_hsin0126\n",
      "Prm :  0.8076\n",
      "Pop :  0.41003219179580813\n",
      "Act :  0.39254686785550985\n"
     ]
    },
    {
     "name": "stderr",
     "output_type": "stream",
     "text": [
      "IG_account_recommend_for_facebook_system.ipynb:8: SettingWithCopyWarning: \n",
      "A value is trying to be set on a copy of a slice from a DataFrame\n",
      "\n",
      "See the caveats in the documentation: http://pandas.pydata.org/pandas-docs/stable/user_guide/indexing.html#returning-a-view-versus-a-copy\n",
      "  ]\n",
      "IG_account_recommend_for_facebook_system.ipynb:5: DeprecationWarning: Call to deprecated `__getitem__` (Method will be removed in 4.0.0, use self.wv.__getitem__() instead).\n",
      "  \"metadata\": {},\n",
      "IG_account_recommend_for_facebook_system.ipynb:6: DeprecationWarning: Call to deprecated `__getitem__` (Method will be removed in 4.0.0, use self.wv.__getitem__() instead).\n",
      "  \"source\": [\n"
     ]
    },
    {
     "name": "stdout",
     "output_type": "stream",
     "text": [
      "Pic :  0.24972108294886927\n",
      "------------------------------------------------------------------------------------------------\n",
      "王美淋 , 12_tsaigray2018\n",
      "Prm :  0.7404\n",
      "Pop :  0.20037185441170066\n",
      "Act :  0.25428963623884693\n"
     ]
    },
    {
     "name": "stderr",
     "output_type": "stream",
     "text": [
      "IG_account_recommend_for_facebook_system.ipynb:8: SettingWithCopyWarning: \n",
      "A value is trying to be set on a copy of a slice from a DataFrame\n",
      "\n",
      "See the caveats in the documentation: http://pandas.pydata.org/pandas-docs/stable/user_guide/indexing.html#returning-a-view-versus-a-copy\n",
      "  ]\n",
      "IG_account_recommend_for_facebook_system.ipynb:5: DeprecationWarning: Call to deprecated `__getitem__` (Method will be removed in 4.0.0, use self.wv.__getitem__() instead).\n",
      "  \"metadata\": {},\n",
      "IG_account_recommend_for_facebook_system.ipynb:6: DeprecationWarning: Call to deprecated `__getitem__` (Method will be removed in 4.0.0, use self.wv.__getitem__() instead).\n",
      "  \"source\": [\n"
     ]
    },
    {
     "name": "stdout",
     "output_type": "stream",
     "text": [
      "Pic :  0.08097179453724469\n",
      "------------------------------------------------------------------------------------------------\n",
      "王美淋 , 13_snowzaicat\n",
      "Prm :  0.7025\n",
      "Pop :  0.22680615382595995\n",
      "Act :  0.4876543209876543\n"
     ]
    },
    {
     "name": "stderr",
     "output_type": "stream",
     "text": [
      "IG_account_recommend_for_facebook_system.ipynb:8: SettingWithCopyWarning: \n",
      "A value is trying to be set on a copy of a slice from a DataFrame\n",
      "\n",
      "See the caveats in the documentation: http://pandas.pydata.org/pandas-docs/stable/user_guide/indexing.html#returning-a-view-versus-a-copy\n",
      "  ]\n"
     ]
    },
    {
     "name": "stdout",
     "output_type": "stream",
     "text": [
      "Pic :  0.0\n",
      "------------------------------------------------------------------------------------------------\n",
      "王美淋 , 14_jc\n",
      "Prm :  0.8623\n",
      "Pop :  0.2905425077475063\n",
      "Act :  0.36518046709129515\n"
     ]
    },
    {
     "name": "stderr",
     "output_type": "stream",
     "text": [
      "IG_account_recommend_for_facebook_system.ipynb:8: SettingWithCopyWarning: \n",
      "A value is trying to be set on a copy of a slice from a DataFrame\n",
      "\n",
      "See the caveats in the documentation: http://pandas.pydata.org/pandas-docs/stable/user_guide/indexing.html#returning-a-view-versus-a-copy\n",
      "  ]\n",
      "IG_account_recommend_for_facebook_system.ipynb:5: DeprecationWarning: Call to deprecated `__getitem__` (Method will be removed in 4.0.0, use self.wv.__getitem__() instead).\n",
      "  \"metadata\": {},\n",
      "IG_account_recommend_for_facebook_system.ipynb:6: DeprecationWarning: Call to deprecated `__getitem__` (Method will be removed in 4.0.0, use self.wv.__getitem__() instead).\n",
      "  \"source\": [\n"
     ]
    },
    {
     "name": "stdout",
     "output_type": "stream",
     "text": [
      "Pic :  0.07665593336735453\n",
      "------------------------------------------------------------------------------------------------\n",
      "王美淋 , 15_doctorkowj\n",
      "Prm :  0.7728\n",
      "Pop :  0.21290620585234848\n",
      "Act :  0.2558441558441558\n"
     ]
    },
    {
     "name": "stderr",
     "output_type": "stream",
     "text": [
      "IG_account_recommend_for_facebook_system.ipynb:8: SettingWithCopyWarning: \n",
      "A value is trying to be set on a copy of a slice from a DataFrame\n",
      "\n",
      "See the caveats in the documentation: http://pandas.pydata.org/pandas-docs/stable/user_guide/indexing.html#returning-a-view-versus-a-copy\n",
      "  ]\n",
      "IG_account_recommend_for_facebook_system.ipynb:5: DeprecationWarning: Call to deprecated `__getitem__` (Method will be removed in 4.0.0, use self.wv.__getitem__() instead).\n",
      "  \"metadata\": {},\n",
      "IG_account_recommend_for_facebook_system.ipynb:6: DeprecationWarning: Call to deprecated `__getitem__` (Method will be removed in 4.0.0, use self.wv.__getitem__() instead).\n",
      "  \"source\": [\n"
     ]
    },
    {
     "name": "stdout",
     "output_type": "stream",
     "text": [
      "Pic :  0.08800846556337868\n",
      "------------------------------------------------------------------------------------------------\n",
      "王美淋 , 16_jaychou\n",
      "Prm :  0.6902\n",
      "Pop :  0.2008238251223365\n",
      "Act :  0.3858267716535433\n"
     ]
    },
    {
     "name": "stderr",
     "output_type": "stream",
     "text": [
      "IG_account_recommend_for_facebook_system.ipynb:8: SettingWithCopyWarning: \n",
      "A value is trying to be set on a copy of a slice from a DataFrame\n",
      "\n",
      "See the caveats in the documentation: http://pandas.pydata.org/pandas-docs/stable/user_guide/indexing.html#returning-a-view-versus-a-copy\n",
      "  ]\n",
      "IG_account_recommend_for_facebook_system.ipynb:5: DeprecationWarning: Call to deprecated `__getitem__` (Method will be removed in 4.0.0, use self.wv.__getitem__() instead).\n",
      "  \"metadata\": {},\n",
      "IG_account_recommend_for_facebook_system.ipynb:6: DeprecationWarning: Call to deprecated `__getitem__` (Method will be removed in 4.0.0, use self.wv.__getitem__() instead).\n",
      "  \"source\": [\n"
     ]
    },
    {
     "name": "stdout",
     "output_type": "stream",
     "text": [
      "Pic :  0.03795678696284691\n",
      "------------------------------------------------------------------------------------------------\n",
      "王美淋 , 17_sunnygirl800424\n",
      "Prm :  0.7553\n",
      "Pop :  0.2080223626447253\n",
      "Act :  0.32838774597495524\n"
     ]
    },
    {
     "name": "stderr",
     "output_type": "stream",
     "text": [
      "IG_account_recommend_for_facebook_system.ipynb:8: SettingWithCopyWarning: \n",
      "A value is trying to be set on a copy of a slice from a DataFrame\n",
      "\n",
      "See the caveats in the documentation: http://pandas.pydata.org/pandas-docs/stable/user_guide/indexing.html#returning-a-view-versus-a-copy\n",
      "  ]\n",
      "IG_account_recommend_for_facebook_system.ipynb:5: DeprecationWarning: Call to deprecated `__getitem__` (Method will be removed in 4.0.0, use self.wv.__getitem__() instead).\n",
      "  \"metadata\": {},\n",
      "IG_account_recommend_for_facebook_system.ipynb:6: DeprecationWarning: Call to deprecated `__getitem__` (Method will be removed in 4.0.0, use self.wv.__getitem__() instead).\n",
      "  \"source\": [\n"
     ]
    },
    {
     "name": "stdout",
     "output_type": "stream",
     "text": [
      "Pic :  0.12444033944663012\n",
      "------------------------------------------------------------------------------------------------\n",
      "王美淋 , 18_poptour_mag\n",
      "Prm :  0.7864\n",
      "Pop :  0.21332077095353816\n",
      "Act :  0.28326226012793176\n"
     ]
    },
    {
     "name": "stderr",
     "output_type": "stream",
     "text": [
      "IG_account_recommend_for_facebook_system.ipynb:8: SettingWithCopyWarning: \n",
      "A value is trying to be set on a copy of a slice from a DataFrame\n",
      "\n",
      "See the caveats in the documentation: http://pandas.pydata.org/pandas-docs/stable/user_guide/indexing.html#returning-a-view-versus-a-copy\n",
      "  ]\n",
      "IG_account_recommend_for_facebook_system.ipynb:5: DeprecationWarning: Call to deprecated `__getitem__` (Method will be removed in 4.0.0, use self.wv.__getitem__() instead).\n",
      "  \"metadata\": {},\n",
      "IG_account_recommend_for_facebook_system.ipynb:6: DeprecationWarning: Call to deprecated `__getitem__` (Method will be removed in 4.0.0, use self.wv.__getitem__() instead).\n",
      "  \"source\": [\n"
     ]
    },
    {
     "name": "stdout",
     "output_type": "stream",
     "text": [
      "Pic :  0.13311926326291126\n",
      "------------------------------------------------------------------------------------------------\n",
      "王美淋 , 19_bpintaiwan\n",
      "Prm :  0.8372\n",
      "Pop :  0.22710597798038026\n",
      "Act :  0.27611490653762216\n"
     ]
    },
    {
     "name": "stderr",
     "output_type": "stream",
     "text": [
      "IG_account_recommend_for_facebook_system.ipynb:8: SettingWithCopyWarning: \n",
      "A value is trying to be set on a copy of a slice from a DataFrame\n",
      "\n",
      "See the caveats in the documentation: http://pandas.pydata.org/pandas-docs/stable/user_guide/indexing.html#returning-a-view-versus-a-copy\n",
      "  ]\n",
      "IG_account_recommend_for_facebook_system.ipynb:5: DeprecationWarning: Call to deprecated `__getitem__` (Method will be removed in 4.0.0, use self.wv.__getitem__() instead).\n",
      "  \"metadata\": {},\n",
      "IG_account_recommend_for_facebook_system.ipynb:6: DeprecationWarning: Call to deprecated `__getitem__` (Method will be removed in 4.0.0, use self.wv.__getitem__() instead).\n",
      "  \"source\": [\n"
     ]
    },
    {
     "name": "stdout",
     "output_type": "stream",
     "text": [
      "Pic :  0.16297007650136947\n",
      "------------------------------------------------------------------------------------------------\n",
      "王美淋 , 1_arielsvlog_816\n",
      "Prm :  0.8376\n",
      "Pop :  0.20430586991693556\n",
      "Act :  0.2664835164835165\n"
     ]
    },
    {
     "name": "stderr",
     "output_type": "stream",
     "text": [
      "IG_account_recommend_for_facebook_system.ipynb:8: SettingWithCopyWarning: \n",
      "A value is trying to be set on a copy of a slice from a DataFrame\n",
      "\n",
      "See the caveats in the documentation: http://pandas.pydata.org/pandas-docs/stable/user_guide/indexing.html#returning-a-view-versus-a-copy\n",
      "  ]\n",
      "IG_account_recommend_for_facebook_system.ipynb:5: DeprecationWarning: Call to deprecated `__getitem__` (Method will be removed in 4.0.0, use self.wv.__getitem__() instead).\n",
      "  \"metadata\": {},\n",
      "IG_account_recommend_for_facebook_system.ipynb:6: DeprecationWarning: Call to deprecated `__getitem__` (Method will be removed in 4.0.0, use self.wv.__getitem__() instead).\n",
      "  \"source\": [\n"
     ]
    },
    {
     "name": "stdout",
     "output_type": "stream",
     "text": [
      "Pic :  0.16228587914832002\n",
      "------------------------------------------------------------------------------------------------\n",
      "王美淋 , 20_imma_pon\n",
      "Prm :  0.7272\n",
      "Pop :  0.22365582569790882\n",
      "Act :  0.37568605927552146\n"
     ]
    },
    {
     "name": "stderr",
     "output_type": "stream",
     "text": [
      "IG_account_recommend_for_facebook_system.ipynb:8: SettingWithCopyWarning: \n",
      "A value is trying to be set on a copy of a slice from a DataFrame\n",
      "\n",
      "See the caveats in the documentation: http://pandas.pydata.org/pandas-docs/stable/user_guide/indexing.html#returning-a-view-versus-a-copy\n",
      "  ]\n",
      "IG_account_recommend_for_facebook_system.ipynb:5: DeprecationWarning: Call to deprecated `__getitem__` (Method will be removed in 4.0.0, use self.wv.__getitem__() instead).\n",
      "  \"metadata\": {},\n",
      "IG_account_recommend_for_facebook_system.ipynb:6: DeprecationWarning: Call to deprecated `__getitem__` (Method will be removed in 4.0.0, use self.wv.__getitem__() instead).\n",
      "  \"source\": [\n"
     ]
    },
    {
     "name": "stdout",
     "output_type": "stream",
     "text": [
      "Pic :  0.15171931744976477\n",
      "------------------------------------------------------------------------------------------------\n",
      "王美淋 , 2_dentist_easoncheng\n",
      "Prm :  0.7939\n",
      "Pop :  0.21422371027539627\n",
      "Act :  0.35341974627688916\n"
     ]
    },
    {
     "name": "stderr",
     "output_type": "stream",
     "text": [
      "IG_account_recommend_for_facebook_system.ipynb:8: SettingWithCopyWarning: \n",
      "A value is trying to be set on a copy of a slice from a DataFrame\n",
      "\n",
      "See the caveats in the documentation: http://pandas.pydata.org/pandas-docs/stable/user_guide/indexing.html#returning-a-view-versus-a-copy\n",
      "  ]\n",
      "IG_account_recommend_for_facebook_system.ipynb:5: DeprecationWarning: Call to deprecated `__getitem__` (Method will be removed in 4.0.0, use self.wv.__getitem__() instead).\n",
      "  \"metadata\": {},\n",
      "IG_account_recommend_for_facebook_system.ipynb:6: DeprecationWarning: Call to deprecated `__getitem__` (Method will be removed in 4.0.0, use self.wv.__getitem__() instead).\n",
      "  \"source\": [\n"
     ]
    },
    {
     "name": "stdout",
     "output_type": "stream",
     "text": [
      "Pic :  0.057331056080081245\n",
      "------------------------------------------------------------------------------------------------\n",
      "王美淋 , 3_yuniko0720\n",
      "Prm :  0.7495\n",
      "Pop :  0.20484361226794484\n",
      "Act :  0.2760683760683761\n"
     ]
    },
    {
     "name": "stderr",
     "output_type": "stream",
     "text": [
      "IG_account_recommend_for_facebook_system.ipynb:8: SettingWithCopyWarning: \n",
      "A value is trying to be set on a copy of a slice from a DataFrame\n",
      "\n",
      "See the caveats in the documentation: http://pandas.pydata.org/pandas-docs/stable/user_guide/indexing.html#returning-a-view-versus-a-copy\n",
      "  ]\n",
      "IG_account_recommend_for_facebook_system.ipynb:5: DeprecationWarning: Call to deprecated `__getitem__` (Method will be removed in 4.0.0, use self.wv.__getitem__() instead).\n",
      "  \"metadata\": {},\n",
      "IG_account_recommend_for_facebook_system.ipynb:6: DeprecationWarning: Call to deprecated `__getitem__` (Method will be removed in 4.0.0, use self.wv.__getitem__() instead).\n",
      "  \"source\": [\n"
     ]
    },
    {
     "name": "stdout",
     "output_type": "stream",
     "text": [
      "Pic :  0.04393885348264764\n",
      "------------------------------------------------------------------------------------------------\n",
      "王美淋 , 4_rolling\n",
      "Prm :  0.827\n",
      "Pop :  0.3239729214973595\n",
      "Act :  0.2527386541471049\n"
     ]
    },
    {
     "name": "stderr",
     "output_type": "stream",
     "text": [
      "IG_account_recommend_for_facebook_system.ipynb:8: SettingWithCopyWarning: \n",
      "A value is trying to be set on a copy of a slice from a DataFrame\n",
      "\n",
      "See the caveats in the documentation: http://pandas.pydata.org/pandas-docs/stable/user_guide/indexing.html#returning-a-view-versus-a-copy\n",
      "  ]\n",
      "IG_account_recommend_for_facebook_system.ipynb:5: DeprecationWarning: Call to deprecated `__getitem__` (Method will be removed in 4.0.0, use self.wv.__getitem__() instead).\n",
      "  \"metadata\": {},\n",
      "IG_account_recommend_for_facebook_system.ipynb:6: DeprecationWarning: Call to deprecated `__getitem__` (Method will be removed in 4.0.0, use self.wv.__getitem__() instead).\n",
      "  \"source\": [\n"
     ]
    },
    {
     "name": "stdout",
     "output_type": "stream",
     "text": [
      "Pic :  0.06706685714285683\n",
      "------------------------------------------------------------------------------------------------\n",
      "王美淋 , 5_melissaxhiker\n",
      "Prm :  0.8395\n",
      "Pop :  0.20877673971065214\n",
      "Act :  0.402046783625731\n"
     ]
    },
    {
     "name": "stderr",
     "output_type": "stream",
     "text": [
      "IG_account_recommend_for_facebook_system.ipynb:8: SettingWithCopyWarning: \n",
      "A value is trying to be set on a copy of a slice from a DataFrame\n",
      "\n",
      "See the caveats in the documentation: http://pandas.pydata.org/pandas-docs/stable/user_guide/indexing.html#returning-a-view-versus-a-copy\n",
      "  ]\n",
      "IG_account_recommend_for_facebook_system.ipynb:5: DeprecationWarning: Call to deprecated `__getitem__` (Method will be removed in 4.0.0, use self.wv.__getitem__() instead).\n",
      "  \"metadata\": {},\n",
      "IG_account_recommend_for_facebook_system.ipynb:6: DeprecationWarning: Call to deprecated `__getitem__` (Method will be removed in 4.0.0, use self.wv.__getitem__() instead).\n",
      "  \"source\": [\n"
     ]
    },
    {
     "name": "stdout",
     "output_type": "stream",
     "text": [
      "Pic :  0.16081059209325096\n",
      "------------------------------------------------------------------------------------------------\n",
      "王美淋 , 6_cheers_tw\n",
      "Prm :  0.8561\n",
      "Pop :  0.21560501509124874\n",
      "Act :  0.25615474794841736\n"
     ]
    },
    {
     "name": "stderr",
     "output_type": "stream",
     "text": [
      "IG_account_recommend_for_facebook_system.ipynb:8: SettingWithCopyWarning: \n",
      "A value is trying to be set on a copy of a slice from a DataFrame\n",
      "\n",
      "See the caveats in the documentation: http://pandas.pydata.org/pandas-docs/stable/user_guide/indexing.html#returning-a-view-versus-a-copy\n",
      "  ]\n",
      "IG_account_recommend_for_facebook_system.ipynb:5: DeprecationWarning: Call to deprecated `__getitem__` (Method will be removed in 4.0.0, use self.wv.__getitem__() instead).\n",
      "  \"metadata\": {},\n",
      "IG_account_recommend_for_facebook_system.ipynb:6: DeprecationWarning: Call to deprecated `__getitem__` (Method will be removed in 4.0.0, use self.wv.__getitem__() instead).\n",
      "  \"source\": [\n"
     ]
    },
    {
     "name": "stdout",
     "output_type": "stream",
     "text": [
      "Pic :  0.19347015497359363\n",
      "------------------------------------------------------------------------------------------------\n",
      "王美淋 , 7_rocean___\n",
      "Prm :  0.7799\n",
      "Pop :  0.32710547474882423\n",
      "Act :  0.37045169385194476\n"
     ]
    },
    {
     "name": "stderr",
     "output_type": "stream",
     "text": [
      "IG_account_recommend_for_facebook_system.ipynb:8: SettingWithCopyWarning: \n",
      "A value is trying to be set on a copy of a slice from a DataFrame\n",
      "\n",
      "See the caveats in the documentation: http://pandas.pydata.org/pandas-docs/stable/user_guide/indexing.html#returning-a-view-versus-a-copy\n",
      "  ]\n",
      "IG_account_recommend_for_facebook_system.ipynb:5: DeprecationWarning: Call to deprecated `__getitem__` (Method will be removed in 4.0.0, use self.wv.__getitem__() instead).\n",
      "  \"metadata\": {},\n",
      "IG_account_recommend_for_facebook_system.ipynb:6: DeprecationWarning: Call to deprecated `__getitem__` (Method will be removed in 4.0.0, use self.wv.__getitem__() instead).\n",
      "  \"source\": [\n"
     ]
    },
    {
     "name": "stdout",
     "output_type": "stream",
     "text": [
      "Pic :  0.024816174432635306\n",
      "------------------------------------------------------------------------------------------------\n",
      "王美淋 , 8_cbx\n",
      "Prm :  0.7925\n",
      "Pop :  0.21081826037311244\n",
      "Act :  0.2962662337662338\n"
     ]
    },
    {
     "name": "stderr",
     "output_type": "stream",
     "text": [
      "IG_account_recommend_for_facebook_system.ipynb:8: SettingWithCopyWarning: \n",
      "A value is trying to be set on a copy of a slice from a DataFrame\n",
      "\n",
      "See the caveats in the documentation: http://pandas.pydata.org/pandas-docs/stable/user_guide/indexing.html#returning-a-view-versus-a-copy\n",
      "  ]\n",
      "IG_account_recommend_for_facebook_system.ipynb:5: DeprecationWarning: Call to deprecated `__getitem__` (Method will be removed in 4.0.0, use self.wv.__getitem__() instead).\n",
      "  \"metadata\": {},\n",
      "IG_account_recommend_for_facebook_system.ipynb:6: DeprecationWarning: Call to deprecated `__getitem__` (Method will be removed in 4.0.0, use self.wv.__getitem__() instead).\n",
      "  \"source\": [\n"
     ]
    },
    {
     "name": "stdout",
     "output_type": "stream",
     "text": [
      "Pic :  0.16453651298176158\n",
      "------------------------------------------------------------------------------------------------\n",
      "王美淋 , 9_populzzang_mag\n",
      "Prm :  0.8897\n",
      "Pop :  0.23137144788675473\n",
      "Act :  0.25190961171228515\n"
     ]
    },
    {
     "name": "stderr",
     "output_type": "stream",
     "text": [
      "IG_account_recommend_for_facebook_system.ipynb:8: SettingWithCopyWarning: \n",
      "A value is trying to be set on a copy of a slice from a DataFrame\n",
      "\n",
      "See the caveats in the documentation: http://pandas.pydata.org/pandas-docs/stable/user_guide/indexing.html#returning-a-view-versus-a-copy\n",
      "  ]\n",
      "IG_account_recommend_for_facebook_system.ipynb:5: DeprecationWarning: Call to deprecated `__getitem__` (Method will be removed in 4.0.0, use self.wv.__getitem__() instead).\n",
      "  \"metadata\": {},\n",
      "IG_account_recommend_for_facebook_system.ipynb:6: DeprecationWarning: Call to deprecated `__getitem__` (Method will be removed in 4.0.0, use self.wv.__getitem__() instead).\n",
      "  \"source\": [\n"
     ]
    },
    {
     "name": "stdout",
     "output_type": "stream",
     "text": [
      "Pic :  0.16606943413268688\n",
      "------------------------------------------------------------------------------------------------\n"
     ]
    }
   ],
   "source": [
    "path = r'C:\\Users\\ylclab\\Documents\\畢業論文\\Code\\experiment data' # facebook data path\n",
    "ig_path = r'C:\\Users\\ylclab\\Documents\\畢業論文\\Code\\instagram account' #instagram data path\n",
    "all_files = glob.glob(path + \"/*.csv\")\n",
    "all_ig_files = glob.glob(ig_path + \"/*.csv\")\n",
    "\n",
    "li = {}\n",
    "# count = 0\n",
    "df = pd.DataFrame(columns=['fb_name', 'ig_account', 'all_score'])\n",
    "\n",
    "#選擇系統模式\n",
    "# model_choice = input(\"請輸入模式。0為全模組、1為排除Pre、2為排除Pic、3為排除Pop、4為排除Act : \")\n",
    "# model_choice = int(model_choice)\n",
    "\n",
    "for filename in all_files:\n",
    "    for ig_filename in all_ig_files:\n",
    "        print(\"%s , %s\" % ((filename.split(\"\\\\\")[7]).split('.')[0],(ig_filename.split(\"\\\\\")[7]).split('.')[0]))\n",
    "        oringnal_df = pd.read_csv(filename, index_col=None, header=0, engine='python')\n",
    "        oringnal_ig_df = pd.read_csv(ig_filename, index_col=None, header=0,  engine='python')\n",
    "        %run IG_account_recommend_for_facebook_system.ipynb\n",
    "        time.sleep(2)\n",
    "\n",
    "        all_score = Prm + Pic + Pop + Act\n",
    "\n",
    "        all_score1 = Pic + Pop + Act\n",
    "\n",
    "        all_score2 = Prm + Pop + Act\n",
    "\n",
    "        all_score3 = Prm + Pic + Act\n",
    "\n",
    "        all_score4 = Prm + Pic + Pop\n",
    "        \n",
    "        time.sleep(2)\n",
    "        s_2 = pd.Series({'fb_name':(filename.split(\"\\\\\")[7]).split('.')[0], 'ig_account':(ig_filename.split(\"\\\\\")[7]).split('.')[0], 'all_score':all_score, 'all_score1':all_score1, 'all_score2':all_score2, 'all_score3':all_score3, 'all_score4':all_score4})\n",
    "        df = df.append(s_2, ignore_index=True)\n",
    "        print(\"------------------------------------------------------------------------------------------------\")\n",
    "        time.sleep(2)"
   ]
  },
  {
   "cell_type": "code",
   "execution_count": 97,
   "metadata": {},
   "outputs": [],
   "source": [
    "# df"
   ]
  },
  {
   "cell_type": "code",
   "execution_count": 127,
   "metadata": {},
   "outputs": [],
   "source": [
    "#生成csv文件\n",
    "df.to_csv(r'./userRecommendation_score.csv',index=True,sep=',', encoding='utf_8_sig')"
   ]
  },
  {
   "cell_type": "code",
   "execution_count": 128,
   "metadata": {},
   "outputs": [
    {
     "name": "stdout",
     "output_type": "stream",
     "text": [
      "{'李昱慶': 0.5328657233789855, '楊尚儒': 0.8784755489584802, '楊雅如': 0.1703359179916497, '王美淋': 0.5911678530149597}\n",
      "{'李昱慶': 0.46747162613480664, '楊尚儒': 0.7664786302931111, '楊雅如': 0.38514094031164914, '王美淋': 0.518002157997536}\n",
      "{'李昱慶': 0.8800253156190412, '楊尚儒': 0.8769920450166491, '楊雅如': 0.5310169051048936, '王美淋': 0.4324583002938456}\n",
      "{'李昱慶': 0.28613547020831764, '楊尚儒': 0.4575927177493269, '楊雅如': 0.035951885945352584, '王美淋': 0.7042776523357771}\n",
      "{'李昱慶': 0.575643288949838, '楊尚儒': 0.6320208082456956, '楊雅如': 0.1869530939461488, '王美淋': 0.8408760371087544}\n",
      "pearsonr平均 : \n",
      "0.5432112608360188 0.5342733386842757 0.6801231415086073 0.37098943155969355 0.5588733070626092\n"
     ]
    }
   ],
   "source": [
    "time.sleep(2)\n",
    "%run pearsonr_calculate.ipynb"
   ]
  },
  {
   "cell_type": "code",
   "execution_count": 129,
   "metadata": {},
   "outputs": [
    {
     "name": "stdout",
     "output_type": "stream",
     "text": [
      "0.00893792215174305 -0.13691188067258853 0.17222182927632523 -0.015662046226590398\n"
     ]
    }
   ],
   "source": [
    "#重新計算 model 權重\n",
    "pearsonr_gap1 = fb_account_pearsonr_mean - fb_account_pearsonr_mean1\n",
    "pearsonr_gap2 = fb_account_pearsonr_mean - fb_account_pearsonr_mean2\n",
    "pearsonr_gap3 = fb_account_pearsonr_mean - fb_account_pearsonr_mean3\n",
    "pearsonr_gap4 = fb_account_pearsonr_mean - fb_account_pearsonr_mean4\n",
    "print(pearsonr_gap1,pearsonr_gap2,pearsonr_gap3,pearsonr_gap4)"
   ]
  },
  {
   "cell_type": "code",
   "execution_count": 130,
   "metadata": {},
   "outputs": [],
   "source": [
    "weight1 = fb_account_pearsonr_mean1 / (pearsonr_gap1+pearsonr_gap2+pearsonr_gap3+pearsonr_gap4)\n",
    "weight2 = fb_account_pearsonr_mean2 / (pearsonr_gap1+pearsonr_gap2+pearsonr_gap3+pearsonr_gap4)\n",
    "weight3 = fb_account_pearsonr_mean3 / (pearsonr_gap1+pearsonr_gap2+pearsonr_gap3+pearsonr_gap4)\n",
    "weight4 = fb_account_pearsonr_mean4 / (pearsonr_gap1+pearsonr_gap2+pearsonr_gap3+pearsonr_gap4)"
   ]
  },
  {
   "cell_type": "code",
   "execution_count": 131,
   "metadata": {},
   "outputs": [
    {
     "name": "stdout",
     "output_type": "stream",
     "text": [
      "weight1 18.690149662967716\n",
      "weight2 23.792321988867677\n",
      "weight3 12.978090982989308\n",
      "weight4 19.55071495306359\n"
     ]
    }
   ],
   "source": [
    "print(\"weight1\",weight1)\n",
    "print(\"weight2\",weight2)\n",
    "print(\"weight3\",weight3)\n",
    "print(\"weight4\",weight4)"
   ]
  },
  {
   "cell_type": "code",
   "execution_count": 132,
   "metadata": {},
   "outputs": [
    {
     "name": "stdout",
     "output_type": "stream",
     "text": [
      "李昱慶 , 10_hana\n",
      "Prm :  0.8222\n",
      "Pop :  0.23337251471700057\n",
      "Act :  0.35774058577405854\n"
     ]
    },
    {
     "name": "stderr",
     "output_type": "stream",
     "text": [
      "IG_account_recommend_for_facebook_system.ipynb:8: SettingWithCopyWarning: \n",
      "A value is trying to be set on a copy of a slice from a DataFrame\n",
      "\n",
      "See the caveats in the documentation: http://pandas.pydata.org/pandas-docs/stable/user_guide/indexing.html#returning-a-view-versus-a-copy\n",
      "  ]\n",
      "IG_account_recommend_for_facebook_system.ipynb:5: DeprecationWarning: Call to deprecated `__getitem__` (Method will be removed in 4.0.0, use self.wv.__getitem__() instead).\n",
      "  \"metadata\": {},\n",
      "IG_account_recommend_for_facebook_system.ipynb:6: DeprecationWarning: Call to deprecated `__getitem__` (Method will be removed in 4.0.0, use self.wv.__getitem__() instead).\n",
      "  \"source\": [\n"
     ]
    },
    {
     "name": "stdout",
     "output_type": "stream",
     "text": [
      "Pic :  0.1902804340828549\n",
      "------------------------------------------------------------------------------------------------\n",
      "李昱慶 , 11_hsin0126\n",
      "Prm :  0.7784\n",
      "Pop :  0.39879510439676513\n",
      "Act :  0.39254686785550985\n"
     ]
    },
    {
     "name": "stderr",
     "output_type": "stream",
     "text": [
      "IG_account_recommend_for_facebook_system.ipynb:8: SettingWithCopyWarning: \n",
      "A value is trying to be set on a copy of a slice from a DataFrame\n",
      "\n",
      "See the caveats in the documentation: http://pandas.pydata.org/pandas-docs/stable/user_guide/indexing.html#returning-a-view-versus-a-copy\n",
      "  ]\n",
      "IG_account_recommend_for_facebook_system.ipynb:5: DeprecationWarning: Call to deprecated `__getitem__` (Method will be removed in 4.0.0, use self.wv.__getitem__() instead).\n",
      "  \"metadata\": {},\n",
      "IG_account_recommend_for_facebook_system.ipynb:6: DeprecationWarning: Call to deprecated `__getitem__` (Method will be removed in 4.0.0, use self.wv.__getitem__() instead).\n",
      "  \"source\": [\n"
     ]
    },
    {
     "name": "stdout",
     "output_type": "stream",
     "text": [
      "Pic :  0.26856342635371466\n",
      "------------------------------------------------------------------------------------------------\n",
      "李昱慶 , 12_tsaigray2018\n",
      "Prm :  0.7874\n",
      "Pop :  0.20032907349248238\n",
      "Act :  0.25428963623884693\n"
     ]
    },
    {
     "name": "stderr",
     "output_type": "stream",
     "text": [
      "IG_account_recommend_for_facebook_system.ipynb:8: SettingWithCopyWarning: \n",
      "A value is trying to be set on a copy of a slice from a DataFrame\n",
      "\n",
      "See the caveats in the documentation: http://pandas.pydata.org/pandas-docs/stable/user_guide/indexing.html#returning-a-view-versus-a-copy\n",
      "  ]\n",
      "IG_account_recommend_for_facebook_system.ipynb:5: DeprecationWarning: Call to deprecated `__getitem__` (Method will be removed in 4.0.0, use self.wv.__getitem__() instead).\n",
      "  \"metadata\": {},\n",
      "IG_account_recommend_for_facebook_system.ipynb:6: DeprecationWarning: Call to deprecated `__getitem__` (Method will be removed in 4.0.0, use self.wv.__getitem__() instead).\n",
      "  \"source\": [\n"
     ]
    },
    {
     "name": "stdout",
     "output_type": "stream",
     "text": [
      "Pic :  0.19303161583163522\n",
      "------------------------------------------------------------------------------------------------\n",
      "李昱慶 , 13_snowzaicat\n",
      "Prm :  0.7151\n",
      "Pop :  0.23542138161535356\n",
      "Act :  0.4876543209876543\n"
     ]
    },
    {
     "name": "stderr",
     "output_type": "stream",
     "text": [
      "IG_account_recommend_for_facebook_system.ipynb:8: SettingWithCopyWarning: \n",
      "A value is trying to be set on a copy of a slice from a DataFrame\n",
      "\n",
      "See the caveats in the documentation: http://pandas.pydata.org/pandas-docs/stable/user_guide/indexing.html#returning-a-view-versus-a-copy\n",
      "  ]\n"
     ]
    },
    {
     "name": "stdout",
     "output_type": "stream",
     "text": [
      "Pic :  0.0\n",
      "------------------------------------------------------------------------------------------------\n",
      "李昱慶 , 14_jc\n",
      "Prm :  0.7535\n",
      "Pop :  0.27002416553176917\n",
      "Act :  0.36518046709129515\n"
     ]
    },
    {
     "name": "stderr",
     "output_type": "stream",
     "text": [
      "IG_account_recommend_for_facebook_system.ipynb:8: SettingWithCopyWarning: \n",
      "A value is trying to be set on a copy of a slice from a DataFrame\n",
      "\n",
      "See the caveats in the documentation: http://pandas.pydata.org/pandas-docs/stable/user_guide/indexing.html#returning-a-view-versus-a-copy\n",
      "  ]\n",
      "IG_account_recommend_for_facebook_system.ipynb:5: DeprecationWarning: Call to deprecated `__getitem__` (Method will be removed in 4.0.0, use self.wv.__getitem__() instead).\n",
      "  \"metadata\": {},\n",
      "IG_account_recommend_for_facebook_system.ipynb:6: DeprecationWarning: Call to deprecated `__getitem__` (Method will be removed in 4.0.0, use self.wv.__getitem__() instead).\n",
      "  \"source\": [\n"
     ]
    },
    {
     "name": "stdout",
     "output_type": "stream",
     "text": [
      "Pic :  0.1450262896039269\n",
      "------------------------------------------------------------------------------------------------\n",
      "李昱慶 , 15_doctorkowj\n",
      "Prm :  0.7689\n",
      "Pop :  0.21236952626786026\n",
      "Act :  0.2558441558441558\n"
     ]
    },
    {
     "name": "stderr",
     "output_type": "stream",
     "text": [
      "IG_account_recommend_for_facebook_system.ipynb:8: SettingWithCopyWarning: \n",
      "A value is trying to be set on a copy of a slice from a DataFrame\n",
      "\n",
      "See the caveats in the documentation: http://pandas.pydata.org/pandas-docs/stable/user_guide/indexing.html#returning-a-view-versus-a-copy\n",
      "  ]\n",
      "IG_account_recommend_for_facebook_system.ipynb:5: DeprecationWarning: Call to deprecated `__getitem__` (Method will be removed in 4.0.0, use self.wv.__getitem__() instead).\n",
      "  \"metadata\": {},\n",
      "IG_account_recommend_for_facebook_system.ipynb:6: DeprecationWarning: Call to deprecated `__getitem__` (Method will be removed in 4.0.0, use self.wv.__getitem__() instead).\n",
      "  \"source\": [\n"
     ]
    },
    {
     "name": "stdout",
     "output_type": "stream",
     "text": [
      "Pic :  0.14183822511271996\n",
      "------------------------------------------------------------------------------------------------\n",
      "李昱慶 , 16_jaychou\n",
      "Prm :  0.6465\n",
      "Pop :  0.20068965361449348\n",
      "Act :  0.3858267716535433\n"
     ]
    },
    {
     "name": "stderr",
     "output_type": "stream",
     "text": [
      "IG_account_recommend_for_facebook_system.ipynb:8: SettingWithCopyWarning: \n",
      "A value is trying to be set on a copy of a slice from a DataFrame\n",
      "\n",
      "See the caveats in the documentation: http://pandas.pydata.org/pandas-docs/stable/user_guide/indexing.html#returning-a-view-versus-a-copy\n",
      "  ]\n",
      "IG_account_recommend_for_facebook_system.ipynb:5: DeprecationWarning: Call to deprecated `__getitem__` (Method will be removed in 4.0.0, use self.wv.__getitem__() instead).\n",
      "  \"metadata\": {},\n",
      "IG_account_recommend_for_facebook_system.ipynb:6: DeprecationWarning: Call to deprecated `__getitem__` (Method will be removed in 4.0.0, use self.wv.__getitem__() instead).\n",
      "  \"source\": [\n"
     ]
    },
    {
     "name": "stdout",
     "output_type": "stream",
     "text": [
      "Pic :  0.028326801278374412\n",
      "------------------------------------------------------------------------------------------------\n",
      "李昱慶 , 17_sunnygirl800424\n",
      "Prm :  0.8604\n",
      "Pop :  0.20703754591513351\n",
      "Act :  0.32838774597495524\n"
     ]
    },
    {
     "name": "stderr",
     "output_type": "stream",
     "text": [
      "IG_account_recommend_for_facebook_system.ipynb:8: SettingWithCopyWarning: \n",
      "A value is trying to be set on a copy of a slice from a DataFrame\n",
      "\n",
      "See the caveats in the documentation: http://pandas.pydata.org/pandas-docs/stable/user_guide/indexing.html#returning-a-view-versus-a-copy\n",
      "  ]\n",
      "IG_account_recommend_for_facebook_system.ipynb:5: DeprecationWarning: Call to deprecated `__getitem__` (Method will be removed in 4.0.0, use self.wv.__getitem__() instead).\n",
      "  \"metadata\": {},\n",
      "IG_account_recommend_for_facebook_system.ipynb:6: DeprecationWarning: Call to deprecated `__getitem__` (Method will be removed in 4.0.0, use self.wv.__getitem__() instead).\n",
      "  \"source\": [\n"
     ]
    },
    {
     "name": "stdout",
     "output_type": "stream",
     "text": [
      "Pic :  0.17014713991772046\n",
      "------------------------------------------------------------------------------------------------\n",
      "李昱慶 , 18_poptour_mag\n",
      "Prm :  0.8867\n",
      "Pop :  0.2150337204494545\n",
      "Act :  0.28326226012793176\n"
     ]
    },
    {
     "name": "stderr",
     "output_type": "stream",
     "text": [
      "IG_account_recommend_for_facebook_system.ipynb:8: SettingWithCopyWarning: \n",
      "A value is trying to be set on a copy of a slice from a DataFrame\n",
      "\n",
      "See the caveats in the documentation: http://pandas.pydata.org/pandas-docs/stable/user_guide/indexing.html#returning-a-view-versus-a-copy\n",
      "  ]\n",
      "IG_account_recommend_for_facebook_system.ipynb:5: DeprecationWarning: Call to deprecated `__getitem__` (Method will be removed in 4.0.0, use self.wv.__getitem__() instead).\n",
      "  \"metadata\": {},\n",
      "IG_account_recommend_for_facebook_system.ipynb:6: DeprecationWarning: Call to deprecated `__getitem__` (Method will be removed in 4.0.0, use self.wv.__getitem__() instead).\n",
      "  \"source\": [\n"
     ]
    },
    {
     "name": "stdout",
     "output_type": "stream",
     "text": [
      "Pic :  0.1500134671276266\n",
      "------------------------------------------------------------------------------------------------\n",
      "李昱慶 , 19_bpintaiwan\n",
      "Prm :  0.6941\n",
      "Pop :  0.22808477286817067\n",
      "Act :  0.27611490653762216\n"
     ]
    },
    {
     "name": "stderr",
     "output_type": "stream",
     "text": [
      "IG_account_recommend_for_facebook_system.ipynb:8: SettingWithCopyWarning: \n",
      "A value is trying to be set on a copy of a slice from a DataFrame\n",
      "\n",
      "See the caveats in the documentation: http://pandas.pydata.org/pandas-docs/stable/user_guide/indexing.html#returning-a-view-versus-a-copy\n",
      "  ]\n",
      "IG_account_recommend_for_facebook_system.ipynb:5: DeprecationWarning: Call to deprecated `__getitem__` (Method will be removed in 4.0.0, use self.wv.__getitem__() instead).\n",
      "  \"metadata\": {},\n",
      "IG_account_recommend_for_facebook_system.ipynb:6: DeprecationWarning: Call to deprecated `__getitem__` (Method will be removed in 4.0.0, use self.wv.__getitem__() instead).\n",
      "  \"source\": [\n"
     ]
    },
    {
     "name": "stdout",
     "output_type": "stream",
     "text": [
      "Pic :  0.15137690847570245\n",
      "------------------------------------------------------------------------------------------------\n",
      "李昱慶 , 1_arielsvlog_816\n",
      "Prm :  0.8095\n",
      "Pop :  0.2027509305963457\n",
      "Act :  0.2664835164835165\n"
     ]
    },
    {
     "name": "stderr",
     "output_type": "stream",
     "text": [
      "IG_account_recommend_for_facebook_system.ipynb:8: SettingWithCopyWarning: \n",
      "A value is trying to be set on a copy of a slice from a DataFrame\n",
      "\n",
      "See the caveats in the documentation: http://pandas.pydata.org/pandas-docs/stable/user_guide/indexing.html#returning-a-view-versus-a-copy\n",
      "  ]\n",
      "IG_account_recommend_for_facebook_system.ipynb:5: DeprecationWarning: Call to deprecated `__getitem__` (Method will be removed in 4.0.0, use self.wv.__getitem__() instead).\n",
      "  \"metadata\": {},\n",
      "IG_account_recommend_for_facebook_system.ipynb:6: DeprecationWarning: Call to deprecated `__getitem__` (Method will be removed in 4.0.0, use self.wv.__getitem__() instead).\n",
      "  \"source\": [\n"
     ]
    },
    {
     "name": "stdout",
     "output_type": "stream",
     "text": [
      "Pic :  0.2662022669206966\n",
      "------------------------------------------------------------------------------------------------\n",
      "李昱慶 , 20_imma_pon\n",
      "Prm :  0.7471\n",
      "Pop :  0.2198264373385416\n",
      "Act :  0.37568605927552146\n"
     ]
    },
    {
     "name": "stderr",
     "output_type": "stream",
     "text": [
      "IG_account_recommend_for_facebook_system.ipynb:8: SettingWithCopyWarning: \n",
      "A value is trying to be set on a copy of a slice from a DataFrame\n",
      "\n",
      "See the caveats in the documentation: http://pandas.pydata.org/pandas-docs/stable/user_guide/indexing.html#returning-a-view-versus-a-copy\n",
      "  ]\n",
      "IG_account_recommend_for_facebook_system.ipynb:5: DeprecationWarning: Call to deprecated `__getitem__` (Method will be removed in 4.0.0, use self.wv.__getitem__() instead).\n",
      "  \"metadata\": {},\n",
      "IG_account_recommend_for_facebook_system.ipynb:6: DeprecationWarning: Call to deprecated `__getitem__` (Method will be removed in 4.0.0, use self.wv.__getitem__() instead).\n",
      "  \"source\": [\n"
     ]
    },
    {
     "name": "stdout",
     "output_type": "stream",
     "text": [
      "Pic :  0.2240182621912523\n",
      "------------------------------------------------------------------------------------------------\n",
      "李昱慶 , 2_dentist_easoncheng\n",
      "Prm :  0.8733\n",
      "Pop :  0.21766962686306082\n",
      "Act :  0.35341974627688916\n"
     ]
    },
    {
     "name": "stderr",
     "output_type": "stream",
     "text": [
      "IG_account_recommend_for_facebook_system.ipynb:8: SettingWithCopyWarning: \n",
      "A value is trying to be set on a copy of a slice from a DataFrame\n",
      "\n",
      "See the caveats in the documentation: http://pandas.pydata.org/pandas-docs/stable/user_guide/indexing.html#returning-a-view-versus-a-copy\n",
      "  ]\n",
      "IG_account_recommend_for_facebook_system.ipynb:5: DeprecationWarning: Call to deprecated `__getitem__` (Method will be removed in 4.0.0, use self.wv.__getitem__() instead).\n",
      "  \"metadata\": {},\n",
      "IG_account_recommend_for_facebook_system.ipynb:6: DeprecationWarning: Call to deprecated `__getitem__` (Method will be removed in 4.0.0, use self.wv.__getitem__() instead).\n",
      "  \"source\": [\n"
     ]
    },
    {
     "name": "stdout",
     "output_type": "stream",
     "text": [
      "Pic :  0.056071672927249565\n",
      "------------------------------------------------------------------------------------------------\n",
      "李昱慶 , 3_yuniko0720\n",
      "Prm :  0.7413\n",
      "Pop :  0.20404974878879453\n",
      "Act :  0.2760683760683761\n"
     ]
    },
    {
     "name": "stderr",
     "output_type": "stream",
     "text": [
      "IG_account_recommend_for_facebook_system.ipynb:8: SettingWithCopyWarning: \n",
      "A value is trying to be set on a copy of a slice from a DataFrame\n",
      "\n",
      "See the caveats in the documentation: http://pandas.pydata.org/pandas-docs/stable/user_guide/indexing.html#returning-a-view-versus-a-copy\n",
      "  ]\n",
      "IG_account_recommend_for_facebook_system.ipynb:5: DeprecationWarning: Call to deprecated `__getitem__` (Method will be removed in 4.0.0, use self.wv.__getitem__() instead).\n",
      "  \"metadata\": {},\n",
      "IG_account_recommend_for_facebook_system.ipynb:6: DeprecationWarning: Call to deprecated `__getitem__` (Method will be removed in 4.0.0, use self.wv.__getitem__() instead).\n",
      "  \"source\": [\n"
     ]
    },
    {
     "name": "stdout",
     "output_type": "stream",
     "text": [
      "Pic :  0.041225461797280746\n",
      "------------------------------------------------------------------------------------------------\n",
      "李昱慶 , 4_rolling\n",
      "Prm :  0.8531\n",
      "Pop :  0.3353037181584724\n",
      "Act :  0.2527386541471049\n"
     ]
    },
    {
     "name": "stderr",
     "output_type": "stream",
     "text": [
      "IG_account_recommend_for_facebook_system.ipynb:8: SettingWithCopyWarning: \n",
      "A value is trying to be set on a copy of a slice from a DataFrame\n",
      "\n",
      "See the caveats in the documentation: http://pandas.pydata.org/pandas-docs/stable/user_guide/indexing.html#returning-a-view-versus-a-copy\n",
      "  ]\n",
      "IG_account_recommend_for_facebook_system.ipynb:5: DeprecationWarning: Call to deprecated `__getitem__` (Method will be removed in 4.0.0, use self.wv.__getitem__() instead).\n",
      "  \"metadata\": {},\n",
      "IG_account_recommend_for_facebook_system.ipynb:6: DeprecationWarning: Call to deprecated `__getitem__` (Method will be removed in 4.0.0, use self.wv.__getitem__() instead).\n",
      "  \"source\": [\n"
     ]
    },
    {
     "name": "stdout",
     "output_type": "stream",
     "text": [
      "Pic :  0.04802349497648803\n",
      "------------------------------------------------------------------------------------------------\n",
      "李昱慶 , 5_melissaxhiker\n",
      "Prm :  0.8651\n",
      "Pop :  0.21958060120506548\n",
      "Act :  0.402046783625731\n"
     ]
    },
    {
     "name": "stderr",
     "output_type": "stream",
     "text": [
      "IG_account_recommend_for_facebook_system.ipynb:8: SettingWithCopyWarning: \n",
      "A value is trying to be set on a copy of a slice from a DataFrame\n",
      "\n",
      "See the caveats in the documentation: http://pandas.pydata.org/pandas-docs/stable/user_guide/indexing.html#returning-a-view-versus-a-copy\n",
      "  ]\n",
      "IG_account_recommend_for_facebook_system.ipynb:5: DeprecationWarning: Call to deprecated `__getitem__` (Method will be removed in 4.0.0, use self.wv.__getitem__() instead).\n",
      "  \"metadata\": {},\n",
      "IG_account_recommend_for_facebook_system.ipynb:6: DeprecationWarning: Call to deprecated `__getitem__` (Method will be removed in 4.0.0, use self.wv.__getitem__() instead).\n",
      "  \"source\": [\n"
     ]
    },
    {
     "name": "stdout",
     "output_type": "stream",
     "text": [
      "Pic :  0.21710152924060822\n",
      "------------------------------------------------------------------------------------------------\n",
      "李昱慶 , 6_cheers_tw\n",
      "Prm :  0.8343\n",
      "Pop :  0.21181961147891526\n",
      "Act :  0.25615474794841736\n"
     ]
    },
    {
     "name": "stderr",
     "output_type": "stream",
     "text": [
      "IG_account_recommend_for_facebook_system.ipynb:8: SettingWithCopyWarning: \n",
      "A value is trying to be set on a copy of a slice from a DataFrame\n",
      "\n",
      "See the caveats in the documentation: http://pandas.pydata.org/pandas-docs/stable/user_guide/indexing.html#returning-a-view-versus-a-copy\n",
      "  ]\n",
      "IG_account_recommend_for_facebook_system.ipynb:5: DeprecationWarning: Call to deprecated `__getitem__` (Method will be removed in 4.0.0, use self.wv.__getitem__() instead).\n",
      "  \"metadata\": {},\n",
      "IG_account_recommend_for_facebook_system.ipynb:6: DeprecationWarning: Call to deprecated `__getitem__` (Method will be removed in 4.0.0, use self.wv.__getitem__() instead).\n",
      "  \"source\": [\n"
     ]
    },
    {
     "name": "stdout",
     "output_type": "stream",
     "text": [
      "Pic :  0.25958984006534924\n",
      "------------------------------------------------------------------------------------------------\n",
      "李昱慶 , 7_rocean___\n",
      "Prm :  0.817\n",
      "Pop :  0.3005624619518958\n",
      "Act :  0.37045169385194476\n"
     ]
    },
    {
     "name": "stderr",
     "output_type": "stream",
     "text": [
      "IG_account_recommend_for_facebook_system.ipynb:8: SettingWithCopyWarning: \n",
      "A value is trying to be set on a copy of a slice from a DataFrame\n",
      "\n",
      "See the caveats in the documentation: http://pandas.pydata.org/pandas-docs/stable/user_guide/indexing.html#returning-a-view-versus-a-copy\n",
      "  ]\n",
      "IG_account_recommend_for_facebook_system.ipynb:5: DeprecationWarning: Call to deprecated `__getitem__` (Method will be removed in 4.0.0, use self.wv.__getitem__() instead).\n",
      "  \"metadata\": {},\n",
      "IG_account_recommend_for_facebook_system.ipynb:6: DeprecationWarning: Call to deprecated `__getitem__` (Method will be removed in 4.0.0, use self.wv.__getitem__() instead).\n",
      "  \"source\": [\n"
     ]
    },
    {
     "name": "stdout",
     "output_type": "stream",
     "text": [
      "Pic :  0.029294276059689848\n",
      "------------------------------------------------------------------------------------------------\n",
      "李昱慶 , 8_cbx\n",
      "Prm :  0.7566\n",
      "Pop :  0.2094708619478959\n",
      "Act :  0.2962662337662338\n"
     ]
    },
    {
     "name": "stderr",
     "output_type": "stream",
     "text": [
      "IG_account_recommend_for_facebook_system.ipynb:8: SettingWithCopyWarning: \n",
      "A value is trying to be set on a copy of a slice from a DataFrame\n",
      "\n",
      "See the caveats in the documentation: http://pandas.pydata.org/pandas-docs/stable/user_guide/indexing.html#returning-a-view-versus-a-copy\n",
      "  ]\n",
      "IG_account_recommend_for_facebook_system.ipynb:5: DeprecationWarning: Call to deprecated `__getitem__` (Method will be removed in 4.0.0, use self.wv.__getitem__() instead).\n",
      "  \"metadata\": {},\n",
      "IG_account_recommend_for_facebook_system.ipynb:6: DeprecationWarning: Call to deprecated `__getitem__` (Method will be removed in 4.0.0, use self.wv.__getitem__() instead).\n",
      "  \"source\": [\n"
     ]
    },
    {
     "name": "stdout",
     "output_type": "stream",
     "text": [
      "Pic :  0.25839426842602814\n",
      "------------------------------------------------------------------------------------------------\n",
      "李昱慶 , 9_populzzang_mag\n",
      "Prm :  0.8073\n",
      "Pop :  0.2403220698293881\n",
      "Act :  0.25190961171228515\n"
     ]
    },
    {
     "name": "stderr",
     "output_type": "stream",
     "text": [
      "IG_account_recommend_for_facebook_system.ipynb:8: SettingWithCopyWarning: \n",
      "A value is trying to be set on a copy of a slice from a DataFrame\n",
      "\n",
      "See the caveats in the documentation: http://pandas.pydata.org/pandas-docs/stable/user_guide/indexing.html#returning-a-view-versus-a-copy\n",
      "  ]\n",
      "IG_account_recommend_for_facebook_system.ipynb:5: DeprecationWarning: Call to deprecated `__getitem__` (Method will be removed in 4.0.0, use self.wv.__getitem__() instead).\n",
      "  \"metadata\": {},\n",
      "IG_account_recommend_for_facebook_system.ipynb:6: DeprecationWarning: Call to deprecated `__getitem__` (Method will be removed in 4.0.0, use self.wv.__getitem__() instead).\n",
      "  \"source\": [\n"
     ]
    },
    {
     "name": "stdout",
     "output_type": "stream",
     "text": [
      "Pic :  0.28945349901914597\n",
      "------------------------------------------------------------------------------------------------\n",
      "楊尚儒 , 10_hana\n",
      "Prm :  0.8757\n",
      "Pop :  0.2378314973800221\n",
      "Act :  0.35774058577405854\n"
     ]
    },
    {
     "name": "stderr",
     "output_type": "stream",
     "text": [
      "IG_account_recommend_for_facebook_system.ipynb:8: SettingWithCopyWarning: \n",
      "A value is trying to be set on a copy of a slice from a DataFrame\n",
      "\n",
      "See the caveats in the documentation: http://pandas.pydata.org/pandas-docs/stable/user_guide/indexing.html#returning-a-view-versus-a-copy\n",
      "  ]\n",
      "IG_account_recommend_for_facebook_system.ipynb:5: DeprecationWarning: Call to deprecated `__getitem__` (Method will be removed in 4.0.0, use self.wv.__getitem__() instead).\n",
      "  \"metadata\": {},\n",
      "IG_account_recommend_for_facebook_system.ipynb:6: DeprecationWarning: Call to deprecated `__getitem__` (Method will be removed in 4.0.0, use self.wv.__getitem__() instead).\n",
      "  \"source\": [\n"
     ]
    },
    {
     "name": "stdout",
     "output_type": "stream",
     "text": [
      "Pic :  0.0194872391946388\n",
      "------------------------------------------------------------------------------------------------\n",
      "楊尚儒 , 11_hsin0126\n",
      "Prm :  0.6503\n",
      "Pop :  0.41003219179580813\n"
     ]
    },
    {
     "name": "stderr",
     "output_type": "stream",
     "text": [
      "IG_account_recommend_for_facebook_system.ipynb:8: SettingWithCopyWarning: \n",
      "A value is trying to be set on a copy of a slice from a DataFrame\n",
      "\n",
      "See the caveats in the documentation: http://pandas.pydata.org/pandas-docs/stable/user_guide/indexing.html#returning-a-view-versus-a-copy\n",
      "  ]\n"
     ]
    },
    {
     "name": "stdout",
     "output_type": "stream",
     "text": [
      "Act :  0.39254686785550985\n"
     ]
    },
    {
     "name": "stderr",
     "output_type": "stream",
     "text": [
      "IG_account_recommend_for_facebook_system.ipynb:5: DeprecationWarning: Call to deprecated `__getitem__` (Method will be removed in 4.0.0, use self.wv.__getitem__() instead).\n",
      "  \"metadata\": {},\n",
      "IG_account_recommend_for_facebook_system.ipynb:6: DeprecationWarning: Call to deprecated `__getitem__` (Method will be removed in 4.0.0, use self.wv.__getitem__() instead).\n",
      "  \"source\": [\n"
     ]
    },
    {
     "name": "stdout",
     "output_type": "stream",
     "text": [
      "Pic :  0.02134854370547879\n",
      "------------------------------------------------------------------------------------------------\n",
      "楊尚儒 , 12_tsaigray2018\n",
      "Prm :  0.6128\n",
      "Pop :  0.20037185441170066\n",
      "Act :  0.25428963623884693\n"
     ]
    },
    {
     "name": "stderr",
     "output_type": "stream",
     "text": [
      "IG_account_recommend_for_facebook_system.ipynb:8: SettingWithCopyWarning: \n",
      "A value is trying to be set on a copy of a slice from a DataFrame\n",
      "\n",
      "See the caveats in the documentation: http://pandas.pydata.org/pandas-docs/stable/user_guide/indexing.html#returning-a-view-versus-a-copy\n",
      "  ]\n",
      "IG_account_recommend_for_facebook_system.ipynb:5: DeprecationWarning: Call to deprecated `__getitem__` (Method will be removed in 4.0.0, use self.wv.__getitem__() instead).\n",
      "  \"metadata\": {},\n",
      "IG_account_recommend_for_facebook_system.ipynb:6: DeprecationWarning: Call to deprecated `__getitem__` (Method will be removed in 4.0.0, use self.wv.__getitem__() instead).\n",
      "  \"source\": [\n"
     ]
    },
    {
     "name": "stdout",
     "output_type": "stream",
     "text": [
      "Pic :  0.010939051707585653\n",
      "------------------------------------------------------------------------------------------------\n",
      "楊尚儒 , 13_snowzaicat\n",
      "Prm :  0.5526\n",
      "Pop :  0.22680615382595995\n",
      "Act :  0.4876543209876543\n"
     ]
    },
    {
     "name": "stderr",
     "output_type": "stream",
     "text": [
      "IG_account_recommend_for_facebook_system.ipynb:8: SettingWithCopyWarning: \n",
      "A value is trying to be set on a copy of a slice from a DataFrame\n",
      "\n",
      "See the caveats in the documentation: http://pandas.pydata.org/pandas-docs/stable/user_guide/indexing.html#returning-a-view-versus-a-copy\n",
      "  ]\n"
     ]
    },
    {
     "name": "stdout",
     "output_type": "stream",
     "text": [
      "Pic :  0.0\n",
      "------------------------------------------------------------------------------------------------\n",
      "楊尚儒 , 14_jc\n",
      "Prm :  0.7767\n",
      "Pop :  0.2905425077475063\n",
      "Act :  0.36518046709129515\n"
     ]
    },
    {
     "name": "stderr",
     "output_type": "stream",
     "text": [
      "IG_account_recommend_for_facebook_system.ipynb:8: SettingWithCopyWarning: \n",
      "A value is trying to be set on a copy of a slice from a DataFrame\n",
      "\n",
      "See the caveats in the documentation: http://pandas.pydata.org/pandas-docs/stable/user_guide/indexing.html#returning-a-view-versus-a-copy\n",
      "  ]\n",
      "IG_account_recommend_for_facebook_system.ipynb:5: DeprecationWarning: Call to deprecated `__getitem__` (Method will be removed in 4.0.0, use self.wv.__getitem__() instead).\n",
      "  \"metadata\": {},\n",
      "IG_account_recommend_for_facebook_system.ipynb:6: DeprecationWarning: Call to deprecated `__getitem__` (Method will be removed in 4.0.0, use self.wv.__getitem__() instead).\n",
      "  \"source\": [\n"
     ]
    },
    {
     "name": "stdout",
     "output_type": "stream",
     "text": [
      "Pic :  0.01596083953267052\n",
      "------------------------------------------------------------------------------------------------\n",
      "楊尚儒 , 15_doctorkowj\n",
      "Prm :  0.6175\n",
      "Pop :  0.21290620585234848\n",
      "Act :  0.2558441558441558\n"
     ]
    },
    {
     "name": "stderr",
     "output_type": "stream",
     "text": [
      "IG_account_recommend_for_facebook_system.ipynb:8: SettingWithCopyWarning: \n",
      "A value is trying to be set on a copy of a slice from a DataFrame\n",
      "\n",
      "See the caveats in the documentation: http://pandas.pydata.org/pandas-docs/stable/user_guide/indexing.html#returning-a-view-versus-a-copy\n",
      "  ]\n",
      "IG_account_recommend_for_facebook_system.ipynb:5: DeprecationWarning: Call to deprecated `__getitem__` (Method will be removed in 4.0.0, use self.wv.__getitem__() instead).\n",
      "  \"metadata\": {},\n",
      "IG_account_recommend_for_facebook_system.ipynb:6: DeprecationWarning: Call to deprecated `__getitem__` (Method will be removed in 4.0.0, use self.wv.__getitem__() instead).\n",
      "  \"source\": [\n"
     ]
    },
    {
     "name": "stdout",
     "output_type": "stream",
     "text": [
      "Pic :  0.008548819982424015\n",
      "------------------------------------------------------------------------------------------------\n",
      "楊尚儒 , 16_jaychou\n",
      "Prm :  0.5174\n",
      "Pop :  0.2008238251223365\n",
      "Act :  0.3858267716535433\n"
     ]
    },
    {
     "name": "stderr",
     "output_type": "stream",
     "text": [
      "IG_account_recommend_for_facebook_system.ipynb:8: SettingWithCopyWarning: \n",
      "A value is trying to be set on a copy of a slice from a DataFrame\n",
      "\n",
      "See the caveats in the documentation: http://pandas.pydata.org/pandas-docs/stable/user_guide/indexing.html#returning-a-view-versus-a-copy\n",
      "  ]\n",
      "IG_account_recommend_for_facebook_system.ipynb:5: DeprecationWarning: Call to deprecated `__getitem__` (Method will be removed in 4.0.0, use self.wv.__getitem__() instead).\n",
      "  \"metadata\": {},\n",
      "IG_account_recommend_for_facebook_system.ipynb:6: DeprecationWarning: Call to deprecated `__getitem__` (Method will be removed in 4.0.0, use self.wv.__getitem__() instead).\n",
      "  \"source\": [\n"
     ]
    },
    {
     "name": "stdout",
     "output_type": "stream",
     "text": [
      "Pic :  0.007983021127680937\n",
      "------------------------------------------------------------------------------------------------\n",
      "楊尚儒 , 17_sunnygirl800424\n",
      "Prm :  0.6516\n",
      "Pop :  0.2080223626447253\n",
      "Act :  0.32838774597495524\n"
     ]
    },
    {
     "name": "stderr",
     "output_type": "stream",
     "text": [
      "IG_account_recommend_for_facebook_system.ipynb:8: SettingWithCopyWarning: \n",
      "A value is trying to be set on a copy of a slice from a DataFrame\n",
      "\n",
      "See the caveats in the documentation: http://pandas.pydata.org/pandas-docs/stable/user_guide/indexing.html#returning-a-view-versus-a-copy\n",
      "  ]\n",
      "IG_account_recommend_for_facebook_system.ipynb:5: DeprecationWarning: Call to deprecated `__getitem__` (Method will be removed in 4.0.0, use self.wv.__getitem__() instead).\n",
      "  \"metadata\": {},\n",
      "IG_account_recommend_for_facebook_system.ipynb:6: DeprecationWarning: Call to deprecated `__getitem__` (Method will be removed in 4.0.0, use self.wv.__getitem__() instead).\n",
      "  \"source\": [\n"
     ]
    },
    {
     "name": "stdout",
     "output_type": "stream",
     "text": [
      "Pic :  0.014223335627114997\n",
      "------------------------------------------------------------------------------------------------\n",
      "楊尚儒 , 18_poptour_mag\n",
      "Prm :  0.7422\n",
      "Pop :  0.21332077095353816\n",
      "Act :  0.28326226012793176\n"
     ]
    },
    {
     "name": "stderr",
     "output_type": "stream",
     "text": [
      "IG_account_recommend_for_facebook_system.ipynb:8: SettingWithCopyWarning: \n",
      "A value is trying to be set on a copy of a slice from a DataFrame\n",
      "\n",
      "See the caveats in the documentation: http://pandas.pydata.org/pandas-docs/stable/user_guide/indexing.html#returning-a-view-versus-a-copy\n",
      "  ]\n",
      "IG_account_recommend_for_facebook_system.ipynb:5: DeprecationWarning: Call to deprecated `__getitem__` (Method will be removed in 4.0.0, use self.wv.__getitem__() instead).\n",
      "  \"metadata\": {},\n",
      "IG_account_recommend_for_facebook_system.ipynb:6: DeprecationWarning: Call to deprecated `__getitem__` (Method will be removed in 4.0.0, use self.wv.__getitem__() instead).\n",
      "  \"source\": [\n"
     ]
    },
    {
     "name": "stdout",
     "output_type": "stream",
     "text": [
      "Pic :  0.024881219999356705\n",
      "------------------------------------------------------------------------------------------------\n",
      "楊尚儒 , 19_bpintaiwan\n",
      "Prm :  0.7395\n",
      "Pop :  0.2261851220552164\n",
      "Act :  0.27611490653762216\n"
     ]
    },
    {
     "name": "stderr",
     "output_type": "stream",
     "text": [
      "IG_account_recommend_for_facebook_system.ipynb:8: SettingWithCopyWarning: \n",
      "A value is trying to be set on a copy of a slice from a DataFrame\n",
      "\n",
      "See the caveats in the documentation: http://pandas.pydata.org/pandas-docs/stable/user_guide/indexing.html#returning-a-view-versus-a-copy\n",
      "  ]\n",
      "IG_account_recommend_for_facebook_system.ipynb:5: DeprecationWarning: Call to deprecated `__getitem__` (Method will be removed in 4.0.0, use self.wv.__getitem__() instead).\n",
      "  \"metadata\": {},\n",
      "IG_account_recommend_for_facebook_system.ipynb:6: DeprecationWarning: Call to deprecated `__getitem__` (Method will be removed in 4.0.0, use self.wv.__getitem__() instead).\n",
      "  \"source\": [\n"
     ]
    },
    {
     "name": "stdout",
     "output_type": "stream",
     "text": [
      "Pic :  0.04469179725035643\n",
      "------------------------------------------------------------------------------------------------\n",
      "楊尚儒 , 1_arielsvlog_816\n",
      "Prm :  0.6804\n",
      "Pop :  0.20430586991693556\n",
      "Act :  0.2664835164835165\n"
     ]
    },
    {
     "name": "stderr",
     "output_type": "stream",
     "text": [
      "IG_account_recommend_for_facebook_system.ipynb:8: SettingWithCopyWarning: \n",
      "A value is trying to be set on a copy of a slice from a DataFrame\n",
      "\n",
      "See the caveats in the documentation: http://pandas.pydata.org/pandas-docs/stable/user_guide/indexing.html#returning-a-view-versus-a-copy\n",
      "  ]\n",
      "IG_account_recommend_for_facebook_system.ipynb:5: DeprecationWarning: Call to deprecated `__getitem__` (Method will be removed in 4.0.0, use self.wv.__getitem__() instead).\n",
      "  \"metadata\": {},\n",
      "IG_account_recommend_for_facebook_system.ipynb:6: DeprecationWarning: Call to deprecated `__getitem__` (Method will be removed in 4.0.0, use self.wv.__getitem__() instead).\n",
      "  \"source\": [\n"
     ]
    },
    {
     "name": "stdout",
     "output_type": "stream",
     "text": [
      "Pic :  0.010533054758395468\n",
      "------------------------------------------------------------------------------------------------\n",
      "楊尚儒 , 20_imma_pon\n",
      "Prm :  0.6324\n",
      "Pop :  0.224218460283874\n",
      "Act :  0.37568605927552146\n"
     ]
    },
    {
     "name": "stderr",
     "output_type": "stream",
     "text": [
      "IG_account_recommend_for_facebook_system.ipynb:8: SettingWithCopyWarning: \n",
      "A value is trying to be set on a copy of a slice from a DataFrame\n",
      "\n",
      "See the caveats in the documentation: http://pandas.pydata.org/pandas-docs/stable/user_guide/indexing.html#returning-a-view-versus-a-copy\n",
      "  ]\n",
      "IG_account_recommend_for_facebook_system.ipynb:5: DeprecationWarning: Call to deprecated `__getitem__` (Method will be removed in 4.0.0, use self.wv.__getitem__() instead).\n",
      "  \"metadata\": {},\n",
      "IG_account_recommend_for_facebook_system.ipynb:6: DeprecationWarning: Call to deprecated `__getitem__` (Method will be removed in 4.0.0, use self.wv.__getitem__() instead).\n",
      "  \"source\": [\n"
     ]
    },
    {
     "name": "stdout",
     "output_type": "stream",
     "text": [
      "Pic :  0.02968307641836313\n",
      "------------------------------------------------------------------------------------------------\n",
      "楊尚儒 , 2_dentist_easoncheng\n",
      "Prm :  0.6975\n",
      "Pop :  0.21384992660039398\n",
      "Act :  0.35341974627688916\n"
     ]
    },
    {
     "name": "stderr",
     "output_type": "stream",
     "text": [
      "IG_account_recommend_for_facebook_system.ipynb:8: SettingWithCopyWarning: \n",
      "A value is trying to be set on a copy of a slice from a DataFrame\n",
      "\n",
      "See the caveats in the documentation: http://pandas.pydata.org/pandas-docs/stable/user_guide/indexing.html#returning-a-view-versus-a-copy\n",
      "  ]\n",
      "IG_account_recommend_for_facebook_system.ipynb:5: DeprecationWarning: Call to deprecated `__getitem__` (Method will be removed in 4.0.0, use self.wv.__getitem__() instead).\n",
      "  \"metadata\": {},\n",
      "IG_account_recommend_for_facebook_system.ipynb:6: DeprecationWarning: Call to deprecated `__getitem__` (Method will be removed in 4.0.0, use self.wv.__getitem__() instead).\n",
      "  \"source\": [\n"
     ]
    },
    {
     "name": "stdout",
     "output_type": "stream",
     "text": [
      "Pic :  0.022559698089025915\n",
      "------------------------------------------------------------------------------------------------\n",
      "楊尚儒 , 3_yuniko0720\n",
      "Prm :  0.6243\n",
      "Pop :  0.20484361226794484\n",
      "Act :  0.2760683760683761\n"
     ]
    },
    {
     "name": "stderr",
     "output_type": "stream",
     "text": [
      "IG_account_recommend_for_facebook_system.ipynb:8: SettingWithCopyWarning: \n",
      "A value is trying to be set on a copy of a slice from a DataFrame\n",
      "\n",
      "See the caveats in the documentation: http://pandas.pydata.org/pandas-docs/stable/user_guide/indexing.html#returning-a-view-versus-a-copy\n",
      "  ]\n",
      "IG_account_recommend_for_facebook_system.ipynb:5: DeprecationWarning: Call to deprecated `__getitem__` (Method will be removed in 4.0.0, use self.wv.__getitem__() instead).\n",
      "  \"metadata\": {},\n",
      "IG_account_recommend_for_facebook_system.ipynb:6: DeprecationWarning: Call to deprecated `__getitem__` (Method will be removed in 4.0.0, use self.wv.__getitem__() instead).\n",
      "  \"source\": [\n"
     ]
    },
    {
     "name": "stdout",
     "output_type": "stream",
     "text": [
      "Pic :  0.012201769141162314\n",
      "------------------------------------------------------------------------------------------------\n",
      "楊尚儒 , 4_rolling\n",
      "Prm :  0.8041\n",
      "Pop :  0.3239729214973595\n",
      "Act :  0.2527386541471049\n"
     ]
    },
    {
     "name": "stderr",
     "output_type": "stream",
     "text": [
      "IG_account_recommend_for_facebook_system.ipynb:8: SettingWithCopyWarning: \n",
      "A value is trying to be set on a copy of a slice from a DataFrame\n",
      "\n",
      "See the caveats in the documentation: http://pandas.pydata.org/pandas-docs/stable/user_guide/indexing.html#returning-a-view-versus-a-copy\n",
      "  ]\n",
      "IG_account_recommend_for_facebook_system.ipynb:5: DeprecationWarning: Call to deprecated `__getitem__` (Method will be removed in 4.0.0, use self.wv.__getitem__() instead).\n",
      "  \"metadata\": {},\n",
      "IG_account_recommend_for_facebook_system.ipynb:6: DeprecationWarning: Call to deprecated `__getitem__` (Method will be removed in 4.0.0, use self.wv.__getitem__() instead).\n",
      "  \"source\": [\n"
     ]
    },
    {
     "name": "stdout",
     "output_type": "stream",
     "text": [
      "Pic :  0.026077688016273356\n",
      "------------------------------------------------------------------------------------------------\n",
      "楊尚儒 , 5_melissaxhiker\n",
      "Prm :  0.738\n",
      "Pop :  0.2081297592136236\n",
      "Act :  0.402046783625731\n"
     ]
    },
    {
     "name": "stderr",
     "output_type": "stream",
     "text": [
      "IG_account_recommend_for_facebook_system.ipynb:8: SettingWithCopyWarning: \n",
      "A value is trying to be set on a copy of a slice from a DataFrame\n",
      "\n",
      "See the caveats in the documentation: http://pandas.pydata.org/pandas-docs/stable/user_guide/indexing.html#returning-a-view-versus-a-copy\n",
      "  ]\n",
      "IG_account_recommend_for_facebook_system.ipynb:5: DeprecationWarning: Call to deprecated `__getitem__` (Method will be removed in 4.0.0, use self.wv.__getitem__() instead).\n",
      "  \"metadata\": {},\n",
      "IG_account_recommend_for_facebook_system.ipynb:6: DeprecationWarning: Call to deprecated `__getitem__` (Method will be removed in 4.0.0, use self.wv.__getitem__() instead).\n",
      "  \"source\": [\n"
     ]
    },
    {
     "name": "stdout",
     "output_type": "stream",
     "text": [
      "Pic :  0.030361411268593836\n",
      "------------------------------------------------------------------------------------------------\n",
      "楊尚儒 , 6_cheers_tw\n",
      "Prm :  0.7347\n",
      "Pop :  0.21575989017257302\n",
      "Act :  0.25615474794841736\n"
     ]
    },
    {
     "name": "stderr",
     "output_type": "stream",
     "text": [
      "IG_account_recommend_for_facebook_system.ipynb:8: SettingWithCopyWarning: \n",
      "A value is trying to be set on a copy of a slice from a DataFrame\n",
      "\n",
      "See the caveats in the documentation: http://pandas.pydata.org/pandas-docs/stable/user_guide/indexing.html#returning-a-view-versus-a-copy\n",
      "  ]\n",
      "IG_account_recommend_for_facebook_system.ipynb:5: DeprecationWarning: Call to deprecated `__getitem__` (Method will be removed in 4.0.0, use self.wv.__getitem__() instead).\n",
      "  \"metadata\": {},\n",
      "IG_account_recommend_for_facebook_system.ipynb:6: DeprecationWarning: Call to deprecated `__getitem__` (Method will be removed in 4.0.0, use self.wv.__getitem__() instead).\n",
      "  \"source\": [\n"
     ]
    },
    {
     "name": "stdout",
     "output_type": "stream",
     "text": [
      "Pic :  0.0584429396050317\n",
      "------------------------------------------------------------------------------------------------\n",
      "楊尚儒 , 7_rocean___\n",
      "Prm :  0.692\n",
      "Pop :  0.32710547474882423\n",
      "Act :  0.37045169385194476\n"
     ]
    },
    {
     "name": "stderr",
     "output_type": "stream",
     "text": [
      "IG_account_recommend_for_facebook_system.ipynb:8: SettingWithCopyWarning: \n",
      "A value is trying to be set on a copy of a slice from a DataFrame\n",
      "\n",
      "See the caveats in the documentation: http://pandas.pydata.org/pandas-docs/stable/user_guide/indexing.html#returning-a-view-versus-a-copy\n",
      "  ]\n",
      "IG_account_recommend_for_facebook_system.ipynb:5: DeprecationWarning: Call to deprecated `__getitem__` (Method will be removed in 4.0.0, use self.wv.__getitem__() instead).\n",
      "  \"metadata\": {},\n",
      "IG_account_recommend_for_facebook_system.ipynb:6: DeprecationWarning: Call to deprecated `__getitem__` (Method will be removed in 4.0.0, use self.wv.__getitem__() instead).\n",
      "  \"source\": [\n"
     ]
    },
    {
     "name": "stdout",
     "output_type": "stream",
     "text": [
      "Pic :  0.008098337054252624\n",
      "------------------------------------------------------------------------------------------------\n",
      "楊尚儒 , 8_cbx\n",
      "Prm :  0.7088\n",
      "Pop :  0.21001130143114377\n",
      "Act :  0.2962662337662338\n"
     ]
    },
    {
     "name": "stderr",
     "output_type": "stream",
     "text": [
      "IG_account_recommend_for_facebook_system.ipynb:8: SettingWithCopyWarning: \n",
      "A value is trying to be set on a copy of a slice from a DataFrame\n",
      "\n",
      "See the caveats in the documentation: http://pandas.pydata.org/pandas-docs/stable/user_guide/indexing.html#returning-a-view-versus-a-copy\n",
      "  ]\n",
      "IG_account_recommend_for_facebook_system.ipynb:5: DeprecationWarning: Call to deprecated `__getitem__` (Method will be removed in 4.0.0, use self.wv.__getitem__() instead).\n",
      "  \"metadata\": {},\n",
      "IG_account_recommend_for_facebook_system.ipynb:6: DeprecationWarning: Call to deprecated `__getitem__` (Method will be removed in 4.0.0, use self.wv.__getitem__() instead).\n",
      "  \"source\": [\n"
     ]
    },
    {
     "name": "stdout",
     "output_type": "stream",
     "text": [
      "Pic :  0.030486952513456345\n",
      "------------------------------------------------------------------------------------------------\n",
      "楊尚儒 , 9_populzzang_mag\n",
      "Prm :  0.7159\n",
      "Pop :  0.23137131126308982\n",
      "Act :  0.25190961171228515\n"
     ]
    },
    {
     "name": "stderr",
     "output_type": "stream",
     "text": [
      "IG_account_recommend_for_facebook_system.ipynb:8: SettingWithCopyWarning: \n",
      "A value is trying to be set on a copy of a slice from a DataFrame\n",
      "\n",
      "See the caveats in the documentation: http://pandas.pydata.org/pandas-docs/stable/user_guide/indexing.html#returning-a-view-versus-a-copy\n",
      "  ]\n",
      "IG_account_recommend_for_facebook_system.ipynb:5: DeprecationWarning: Call to deprecated `__getitem__` (Method will be removed in 4.0.0, use self.wv.__getitem__() instead).\n",
      "  \"metadata\": {},\n",
      "IG_account_recommend_for_facebook_system.ipynb:6: DeprecationWarning: Call to deprecated `__getitem__` (Method will be removed in 4.0.0, use self.wv.__getitem__() instead).\n",
      "  \"source\": [\n"
     ]
    },
    {
     "name": "stdout",
     "output_type": "stream",
     "text": [
      "Pic :  0.023563781103422474\n",
      "------------------------------------------------------------------------------------------------\n",
      "楊雅如 , 10_hana\n",
      "Prm :  0.9016\n",
      "Pop :  0.2378314973800221\n",
      "Act :  0.35774058577405854\n"
     ]
    },
    {
     "name": "stderr",
     "output_type": "stream",
     "text": [
      "IG_account_recommend_for_facebook_system.ipynb:8: SettingWithCopyWarning: \n",
      "A value is trying to be set on a copy of a slice from a DataFrame\n",
      "\n",
      "See the caveats in the documentation: http://pandas.pydata.org/pandas-docs/stable/user_guide/indexing.html#returning-a-view-versus-a-copy\n",
      "  ]\n",
      "IG_account_recommend_for_facebook_system.ipynb:5: DeprecationWarning: Call to deprecated `__getitem__` (Method will be removed in 4.0.0, use self.wv.__getitem__() instead).\n",
      "  \"metadata\": {},\n",
      "IG_account_recommend_for_facebook_system.ipynb:6: DeprecationWarning: Call to deprecated `__getitem__` (Method will be removed in 4.0.0, use self.wv.__getitem__() instead).\n",
      "  \"source\": [\n"
     ]
    },
    {
     "name": "stdout",
     "output_type": "stream",
     "text": [
      "Pic :  0.12592678381638092\n",
      "------------------------------------------------------------------------------------------------\n",
      "楊雅如 , 11_hsin0126\n",
      "Prm :  0.8132\n",
      "Pop :  0.41003219179580813\n",
      "Act :  0.39254686785550985\n"
     ]
    },
    {
     "name": "stderr",
     "output_type": "stream",
     "text": [
      "IG_account_recommend_for_facebook_system.ipynb:8: SettingWithCopyWarning: \n",
      "A value is trying to be set on a copy of a slice from a DataFrame\n",
      "\n",
      "See the caveats in the documentation: http://pandas.pydata.org/pandas-docs/stable/user_guide/indexing.html#returning-a-view-versus-a-copy\n",
      "  ]\n",
      "IG_account_recommend_for_facebook_system.ipynb:5: DeprecationWarning: Call to deprecated `__getitem__` (Method will be removed in 4.0.0, use self.wv.__getitem__() instead).\n",
      "  \"metadata\": {},\n",
      "IG_account_recommend_for_facebook_system.ipynb:6: DeprecationWarning: Call to deprecated `__getitem__` (Method will be removed in 4.0.0, use self.wv.__getitem__() instead).\n",
      "  \"source\": [\n"
     ]
    },
    {
     "name": "stdout",
     "output_type": "stream",
     "text": [
      "Pic :  0.21885313766617928\n",
      "------------------------------------------------------------------------------------------------\n",
      "楊雅如 , 12_tsaigray2018\n",
      "Prm :  0.7993\n",
      "Pop :  0.20037185441170066\n",
      "Act :  0.25428963623884693\n"
     ]
    },
    {
     "name": "stderr",
     "output_type": "stream",
     "text": [
      "IG_account_recommend_for_facebook_system.ipynb:8: SettingWithCopyWarning: \n",
      "A value is trying to be set on a copy of a slice from a DataFrame\n",
      "\n",
      "See the caveats in the documentation: http://pandas.pydata.org/pandas-docs/stable/user_guide/indexing.html#returning-a-view-versus-a-copy\n",
      "  ]\n",
      "IG_account_recommend_for_facebook_system.ipynb:5: DeprecationWarning: Call to deprecated `__getitem__` (Method will be removed in 4.0.0, use self.wv.__getitem__() instead).\n",
      "  \"metadata\": {},\n",
      "IG_account_recommend_for_facebook_system.ipynb:6: DeprecationWarning: Call to deprecated `__getitem__` (Method will be removed in 4.0.0, use self.wv.__getitem__() instead).\n",
      "  \"source\": [\n"
     ]
    },
    {
     "name": "stdout",
     "output_type": "stream",
     "text": [
      "Pic :  0.08841186133810343\n",
      "------------------------------------------------------------------------------------------------\n",
      "楊雅如 , 13_snowzaicat\n",
      "Prm :  0.7561\n",
      "Pop :  0.22680615382595995\n",
      "Act :  0.4876543209876543\n"
     ]
    },
    {
     "name": "stderr",
     "output_type": "stream",
     "text": [
      "IG_account_recommend_for_facebook_system.ipynb:8: SettingWithCopyWarning: \n",
      "A value is trying to be set on a copy of a slice from a DataFrame\n",
      "\n",
      "See the caveats in the documentation: http://pandas.pydata.org/pandas-docs/stable/user_guide/indexing.html#returning-a-view-versus-a-copy\n",
      "  ]\n"
     ]
    },
    {
     "name": "stdout",
     "output_type": "stream",
     "text": [
      "Pic :  0.0\n",
      "------------------------------------------------------------------------------------------------\n",
      "楊雅如 , 14_jc\n",
      "Prm :  0.8674\n",
      "Pop :  0.2905425077475063\n",
      "Act :  0.36518046709129515\n"
     ]
    },
    {
     "name": "stderr",
     "output_type": "stream",
     "text": [
      "IG_account_recommend_for_facebook_system.ipynb:8: SettingWithCopyWarning: \n",
      "A value is trying to be set on a copy of a slice from a DataFrame\n",
      "\n",
      "See the caveats in the documentation: http://pandas.pydata.org/pandas-docs/stable/user_guide/indexing.html#returning-a-view-versus-a-copy\n",
      "  ]\n",
      "IG_account_recommend_for_facebook_system.ipynb:5: DeprecationWarning: Call to deprecated `__getitem__` (Method will be removed in 4.0.0, use self.wv.__getitem__() instead).\n",
      "  \"metadata\": {},\n",
      "IG_account_recommend_for_facebook_system.ipynb:6: DeprecationWarning: Call to deprecated `__getitem__` (Method will be removed in 4.0.0, use self.wv.__getitem__() instead).\n",
      "  \"source\": [\n"
     ]
    },
    {
     "name": "stdout",
     "output_type": "stream",
     "text": [
      "Pic :  0.0866073996626905\n",
      "------------------------------------------------------------------------------------------------\n",
      "楊雅如 , 15_doctorkowj\n",
      "Prm :  0.7903\n",
      "Pop :  0.21290620585234848\n",
      "Act :  0.2558441558441558\n"
     ]
    },
    {
     "name": "stderr",
     "output_type": "stream",
     "text": [
      "IG_account_recommend_for_facebook_system.ipynb:8: SettingWithCopyWarning: \n",
      "A value is trying to be set on a copy of a slice from a DataFrame\n",
      "\n",
      "See the caveats in the documentation: http://pandas.pydata.org/pandas-docs/stable/user_guide/indexing.html#returning-a-view-versus-a-copy\n",
      "  ]\n",
      "IG_account_recommend_for_facebook_system.ipynb:5: DeprecationWarning: Call to deprecated `__getitem__` (Method will be removed in 4.0.0, use self.wv.__getitem__() instead).\n",
      "  \"metadata\": {},\n",
      "IG_account_recommend_for_facebook_system.ipynb:6: DeprecationWarning: Call to deprecated `__getitem__` (Method will be removed in 4.0.0, use self.wv.__getitem__() instead).\n",
      "  \"source\": [\n"
     ]
    },
    {
     "name": "stdout",
     "output_type": "stream",
     "text": [
      "Pic :  0.13256491386763206\n",
      "------------------------------------------------------------------------------------------------\n",
      "楊雅如 , 16_jaychou\n",
      "Prm :  0.6821\n",
      "Pop :  0.2008238251223365\n",
      "Act :  0.3858267716535433\n"
     ]
    },
    {
     "name": "stderr",
     "output_type": "stream",
     "text": [
      "IG_account_recommend_for_facebook_system.ipynb:8: SettingWithCopyWarning: \n",
      "A value is trying to be set on a copy of a slice from a DataFrame\n",
      "\n",
      "See the caveats in the documentation: http://pandas.pydata.org/pandas-docs/stable/user_guide/indexing.html#returning-a-view-versus-a-copy\n",
      "  ]\n",
      "IG_account_recommend_for_facebook_system.ipynb:5: DeprecationWarning: Call to deprecated `__getitem__` (Method will be removed in 4.0.0, use self.wv.__getitem__() instead).\n",
      "  \"metadata\": {},\n",
      "IG_account_recommend_for_facebook_system.ipynb:6: DeprecationWarning: Call to deprecated `__getitem__` (Method will be removed in 4.0.0, use self.wv.__getitem__() instead).\n",
      "  \"source\": [\n"
     ]
    },
    {
     "name": "stdout",
     "output_type": "stream",
     "text": [
      "Pic :  0.03343659406527877\n",
      "------------------------------------------------------------------------------------------------\n",
      "楊雅如 , 17_sunnygirl800424\n",
      "Prm :  0.7521\n",
      "Pop :  0.2080223626447253\n",
      "Act :  0.32838774597495524\n"
     ]
    },
    {
     "name": "stderr",
     "output_type": "stream",
     "text": [
      "IG_account_recommend_for_facebook_system.ipynb:8: SettingWithCopyWarning: \n",
      "A value is trying to be set on a copy of a slice from a DataFrame\n",
      "\n",
      "See the caveats in the documentation: http://pandas.pydata.org/pandas-docs/stable/user_guide/indexing.html#returning-a-view-versus-a-copy\n",
      "  ]\n",
      "IG_account_recommend_for_facebook_system.ipynb:5: DeprecationWarning: Call to deprecated `__getitem__` (Method will be removed in 4.0.0, use self.wv.__getitem__() instead).\n",
      "  \"metadata\": {},\n",
      "IG_account_recommend_for_facebook_system.ipynb:6: DeprecationWarning: Call to deprecated `__getitem__` (Method will be removed in 4.0.0, use self.wv.__getitem__() instead).\n",
      "  \"source\": [\n"
     ]
    },
    {
     "name": "stdout",
     "output_type": "stream",
     "text": [
      "Pic :  0.1121058074652024\n",
      "------------------------------------------------------------------------------------------------\n",
      "楊雅如 , 18_poptour_mag\n",
      "Prm :  0.7918\n",
      "Pop :  0.21332077095353816\n",
      "Act :  0.28326226012793176\n"
     ]
    },
    {
     "name": "stderr",
     "output_type": "stream",
     "text": [
      "IG_account_recommend_for_facebook_system.ipynb:8: SettingWithCopyWarning: \n",
      "A value is trying to be set on a copy of a slice from a DataFrame\n",
      "\n",
      "See the caveats in the documentation: http://pandas.pydata.org/pandas-docs/stable/user_guide/indexing.html#returning-a-view-versus-a-copy\n",
      "  ]\n",
      "IG_account_recommend_for_facebook_system.ipynb:5: DeprecationWarning: Call to deprecated `__getitem__` (Method will be removed in 4.0.0, use self.wv.__getitem__() instead).\n",
      "  \"metadata\": {},\n",
      "IG_account_recommend_for_facebook_system.ipynb:6: DeprecationWarning: Call to deprecated `__getitem__` (Method will be removed in 4.0.0, use self.wv.__getitem__() instead).\n",
      "  \"source\": [\n"
     ]
    },
    {
     "name": "stdout",
     "output_type": "stream",
     "text": [
      "Pic :  0.13071105849336495\n",
      "------------------------------------------------------------------------------------------------\n",
      "楊雅如 , 19_bpintaiwan\n",
      "Prm :  0.8165\n",
      "Pop :  0.2261851220552164\n",
      "Act :  0.27611490653762216\n"
     ]
    },
    {
     "name": "stderr",
     "output_type": "stream",
     "text": [
      "IG_account_recommend_for_facebook_system.ipynb:8: SettingWithCopyWarning: \n",
      "A value is trying to be set on a copy of a slice from a DataFrame\n",
      "\n",
      "See the caveats in the documentation: http://pandas.pydata.org/pandas-docs/stable/user_guide/indexing.html#returning-a-view-versus-a-copy\n",
      "  ]\n",
      "IG_account_recommend_for_facebook_system.ipynb:5: DeprecationWarning: Call to deprecated `__getitem__` (Method will be removed in 4.0.0, use self.wv.__getitem__() instead).\n",
      "  \"metadata\": {},\n",
      "IG_account_recommend_for_facebook_system.ipynb:6: DeprecationWarning: Call to deprecated `__getitem__` (Method will be removed in 4.0.0, use self.wv.__getitem__() instead).\n",
      "  \"source\": [\n"
     ]
    },
    {
     "name": "stdout",
     "output_type": "stream",
     "text": [
      "Pic :  0.18335266726521346\n",
      "------------------------------------------------------------------------------------------------\n",
      "楊雅如 , 1_arielsvlog_816\n",
      "Prm :  0.8418\n",
      "Pop :  0.20430586991693556\n",
      "Act :  0.2664835164835165\n"
     ]
    },
    {
     "name": "stderr",
     "output_type": "stream",
     "text": [
      "IG_account_recommend_for_facebook_system.ipynb:8: SettingWithCopyWarning: \n",
      "A value is trying to be set on a copy of a slice from a DataFrame\n",
      "\n",
      "See the caveats in the documentation: http://pandas.pydata.org/pandas-docs/stable/user_guide/indexing.html#returning-a-view-versus-a-copy\n",
      "  ]\n",
      "IG_account_recommend_for_facebook_system.ipynb:5: DeprecationWarning: Call to deprecated `__getitem__` (Method will be removed in 4.0.0, use self.wv.__getitem__() instead).\n",
      "  \"metadata\": {},\n",
      "IG_account_recommend_for_facebook_system.ipynb:6: DeprecationWarning: Call to deprecated `__getitem__` (Method will be removed in 4.0.0, use self.wv.__getitem__() instead).\n",
      "  \"source\": [\n"
     ]
    },
    {
     "name": "stdout",
     "output_type": "stream",
     "text": [
      "Pic :  0.17819701760475123\n",
      "------------------------------------------------------------------------------------------------\n",
      "楊雅如 , 20_imma_pon\n",
      "Prm :  0.7159\n",
      "Pop :  0.224218460283874\n",
      "Act :  0.37568605927552146\n"
     ]
    },
    {
     "name": "stderr",
     "output_type": "stream",
     "text": [
      "IG_account_recommend_for_facebook_system.ipynb:8: SettingWithCopyWarning: \n",
      "A value is trying to be set on a copy of a slice from a DataFrame\n",
      "\n",
      "See the caveats in the documentation: http://pandas.pydata.org/pandas-docs/stable/user_guide/indexing.html#returning-a-view-versus-a-copy\n",
      "  ]\n",
      "IG_account_recommend_for_facebook_system.ipynb:5: DeprecationWarning: Call to deprecated `__getitem__` (Method will be removed in 4.0.0, use self.wv.__getitem__() instead).\n",
      "  \"metadata\": {},\n",
      "IG_account_recommend_for_facebook_system.ipynb:6: DeprecationWarning: Call to deprecated `__getitem__` (Method will be removed in 4.0.0, use self.wv.__getitem__() instead).\n",
      "  \"source\": [\n"
     ]
    },
    {
     "name": "stdout",
     "output_type": "stream",
     "text": [
      "Pic :  0.1550635679338414\n",
      "------------------------------------------------------------------------------------------------\n",
      "楊雅如 , 2_dentist_easoncheng\n",
      "Prm :  0.7715\n",
      "Pop :  0.21384992660039398\n",
      "Act :  0.35341974627688916\n"
     ]
    },
    {
     "name": "stderr",
     "output_type": "stream",
     "text": [
      "IG_account_recommend_for_facebook_system.ipynb:8: SettingWithCopyWarning: \n",
      "A value is trying to be set on a copy of a slice from a DataFrame\n",
      "\n",
      "See the caveats in the documentation: http://pandas.pydata.org/pandas-docs/stable/user_guide/indexing.html#returning-a-view-versus-a-copy\n",
      "  ]\n",
      "IG_account_recommend_for_facebook_system.ipynb:5: DeprecationWarning: Call to deprecated `__getitem__` (Method will be removed in 4.0.0, use self.wv.__getitem__() instead).\n",
      "  \"metadata\": {},\n",
      "IG_account_recommend_for_facebook_system.ipynb:6: DeprecationWarning: Call to deprecated `__getitem__` (Method will be removed in 4.0.0, use self.wv.__getitem__() instead).\n",
      "  \"source\": [\n"
     ]
    },
    {
     "name": "stdout",
     "output_type": "stream",
     "text": [
      "Pic :  0.07330458762589842\n",
      "------------------------------------------------------------------------------------------------\n",
      "楊雅如 , 3_yuniko0720\n",
      "Prm :  0.7919\n",
      "Pop :  0.20484361226794484\n",
      "Act :  0.2760683760683761\n"
     ]
    },
    {
     "name": "stderr",
     "output_type": "stream",
     "text": [
      "IG_account_recommend_for_facebook_system.ipynb:8: SettingWithCopyWarning: \n",
      "A value is trying to be set on a copy of a slice from a DataFrame\n",
      "\n",
      "See the caveats in the documentation: http://pandas.pydata.org/pandas-docs/stable/user_guide/indexing.html#returning-a-view-versus-a-copy\n",
      "  ]\n",
      "IG_account_recommend_for_facebook_system.ipynb:5: DeprecationWarning: Call to deprecated `__getitem__` (Method will be removed in 4.0.0, use self.wv.__getitem__() instead).\n",
      "  \"metadata\": {},\n",
      "IG_account_recommend_for_facebook_system.ipynb:6: DeprecationWarning: Call to deprecated `__getitem__` (Method will be removed in 4.0.0, use self.wv.__getitem__() instead).\n",
      "  \"source\": [\n"
     ]
    },
    {
     "name": "stdout",
     "output_type": "stream",
     "text": [
      "Pic :  0.03142863811879623\n",
      "------------------------------------------------------------------------------------------------\n",
      "楊雅如 , 4_rolling\n",
      "Prm :  0.8192\n",
      "Pop :  0.3239729214973595\n",
      "Act :  0.2527386541471049\n"
     ]
    },
    {
     "name": "stderr",
     "output_type": "stream",
     "text": [
      "IG_account_recommend_for_facebook_system.ipynb:8: SettingWithCopyWarning: \n",
      "A value is trying to be set on a copy of a slice from a DataFrame\n",
      "\n",
      "See the caveats in the documentation: http://pandas.pydata.org/pandas-docs/stable/user_guide/indexing.html#returning-a-view-versus-a-copy\n",
      "  ]\n",
      "IG_account_recommend_for_facebook_system.ipynb:5: DeprecationWarning: Call to deprecated `__getitem__` (Method will be removed in 4.0.0, use self.wv.__getitem__() instead).\n",
      "  \"metadata\": {},\n",
      "IG_account_recommend_for_facebook_system.ipynb:6: DeprecationWarning: Call to deprecated `__getitem__` (Method will be removed in 4.0.0, use self.wv.__getitem__() instead).\n",
      "  \"source\": [\n"
     ]
    },
    {
     "name": "stdout",
     "output_type": "stream",
     "text": [
      "Pic :  0.10752896681703904\n",
      "------------------------------------------------------------------------------------------------\n",
      "楊雅如 , 5_melissaxhiker\n",
      "Prm :  0.7936\n",
      "Pop :  0.2081297592136236\n",
      "Act :  0.402046783625731\n"
     ]
    },
    {
     "name": "stderr",
     "output_type": "stream",
     "text": [
      "IG_account_recommend_for_facebook_system.ipynb:8: SettingWithCopyWarning: \n",
      "A value is trying to be set on a copy of a slice from a DataFrame\n",
      "\n",
      "See the caveats in the documentation: http://pandas.pydata.org/pandas-docs/stable/user_guide/indexing.html#returning-a-view-versus-a-copy\n",
      "  ]\n",
      "IG_account_recommend_for_facebook_system.ipynb:5: DeprecationWarning: Call to deprecated `__getitem__` (Method will be removed in 4.0.0, use self.wv.__getitem__() instead).\n",
      "  \"metadata\": {},\n",
      "IG_account_recommend_for_facebook_system.ipynb:6: DeprecationWarning: Call to deprecated `__getitem__` (Method will be removed in 4.0.0, use self.wv.__getitem__() instead).\n",
      "  \"source\": [\n"
     ]
    },
    {
     "name": "stdout",
     "output_type": "stream",
     "text": [
      "Pic :  0.20205477089239438\n",
      "------------------------------------------------------------------------------------------------\n",
      "楊雅如 , 6_cheers_tw\n",
      "Prm :  0.7971\n",
      "Pop :  0.21575989017257302\n",
      "Act :  0.25615474794841736\n"
     ]
    },
    {
     "name": "stderr",
     "output_type": "stream",
     "text": [
      "IG_account_recommend_for_facebook_system.ipynb:8: SettingWithCopyWarning: \n",
      "A value is trying to be set on a copy of a slice from a DataFrame\n",
      "\n",
      "See the caveats in the documentation: http://pandas.pydata.org/pandas-docs/stable/user_guide/indexing.html#returning-a-view-versus-a-copy\n",
      "  ]\n",
      "IG_account_recommend_for_facebook_system.ipynb:5: DeprecationWarning: Call to deprecated `__getitem__` (Method will be removed in 4.0.0, use self.wv.__getitem__() instead).\n",
      "  \"metadata\": {},\n",
      "IG_account_recommend_for_facebook_system.ipynb:6: DeprecationWarning: Call to deprecated `__getitem__` (Method will be removed in 4.0.0, use self.wv.__getitem__() instead).\n",
      "  \"source\": [\n"
     ]
    },
    {
     "name": "stdout",
     "output_type": "stream",
     "text": [
      "Pic :  0.21561751479194277\n",
      "------------------------------------------------------------------------------------------------\n",
      "楊雅如 , 7_rocean___\n",
      "Prm :  0.806\n",
      "Pop :  0.32710547474882423\n",
      "Act :  0.37045169385194476\n"
     ]
    },
    {
     "name": "stderr",
     "output_type": "stream",
     "text": [
      "IG_account_recommend_for_facebook_system.ipynb:8: SettingWithCopyWarning: \n",
      "A value is trying to be set on a copy of a slice from a DataFrame\n",
      "\n",
      "See the caveats in the documentation: http://pandas.pydata.org/pandas-docs/stable/user_guide/indexing.html#returning-a-view-versus-a-copy\n",
      "  ]\n",
      "IG_account_recommend_for_facebook_system.ipynb:5: DeprecationWarning: Call to deprecated `__getitem__` (Method will be removed in 4.0.0, use self.wv.__getitem__() instead).\n",
      "  \"metadata\": {},\n",
      "IG_account_recommend_for_facebook_system.ipynb:6: DeprecationWarning: Call to deprecated `__getitem__` (Method will be removed in 4.0.0, use self.wv.__getitem__() instead).\n",
      "  \"source\": [\n"
     ]
    },
    {
     "name": "stdout",
     "output_type": "stream",
     "text": [
      "Pic :  0.03928280264139175\n",
      "------------------------------------------------------------------------------------------------\n",
      "楊雅如 , 8_cbx\n",
      "Prm :  0.7636\n",
      "Pop :  0.21001130143114377\n",
      "Act :  0.2962662337662338\n"
     ]
    },
    {
     "name": "stderr",
     "output_type": "stream",
     "text": [
      "IG_account_recommend_for_facebook_system.ipynb:8: SettingWithCopyWarning: \n",
      "A value is trying to be set on a copy of a slice from a DataFrame\n",
      "\n",
      "See the caveats in the documentation: http://pandas.pydata.org/pandas-docs/stable/user_guide/indexing.html#returning-a-view-versus-a-copy\n",
      "  ]\n",
      "IG_account_recommend_for_facebook_system.ipynb:5: DeprecationWarning: Call to deprecated `__getitem__` (Method will be removed in 4.0.0, use self.wv.__getitem__() instead).\n",
      "  \"metadata\": {},\n",
      "IG_account_recommend_for_facebook_system.ipynb:6: DeprecationWarning: Call to deprecated `__getitem__` (Method will be removed in 4.0.0, use self.wv.__getitem__() instead).\n",
      "  \"source\": [\n"
     ]
    },
    {
     "name": "stdout",
     "output_type": "stream",
     "text": [
      "Pic :  0.1876368045693997\n",
      "------------------------------------------------------------------------------------------------\n",
      "楊雅如 , 9_populzzang_mag\n",
      "Prm :  0.8201\n",
      "Pop :  0.23137131126308982\n",
      "Act :  0.25190961171228515\n"
     ]
    },
    {
     "name": "stderr",
     "output_type": "stream",
     "text": [
      "IG_account_recommend_for_facebook_system.ipynb:8: SettingWithCopyWarning: \n",
      "A value is trying to be set on a copy of a slice from a DataFrame\n",
      "\n",
      "See the caveats in the documentation: http://pandas.pydata.org/pandas-docs/stable/user_guide/indexing.html#returning-a-view-versus-a-copy\n",
      "  ]\n",
      "IG_account_recommend_for_facebook_system.ipynb:5: DeprecationWarning: Call to deprecated `__getitem__` (Method will be removed in 4.0.0, use self.wv.__getitem__() instead).\n",
      "  \"metadata\": {},\n",
      "IG_account_recommend_for_facebook_system.ipynb:6: DeprecationWarning: Call to deprecated `__getitem__` (Method will be removed in 4.0.0, use self.wv.__getitem__() instead).\n",
      "  \"source\": [\n"
     ]
    },
    {
     "name": "stdout",
     "output_type": "stream",
     "text": [
      "Pic :  0.1670215446068797\n",
      "------------------------------------------------------------------------------------------------\n",
      "王美淋 , 10_hana\n",
      "Prm :  0.8281\n",
      "Pop :  0.2378314973800221\n",
      "Act :  0.35774058577405854\n"
     ]
    },
    {
     "name": "stderr",
     "output_type": "stream",
     "text": [
      "IG_account_recommend_for_facebook_system.ipynb:8: SettingWithCopyWarning: \n",
      "A value is trying to be set on a copy of a slice from a DataFrame\n",
      "\n",
      "See the caveats in the documentation: http://pandas.pydata.org/pandas-docs/stable/user_guide/indexing.html#returning-a-view-versus-a-copy\n",
      "  ]\n",
      "IG_account_recommend_for_facebook_system.ipynb:5: DeprecationWarning: Call to deprecated `__getitem__` (Method will be removed in 4.0.0, use self.wv.__getitem__() instead).\n",
      "  \"metadata\": {},\n",
      "IG_account_recommend_for_facebook_system.ipynb:6: DeprecationWarning: Call to deprecated `__getitem__` (Method will be removed in 4.0.0, use self.wv.__getitem__() instead).\n",
      "  \"source\": [\n"
     ]
    },
    {
     "name": "stdout",
     "output_type": "stream",
     "text": [
      "Pic :  0.19127224340583338\n",
      "------------------------------------------------------------------------------------------------\n",
      "王美淋 , 11_hsin0126\n",
      "Prm :  0.8591\n",
      "Pop :  0.41003219179580813\n",
      "Act :  0.39254686785550985\n"
     ]
    },
    {
     "name": "stderr",
     "output_type": "stream",
     "text": [
      "IG_account_recommend_for_facebook_system.ipynb:8: SettingWithCopyWarning: \n",
      "A value is trying to be set on a copy of a slice from a DataFrame\n",
      "\n",
      "See the caveats in the documentation: http://pandas.pydata.org/pandas-docs/stable/user_guide/indexing.html#returning-a-view-versus-a-copy\n",
      "  ]\n",
      "IG_account_recommend_for_facebook_system.ipynb:5: DeprecationWarning: Call to deprecated `__getitem__` (Method will be removed in 4.0.0, use self.wv.__getitem__() instead).\n",
      "  \"metadata\": {},\n",
      "IG_account_recommend_for_facebook_system.ipynb:6: DeprecationWarning: Call to deprecated `__getitem__` (Method will be removed in 4.0.0, use self.wv.__getitem__() instead).\n",
      "  \"source\": [\n"
     ]
    },
    {
     "name": "stdout",
     "output_type": "stream",
     "text": [
      "Pic :  0.24972108294886927\n",
      "------------------------------------------------------------------------------------------------\n",
      "王美淋 , 12_tsaigray2018\n",
      "Prm :  0.7311\n",
      "Pop :  0.20037185441170066\n",
      "Act :  0.25428963623884693\n"
     ]
    },
    {
     "name": "stderr",
     "output_type": "stream",
     "text": [
      "IG_account_recommend_for_facebook_system.ipynb:8: SettingWithCopyWarning: \n",
      "A value is trying to be set on a copy of a slice from a DataFrame\n",
      "\n",
      "See the caveats in the documentation: http://pandas.pydata.org/pandas-docs/stable/user_guide/indexing.html#returning-a-view-versus-a-copy\n",
      "  ]\n",
      "IG_account_recommend_for_facebook_system.ipynb:5: DeprecationWarning: Call to deprecated `__getitem__` (Method will be removed in 4.0.0, use self.wv.__getitem__() instead).\n",
      "  \"metadata\": {},\n",
      "IG_account_recommend_for_facebook_system.ipynb:6: DeprecationWarning: Call to deprecated `__getitem__` (Method will be removed in 4.0.0, use self.wv.__getitem__() instead).\n",
      "  \"source\": [\n"
     ]
    },
    {
     "name": "stdout",
     "output_type": "stream",
     "text": [
      "Pic :  0.08097179453724469\n",
      "------------------------------------------------------------------------------------------------\n",
      "王美淋 , 13_snowzaicat\n",
      "Prm :  0.7163\n",
      "Pop :  0.22680615382595995\n",
      "Act :  0.4876543209876543\n"
     ]
    },
    {
     "name": "stderr",
     "output_type": "stream",
     "text": [
      "IG_account_recommend_for_facebook_system.ipynb:8: SettingWithCopyWarning: \n",
      "A value is trying to be set on a copy of a slice from a DataFrame\n",
      "\n",
      "See the caveats in the documentation: http://pandas.pydata.org/pandas-docs/stable/user_guide/indexing.html#returning-a-view-versus-a-copy\n",
      "  ]\n"
     ]
    },
    {
     "name": "stdout",
     "output_type": "stream",
     "text": [
      "Pic :  0.0\n",
      "------------------------------------------------------------------------------------------------\n",
      "王美淋 , 14_jc\n",
      "Prm :  0.8584\n",
      "Pop :  0.2905425077475063\n",
      "Act :  0.36518046709129515\n"
     ]
    },
    {
     "name": "stderr",
     "output_type": "stream",
     "text": [
      "IG_account_recommend_for_facebook_system.ipynb:8: SettingWithCopyWarning: \n",
      "A value is trying to be set on a copy of a slice from a DataFrame\n",
      "\n",
      "See the caveats in the documentation: http://pandas.pydata.org/pandas-docs/stable/user_guide/indexing.html#returning-a-view-versus-a-copy\n",
      "  ]\n",
      "IG_account_recommend_for_facebook_system.ipynb:5: DeprecationWarning: Call to deprecated `__getitem__` (Method will be removed in 4.0.0, use self.wv.__getitem__() instead).\n",
      "  \"metadata\": {},\n",
      "IG_account_recommend_for_facebook_system.ipynb:6: DeprecationWarning: Call to deprecated `__getitem__` (Method will be removed in 4.0.0, use self.wv.__getitem__() instead).\n",
      "  \"source\": [\n"
     ]
    },
    {
     "name": "stdout",
     "output_type": "stream",
     "text": [
      "Pic :  0.07665593336735453\n",
      "------------------------------------------------------------------------------------------------\n",
      "王美淋 , 15_doctorkowj\n",
      "Prm :  0.7659\n",
      "Pop :  0.21290620585234848\n",
      "Act :  0.2558441558441558\n"
     ]
    },
    {
     "name": "stderr",
     "output_type": "stream",
     "text": [
      "IG_account_recommend_for_facebook_system.ipynb:8: SettingWithCopyWarning: \n",
      "A value is trying to be set on a copy of a slice from a DataFrame\n",
      "\n",
      "See the caveats in the documentation: http://pandas.pydata.org/pandas-docs/stable/user_guide/indexing.html#returning-a-view-versus-a-copy\n",
      "  ]\n",
      "IG_account_recommend_for_facebook_system.ipynb:5: DeprecationWarning: Call to deprecated `__getitem__` (Method will be removed in 4.0.0, use self.wv.__getitem__() instead).\n",
      "  \"metadata\": {},\n",
      "IG_account_recommend_for_facebook_system.ipynb:6: DeprecationWarning: Call to deprecated `__getitem__` (Method will be removed in 4.0.0, use self.wv.__getitem__() instead).\n",
      "  \"source\": [\n"
     ]
    },
    {
     "name": "stdout",
     "output_type": "stream",
     "text": [
      "Pic :  0.08800846556337868\n",
      "------------------------------------------------------------------------------------------------\n",
      "王美淋 , 16_jaychou\n",
      "Prm :  0.6778\n",
      "Pop :  0.2008238251223365\n",
      "Act :  0.3858267716535433\n"
     ]
    },
    {
     "name": "stderr",
     "output_type": "stream",
     "text": [
      "IG_account_recommend_for_facebook_system.ipynb:8: SettingWithCopyWarning: \n",
      "A value is trying to be set on a copy of a slice from a DataFrame\n",
      "\n",
      "See the caveats in the documentation: http://pandas.pydata.org/pandas-docs/stable/user_guide/indexing.html#returning-a-view-versus-a-copy\n",
      "  ]\n",
      "IG_account_recommend_for_facebook_system.ipynb:5: DeprecationWarning: Call to deprecated `__getitem__` (Method will be removed in 4.0.0, use self.wv.__getitem__() instead).\n",
      "  \"metadata\": {},\n",
      "IG_account_recommend_for_facebook_system.ipynb:6: DeprecationWarning: Call to deprecated `__getitem__` (Method will be removed in 4.0.0, use self.wv.__getitem__() instead).\n",
      "  \"source\": [\n"
     ]
    },
    {
     "name": "stdout",
     "output_type": "stream",
     "text": [
      "Pic :  0.03795678696284691\n",
      "------------------------------------------------------------------------------------------------\n",
      "王美淋 , 17_sunnygirl800424\n",
      "Prm :  0.8178\n",
      "Pop :  0.2080223626447253\n",
      "Act :  0.32838774597495524\n"
     ]
    },
    {
     "name": "stderr",
     "output_type": "stream",
     "text": [
      "IG_account_recommend_for_facebook_system.ipynb:8: SettingWithCopyWarning: \n",
      "A value is trying to be set on a copy of a slice from a DataFrame\n",
      "\n",
      "See the caveats in the documentation: http://pandas.pydata.org/pandas-docs/stable/user_guide/indexing.html#returning-a-view-versus-a-copy\n",
      "  ]\n",
      "IG_account_recommend_for_facebook_system.ipynb:5: DeprecationWarning: Call to deprecated `__getitem__` (Method will be removed in 4.0.0, use self.wv.__getitem__() instead).\n",
      "  \"metadata\": {},\n",
      "IG_account_recommend_for_facebook_system.ipynb:6: DeprecationWarning: Call to deprecated `__getitem__` (Method will be removed in 4.0.0, use self.wv.__getitem__() instead).\n",
      "  \"source\": [\n"
     ]
    },
    {
     "name": "stdout",
     "output_type": "stream",
     "text": [
      "Pic :  0.12444033944663012\n",
      "------------------------------------------------------------------------------------------------\n",
      "王美淋 , 18_poptour_mag\n",
      "Prm :  0.9793\n",
      "Pop :  0.21332077095353816\n",
      "Act :  0.28326226012793176\n"
     ]
    },
    {
     "name": "stderr",
     "output_type": "stream",
     "text": [
      "IG_account_recommend_for_facebook_system.ipynb:8: SettingWithCopyWarning: \n",
      "A value is trying to be set on a copy of a slice from a DataFrame\n",
      "\n",
      "See the caveats in the documentation: http://pandas.pydata.org/pandas-docs/stable/user_guide/indexing.html#returning-a-view-versus-a-copy\n",
      "  ]\n",
      "IG_account_recommend_for_facebook_system.ipynb:5: DeprecationWarning: Call to deprecated `__getitem__` (Method will be removed in 4.0.0, use self.wv.__getitem__() instead).\n",
      "  \"metadata\": {},\n",
      "IG_account_recommend_for_facebook_system.ipynb:6: DeprecationWarning: Call to deprecated `__getitem__` (Method will be removed in 4.0.0, use self.wv.__getitem__() instead).\n",
      "  \"source\": [\n"
     ]
    },
    {
     "name": "stdout",
     "output_type": "stream",
     "text": [
      "Pic :  0.13311926326291126\n",
      "------------------------------------------------------------------------------------------------\n",
      "王美淋 , 19_bpintaiwan\n",
      "Prm :  0.8707\n",
      "Pop :  0.22710597798038026\n",
      "Act :  0.27611490653762216\n"
     ]
    },
    {
     "name": "stderr",
     "output_type": "stream",
     "text": [
      "IG_account_recommend_for_facebook_system.ipynb:8: SettingWithCopyWarning: \n",
      "A value is trying to be set on a copy of a slice from a DataFrame\n",
      "\n",
      "See the caveats in the documentation: http://pandas.pydata.org/pandas-docs/stable/user_guide/indexing.html#returning-a-view-versus-a-copy\n",
      "  ]\n",
      "IG_account_recommend_for_facebook_system.ipynb:5: DeprecationWarning: Call to deprecated `__getitem__` (Method will be removed in 4.0.0, use self.wv.__getitem__() instead).\n",
      "  \"metadata\": {},\n",
      "IG_account_recommend_for_facebook_system.ipynb:6: DeprecationWarning: Call to deprecated `__getitem__` (Method will be removed in 4.0.0, use self.wv.__getitem__() instead).\n",
      "  \"source\": [\n"
     ]
    },
    {
     "name": "stdout",
     "output_type": "stream",
     "text": [
      "Pic :  0.16297007650136947\n",
      "------------------------------------------------------------------------------------------------\n",
      "王美淋 , 1_arielsvlog_816\n",
      "Prm :  0.8457\n",
      "Pop :  0.20430586991693556\n",
      "Act :  0.2664835164835165\n"
     ]
    },
    {
     "name": "stderr",
     "output_type": "stream",
     "text": [
      "IG_account_recommend_for_facebook_system.ipynb:8: SettingWithCopyWarning: \n",
      "A value is trying to be set on a copy of a slice from a DataFrame\n",
      "\n",
      "See the caveats in the documentation: http://pandas.pydata.org/pandas-docs/stable/user_guide/indexing.html#returning-a-view-versus-a-copy\n",
      "  ]\n",
      "IG_account_recommend_for_facebook_system.ipynb:5: DeprecationWarning: Call to deprecated `__getitem__` (Method will be removed in 4.0.0, use self.wv.__getitem__() instead).\n",
      "  \"metadata\": {},\n",
      "IG_account_recommend_for_facebook_system.ipynb:6: DeprecationWarning: Call to deprecated `__getitem__` (Method will be removed in 4.0.0, use self.wv.__getitem__() instead).\n",
      "  \"source\": [\n"
     ]
    },
    {
     "name": "stdout",
     "output_type": "stream",
     "text": [
      "Pic :  0.16228587914832002\n",
      "------------------------------------------------------------------------------------------------\n",
      "王美淋 , 20_imma_pon\n",
      "Prm :  0.7507\n",
      "Pop :  0.22365582569790882\n",
      "Act :  0.37568605927552146\n"
     ]
    },
    {
     "name": "stderr",
     "output_type": "stream",
     "text": [
      "IG_account_recommend_for_facebook_system.ipynb:8: SettingWithCopyWarning: \n",
      "A value is trying to be set on a copy of a slice from a DataFrame\n",
      "\n",
      "See the caveats in the documentation: http://pandas.pydata.org/pandas-docs/stable/user_guide/indexing.html#returning-a-view-versus-a-copy\n",
      "  ]\n",
      "IG_account_recommend_for_facebook_system.ipynb:5: DeprecationWarning: Call to deprecated `__getitem__` (Method will be removed in 4.0.0, use self.wv.__getitem__() instead).\n",
      "  \"metadata\": {},\n",
      "IG_account_recommend_for_facebook_system.ipynb:6: DeprecationWarning: Call to deprecated `__getitem__` (Method will be removed in 4.0.0, use self.wv.__getitem__() instead).\n",
      "  \"source\": [\n"
     ]
    },
    {
     "name": "stdout",
     "output_type": "stream",
     "text": [
      "Pic :  0.15171931744976477\n",
      "------------------------------------------------------------------------------------------------\n",
      "王美淋 , 2_dentist_easoncheng\n",
      "Prm :  0.7868\n",
      "Pop :  0.21422371027539627\n",
      "Act :  0.35341974627688916\n"
     ]
    },
    {
     "name": "stderr",
     "output_type": "stream",
     "text": [
      "IG_account_recommend_for_facebook_system.ipynb:8: SettingWithCopyWarning: \n",
      "A value is trying to be set on a copy of a slice from a DataFrame\n",
      "\n",
      "See the caveats in the documentation: http://pandas.pydata.org/pandas-docs/stable/user_guide/indexing.html#returning-a-view-versus-a-copy\n",
      "  ]\n",
      "IG_account_recommend_for_facebook_system.ipynb:5: DeprecationWarning: Call to deprecated `__getitem__` (Method will be removed in 4.0.0, use self.wv.__getitem__() instead).\n",
      "  \"metadata\": {},\n",
      "IG_account_recommend_for_facebook_system.ipynb:6: DeprecationWarning: Call to deprecated `__getitem__` (Method will be removed in 4.0.0, use self.wv.__getitem__() instead).\n",
      "  \"source\": [\n"
     ]
    },
    {
     "name": "stdout",
     "output_type": "stream",
     "text": [
      "Pic :  0.057331056080081245\n",
      "------------------------------------------------------------------------------------------------\n",
      "王美淋 , 3_yuniko0720\n",
      "Prm :  0.7706\n",
      "Pop :  0.20484361226794484\n",
      "Act :  0.2760683760683761\n"
     ]
    },
    {
     "name": "stderr",
     "output_type": "stream",
     "text": [
      "IG_account_recommend_for_facebook_system.ipynb:8: SettingWithCopyWarning: \n",
      "A value is trying to be set on a copy of a slice from a DataFrame\n",
      "\n",
      "See the caveats in the documentation: http://pandas.pydata.org/pandas-docs/stable/user_guide/indexing.html#returning-a-view-versus-a-copy\n",
      "  ]\n",
      "IG_account_recommend_for_facebook_system.ipynb:5: DeprecationWarning: Call to deprecated `__getitem__` (Method will be removed in 4.0.0, use self.wv.__getitem__() instead).\n",
      "  \"metadata\": {},\n",
      "IG_account_recommend_for_facebook_system.ipynb:6: DeprecationWarning: Call to deprecated `__getitem__` (Method will be removed in 4.0.0, use self.wv.__getitem__() instead).\n",
      "  \"source\": [\n"
     ]
    },
    {
     "name": "stdout",
     "output_type": "stream",
     "text": [
      "Pic :  0.04393885348264764\n",
      "------------------------------------------------------------------------------------------------\n",
      "王美淋 , 4_rolling\n",
      "Prm :  0.9127\n",
      "Pop :  0.3239729214973595\n",
      "Act :  0.2527386541471049\n"
     ]
    },
    {
     "name": "stderr",
     "output_type": "stream",
     "text": [
      "IG_account_recommend_for_facebook_system.ipynb:8: SettingWithCopyWarning: \n",
      "A value is trying to be set on a copy of a slice from a DataFrame\n",
      "\n",
      "See the caveats in the documentation: http://pandas.pydata.org/pandas-docs/stable/user_guide/indexing.html#returning-a-view-versus-a-copy\n",
      "  ]\n",
      "IG_account_recommend_for_facebook_system.ipynb:5: DeprecationWarning: Call to deprecated `__getitem__` (Method will be removed in 4.0.0, use self.wv.__getitem__() instead).\n",
      "  \"metadata\": {},\n",
      "IG_account_recommend_for_facebook_system.ipynb:6: DeprecationWarning: Call to deprecated `__getitem__` (Method will be removed in 4.0.0, use self.wv.__getitem__() instead).\n",
      "  \"source\": [\n"
     ]
    },
    {
     "name": "stdout",
     "output_type": "stream",
     "text": [
      "Pic :  0.06706685714285683\n",
      "------------------------------------------------------------------------------------------------\n",
      "王美淋 , 5_melissaxhiker\n",
      "Prm :  0.9189\n",
      "Pop :  0.20877673971065214\n",
      "Act :  0.402046783625731\n"
     ]
    },
    {
     "name": "stderr",
     "output_type": "stream",
     "text": [
      "IG_account_recommend_for_facebook_system.ipynb:8: SettingWithCopyWarning: \n",
      "A value is trying to be set on a copy of a slice from a DataFrame\n",
      "\n",
      "See the caveats in the documentation: http://pandas.pydata.org/pandas-docs/stable/user_guide/indexing.html#returning-a-view-versus-a-copy\n",
      "  ]\n",
      "IG_account_recommend_for_facebook_system.ipynb:5: DeprecationWarning: Call to deprecated `__getitem__` (Method will be removed in 4.0.0, use self.wv.__getitem__() instead).\n",
      "  \"metadata\": {},\n",
      "IG_account_recommend_for_facebook_system.ipynb:6: DeprecationWarning: Call to deprecated `__getitem__` (Method will be removed in 4.0.0, use self.wv.__getitem__() instead).\n",
      "  \"source\": [\n"
     ]
    },
    {
     "name": "stdout",
     "output_type": "stream",
     "text": [
      "Pic :  0.16081059209325096\n",
      "------------------------------------------------------------------------------------------------\n",
      "王美淋 , 6_cheers_tw\n",
      "Prm :  0.902\n",
      "Pop :  0.21560501509124874\n",
      "Act :  0.25615474794841736\n"
     ]
    },
    {
     "name": "stderr",
     "output_type": "stream",
     "text": [
      "IG_account_recommend_for_facebook_system.ipynb:8: SettingWithCopyWarning: \n",
      "A value is trying to be set on a copy of a slice from a DataFrame\n",
      "\n",
      "See the caveats in the documentation: http://pandas.pydata.org/pandas-docs/stable/user_guide/indexing.html#returning-a-view-versus-a-copy\n",
      "  ]\n",
      "IG_account_recommend_for_facebook_system.ipynb:5: DeprecationWarning: Call to deprecated `__getitem__` (Method will be removed in 4.0.0, use self.wv.__getitem__() instead).\n",
      "  \"metadata\": {},\n",
      "IG_account_recommend_for_facebook_system.ipynb:6: DeprecationWarning: Call to deprecated `__getitem__` (Method will be removed in 4.0.0, use self.wv.__getitem__() instead).\n",
      "  \"source\": [\n"
     ]
    },
    {
     "name": "stdout",
     "output_type": "stream",
     "text": [
      "Pic :  0.19347015497359363\n",
      "------------------------------------------------------------------------------------------------\n",
      "王美淋 , 7_rocean___\n",
      "Prm :  0.8225\n",
      "Pop :  0.32710547474882423\n",
      "Act :  0.37045169385194476\n"
     ]
    },
    {
     "name": "stderr",
     "output_type": "stream",
     "text": [
      "IG_account_recommend_for_facebook_system.ipynb:8: SettingWithCopyWarning: \n",
      "A value is trying to be set on a copy of a slice from a DataFrame\n",
      "\n",
      "See the caveats in the documentation: http://pandas.pydata.org/pandas-docs/stable/user_guide/indexing.html#returning-a-view-versus-a-copy\n",
      "  ]\n",
      "IG_account_recommend_for_facebook_system.ipynb:5: DeprecationWarning: Call to deprecated `__getitem__` (Method will be removed in 4.0.0, use self.wv.__getitem__() instead).\n",
      "  \"metadata\": {},\n",
      "IG_account_recommend_for_facebook_system.ipynb:6: DeprecationWarning: Call to deprecated `__getitem__` (Method will be removed in 4.0.0, use self.wv.__getitem__() instead).\n",
      "  \"source\": [\n"
     ]
    },
    {
     "name": "stdout",
     "output_type": "stream",
     "text": [
      "Pic :  0.024816174432635306\n",
      "------------------------------------------------------------------------------------------------\n",
      "王美淋 , 8_cbx\n",
      "Prm :  0.762\n",
      "Pop :  0.21081826037311244\n",
      "Act :  0.2962662337662338\n"
     ]
    },
    {
     "name": "stderr",
     "output_type": "stream",
     "text": [
      "IG_account_recommend_for_facebook_system.ipynb:8: SettingWithCopyWarning: \n",
      "A value is trying to be set on a copy of a slice from a DataFrame\n",
      "\n",
      "See the caveats in the documentation: http://pandas.pydata.org/pandas-docs/stable/user_guide/indexing.html#returning-a-view-versus-a-copy\n",
      "  ]\n",
      "IG_account_recommend_for_facebook_system.ipynb:5: DeprecationWarning: Call to deprecated `__getitem__` (Method will be removed in 4.0.0, use self.wv.__getitem__() instead).\n",
      "  \"metadata\": {},\n",
      "IG_account_recommend_for_facebook_system.ipynb:6: DeprecationWarning: Call to deprecated `__getitem__` (Method will be removed in 4.0.0, use self.wv.__getitem__() instead).\n",
      "  \"source\": [\n"
     ]
    },
    {
     "name": "stdout",
     "output_type": "stream",
     "text": [
      "Pic :  0.16453651298176158\n",
      "------------------------------------------------------------------------------------------------\n",
      "王美淋 , 9_populzzang_mag\n",
      "Prm :  0.8463\n",
      "Pop :  0.23137144788675473\n",
      "Act :  0.25190961171228515\n"
     ]
    },
    {
     "name": "stderr",
     "output_type": "stream",
     "text": [
      "IG_account_recommend_for_facebook_system.ipynb:8: SettingWithCopyWarning: \n",
      "A value is trying to be set on a copy of a slice from a DataFrame\n",
      "\n",
      "See the caveats in the documentation: http://pandas.pydata.org/pandas-docs/stable/user_guide/indexing.html#returning-a-view-versus-a-copy\n",
      "  ]\n",
      "IG_account_recommend_for_facebook_system.ipynb:5: DeprecationWarning: Call to deprecated `__getitem__` (Method will be removed in 4.0.0, use self.wv.__getitem__() instead).\n",
      "  \"metadata\": {},\n",
      "IG_account_recommend_for_facebook_system.ipynb:6: DeprecationWarning: Call to deprecated `__getitem__` (Method will be removed in 4.0.0, use self.wv.__getitem__() instead).\n",
      "  \"source\": [\n"
     ]
    },
    {
     "name": "stdout",
     "output_type": "stream",
     "text": [
      "Pic :  0.16606943413268688\n",
      "------------------------------------------------------------------------------------------------\n"
     ]
    }
   ],
   "source": [
    "for filename in all_files:\n",
    "    for ig_filename in all_ig_files:\n",
    "        print(\"%s , %s\" % ((filename.split(\"\\\\\")[7]).split('.')[0],(ig_filename.split(\"\\\\\")[7]).split('.')[0]))\n",
    "        oringnal_df = pd.read_csv(filename, index_col=None, header=0, engine='python')\n",
    "        oringnal_ig_df = pd.read_csv(ig_filename, index_col=None, header=0,  engine='python')\n",
    "        %run IG_account_recommend_for_facebook_system.ipynb\n",
    "        time.sleep(2)\n",
    "\n",
    "        all_score = Prm*weight1 + Pic*weight2 + Pop*weight3 + Act*weight4\n",
    "\n",
    "        all_score1 = Pic + Pop + Act\n",
    "\n",
    "        all_score2 = Prm + Pop + Act\n",
    "\n",
    "        all_score3 = Prm + Pic + Act\n",
    "\n",
    "        all_score4 = Prm + Pic + Pop\n",
    "        \n",
    "        time.sleep(2)\n",
    "        s_2 = pd.Series({'fb_name':(filename.split(\"\\\\\")[7]).split('.')[0], 'ig_account':(ig_filename.split(\"\\\\\")[7]).split('.')[0], 'all_score':all_score, 'all_score1':all_score1, 'all_score2':all_score2, 'all_score3':all_score3, 'all_score4':all_score4})\n",
    "        df_new = df_new.append(s_2, ignore_index=True)\n",
    "        print(\"------------------------------------------------------------------------------------------------\")\n",
    "        time.sleep(2)"
   ]
  },
  {
   "cell_type": "code",
   "execution_count": 136,
   "metadata": {},
   "outputs": [],
   "source": [
    "#生成csv文件\n",
    "df_new.to_csv(r'./userRecommendation_score.csv',index=True,sep=',', encoding='utf_8_sig')"
   ]
  },
  {
   "cell_type": "code",
   "execution_count": 138,
   "metadata": {},
   "outputs": [
    {
     "name": "stdout",
     "output_type": "stream",
     "text": [
      "{'李昱慶': 0.27865405307996477, '楊尚儒': 0.6580260210207816, '楊雅如': 0.27889331100522147, '王美淋': 0.8232376726639239}\n",
      "{'李昱慶': 0.46747162613480664, '楊尚儒': 0.7664786302931111, '楊雅如': 0.38514094031164914, '王美淋': 0.518002157997536}\n",
      "{'李昱慶': 0.9459377986411499, '楊尚儒': 0.7855828841538982, '楊雅如': 0.9827792922303972, '王美淋': 0.6599647990350381}\n",
      "{'李昱慶': 0.17357023930072282, '楊尚儒': 0.3917947429785264, '楊雅如': 0.20034635141924423, '王美淋': 0.9236814517842633}\n",
      "{'李昱慶': 0.46683656592247935, '楊尚儒': 0.7222076071923698, '楊雅如': 0.41300673432162793, '王美淋': 0.9800357287000764}\n",
      "pearsonr平均 : \n",
      "0.509702764442473 0.5342733386842757 0.8435661935151209 0.4223481963706892 0.6455216590341384\n"
     ]
    }
   ],
   "source": [
    "time.sleep(2)\n",
    "%run pearsonr_calculate.ipynb"
   ]
  },
  {
   "cell_type": "code",
   "execution_count": null,
   "metadata": {},
   "outputs": [],
   "source": []
  }
 ],
 "metadata": {
  "kernelspec": {
   "display_name": "Python 3",
   "language": "python",
   "name": "python3"
  },
  "language_info": {
   "codemirror_mode": {
    "name": "ipython",
    "version": 3
   },
   "file_extension": ".py",
   "mimetype": "text/x-python",
   "name": "python",
   "nbconvert_exporter": "python",
   "pygments_lexer": "ipython3",
   "version": "3.7.4"
  }
 },
 "nbformat": 4,
 "nbformat_minor": 4
}
