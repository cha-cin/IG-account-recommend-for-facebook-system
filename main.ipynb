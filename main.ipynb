{
 "cells": [
  {
   "cell_type": "code",
   "execution_count": null,
   "metadata": {},
   "outputs": [],
   "source": [
    "# import import_ipynb\n",
    "# import IG_account_recommend_for_facebook_system2\n",
    "import pandas as pd\n",
    "import numpy as np\n",
    "import glob\n",
    "import time"
   ]
  },
  {
   "cell_type": "code",
   "execution_count": 62,
   "metadata": {},
   "outputs": [
    {
     "name": "stdout",
     "output_type": "stream",
     "text": [
      "曾韻伃 , populzzang_mag\n",
      "Prm :  0.7586\n",
      "division by zero\n",
      "Pop :  0.23137252016628787\n",
      "Act :  0.25190961171228515\n"
     ]
    },
    {
     "name": "stderr",
     "output_type": "stream",
     "text": [
      "IG_account_recommend_for_facebook_system.ipynb:8: SettingWithCopyWarning: \n",
      "A value is trying to be set on a copy of a slice from a DataFrame\n",
      "\n",
      "See the caveats in the documentation: http://pandas.pydata.org/pandas-docs/stable/user_guide/indexing.html#returning-a-view-versus-a-copy\n",
      "  ]\n"
     ]
    },
    {
     "name": "stdout",
     "output_type": "stream",
     "text": [
      "Pic :  0.0\n",
      "all_score  1.241882131878573\n",
      "------------------------------------------------------------------------------------------------\n",
      "曾韻伃 , _jc\n",
      "Prm :  0.7392\n",
      "division by zero\n",
      "division by zero\n",
      "Pop :  0.29054843552423265\n",
      "Act :  0.36518046709129515\n"
     ]
    },
    {
     "name": "stderr",
     "output_type": "stream",
     "text": [
      "IG_account_recommend_for_facebook_system.ipynb:8: SettingWithCopyWarning: \n",
      "A value is trying to be set on a copy of a slice from a DataFrame\n",
      "\n",
      "See the caveats in the documentation: http://pandas.pydata.org/pandas-docs/stable/user_guide/indexing.html#returning-a-view-versus-a-copy\n",
      "  ]\n"
     ]
    },
    {
     "name": "stdout",
     "output_type": "stream",
     "text": [
      "Pic :  0.0\n",
      "all_score  1.3949289026155278\n",
      "------------------------------------------------------------------------------------------------\n",
      "胡博翔 , populzzang_mag\n",
      "Prm :  0.6706\n",
      "division by zero\n",
      "Pop :  0.2415439904902852\n",
      "Act :  0.25190961171228515\n"
     ]
    },
    {
     "name": "stderr",
     "output_type": "stream",
     "text": [
      "IG_account_recommend_for_facebook_system.ipynb:8: SettingWithCopyWarning: \n",
      "A value is trying to be set on a copy of a slice from a DataFrame\n",
      "\n",
      "See the caveats in the documentation: http://pandas.pydata.org/pandas-docs/stable/user_guide/indexing.html#returning-a-view-versus-a-copy\n",
      "  ]\n"
     ]
    },
    {
     "name": "stdout",
     "output_type": "stream",
     "text": [
      "Pic :  0.0\n",
      "all_score  1.1640536022025703\n",
      "------------------------------------------------------------------------------------------------\n",
      "胡博翔 , _jc\n",
      "Prm :  0.6191\n",
      "Pop :  0.2597101230384758\n",
      "Act :  0.36518046709129515\n"
     ]
    },
    {
     "name": "stderr",
     "output_type": "stream",
     "text": [
      "IG_account_recommend_for_facebook_system.ipynb:8: SettingWithCopyWarning: \n",
      "A value is trying to be set on a copy of a slice from a DataFrame\n",
      "\n",
      "See the caveats in the documentation: http://pandas.pydata.org/pandas-docs/stable/user_guide/indexing.html#returning-a-view-versus-a-copy\n",
      "  ]\n"
     ]
    },
    {
     "name": "stdout",
     "output_type": "stream",
     "text": [
      "Pic :  0.0\n",
      "all_score  1.243990590129771\n",
      "------------------------------------------------------------------------------------------------\n"
     ]
    }
   ],
   "source": [
    "path = r'C:\\Users\\ylclab\\Documents\\畢業論文\\Code\\experiment data' # facebook data path\n",
    "ig_path = r'C:\\Users\\ylclab\\Documents\\畢業論文\\Code\\instagram account' #instagram data path\n",
    "all_files = glob.glob(path + \"/*.csv\")\n",
    "all_ig_files = glob.glob(ig_path + \"/*.csv\")\n",
    "\n",
    "li = {}\n",
    "# count = 0\n",
    "df = pd.DataFrame(columns=['fb_name', 'ig_account', 'all_score'])\n",
    "for filename in all_files:\n",
    "    for ig_filename in all_ig_files:\n",
    "      \n",
    "        print(\"%s , %s\" % ((filename.split(\"\\\\\")[7]).split('.')[0],(ig_filename.split(\"\\\\\")[7]).split('.')[0]))\n",
    "        oringnal_df = pd.read_csv(filename, index_col=None, header=0, engine='python')\n",
    "        oringnal_ig_df = pd.read_csv(ig_filename, index_col=None, header=0,  engine='python')\n",
    "        %run IG_account_recommend_for_facebook_system.ipynb\n",
    "        s_2 = pd.Series({'fb_name':(filename.split(\"\\\\\")[7]).split('.')[0], 'ig_account':(ig_filename.split(\"\\\\\")[7]).split('.')[0], 'all_score':all_score})\n",
    "        df = df.append(s_2, ignore_index=True)\n",
    "        print(\"------------------------------------------------------------------------------------------------\")\n",
    "        time.sleep(2)"
   ]
  },
  {
   "cell_type": "code",
   "execution_count": 63,
   "metadata": {},
   "outputs": [
    {
     "data": {
      "text/html": [
       "<div>\n",
       "<style scoped>\n",
       "    .dataframe tbody tr th:only-of-type {\n",
       "        vertical-align: middle;\n",
       "    }\n",
       "\n",
       "    .dataframe tbody tr th {\n",
       "        vertical-align: top;\n",
       "    }\n",
       "\n",
       "    .dataframe thead th {\n",
       "        text-align: right;\n",
       "    }\n",
       "</style>\n",
       "<table border=\"1\" class=\"dataframe\">\n",
       "  <thead>\n",
       "    <tr style=\"text-align: right;\">\n",
       "      <th></th>\n",
       "      <th>fb_name</th>\n",
       "      <th>ig_account</th>\n",
       "      <th>all_score</th>\n",
       "    </tr>\n",
       "  </thead>\n",
       "  <tbody>\n",
       "    <tr>\n",
       "      <td>0</td>\n",
       "      <td>曾韻伃</td>\n",
       "      <td>populzzang_mag</td>\n",
       "      <td>1.241882</td>\n",
       "    </tr>\n",
       "    <tr>\n",
       "      <td>1</td>\n",
       "      <td>曾韻伃</td>\n",
       "      <td>_jc</td>\n",
       "      <td>1.394929</td>\n",
       "    </tr>\n",
       "    <tr>\n",
       "      <td>2</td>\n",
       "      <td>胡博翔</td>\n",
       "      <td>populzzang_mag</td>\n",
       "      <td>1.164054</td>\n",
       "    </tr>\n",
       "    <tr>\n",
       "      <td>3</td>\n",
       "      <td>胡博翔</td>\n",
       "      <td>_jc</td>\n",
       "      <td>1.243991</td>\n",
       "    </tr>\n",
       "  </tbody>\n",
       "</table>\n",
       "</div>"
      ],
      "text/plain": [
       "  fb_name      ig_account  all_score\n",
       "0     曾韻伃  populzzang_mag   1.241882\n",
       "1     曾韻伃             _jc   1.394929\n",
       "2     胡博翔  populzzang_mag   1.164054\n",
       "3     胡博翔             _jc   1.243991"
      ]
     },
     "execution_count": 63,
     "metadata": {},
     "output_type": "execute_result"
    }
   ],
   "source": [
    "df"
   ]
  },
  {
   "cell_type": "code",
   "execution_count": null,
   "metadata": {},
   "outputs": [],
   "source": []
  }
 ],
 "metadata": {
  "kernelspec": {
   "display_name": "Python 3",
   "language": "python",
   "name": "python3"
  },
  "language_info": {
   "codemirror_mode": {
    "name": "ipython",
    "version": 3
   },
   "file_extension": ".py",
   "mimetype": "text/x-python",
   "name": "python",
   "nbconvert_exporter": "python",
   "pygments_lexer": "ipython3",
   "version": "3.7.4"
  }
 },
 "nbformat": 4,
 "nbformat_minor": 4
}
