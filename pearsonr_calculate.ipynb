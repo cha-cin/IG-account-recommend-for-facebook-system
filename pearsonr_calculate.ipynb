{
 "cells": [
  {
   "cell_type": "code",
   "execution_count": 112,
   "metadata": {},
   "outputs": [],
   "source": [
    "import pandas as pd\n",
    "import numpy as np\n",
    "import scipy\n",
    "from scipy.stats import pearsonr"
   ]
  },
  {
   "cell_type": "code",
   "execution_count": null,
   "metadata": {},
   "outputs": [],
   "source": [
    "df_userRecommendation_score = pd.read_csv('userRecommendation_score.csv') \n",
    "df_account_preference = pd.read_csv('instagram account preference statistic.csv', engine='python') "
   ]
  },
  {
   "cell_type": "code",
   "execution_count": null,
   "metadata": {},
   "outputs": [],
   "source": [
    "df_userRecommendation_score"
   ]
  },
  {
   "cell_type": "code",
   "execution_count": 109,
   "metadata": {},
   "outputs": [],
   "source": [
    "score1 = {}\n",
    "for name, group in df_userRecommendation_score.groupby('fb_name'):\n",
    "    list1 = group['all_score'].values.tolist()\n",
    "    score1[name]  = list1"
   ]
  },
  {
   "cell_type": "code",
   "execution_count": 110,
   "metadata": {},
   "outputs": [
    {
     "data": {
      "text/plain": [
       "{'余冠柔': [1.5400613146553994,\n",
       "  1.7556745611011015,\n",
       "  1.2095609741667217,\n",
       "  1.4405828079427272,\n",
       "  1.5153336645202895,\n",
       "  1.2592977706324229,\n",
       "  1.2592977706324229,\n",
       "  1.5035464410019197,\n",
       "  1.601461992953784,\n",
       "  1.5493586188265682,\n",
       "  1.2826069640038218,\n",
       "  1.4755690281669784,\n",
       "  1.3392196167430241,\n",
       "  1.2268116190638922,\n",
       "  1.394034608102951,\n",
       "  1.4731639740648663,\n",
       "  1.278381976677326,\n",
       "  1.5264503445469364,\n",
       "  1.3429634816627347,\n",
       "  1.2939075003444451],\n",
       " '王美淋': [1.5097128298069145,\n",
       "  1.6392983722999093,\n",
       "  1.2168288790504105,\n",
       "  1.4326828079427272,\n",
       "  1.4755289026155278,\n",
       "  1.2580453733040358,\n",
       "  1.2580453733040358,\n",
       "  1.4603464410019198,\n",
       "  1.450534720226511,\n",
       "  1.4842709454089251,\n",
       "  1.3734070840793315,\n",
       "  1.5021372758246612,\n",
       "  1.3406631810329046,\n",
       "  1.2469581259221008,\n",
       "  1.4318291781249242,\n",
       "  1.4586732542367191,\n",
       "  1.3032549205825783,\n",
       "  1.468450344546936,\n",
       "  1.3412542826580025,\n",
       "  1.3459077516144509]}"
      ]
     },
     "execution_count": 110,
     "metadata": {},
     "output_type": "execute_result"
    }
   ],
   "source": [
    "score1"
   ]
  },
  {
   "cell_type": "code",
   "execution_count": 115,
   "metadata": {},
   "outputs": [
    {
     "name": "stdout",
     "output_type": "stream",
     "text": [
      "王美淋\n",
      "0.040319907288207314\n",
      "0.8659747386888847\n"
     ]
    }
   ],
   "source": [
    "fb_account_pearsonr = {}\n",
    "for k, v in D1.items():\n",
    "#     print(k,v)\n",
    "    for i in range(len(df_account_preference)):\n",
    "#         print(df_account_preference.iloc[i]['name'])\n",
    "        if df_account_preference.iloc[i]['name'] == k:\n",
    "            score2 = df_account_preference.iloc[i][2:].values.tolist()\n",
    "#             print(score2)\n",
    "#             print(v)\n",
    "            x = scipy.array(score2)\n",
    "            y = scipy.array(v)\n",
    "\n",
    "            r_row, p_value = pearsonr(x, y)\n",
    "            print(k)\n",
    "            print (r_row)\n",
    "            print (p_value)\n",
    "            fb_account_pearsonr[k] = p_value"
   ]
  },
  {
   "cell_type": "code",
   "execution_count": 116,
   "metadata": {},
   "outputs": [
    {
     "data": {
      "text/plain": [
       "{'王美淋': 0.8659747386888847}"
      ]
     },
     "execution_count": 116,
     "metadata": {},
     "output_type": "execute_result"
    }
   ],
   "source": [
    "fb_account_pearsonr"
   ]
  },
  {
   "cell_type": "code",
   "execution_count": null,
   "metadata": {},
   "outputs": [],
   "source": []
  }
 ],
 "metadata": {
  "kernelspec": {
   "display_name": "Python 3",
   "language": "python",
   "name": "python3"
  },
  "language_info": {
   "codemirror_mode": {
    "name": "ipython",
    "version": 3
   },
   "file_extension": ".py",
   "mimetype": "text/x-python",
   "name": "python",
   "nbconvert_exporter": "python",
   "pygments_lexer": "ipython3",
   "version": "3.7.4"
  }
 },
 "nbformat": 4,
 "nbformat_minor": 4
}
