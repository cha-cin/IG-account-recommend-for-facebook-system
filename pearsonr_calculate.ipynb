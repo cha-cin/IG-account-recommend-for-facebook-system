{
 "cells": [
  {
   "cell_type": "code",
   "execution_count": null,
   "metadata": {},
   "outputs": [],
   "source": [
    "import pandas as pd\n",
    "import numpy as np\n",
    "import scipy\n",
    "from scipy.stats import pearsonr"
   ]
  },
  {
   "cell_type": "code",
   "execution_count": null,
   "metadata": {},
   "outputs": [],
   "source": [
    "df_userRecommendation_score = pd.read_csv('userRecommendation_score.csv', engine='python') \n",
    "df_account_preference = pd.read_csv('instagram account preference statistic.csv', engine='python') "
   ]
  },
  {
   "cell_type": "code",
   "execution_count": null,
   "metadata": {},
   "outputs": [],
   "source": [
    "score0 = {}\n",
    "score1 = {}\n",
    "score2 = {}\n",
    "score3 = {}\n",
    "score4 = {}\n",
    "\n",
    "fb_account_pearsonr_mean = 0\n",
    "fb_account_pearsonr_mean1 = 0\n",
    "fb_account_pearsonr_mean2= 0\n",
    "fb_account_pearsonr_mean3 = 0\n",
    "fb_account_pearsonr_mean4 = 0"
   ]
  },
  {
   "cell_type": "code",
   "execution_count": null,
   "metadata": {},
   "outputs": [],
   "source": [
    "for name, group in df_userRecommendation_score.groupby('fb_name'):\n",
    "    list1 = group['all_score'].values.tolist()\n",
    "    score0[name]  = list1\n",
    "for name, group in df_userRecommendation_score.groupby('fb_name'):\n",
    "    list1 = group['all_score1'].values.tolist()\n",
    "    score1[name]  = list1\n",
    "for name, group in df_userRecommendation_score.groupby('fb_name'):\n",
    "    list1 = group['all_score2'].values.tolist()\n",
    "    score2[name]  = list1\n",
    "for name, group in df_userRecommendation_score.groupby('fb_name'):\n",
    "    list1 = group['all_score3'].values.tolist()\n",
    "    score3[name]  = list1\n",
    "for name, group in df_userRecommendation_score.groupby('fb_name'):\n",
    "    list1 = group['all_score4'].values.tolist()\n",
    "    score4[name]  = list1"
   ]
  },
  {
   "cell_type": "code",
   "execution_count": null,
   "metadata": {},
   "outputs": [],
   "source": [
    "fb_account_pearsonr = {}\n",
    "for k, v in score0.items():\n",
    "    for i in range(len(df_account_preference)):\n",
    "        if df_account_preference.iloc[i]['name'] == k:\n",
    "            score0_0 = df_account_preference.iloc[i][2:].values.tolist()\n",
    "            x = scipy.array(score0_0)\n",
    "            y = scipy.array(v)\n",
    "\n",
    "            r_row, p_value = pearsonr(x, y)\n",
    "            fb_account_pearsonr[k] = p_value"
   ]
  },
  {
   "cell_type": "code",
   "execution_count": null,
   "metadata": {},
   "outputs": [],
   "source": [
    "fb_account_pearsonr1 = {}\n",
    "for k, v in score1.items():\n",
    "    for i in range(len(df_account_preference)):\n",
    "        if df_account_preference.iloc[i]['name'] == k:\n",
    "            score1_1 = df_account_preference.iloc[i][2:].values.tolist()\n",
    "            x = scipy.array(score1_1)\n",
    "            y = scipy.array(v)\n",
    "\n",
    "            r_row1, p_value1 = pearsonr(x, y)\n",
    "            fb_account_pearsonr1[k] = p_value1"
   ]
  },
  {
   "cell_type": "code",
   "execution_count": null,
   "metadata": {},
   "outputs": [],
   "source": [
    "fb_account_pearsonr2 = {}\n",
    "for k, v in score2.items():\n",
    "    for i in range(len(df_account_preference)):\n",
    "        if df_account_preference.iloc[i]['name'] == k:\n",
    "            score2_2 = df_account_preference.iloc[i][2:].values.tolist()\n",
    "            x = scipy.array(score2_2)\n",
    "            y = scipy.array(v)\n",
    "\n",
    "            r_row2, p_value2 = pearsonr(x, y)\n",
    "            fb_account_pearsonr2[k] = p_value2"
   ]
  },
  {
   "cell_type": "code",
   "execution_count": null,
   "metadata": {},
   "outputs": [],
   "source": [
    "fb_account_pearsonr3 = {}\n",
    "for k, v in score3.items():\n",
    "    for i in range(len(df_account_preference)):\n",
    "        if df_account_preference.iloc[i]['name'] == k:\n",
    "            score3_3 = df_account_preference.iloc[i][2:].values.tolist()\n",
    "            x = scipy.array(score3_3)\n",
    "            y = scipy.array(v)\n",
    "\n",
    "            r_row3, p_value3 = pearsonr(x, y)\n",
    "            fb_account_pearsonr3[k] = p_value3"
   ]
  },
  {
   "cell_type": "code",
   "execution_count": null,
   "metadata": {},
   "outputs": [],
   "source": [
    "fb_account_pearsonr4 = {}\n",
    "for k, v in score4.items():\n",
    "    for i in range(len(df_account_preference)):\n",
    "        if df_account_preference.iloc[i]['name'] == k:\n",
    "            score4_4 = df_account_preference.iloc[i][2:].values.tolist()\n",
    "            x = scipy.array(score4_4)\n",
    "            y = scipy.array(v)\n",
    "\n",
    "            r_row4, p_value4 = pearsonr(x, y)\n",
    "            fb_account_pearsonr4[k] = p_value4"
   ]
  },
  {
   "cell_type": "code",
   "execution_count": null,
   "metadata": {},
   "outputs": [],
   "source": [
    "print(fb_account_pearsonr)\n",
    "print(fb_account_pearsonr1)\n",
    "print(fb_account_pearsonr2)\n",
    "print(fb_account_pearsonr3)\n",
    "print(fb_account_pearsonr4)"
   ]
  },
  {
   "cell_type": "code",
   "execution_count": null,
   "metadata": {},
   "outputs": [],
   "source": [
    "from statistics import mean\n",
    "print(\"pearsonr平均 : \")\n",
    "fb_account_pearsonr_mean = mean(fb_account_pearsonr[k] for k in fb_account_pearsonr)\n",
    "fb_account_pearsonr_mean1 = mean(fb_account_pearsonr1[k] for k in fb_account_pearsonr1)\n",
    "fb_account_pearsonr_mean2 = mean(fb_account_pearsonr2[k] for k in fb_account_pearsonr2)\n",
    "fb_account_pearsonr_mean3 = mean(fb_account_pearsonr3[k] for k in fb_account_pearsonr3)\n",
    "fb_account_pearsonr_mean4 = mean(fb_account_pearsonr4[k] for k in fb_account_pearsonr4)\n",
    "print(fb_account_pearsonr_mean,fb_account_pearsonr_mean1,fb_account_pearsonr_mean2,fb_account_pearsonr_mean3,fb_account_pearsonr_mean4)"
   ]
  }
 ],
 "metadata": {
  "kernelspec": {
   "display_name": "Python 3",
   "language": "python",
   "name": "python3"
  },
  "language_info": {
   "codemirror_mode": {
    "name": "ipython",
    "version": 3
   },
   "file_extension": ".py",
   "mimetype": "text/x-python",
   "name": "python",
   "nbconvert_exporter": "python",
   "pygments_lexer": "ipython3",
   "version": "3.7.4"
  }
 },
 "nbformat": 4,
 "nbformat_minor": 4
}
