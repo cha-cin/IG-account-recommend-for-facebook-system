{
 "cells": [
  {
   "cell_type": "code",
   "execution_count": 20,
   "metadata": {},
   "outputs": [],
   "source": [
    "import random\n",
    "random.seed('foobar')"
   ]
  },
  {
   "cell_type": "code",
   "execution_count": 21,
   "metadata": {},
   "outputs": [],
   "source": [
    "seq = ['cbx.photo','k5fuwa','6tan','dontkjoanne','lo.fi.house','illyandlean','Jerry Huang',\n",
    "      'scspple7545','dollshin','Lynnwu0219 ','duncan_design ','ittfworld','nomura60kg ','dlwlrma',\n",
    "      'cceciliayeung','dontkjoanne','lo.fi.house','nanaq521','good tv','shibasays','commonwealth_magazine',\n",
    "      'superjunior','tsaigray2018','tai_tzuying','gottehamham','zennyrt ','no.stupid.questions',\n",
    "      'wtfyou7788','doctorkowj','reginazhong_','sharpaygaga',' _jc.tsai_','cheng57','tsaigray2018','lorenejen','suitangtang_official',\n",
    "      'jolin_cai ','cocorocha ','molly_chiang','fumeancat ','wawawaku','arielvlog_816 ','mia9348 ',\n",
    "      'lessonsfroovies','gobytrain','crowd520 ','zichen_yours ','lizi_douyin','tsaigray2018 ',\n",
    "      'stylishpug','godblesshk','nishino.nanase.official','plainme_life','hooleefun','catloversclub',\n",
    "      'rayduenglish ','cheers_tw','dlwlrma','tripmoment','cj_hendry','ginachili','dlwlrma ','goopi.co','yuniko0720','howhowhasfriends','afuuuuuuuuuu',\n",
    "      'lynnwu0219','tos_zh','voicetube_tw','gu_yuze ','soybeanmilk_cat ','raydudaily','by_chushan','ayrichang','filmintaiwan','esterellastar',\n",
    "      'thenothingseal','gordongram','sunnyboyyy','chiaraferragni','ping7446','tsaigray2018','thetiffanychen','xxzyxxzy','gfriendofficial','official_g_i_dle ',\n",
    "      'corgi_foxy','elsie','cool_magazine_taiwan ','rolling.on','nba','suzume0513','akb48','itzy.all.in.us','renebaebae ','deseoland_official ',\n",
    "      'nini_food0822','folie_f','arielsvlog_816','godreplyme','jaychou','jacksonwang','chanelofficial','davidbeckham','chloehidemi','putty6118999',\n",
    "      'hana.eat','dlwlrma','duncan_design','crowd520','eatzzz7','iamirenesu','judyshen7298','kazikobe','xiang11_16','raydudaily',\n",
    "      'gu_yuze','kaoru_0409','mreggplants','vancityreynolds','shiba_yutzu','tsaigray2018','lousygirlfriend','qiufengze','rafaelnadal','gal_gadot',\n",
    "      'seung99_indeyo','miya_hoshino','kobepsychology','crowd520']"
   ]
  },
  {
   "cell_type": "code",
   "execution_count": 24,
   "metadata": {},
   "outputs": [
    {
     "data": {
      "text/plain": [
       "['duncan_design',\n",
       " 'good tv',\n",
       " 'zichen_yours ',\n",
       " 'esterellastar',\n",
       " 'cceciliayeung',\n",
       " 'mreggplants',\n",
       " 'dollshin',\n",
       " 'dlwlrma',\n",
       " 'reginazhong_',\n",
       " 'jolin_cai ',\n",
       " 'lousygirlfriend',\n",
       " 'nishino.nanase.official',\n",
       " 'filmintaiwan',\n",
       " 'gu_yuze ',\n",
       " 'gordongram',\n",
       " 'scspple7545',\n",
       " 'akb48',\n",
       " 'crowd520 ',\n",
       " 'lorenejen',\n",
       " 'dontkjoanne']"
      ]
     },
     "execution_count": 24,
     "metadata": {},
     "output_type": "execute_result"
    }
   ],
   "source": [
    "random.sample(seq, k=20) "
   ]
  },
  {
   "cell_type": "code",
   "execution_count": null,
   "metadata": {},
   "outputs": [],
   "source": []
  },
  {
   "cell_type": "code",
   "execution_count": null,
   "metadata": {},
   "outputs": [],
   "source": []
  }
 ],
 "metadata": {
  "kernelspec": {
   "display_name": "Python 3",
   "language": "python",
   "name": "python3"
  },
  "language_info": {
   "codemirror_mode": {
    "name": "ipython",
    "version": 3
   },
   "file_extension": ".py",
   "mimetype": "text/x-python",
   "name": "python",
   "nbconvert_exporter": "python",
   "pygments_lexer": "ipython3",
   "version": "3.7.4"
  }
 },
 "nbformat": 4,
 "nbformat_minor": 4
}
